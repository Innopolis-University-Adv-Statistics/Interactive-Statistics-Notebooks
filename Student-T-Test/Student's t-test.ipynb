{
  "nbformat": 4,
  "nbformat_minor": 0,
  "metadata": {
    "colab": {
      "name": "Student's t-test.ipynb",
      "provenance": [],
      "collapsed_sections": [],
      "toc_visible": true
    },
    "kernelspec": {
      "display_name": "Python 3",
      "language": "python",
      "name": "python3"
    },
    "language_info": {
      "codemirror_mode": {
        "name": "ipython",
        "version": 3
      },
      "file_extension": ".py",
      "mimetype": "text/x-python",
      "name": "python",
      "nbconvert_exporter": "python",
      "pygments_lexer": "ipython3",
      "version": "3.7.3"
    },
    "widgets": {
      "application/vnd.jupyter.widget-state+json": {
        "ccb61a54a1d54c83b25c27d2feac1c4e": {
          "model_module": "@jupyter-widgets/controls",
          "model_name": "VBoxModel",
          "state": {
            "_view_name": "VBoxView",
            "_dom_classes": [
              "widget-interact"
            ],
            "_model_name": "VBoxModel",
            "_view_module": "@jupyter-widgets/controls",
            "_model_module_version": "1.5.0",
            "_view_count": null,
            "_view_module_version": "1.5.0",
            "box_style": "",
            "layout": "IPY_MODEL_1382b0b75bb749a880af2067b5559cda",
            "_model_module": "@jupyter-widgets/controls",
            "children": [
              "IPY_MODEL_ee74ebe3d19e4e309776171178f4eb7d",
              "IPY_MODEL_6847a93563b048529cd8b2f9a9149015",
              "IPY_MODEL_1124a2fd48824afe993a22b83d7d895f"
            ]
          }
        },
        "1382b0b75bb749a880af2067b5559cda": {
          "model_module": "@jupyter-widgets/base",
          "model_name": "LayoutModel",
          "state": {
            "_view_name": "LayoutView",
            "grid_template_rows": null,
            "right": null,
            "justify_content": null,
            "_view_module": "@jupyter-widgets/base",
            "overflow": null,
            "_model_module_version": "1.2.0",
            "_view_count": null,
            "flex_flow": null,
            "width": null,
            "min_width": null,
            "border": null,
            "align_items": null,
            "bottom": null,
            "_model_module": "@jupyter-widgets/base",
            "top": null,
            "grid_column": null,
            "overflow_y": null,
            "overflow_x": null,
            "grid_auto_flow": null,
            "grid_area": null,
            "grid_template_columns": null,
            "flex": null,
            "_model_name": "LayoutModel",
            "justify_items": null,
            "grid_row": null,
            "max_height": null,
            "align_content": null,
            "visibility": null,
            "align_self": null,
            "height": null,
            "min_height": null,
            "padding": null,
            "grid_auto_rows": null,
            "grid_gap": null,
            "max_width": null,
            "order": null,
            "_view_module_version": "1.2.0",
            "grid_template_areas": null,
            "object_position": null,
            "object_fit": null,
            "grid_auto_columns": null,
            "margin": null,
            "display": null,
            "left": null
          }
        },
        "ee74ebe3d19e4e309776171178f4eb7d": {
          "model_module": "@jupyter-widgets/controls",
          "model_name": "DropdownModel",
          "state": {
            "_options_labels": [
              "Age",
              "Gender",
              "Total_Bilirubin",
              "Direct_Bilirubin",
              "Alkaline_Phosphotase",
              "Alamine_Aminotransferase",
              "Aspartate_Aminotransferase",
              "Total_Protiens",
              "Albumin",
              "Albumin_and_Globulin_Ratio",
              "Dataset"
            ],
            "_view_name": "DropdownView",
            "style": "IPY_MODEL_66a78a0105eb496ba6a5aafd87c40b28",
            "_dom_classes": [],
            "description": "column",
            "_model_name": "DropdownModel",
            "index": 0,
            "_view_module": "@jupyter-widgets/controls",
            "_model_module_version": "1.5.0",
            "_view_count": null,
            "disabled": false,
            "_view_module_version": "1.5.0",
            "description_tooltip": null,
            "_model_module": "@jupyter-widgets/controls",
            "layout": "IPY_MODEL_a2bd2c82328643ae899896e83b2116f9"
          }
        },
        "6847a93563b048529cd8b2f9a9149015": {
          "model_module": "@jupyter-widgets/controls",
          "model_name": "IntSliderModel",
          "state": {
            "_view_name": "IntSliderView",
            "style": "IPY_MODEL_1b41ddfaecf34630af6ab6147dfe75fc",
            "_dom_classes": [],
            "description": "x",
            "step": 1,
            "_model_name": "IntSliderModel",
            "orientation": "horizontal",
            "max": 60,
            "_view_module": "@jupyter-widgets/controls",
            "_model_module_version": "1.5.0",
            "value": 20,
            "_view_count": null,
            "disabled": false,
            "_view_module_version": "1.5.0",
            "min": -20,
            "continuous_update": true,
            "readout_format": "d",
            "description_tooltip": null,
            "readout": true,
            "_model_module": "@jupyter-widgets/controls",
            "layout": "IPY_MODEL_8de31ef4aad04c84bd7ae08c28635b2f"
          }
        },
        "1124a2fd48824afe993a22b83d7d895f": {
          "model_module": "@jupyter-widgets/output",
          "model_name": "OutputModel",
          "state": {
            "_view_name": "OutputView",
            "msg_id": "",
            "_dom_classes": [],
            "_model_name": "OutputModel",
            "outputs": [
              {
                "output_type": "display_data",
                "metadata": {
                  "tags": []
                },
                "image/png": "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\n",
                "text/plain": "<Figure size 432x288 with 1 Axes>"
              },
              {
                "output_type": "display_data",
                "metadata": {
                  "tags": []
                },
                "text/plain": "<matplotlib.axes._subplots.AxesSubplot at 0x7f69abdd7630>"
              }
            ],
            "_view_module": "@jupyter-widgets/output",
            "_model_module_version": "1.0.0",
            "_view_count": null,
            "_view_module_version": "1.0.0",
            "layout": "IPY_MODEL_2b2d2a5ee4bf430887812e8166c36c5f",
            "_model_module": "@jupyter-widgets/output"
          }
        },
        "66a78a0105eb496ba6a5aafd87c40b28": {
          "model_module": "@jupyter-widgets/controls",
          "model_name": "DescriptionStyleModel",
          "state": {
            "_view_name": "StyleView",
            "_model_name": "DescriptionStyleModel",
            "description_width": "",
            "_view_module": "@jupyter-widgets/base",
            "_model_module_version": "1.5.0",
            "_view_count": null,
            "_view_module_version": "1.2.0",
            "_model_module": "@jupyter-widgets/controls"
          }
        },
        "a2bd2c82328643ae899896e83b2116f9": {
          "model_module": "@jupyter-widgets/base",
          "model_name": "LayoutModel",
          "state": {
            "_view_name": "LayoutView",
            "grid_template_rows": null,
            "right": null,
            "justify_content": null,
            "_view_module": "@jupyter-widgets/base",
            "overflow": null,
            "_model_module_version": "1.2.0",
            "_view_count": null,
            "flex_flow": null,
            "width": null,
            "min_width": null,
            "border": null,
            "align_items": null,
            "bottom": null,
            "_model_module": "@jupyter-widgets/base",
            "top": null,
            "grid_column": null,
            "overflow_y": null,
            "overflow_x": null,
            "grid_auto_flow": null,
            "grid_area": null,
            "grid_template_columns": null,
            "flex": null,
            "_model_name": "LayoutModel",
            "justify_items": null,
            "grid_row": null,
            "max_height": null,
            "align_content": null,
            "visibility": null,
            "align_self": null,
            "height": null,
            "min_height": null,
            "padding": null,
            "grid_auto_rows": null,
            "grid_gap": null,
            "max_width": null,
            "order": null,
            "_view_module_version": "1.2.0",
            "grid_template_areas": null,
            "object_position": null,
            "object_fit": null,
            "grid_auto_columns": null,
            "margin": null,
            "display": null,
            "left": null
          }
        },
        "1b41ddfaecf34630af6ab6147dfe75fc": {
          "model_module": "@jupyter-widgets/controls",
          "model_name": "SliderStyleModel",
          "state": {
            "_view_name": "StyleView",
            "handle_color": null,
            "_model_name": "SliderStyleModel",
            "description_width": "",
            "_view_module": "@jupyter-widgets/base",
            "_model_module_version": "1.5.0",
            "_view_count": null,
            "_view_module_version": "1.2.0",
            "_model_module": "@jupyter-widgets/controls"
          }
        },
        "8de31ef4aad04c84bd7ae08c28635b2f": {
          "model_module": "@jupyter-widgets/base",
          "model_name": "LayoutModel",
          "state": {
            "_view_name": "LayoutView",
            "grid_template_rows": null,
            "right": null,
            "justify_content": null,
            "_view_module": "@jupyter-widgets/base",
            "overflow": null,
            "_model_module_version": "1.2.0",
            "_view_count": null,
            "flex_flow": null,
            "width": null,
            "min_width": null,
            "border": null,
            "align_items": null,
            "bottom": null,
            "_model_module": "@jupyter-widgets/base",
            "top": null,
            "grid_column": null,
            "overflow_y": null,
            "overflow_x": null,
            "grid_auto_flow": null,
            "grid_area": null,
            "grid_template_columns": null,
            "flex": null,
            "_model_name": "LayoutModel",
            "justify_items": null,
            "grid_row": null,
            "max_height": null,
            "align_content": null,
            "visibility": null,
            "align_self": null,
            "height": null,
            "min_height": null,
            "padding": null,
            "grid_auto_rows": null,
            "grid_gap": null,
            "max_width": null,
            "order": null,
            "_view_module_version": "1.2.0",
            "grid_template_areas": null,
            "object_position": null,
            "object_fit": null,
            "grid_auto_columns": null,
            "margin": null,
            "display": null,
            "left": null
          }
        },
        "2b2d2a5ee4bf430887812e8166c36c5f": {
          "model_module": "@jupyter-widgets/base",
          "model_name": "LayoutModel",
          "state": {
            "_view_name": "LayoutView",
            "grid_template_rows": null,
            "right": null,
            "justify_content": null,
            "_view_module": "@jupyter-widgets/base",
            "overflow": null,
            "_model_module_version": "1.2.0",
            "_view_count": null,
            "flex_flow": null,
            "width": null,
            "min_width": null,
            "border": null,
            "align_items": null,
            "bottom": null,
            "_model_module": "@jupyter-widgets/base",
            "top": null,
            "grid_column": null,
            "overflow_y": null,
            "overflow_x": null,
            "grid_auto_flow": null,
            "grid_area": null,
            "grid_template_columns": null,
            "flex": null,
            "_model_name": "LayoutModel",
            "justify_items": null,
            "grid_row": null,
            "max_height": null,
            "align_content": null,
            "visibility": null,
            "align_self": null,
            "height": null,
            "min_height": null,
            "padding": null,
            "grid_auto_rows": null,
            "grid_gap": null,
            "max_width": null,
            "order": null,
            "_view_module_version": "1.2.0",
            "grid_template_areas": null,
            "object_position": null,
            "object_fit": null,
            "grid_auto_columns": null,
            "margin": null,
            "display": null,
            "left": null
          }
        }
      }
    }
  },
  "cells": [
    {
      "cell_type": "markdown",
      "metadata": {
        "colab_type": "text",
        "id": "q5XnPEsm0phq"
      },
      "source": [
        "[![Open In Colab](https://colab.research.google.com/assets/colab-badge.svg)](https://drive.google.com/file/d/18jUrrmltn_euwULe_hC2O27H__p7zebF/view?usp=sharing)"
      ]
    },
    {
      "cell_type": "markdown",
      "metadata": {
        "id": "j4DdkJIiHumV",
        "colab_type": "text"
      },
      "source": [
        "# Student's t-Test\n",
        "\n",
        "- Intro\n",
        "- Setup / Import\n",
        "- Data load:\n",
        "- Application\n",
        "- Conclusion\n",
        "- References / Acknowledgements"
      ]
    },
    {
      "cell_type": "markdown",
      "metadata": {
        "colab_type": "text",
        "id": "CdLByacoxqBU"
      },
      "source": [
        "## Intro\n",
        "\n",
        "Student’s t-tests are parametric tests based on the Student’s or t-distribution. Student’s distribution is named in honor of William Sealy Gosset (1876–1937), who first determined it in 1908. Gosset, “one of the most original minds in contemporary science” (Fisher 1939), was one of the best Oxford graduates in chemistry and mathematics in his generation. In 1899, he took up a job as a brewer at Arthur Guinness Son & Co, Ltd in Dublin, Ireland. Working for the Guinness brewery, he was interested in quality control based on small samples in various stages of the production process. Since Guinness prohibited its employees from publishing any papers to prevent disclosure of confidential information, Gosset had published his work under the pseudonym “Student” (the other possible pseudonym he was offered by the managing director La Touche was “Pupil,” see Box 1987,  p. 49), and his identity was not known for some time after the publication of his most famous achievements, so the distribution was named Student’s or t-distribution, leaving his name less well known than his important results in statistics. His, now, famous paper “The Probable Error of a Mean” published in Biometrika in 1908, where he introduced the t-test (initially he called it the z-test), was essentially ignored by most statisticians for more than 2 decades, since the “statistical community” was not interested in small samples (“only naughty brewers take n so small,” Karl Pearson writing to Gosset, September 17, 1912, quoted by E.S. Pearson 1939, p. 218). It was only R. Fisher who appreciated the importance of Gosset’s small-sample work, and who reconfigured and extended it to two independent samples, correlation and regression, and provided correct number of degrees of freedom. “It took the genius and drive of a Fisher to give Student’s work general currency” (Zabel 2008, p. 6); “The importance of 1908 article is due to what Fisher found there, not what Gosset placed there”\n",
        "\n",
        "#### Things \n",
        "\n",
        "- Student t-Test\n",
        "- Student t-Test dependent samples\n",
        "- Student t-Test independent samples\n",
        "- Application with real world dataset"
      ]
    },
    {
      "cell_type": "markdown",
      "metadata": {
        "id": "XE9mQ9NmHumW",
        "colab_type": "text"
      },
      "source": [
        "## Pseudo Understanding Of t-Test\n",
        "\n",
        "The test works by checking the means from two samples to see if they are significantly different from each other. It does this by calculating the standard error in the difference between means, which can be interpreted to see how likely the difference is, if the two samples have the same mean (the null hypothesis).\n",
        "\n",
        "![alt text](https://a8h2w5y7.rocketcdn.me/wp-content/uploads/2020/02/students-normal-t-768x461.png)\n",
        "\n",
        "The t statistic calculated by the test can be interpreted by comparing it to critical values from the t-distribution. The critical value can be calculated using the degrees of freedom and a significance level with the percent point function (PPF).\n",
        "\n",
        "We can interpret the statistic value in a two-tailed test, meaning that if we reject the null hypothesis, it could be because the first mean is smaller or greater than the second mean. To do this, we can calculate the absolute value of the test statistic and compare it to the positive (right tailed) critical value, as follows:\n",
        "\n",
        "- If abs(t-statistic) <= critical value: Accept null hypothesis that the means are equal.\n",
        "- If abs(t-statistic) > critical value: Reject the null hypothesis that the means are equal.\n",
        "\n",
        "We can also retrieve the cumulative probability of observing the absolute value of the t-statistic using the cumulative distribution function (CDF) of the t-distribution in order to calculate a p-value. The p-value can then be compared to a chosen significance level (alpha) such as 0.05 to determine if the null hypothesis can be rejected:\n",
        "\n",
        "- If p > alpha: Accept null hypothesis that the means are equal.\n",
        "- If p <= alpha: Reject null hypothesis that the means are equal.\n",
        "\n",
        "In working with the means of the samples, the test assumes that both samples were drawn from a Gaussian distribution. The test also assumes that the samples have the same variance, and the same size, although there are corrections to the test if these assumptions do not hold.\n",
        "\n",
        "\n",
        "There are two main versions of Student’s t-test:\n",
        "\n",
        "- Independent Samples. The case where the two samples are unrelated.\n",
        "- Dependent Samples. The case where the samples are related, such as repeated measures on the same population. Also called a paired test.\n",
        "\n",
        "Both the independent and the dependent Student’s t-tests are available in Python via the ttest_ind() and ttest_rel() SciPy functions respectively.\n",
        "\n",
        "\n",
        "### How is it difference than Normal Distribution?\n",
        "\n",
        "The normal distribution is used when the population distribution of data is assumed normal. It is characterized by the mean and the standard deviation of the data. A sample of the population is used to estimate the mean and standard deviation.\n",
        "\n",
        "The t statistic is an estimate of the standard error of the mean of the population or how well known is the mean based on the sample size.\n",
        "\n",
        "The decision to use one or the other requires a clear, logical statement and argument to establish whether to use the t-distribution or the normal distribution. Use of either assumes a normally distributed population.\n",
        "\n",
        "in addition to all t-distribution will give better result than normal distribution whenever we have less number of data point(<30 in general).\n",
        "![alt text](https://financetrain.com/assets/t-dist1.gif)\n",
        "\n"
      ]
    },
    {
      "cell_type": "markdown",
      "metadata": {
        "id": "ZJbOS114HumX",
        "colab_type": "text"
      },
      "source": [
        "## Setup / Dependencies"
      ]
    },
    {
      "cell_type": "code",
      "metadata": {
        "id": "UUeG8QmSHumY",
        "colab_type": "code",
        "outputId": "96585c0b-bbc6-40cf-ea6d-2e6131eb88a0",
        "colab": {
          "base_uri": "https://localhost:8080/",
          "height": 819
        }
      },
      "source": [
        "! pip install ipywidgets\n",
        "! jupyter nbextension enable --py widgetsnbextension\n",
        "! pip install chart_studio"
      ],
      "execution_count": 15,
      "outputs": [
        {
          "output_type": "stream",
          "text": [
            "Requirement already satisfied: ipywidgets in /usr/local/lib/python3.6/dist-packages (7.5.1)\n",
            "Requirement already satisfied: nbformat>=4.2.0 in /usr/local/lib/python3.6/dist-packages (from ipywidgets) (5.0.5)\n",
            "Requirement already satisfied: traitlets>=4.3.1 in /usr/local/lib/python3.6/dist-packages (from ipywidgets) (4.3.3)\n",
            "Requirement already satisfied: ipython>=4.0.0; python_version >= \"3.3\" in /usr/local/lib/python3.6/dist-packages (from ipywidgets) (5.5.0)\n",
            "Requirement already satisfied: widgetsnbextension~=3.5.0 in /usr/local/lib/python3.6/dist-packages (from ipywidgets) (3.5.1)\n",
            "Requirement already satisfied: ipykernel>=4.5.1 in /usr/local/lib/python3.6/dist-packages (from ipywidgets) (4.10.1)\n",
            "Requirement already satisfied: ipython-genutils in /usr/local/lib/python3.6/dist-packages (from nbformat>=4.2.0->ipywidgets) (0.2.0)\n",
            "Requirement already satisfied: jupyter-core in /usr/local/lib/python3.6/dist-packages (from nbformat>=4.2.0->ipywidgets) (4.6.3)\n",
            "Requirement already satisfied: jsonschema!=2.5.0,>=2.4 in /usr/local/lib/python3.6/dist-packages (from nbformat>=4.2.0->ipywidgets) (2.6.0)\n",
            "Requirement already satisfied: decorator in /usr/local/lib/python3.6/dist-packages (from traitlets>=4.3.1->ipywidgets) (4.4.2)\n",
            "Requirement already satisfied: six in /usr/local/lib/python3.6/dist-packages (from traitlets>=4.3.1->ipywidgets) (1.12.0)\n",
            "Requirement already satisfied: setuptools>=18.5 in /usr/local/lib/python3.6/dist-packages (from ipython>=4.0.0; python_version >= \"3.3\"->ipywidgets) (46.1.3)\n",
            "Requirement already satisfied: prompt-toolkit<2.0.0,>=1.0.4 in /usr/local/lib/python3.6/dist-packages (from ipython>=4.0.0; python_version >= \"3.3\"->ipywidgets) (1.0.18)\n",
            "Requirement already satisfied: simplegeneric>0.8 in /usr/local/lib/python3.6/dist-packages (from ipython>=4.0.0; python_version >= \"3.3\"->ipywidgets) (0.8.1)\n",
            "Requirement already satisfied: pickleshare in /usr/local/lib/python3.6/dist-packages (from ipython>=4.0.0; python_version >= \"3.3\"->ipywidgets) (0.7.5)\n",
            "Requirement already satisfied: pygments in /usr/local/lib/python3.6/dist-packages (from ipython>=4.0.0; python_version >= \"3.3\"->ipywidgets) (2.1.3)\n",
            "Requirement already satisfied: pexpect; sys_platform != \"win32\" in /usr/local/lib/python3.6/dist-packages (from ipython>=4.0.0; python_version >= \"3.3\"->ipywidgets) (4.8.0)\n",
            "Requirement already satisfied: notebook>=4.4.1 in /usr/local/lib/python3.6/dist-packages (from widgetsnbextension~=3.5.0->ipywidgets) (5.2.2)\n",
            "Requirement already satisfied: tornado>=4.0 in /usr/local/lib/python3.6/dist-packages (from ipykernel>=4.5.1->ipywidgets) (4.5.3)\n",
            "Requirement already satisfied: jupyter-client in /usr/local/lib/python3.6/dist-packages (from ipykernel>=4.5.1->ipywidgets) (5.3.4)\n",
            "Requirement already satisfied: wcwidth in /usr/local/lib/python3.6/dist-packages (from prompt-toolkit<2.0.0,>=1.0.4->ipython>=4.0.0; python_version >= \"3.3\"->ipywidgets) (0.1.9)\n",
            "Requirement already satisfied: ptyprocess>=0.5 in /usr/local/lib/python3.6/dist-packages (from pexpect; sys_platform != \"win32\"->ipython>=4.0.0; python_version >= \"3.3\"->ipywidgets) (0.6.0)\n",
            "Requirement already satisfied: terminado>=0.3.3; sys_platform != \"win32\" in /usr/local/lib/python3.6/dist-packages (from notebook>=4.4.1->widgetsnbextension~=3.5.0->ipywidgets) (0.8.3)\n",
            "Requirement already satisfied: jinja2 in /usr/local/lib/python3.6/dist-packages (from notebook>=4.4.1->widgetsnbextension~=3.5.0->ipywidgets) (2.11.1)\n",
            "Requirement already satisfied: nbconvert in /usr/local/lib/python3.6/dist-packages (from notebook>=4.4.1->widgetsnbextension~=3.5.0->ipywidgets) (5.6.1)\n",
            "Requirement already satisfied: python-dateutil>=2.1 in /usr/local/lib/python3.6/dist-packages (from jupyter-client->ipykernel>=4.5.1->ipywidgets) (2.8.1)\n",
            "Requirement already satisfied: pyzmq>=13 in /usr/local/lib/python3.6/dist-packages (from jupyter-client->ipykernel>=4.5.1->ipywidgets) (19.0.0)\n",
            "Requirement already satisfied: MarkupSafe>=0.23 in /usr/local/lib/python3.6/dist-packages (from jinja2->notebook>=4.4.1->widgetsnbextension~=3.5.0->ipywidgets) (1.1.1)\n",
            "Requirement already satisfied: bleach in /usr/local/lib/python3.6/dist-packages (from nbconvert->notebook>=4.4.1->widgetsnbextension~=3.5.0->ipywidgets) (3.1.4)\n",
            "Requirement already satisfied: mistune<2,>=0.8.1 in /usr/local/lib/python3.6/dist-packages (from nbconvert->notebook>=4.4.1->widgetsnbextension~=3.5.0->ipywidgets) (0.8.4)\n",
            "Requirement already satisfied: testpath in /usr/local/lib/python3.6/dist-packages (from nbconvert->notebook>=4.4.1->widgetsnbextension~=3.5.0->ipywidgets) (0.4.4)\n",
            "Requirement already satisfied: defusedxml in /usr/local/lib/python3.6/dist-packages (from nbconvert->notebook>=4.4.1->widgetsnbextension~=3.5.0->ipywidgets) (0.6.0)\n",
            "Requirement already satisfied: entrypoints>=0.2.2 in /usr/local/lib/python3.6/dist-packages (from nbconvert->notebook>=4.4.1->widgetsnbextension~=3.5.0->ipywidgets) (0.3)\n",
            "Requirement already satisfied: pandocfilters>=1.4.1 in /usr/local/lib/python3.6/dist-packages (from nbconvert->notebook>=4.4.1->widgetsnbextension~=3.5.0->ipywidgets) (1.4.2)\n",
            "Requirement already satisfied: webencodings in /usr/local/lib/python3.6/dist-packages (from bleach->nbconvert->notebook>=4.4.1->widgetsnbextension~=3.5.0->ipywidgets) (0.5.1)\n",
            "Enabling notebook extension jupyter-js-widgets/extension...\n",
            "      - Validating: \u001b[32mOK\u001b[0m\n",
            "Requirement already satisfied: chart_studio in /usr/local/lib/python3.6/dist-packages (1.1.0)\n",
            "Requirement already satisfied: six in /usr/local/lib/python3.6/dist-packages (from chart_studio) (1.12.0)\n",
            "Requirement already satisfied: retrying>=1.3.3 in /usr/local/lib/python3.6/dist-packages (from chart_studio) (1.3.3)\n",
            "Requirement already satisfied: plotly in /usr/local/lib/python3.6/dist-packages (from chart_studio) (4.4.1)\n",
            "Requirement already satisfied: requests in /usr/local/lib/python3.6/dist-packages (from chart_studio) (2.21.0)\n",
            "Requirement already satisfied: chardet<3.1.0,>=3.0.2 in /usr/local/lib/python3.6/dist-packages (from requests->chart_studio) (3.0.4)\n",
            "Requirement already satisfied: idna<2.9,>=2.5 in /usr/local/lib/python3.6/dist-packages (from requests->chart_studio) (2.8)\n",
            "Requirement already satisfied: certifi>=2017.4.17 in /usr/local/lib/python3.6/dist-packages (from requests->chart_studio) (2020.4.5.1)\n",
            "Requirement already satisfied: urllib3<1.25,>=1.21.1 in /usr/local/lib/python3.6/dist-packages (from requests->chart_studio) (1.24.3)\n"
          ],
          "name": "stdout"
        }
      ]
    },
    {
      "cell_type": "markdown",
      "metadata": {
        "colab_type": "text",
        "id": "EovComAJxr-0"
      },
      "source": [
        "## Import\n"
      ]
    },
    {
      "cell_type": "code",
      "metadata": {
        "scrolled": true,
        "id": "j4oNjNqjHumc",
        "colab_type": "code",
        "colab": {}
      },
      "source": [
        "import ipywidgets as widgets\n",
        "from ipywidgets import interact, interact_manual\n",
        "import pandas as pd\n",
        "from sklearn.datasets import load_boston\n",
        "import numpy as np\n",
        "import scipy\n",
        "from scipy.stats import t\n",
        "import matplotlib.pyplot as plt\n",
        "import seaborn as sns"
      ],
      "execution_count": 0,
      "outputs": []
    },
    {
      "cell_type": "code",
      "metadata": {
        "id": "7QpDgJYnZpFq",
        "colab_type": "code",
        "colab": {}
      },
      "source": [
        "%matplotlib inline\n",
        "sns.set_context('talk')\n",
        "sns.set_style(\"darkgrid\")"
      ],
      "execution_count": 0,
      "outputs": []
    },
    {
      "cell_type": "markdown",
      "metadata": {
        "colab_type": "text",
        "id": "9hI1xXAGzaNk"
      },
      "source": [
        "## Data load\n",
        "\n",
        "- Patients with Liver disease have been continuously increasing because of excessive consumption of alcohol, inhale of harmful gases, intake of contaminated food, pickles and drugs. This dataset was used to evaluate prediction algorithms in an effort to reduce burden on doctors.\n",
        "\n",
        "### Hypothesis\n",
        "- H0 : there is no significant difference of Albumin and Globulin Ratio between patient with liver disease and no liver disease\n",
        "- H1 : there is significant difference of Albumin and Globulin Ratio between patient with liver disease and no liver disease\n"
      ]
    },
    {
      "cell_type": "code",
      "metadata": {
        "id": "lDdJIYBBJ9xX",
        "colab_type": "code",
        "outputId": "534c81ed-9b0b-4151-cb37-13b104585053",
        "colab": {
          "base_uri": "https://localhost:8080/",
          "height": 241
        }
      },
      "source": [
        "!mkdir Dataset\n",
        "!cd Dataset && wget https://raw.githubusercontent.com/jacked97/Interactive-Statistics-Notebooks-1/student-t_test/Student-T-Test/Dataset/indian_liver_patient.csv"
      ],
      "execution_count": 18,
      "outputs": [
        {
          "output_type": "stream",
          "text": [
            "mkdir: cannot create directory ‘Dataset’: File exists\n",
            "--2020-04-14 20:15:53--  https://raw.githubusercontent.com/jacked97/Interactive-Statistics-Notebooks-1/student-t_test/Student-T-Test/Dataset/indian_liver_patient.csv\n",
            "Resolving raw.githubusercontent.com (raw.githubusercontent.com)... 151.101.0.133, 151.101.64.133, 151.101.128.133, ...\n",
            "Connecting to raw.githubusercontent.com (raw.githubusercontent.com)|151.101.0.133|:443... connected.\n",
            "HTTP request sent, awaiting response... 200 OK\n",
            "Length: 23347 (23K) [text/plain]\n",
            "Saving to: ‘indian_liver_patient.csv.1’\n",
            "\n",
            "indian_liver_patien 100%[===================>]  22.80K  --.-KB/s    in 0.01s   \n",
            "\n",
            "2020-04-14 20:15:53 (1.83 MB/s) - ‘indian_liver_patient.csv.1’ saved [23347/23347]\n",
            "\n"
          ],
          "name": "stdout"
        }
      ]
    },
    {
      "cell_type": "code",
      "metadata": {
        "colab_type": "code",
        "id": "Qiozktuj16i8",
        "colab": {}
      },
      "source": [
        "path = 'Dataset/indian_liver_patient.csv'\n",
        "data = pd.read_csv(path)"
      ],
      "execution_count": 0,
      "outputs": []
    },
    {
      "cell_type": "code",
      "metadata": {
        "colab_type": "code",
        "id": "5djlAHrK2ETI",
        "colab": {}
      },
      "source": [
        "df = data\n",
        "df = df.dropna()"
      ],
      "execution_count": 0,
      "outputs": []
    },
    {
      "cell_type": "markdown",
      "metadata": {
        "colab_type": "text",
        "id": "jNm4a9nY23l2"
      },
      "source": [
        "`interact` [documentation](https://ipywidgets.readthedocs.io/en/stable/examples/Using%20Interact.html)"
      ]
    },
    {
      "cell_type": "code",
      "metadata": {
        "colab_type": "code",
        "id": "KgTO1Out2ZEU",
        "outputId": "70ddd78b-d2cf-453e-cae0-88ebd7e222a8",
        "colab": {
          "base_uri": "https://localhost:8080/",
          "height": 360,
          "referenced_widgets": [
            "ccb61a54a1d54c83b25c27d2feac1c4e",
            "1382b0b75bb749a880af2067b5559cda",
            "ee74ebe3d19e4e309776171178f4eb7d",
            "6847a93563b048529cd8b2f9a9149015",
            "1124a2fd48824afe993a22b83d7d895f",
            "66a78a0105eb496ba6a5aafd87c40b28",
            "a2bd2c82328643ae899896e83b2116f9",
            "1b41ddfaecf34630af6ab6147dfe75fc",
            "8de31ef4aad04c84bd7ae08c28635b2f",
            "2b2d2a5ee4bf430887812e8166c36c5f"
          ]
        }
      },
      "source": [
        "@interact\n",
        "def show_articles_more_than(column=df.columns, x=20):\n",
        "    return df[column].loc[:x].hist()"
      ],
      "execution_count": 21,
      "outputs": [
        {
          "output_type": "display_data",
          "data": {
            "application/vnd.jupyter.widget-view+json": {
              "model_id": "ccb61a54a1d54c83b25c27d2feac1c4e",
              "version_minor": 0,
              "version_major": 2
            },
            "text/plain": [
              "interactive(children=(Dropdown(description='column', options=('Age', 'Gender', 'Total_Bilirubin', 'Direct_Bili…"
            ]
          },
          "metadata": {
            "tags": []
          }
        }
      ]
    },
    {
      "cell_type": "code",
      "metadata": {
        "id": "cWN73uxKHump",
        "colab_type": "code",
        "outputId": "20790dbe-790c-4132-939e-48a8759ee5b4",
        "colab": {
          "base_uri": "https://localhost:8080/",
          "height": 224
        }
      },
      "source": [
        "df.head()"
      ],
      "execution_count": 22,
      "outputs": [
        {
          "output_type": "execute_result",
          "data": {
            "text/html": [
              "<div>\n",
              "<style scoped>\n",
              "    .dataframe tbody tr th:only-of-type {\n",
              "        vertical-align: middle;\n",
              "    }\n",
              "\n",
              "    .dataframe tbody tr th {\n",
              "        vertical-align: top;\n",
              "    }\n",
              "\n",
              "    .dataframe thead th {\n",
              "        text-align: right;\n",
              "    }\n",
              "</style>\n",
              "<table border=\"1\" class=\"dataframe\">\n",
              "  <thead>\n",
              "    <tr style=\"text-align: right;\">\n",
              "      <th></th>\n",
              "      <th>Age</th>\n",
              "      <th>Gender</th>\n",
              "      <th>Total_Bilirubin</th>\n",
              "      <th>Direct_Bilirubin</th>\n",
              "      <th>Alkaline_Phosphotase</th>\n",
              "      <th>Alamine_Aminotransferase</th>\n",
              "      <th>Aspartate_Aminotransferase</th>\n",
              "      <th>Total_Protiens</th>\n",
              "      <th>Albumin</th>\n",
              "      <th>Albumin_and_Globulin_Ratio</th>\n",
              "      <th>Dataset</th>\n",
              "    </tr>\n",
              "  </thead>\n",
              "  <tbody>\n",
              "    <tr>\n",
              "      <th>0</th>\n",
              "      <td>65</td>\n",
              "      <td>Female</td>\n",
              "      <td>0.7</td>\n",
              "      <td>0.1</td>\n",
              "      <td>187</td>\n",
              "      <td>16</td>\n",
              "      <td>18</td>\n",
              "      <td>6.8</td>\n",
              "      <td>3.3</td>\n",
              "      <td>0.90</td>\n",
              "      <td>1</td>\n",
              "    </tr>\n",
              "    <tr>\n",
              "      <th>1</th>\n",
              "      <td>62</td>\n",
              "      <td>Male</td>\n",
              "      <td>10.9</td>\n",
              "      <td>5.5</td>\n",
              "      <td>699</td>\n",
              "      <td>64</td>\n",
              "      <td>100</td>\n",
              "      <td>7.5</td>\n",
              "      <td>3.2</td>\n",
              "      <td>0.74</td>\n",
              "      <td>1</td>\n",
              "    </tr>\n",
              "    <tr>\n",
              "      <th>2</th>\n",
              "      <td>62</td>\n",
              "      <td>Male</td>\n",
              "      <td>7.3</td>\n",
              "      <td>4.1</td>\n",
              "      <td>490</td>\n",
              "      <td>60</td>\n",
              "      <td>68</td>\n",
              "      <td>7.0</td>\n",
              "      <td>3.3</td>\n",
              "      <td>0.89</td>\n",
              "      <td>1</td>\n",
              "    </tr>\n",
              "    <tr>\n",
              "      <th>3</th>\n",
              "      <td>58</td>\n",
              "      <td>Male</td>\n",
              "      <td>1.0</td>\n",
              "      <td>0.4</td>\n",
              "      <td>182</td>\n",
              "      <td>14</td>\n",
              "      <td>20</td>\n",
              "      <td>6.8</td>\n",
              "      <td>3.4</td>\n",
              "      <td>1.00</td>\n",
              "      <td>1</td>\n",
              "    </tr>\n",
              "    <tr>\n",
              "      <th>4</th>\n",
              "      <td>72</td>\n",
              "      <td>Male</td>\n",
              "      <td>3.9</td>\n",
              "      <td>2.0</td>\n",
              "      <td>195</td>\n",
              "      <td>27</td>\n",
              "      <td>59</td>\n",
              "      <td>7.3</td>\n",
              "      <td>2.4</td>\n",
              "      <td>0.40</td>\n",
              "      <td>1</td>\n",
              "    </tr>\n",
              "  </tbody>\n",
              "</table>\n",
              "</div>"
            ],
            "text/plain": [
              "   Age  Gender  Total_Bilirubin  ...  Albumin  Albumin_and_Globulin_Ratio  Dataset\n",
              "0   65  Female              0.7  ...      3.3                        0.90        1\n",
              "1   62    Male             10.9  ...      3.2                        0.74        1\n",
              "2   62    Male              7.3  ...      3.3                        0.89        1\n",
              "3   58    Male              1.0  ...      3.4                        1.00        1\n",
              "4   72    Male              3.9  ...      2.4                        0.40        1\n",
              "\n",
              "[5 rows x 11 columns]"
            ]
          },
          "metadata": {
            "tags": []
          },
          "execution_count": 22
        }
      ]
    },
    {
      "cell_type": "markdown",
      "metadata": {
        "colab_type": "text",
        "id": "rh-gP7nSzp23"
      },
      "source": [
        "## Application\n",
        "\n",
        "### Indepdent Test"
      ]
    },
    {
      "cell_type": "code",
      "metadata": {
        "id": "6bhbOvyXHumt",
        "colab_type": "code",
        "colab": {}
      },
      "source": [
        "liver_patient = (df.loc[df['Dataset'] == 1])['Albumin_and_Globulin_Ratio']\n",
        "non_liver_patient = (df.loc[df['Dataset'] == 2])['Albumin_and_Globulin_Ratio']"
      ],
      "execution_count": 0,
      "outputs": []
    },
    {
      "cell_type": "code",
      "metadata": {
        "id": "NX9SvZIhHumv",
        "colab_type": "code",
        "outputId": "8b70066e-bbdc-4f6c-ecff-c9bc2a8f12cb",
        "colab": {
          "base_uri": "https://localhost:8080/",
          "height": 51
        }
      },
      "source": [
        "lp_mean = liver_patient.mean()\n",
        "nlp_mean = non_liver_patient.mean();\n",
        "\n",
        "lp_variance = liver_patient.var()\n",
        "nlp_variance = non_liver_patient.var();\n",
        "\n",
        "lp_n = liver_patient.size\n",
        "nlp_n = non_liver_patient.size\n",
        "\n",
        "alpha = 0.05\n",
        "degree_of_freedom = nlp_n + lp_n - 2\n",
        "critical_value = t.ppf(1.0 - alpha, degree_of_freedom)\n",
        "\n",
        "print(\"Liver Patients: Mean: {0}, Variance: {1}, Size: {2}\".format(lp_mean, lp_variance, lp_n))\n",
        "print(\"Non-liver Patients: Mean: {0}, Variance: {1}, Size: {2}\".format(nlp_mean, nlp_variance, nlp_n))"
      ],
      "execution_count": 24,
      "outputs": [
        {
          "output_type": "stream",
          "text": [
            "Liver Patients: Mean: 0.9141787439613527, Variance: 0.10637547402650555, Size: 414\n",
            "Non-liver Patients: Mean: 1.0295757575757576, Variance: 0.08251384331116045, Size: 165\n"
          ],
          "name": "stdout"
        }
      ]
    },
    {
      "cell_type": "code",
      "metadata": {
        "id": "Ce2YZashHumy",
        "colab_type": "code",
        "outputId": "b8d3cf38-71d3-468b-93e8-fa3d20501964",
        "colab": {
          "base_uri": "https://localhost:8080/",
          "height": 34
        }
      },
      "source": [
        "t_value = ( nlp_mean - lp_mean ) / np.sqrt( (nlp_variance / nlp_n ) + (lp_variance / lp_n) )\n",
        "\t\n",
        "# calculate the p-value\n",
        "print(\"Calculated T-Value: {0}, Critical Value: {1}\".format(t_value, critical_value))"
      ],
      "execution_count": 25,
      "outputs": [
        {
          "output_type": "stream",
          "text": [
            "Calculated T-Value: 4.194094111425738, Critical Value: 1.6474987455986252\n"
          ],
          "name": "stdout"
        }
      ]
    },
    {
      "cell_type": "code",
      "metadata": {
        "id": "qNlN81hSHum1",
        "colab_type": "code",
        "outputId": "95e69812-e254-434b-c4f6-ca30db43a1f3",
        "colab": {
          "base_uri": "https://localhost:8080/",
          "height": 34
        }
      },
      "source": [
        "# interpret via critical value\n",
        "if abs(t_value) <= critical_value:\n",
        "    print('Accept null hypothesis, there is no significant difference of Albumin and Globulin Ratio between patient with liver disease and no liver disease')\n",
        "else:\n",
        "    print('Reject the null hypothesis')\n"
      ],
      "execution_count": 26,
      "outputs": [
        {
          "output_type": "stream",
          "text": [
            "Reject the null hypothesis\n"
          ],
          "name": "stdout"
        }
      ]
    },
    {
      "cell_type": "markdown",
      "metadata": {
        "id": "F_U3Dm7wUwna",
        "colab_type": "text"
      },
      "source": [
        "### Dependent Test\n",
        "\n",
        "Example: using your current dataset but only with liver disease, the data of Albumin and Globulin Ratio. Give a case like this: the medical doctor give a new medicine to the patient and want to know whether it is effective or not. After 1 month, he check again Albumin and Globulin Ratio of all patients. (then just add random number to complete this case)\n",
        "- H0: there is no significant difference\n",
        "-H1 : there is significance difference\n"
      ]
    },
    {
      "cell_type": "code",
      "metadata": {
        "id": "-5FQYPvDUwFR",
        "colab_type": "code",
        "colab": {}
      },
      "source": [
        "# draw random samples from same data set \n",
        "liver_patient = (df.loc[df['Dataset'] == 1])['Albumin_and_Globulin_Ratio']\n",
        "N = liver_patient.size\n",
        "before_treatmeent = np.array(liver_patient)\n",
        "after_treatmeent = np.array([round(np.random.uniform(min(before_treatmeent), max(before_treatmeent)), 2) for i in range(N)])\n"
      ],
      "execution_count": 0,
      "outputs": []
    },
    {
      "cell_type": "code",
      "metadata": {
        "id": "oZtwhP7XWj7G",
        "colab_type": "code",
        "outputId": "0224209b-3e7f-44b3-a121-e9c52eef3db6",
        "colab": {
          "base_uri": "https://localhost:8080/",
          "height": 51
        }
      },
      "source": [
        "before_treatmeent_mean = before_treatmeent.mean()\n",
        "after_treatmeent_mean = after_treatmeent.mean();\n",
        "\n",
        "alpha = 0.05\n",
        "degree_of_freedom = N - 1\n",
        "critical_value = t.ppf(1.0 - alpha, degree_of_freedom)\n",
        "\n",
        "print(\"Liver Patients A: Mean: {0}\".format(before_treatmeent_mean))\n",
        "print(\"Liver Patients B: Mean: {0}\".format(after_treatmeent_mean))"
      ],
      "execution_count": 29,
      "outputs": [
        {
          "output_type": "stream",
          "text": [
            "Liver Patients A: Mean: 0.9141787439613527\n",
            "Liver Patients B: Mean: 1.5038405797101446\n"
          ],
          "name": "stdout"
        }
      ]
    },
    {
      "cell_type": "code",
      "metadata": {
        "id": "ACqnQb3lVKel",
        "colab_type": "code",
        "colab": {}
      },
      "source": [
        "d1 = sum([(before_treatmeent[i] - after_treatmeent[i])**2 for i in range(N)])\n",
        "# sum difference between observations\n",
        "d2 = sum([before_treatmeent[i] - after_treatmeent[i] for i in range(N)])\n",
        "# standard deviation of the difference between means\n",
        "sd = np.sqrt((d1 - (d2**2 / N)) / (N - 1))\n",
        "# standard error of the difference between the means\n",
        "sed = sd / np.sqrt(N)\n",
        "# calculate the t statistic\n",
        "t_stat = (before_treatmeent_mean - after_treatmeent_mean) / sed"
      ],
      "execution_count": 0,
      "outputs": []
    },
    {
      "cell_type": "code",
      "metadata": {
        "id": "0ueLCD9lWbS0",
        "colab_type": "code",
        "outputId": "6efd5d10-6ed8-4cac-9b78-4276d6dafdb8",
        "colab": {
          "base_uri": "https://localhost:8080/",
          "height": 34
        }
      },
      "source": [
        "if abs(t_stat) <= critical_value:\n",
        "\tprint('Accept null hypothesis, that the new medicine is effective')\n",
        "else:\n",
        "\tprint('Reject the null hypothesis, that the new medicine is not effective')"
      ],
      "execution_count": 31,
      "outputs": [
        {
          "output_type": "stream",
          "text": [
            "Reject the null hypothesis, that the new medicine is not effective\n"
          ],
          "name": "stdout"
        }
      ]
    },
    {
      "cell_type": "markdown",
      "metadata": {
        "id": "EdyncT0xZRKB",
        "colab_type": "text"
      },
      "source": [
        "## Paired T-Test "
      ]
    },
    {
      "cell_type": "code",
      "metadata": {
        "id": "AOcNbzubZbBV",
        "colab_type": "code",
        "colab": {
          "base_uri": "https://localhost:8080/",
          "height": 297
        },
        "outputId": "cbae0245-538c-40ab-cc4e-a2776583f4d1"
      },
      "source": [
        "np.random.seed(11)\n",
        "\n",
        "before= stats.norm.rvs(scale=30, loc=250, size=100)\n",
        "\n",
        "after = before + stats.norm.rvs(scale=5, loc=-1.25, size=100)\n",
        "\n",
        "weight_df = pd.DataFrame({\"weight_before\":before,\n",
        "                          \"weight_after\":after,\n",
        "                          \"weight_change\":after-before})\n",
        "\n",
        "weight_df.describe()             # Check a summary of the data"
      ],
      "execution_count": 51,
      "outputs": [
        {
          "output_type": "execute_result",
          "data": {
            "text/html": [
              "<div>\n",
              "<style scoped>\n",
              "    .dataframe tbody tr th:only-of-type {\n",
              "        vertical-align: middle;\n",
              "    }\n",
              "\n",
              "    .dataframe tbody tr th {\n",
              "        vertical-align: top;\n",
              "    }\n",
              "\n",
              "    .dataframe thead th {\n",
              "        text-align: right;\n",
              "    }\n",
              "</style>\n",
              "<table border=\"1\" class=\"dataframe\">\n",
              "  <thead>\n",
              "    <tr style=\"text-align: right;\">\n",
              "      <th></th>\n",
              "      <th>weight_before</th>\n",
              "      <th>weight_after</th>\n",
              "      <th>weight_change</th>\n",
              "    </tr>\n",
              "  </thead>\n",
              "  <tbody>\n",
              "    <tr>\n",
              "      <th>count</th>\n",
              "      <td>100.000000</td>\n",
              "      <td>100.000000</td>\n",
              "      <td>100.000000</td>\n",
              "    </tr>\n",
              "    <tr>\n",
              "      <th>mean</th>\n",
              "      <td>250.345546</td>\n",
              "      <td>249.115171</td>\n",
              "      <td>-1.230375</td>\n",
              "    </tr>\n",
              "    <tr>\n",
              "      <th>std</th>\n",
              "      <td>28.132539</td>\n",
              "      <td>28.422183</td>\n",
              "      <td>4.783696</td>\n",
              "    </tr>\n",
              "    <tr>\n",
              "      <th>min</th>\n",
              "      <td>170.400443</td>\n",
              "      <td>165.913930</td>\n",
              "      <td>-11.495286</td>\n",
              "    </tr>\n",
              "    <tr>\n",
              "      <th>25%</th>\n",
              "      <td>230.421042</td>\n",
              "      <td>229.148236</td>\n",
              "      <td>-4.046211</td>\n",
              "    </tr>\n",
              "    <tr>\n",
              "      <th>50%</th>\n",
              "      <td>250.830805</td>\n",
              "      <td>251.134089</td>\n",
              "      <td>-1.413463</td>\n",
              "    </tr>\n",
              "    <tr>\n",
              "      <th>75%</th>\n",
              "      <td>270.637145</td>\n",
              "      <td>268.927258</td>\n",
              "      <td>1.738673</td>\n",
              "    </tr>\n",
              "    <tr>\n",
              "      <th>max</th>\n",
              "      <td>314.700233</td>\n",
              "      <td>316.720357</td>\n",
              "      <td>9.759282</td>\n",
              "    </tr>\n",
              "  </tbody>\n",
              "</table>\n",
              "</div>"
            ],
            "text/plain": [
              "       weight_before  weight_after  weight_change\n",
              "count     100.000000    100.000000     100.000000\n",
              "mean      250.345546    249.115171      -1.230375\n",
              "std        28.132539     28.422183       4.783696\n",
              "min       170.400443    165.913930     -11.495286\n",
              "25%       230.421042    229.148236      -4.046211\n",
              "50%       250.830805    251.134089      -1.413463\n",
              "75%       270.637145    268.927258       1.738673\n",
              "max       314.700233    316.720357       9.759282"
            ]
          },
          "metadata": {
            "tags": []
          },
          "execution_count": 51
        }
      ]
    },
    {
      "cell_type": "code",
      "metadata": {
        "id": "kMms7B6MagKQ",
        "colab_type": "code",
        "colab": {
          "base_uri": "https://localhost:8080/",
          "height": 34
        },
        "outputId": "859f4db3-b285-44e8-9aae-8814be75b94b"
      },
      "source": [
        "stats.ttest_rel(a = before,\n",
        "                b = after)"
      ],
      "execution_count": 52,
      "outputs": [
        {
          "output_type": "execute_result",
          "data": {
            "text/plain": [
              "Ttest_relResult(statistic=2.5720175998568284, pvalue=0.011596444318439857)"
            ]
          },
          "metadata": {
            "tags": []
          },
          "execution_count": 52
        }
      ]
    },
    {
      "cell_type": "markdown",
      "metadata": {
        "id": "ED96bP6BaoGx",
        "colab_type": "text"
      },
      "source": [
        "### Type I and Type II Error\n",
        "The result of a statistical hypothesis test and the corresponding decision of whether to reject or accept the null hypothesis is not infallible. A test provides evidence for or against the null hypothesis and then you decide whether to accept or reject it based on that evidence, but the evidence may lack the strength to arrive at the correct conclusion. Incorrect conclusions made from hypothesis tests fall in one of two categories: type I error and type II error.\n",
        "\n",
        "Type I error describes a situation where you reject the null hypothesis when it is actually true. This type of error is also known as a \"false positive\" or \"false hit\". The type 1 error rate is equal to the significance level α, so setting a higher confidence level (and therefore lower alpha) reduces the chances of getting a false positive.\n",
        "\n",
        "Type II error describes a situation where you fail to reject the null hypothesis when it is actually false. Type II error is also known as a \"false negative\" or \"miss\". The higher your confidence level, the more likely you are to make a type II error.\n",
        "\n",
        "Let's investigate these errors with a plot:\n"
      ]
    },
    {
      "cell_type": "code",
      "metadata": {
        "id": "yO6OitiBZVxN",
        "colab_type": "code",
        "colab": {
          "base_uri": "https://localhost:8080/",
          "height": 622
        },
        "outputId": "97e4ad5c-3dd8-4285-ce0d-df07cb95b3df"
      },
      "source": [
        "plt.figure(figsize=(12,10))\n",
        "\n",
        "plt.fill_between(x=np.arange(-4,-2,0.01), \n",
        "                 y1= stats.norm.pdf(np.arange(-4,-2,0.01)) ,\n",
        "                 facecolor='red',\n",
        "                 alpha=0.35)\n",
        "\n",
        "plt.fill_between(x=np.arange(-2,2,0.01), \n",
        "                 y1= stats.norm.pdf(np.arange(-2,2,0.01)) ,\n",
        "                 facecolor='white',\n",
        "                 alpha=0.35)\n",
        "\n",
        "plt.fill_between(x=np.arange(2,4,0.01), \n",
        "                 y1= stats.norm.pdf(np.arange(2,4,0.01)) ,\n",
        "                 facecolor='red',\n",
        "                 alpha=0.5)\n",
        "\n",
        "plt.fill_between(x=np.arange(-4,-2,0.01), \n",
        "                 y1= stats.norm.pdf(np.arange(-4,-2,0.01),loc=3, scale=2) ,\n",
        "                 facecolor='white',\n",
        "                 alpha=0.35)\n",
        "\n",
        "plt.fill_between(x=np.arange(-2,2,0.01), \n",
        "                 y1= stats.norm.pdf(np.arange(-2,2,0.01),loc=3, scale=2) ,\n",
        "                 facecolor='blue',\n",
        "                 alpha=0.35)\n",
        "\n",
        "plt.fill_between(x=np.arange(2,10,0.01), \n",
        "                 y1= stats.norm.pdf(np.arange(2,10,0.01),loc=3, scale=2),\n",
        "                 facecolor='white',\n",
        "                 alpha=0.35)\n",
        "\n",
        "plt.text(x=-0.8, y=0.15, s= \"Null Hypothesis\")\n",
        "plt.text(x=2.5, y=0.13, s= \"Alternative\")\n",
        "plt.text(x=2.1, y=0.01, s= \"Type 1 Error\")\n",
        "plt.text(x=-3.2, y=0.01, s= \"Type 1 Error\")\n",
        "plt.text(x=0, y=0.02, s= \"Type 2 Error\")"
      ],
      "execution_count": 54,
      "outputs": [
        {
          "output_type": "execute_result",
          "data": {
            "text/plain": [
              "Text(0, 0.02, 'Type 2 Error')"
            ]
          },
          "metadata": {
            "tags": []
          },
          "execution_count": 54
        },
        {
          "output_type": "display_data",
          "data": {
            "image/png": "[encoded data removed]",
            "text/plain": [
              "<Figure size 864x720 with 1 Axes>"
            ]
          },
          "metadata": {
            "tags": []
          }
        }
      ]
    },
    {
      "cell_type": "markdown",
      "metadata": {
        "id": "Iko5X44-a_9p",
        "colab_type": "text"
      },
      "source": [
        "In the plot above, the red areas indicate type I errors assuming the alternative hypothesis is not different from the null for a two-sided test with a 95% confidence level.\n",
        "\n",
        "\n",
        "The blue area represents type II errors that occur when the alternative hypothesis is different from the null, as shown by the distribution on the right. Note that the Type II error rate is the area under the alternative distribution within the quantiles determined by the null distribution and the confidence level.\n",
        "\n",
        "Futher reading reference [7]"
      ]
    },
    {
      "cell_type": "markdown",
      "metadata": {
        "colab_type": "text",
        "id": "n7rXmOAfz7t9"
      },
      "source": [
        "## Conclusion\n",
        "\n",
        "The student's t test can let you know if there is a significant difference in the means of the two sample groups and disprove the null hypothesis. Like all statistical tests, it cannot prove anything, as there is always a chance of experimental error occurring. But the test can support a hypothesis.\n",
        "\n",
        "However, it is still useful for measuring small sample populations and determining if there is a significant difference between the groups."
      ]
    },
    {
      "cell_type": "markdown",
      "metadata": {
        "colab_type": "text",
        "id": "jBzcWz4M0Fm0"
      },
      "source": [
        "## References / Acknowledgements"
      ]
    },
    {
      "cell_type": "markdown",
      "metadata": {
        "colab_type": "text",
        "id": "K1nm8ZcO0JUH"
      },
      "source": [
        "1. Student’s t-Tests (Damir Kalpić, Nikica Hlupić, Miodrag Lovrić)\n",
        "2. http://www.sthda.com/english/wiki/t-test-formula\n",
        "3. https://en.wikipedia.org/wiki/Student%27s_t-test\n",
        "4. https://www.youtube.com/watch?time_continue=3&v=fKZA5waOJ0U&feature=emb_title\n",
        "5. https://www.researchgate.net/post/What_is_the_difference_between_the_t-Distribution_and_Normal_Distribution\n",
        "6. https://explorable.com/students-t-test\n",
        "7. http://hamelg.blogspot.com/2015/11/python-for-data-analysis-part-24.html\n",
        "\n",
        "\n"
      ]
    }
  ]
}