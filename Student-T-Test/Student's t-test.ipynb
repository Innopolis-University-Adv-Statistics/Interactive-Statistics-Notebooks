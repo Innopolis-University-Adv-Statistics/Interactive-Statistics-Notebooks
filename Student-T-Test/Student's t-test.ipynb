{
  "nbformat": 4,
  "nbformat_minor": 0,
  "metadata": {
    "colab": {
      "name": "Student's t-test.ipynb",
      "provenance": [],
      "collapsed_sections": [],
      "toc_visible": true
    },
    "kernelspec": {
      "display_name": "Python 3",
      "language": "python",
      "name": "python3"
    },
    "language_info": {
      "codemirror_mode": {
        "name": "ipython",
        "version": 3
      },
      "file_extension": ".py",
      "mimetype": "text/x-python",
      "name": "python",
      "nbconvert_exporter": "python",
      "pygments_lexer": "ipython3",
      "version": "3.7.3"
    },
    "widgets": {
      "application/vnd.jupyter.widget-state+json": {
        "a367a22acd6a43508fc2a1c96dc1cc5c": {
          "model_module": "@jupyter-widgets/controls",
          "model_name": "VBoxModel",
          "state": {
            "_view_name": "VBoxView",
            "_dom_classes": [
              "widget-interact"
            ],
            "_model_name": "VBoxModel",
            "_view_module": "@jupyter-widgets/controls",
            "_model_module_version": "1.5.0",
            "_view_count": null,
            "_view_module_version": "1.5.0",
            "box_style": "",
            "layout": "IPY_MODEL_2280947dfa2441129791f088380e4921",
            "_model_module": "@jupyter-widgets/controls",
            "children": [
              "IPY_MODEL_359f8cda98b04f0987d1fa80aa30e74c",
              "IPY_MODEL_e49f84dcba004000bb75ad1e807eb971",
              "IPY_MODEL_c513d9c5ffc143d7bc0500f119487ca0"
            ]
          }
        },
        "2280947dfa2441129791f088380e4921": {
          "model_module": "@jupyter-widgets/base",
          "model_name": "LayoutModel",
          "state": {
            "_view_name": "LayoutView",
            "grid_template_rows": null,
            "right": null,
            "justify_content": null,
            "_view_module": "@jupyter-widgets/base",
            "overflow": null,
            "_model_module_version": "1.2.0",
            "_view_count": null,
            "flex_flow": null,
            "width": null,
            "min_width": null,
            "border": null,
            "align_items": null,
            "bottom": null,
            "_model_module": "@jupyter-widgets/base",
            "top": null,
            "grid_column": null,
            "overflow_y": null,
            "overflow_x": null,
            "grid_auto_flow": null,
            "grid_area": null,
            "grid_template_columns": null,
            "flex": null,
            "_model_name": "LayoutModel",
            "justify_items": null,
            "grid_row": null,
            "max_height": null,
            "align_content": null,
            "visibility": null,
            "align_self": null,
            "height": null,
            "min_height": null,
            "padding": null,
            "grid_auto_rows": null,
            "grid_gap": null,
            "max_width": null,
            "order": null,
            "_view_module_version": "1.2.0",
            "grid_template_areas": null,
            "object_position": null,
            "object_fit": null,
            "grid_auto_columns": null,
            "margin": null,
            "display": null,
            "left": null
          }
        },
        "359f8cda98b04f0987d1fa80aa30e74c": {
          "model_module": "@jupyter-widgets/controls",
          "model_name": "DropdownModel",
          "state": {
            "_options_labels": [
              "Age",
              "Gender",
              "Total_Bilirubin",
              "Direct_Bilirubin",
              "Alkaline_Phosphotase",
              "Alamine_Aminotransferase",
              "Aspartate_Aminotransferase",
              "Total_Protiens",
              "Albumin",
              "Albumin_and_Globulin_Ratio",
              "Dataset"
            ],
            "_view_name": "DropdownView",
            "style": "IPY_MODEL_55081c1c193447deb496a5a29dbb0e84",
            "_dom_classes": [],
            "description": "column",
            "_model_name": "DropdownModel",
            "index": 0,
            "_view_module": "@jupyter-widgets/controls",
            "_model_module_version": "1.5.0",
            "_view_count": null,
            "disabled": false,
            "_view_module_version": "1.5.0",
            "description_tooltip": null,
            "_model_module": "@jupyter-widgets/controls",
            "layout": "IPY_MODEL_db153e4514e74accaf44807221212483"
          }
        },
        "e49f84dcba004000bb75ad1e807eb971": {
          "model_module": "@jupyter-widgets/controls",
          "model_name": "IntSliderModel",
          "state": {
            "_view_name": "IntSliderView",
            "style": "IPY_MODEL_776aff267411459198967dd7488f0e1b",
            "_dom_classes": [],
            "description": "x",
            "step": 1,
            "_model_name": "IntSliderModel",
            "orientation": "horizontal",
            "max": 60,
            "_view_module": "@jupyter-widgets/controls",
            "_model_module_version": "1.5.0",
            "value": 20,
            "_view_count": null,
            "disabled": false,
            "_view_module_version": "1.5.0",
            "min": -20,
            "continuous_update": true,
            "readout_format": "d",
            "description_tooltip": null,
            "readout": true,
            "_model_module": "@jupyter-widgets/controls",
            "layout": "IPY_MODEL_708e59a56231401db712821c7b86267a"
          }
        },
        "c513d9c5ffc143d7bc0500f119487ca0": {
          "model_module": "@jupyter-widgets/output",
          "model_name": "OutputModel",
          "state": {
            "_view_name": "OutputView",
            "msg_id": "",
            "_dom_classes": [],
            "_model_name": "OutputModel",
            "outputs": [
              {
                "output_type": "display_data",
                "metadata": {
                  "tags": [],
                  "needs_background": "light"
                },
                "image/png": "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\n",
                "text/plain": "<Figure size 432x288 with 1 Axes>"
              },
              {
                "output_type": "display_data",
                "metadata": {
                  "tags": []
                },
                "text/plain": "<matplotlib.axes._subplots.AxesSubplot at 0x7f93d6279d68>"
              }
            ],
            "_view_module": "@jupyter-widgets/output",
            "_model_module_version": "1.0.0",
            "_view_count": null,
            "_view_module_version": "1.0.0",
            "layout": "IPY_MODEL_975eb9df86b7418ab7b0adfef1ccd4d1",
            "_model_module": "@jupyter-widgets/output"
          }
        },
        "55081c1c193447deb496a5a29dbb0e84": {
          "model_module": "@jupyter-widgets/controls",
          "model_name": "DescriptionStyleModel",
          "state": {
            "_view_name": "StyleView",
            "_model_name": "DescriptionStyleModel",
            "description_width": "",
            "_view_module": "@jupyter-widgets/base",
            "_model_module_version": "1.5.0",
            "_view_count": null,
            "_view_module_version": "1.2.0",
            "_model_module": "@jupyter-widgets/controls"
          }
        },
        "db153e4514e74accaf44807221212483": {
          "model_module": "@jupyter-widgets/base",
          "model_name": "LayoutModel",
          "state": {
            "_view_name": "LayoutView",
            "grid_template_rows": null,
            "right": null,
            "justify_content": null,
            "_view_module": "@jupyter-widgets/base",
            "overflow": null,
            "_model_module_version": "1.2.0",
            "_view_count": null,
            "flex_flow": null,
            "width": null,
            "min_width": null,
            "border": null,
            "align_items": null,
            "bottom": null,
            "_model_module": "@jupyter-widgets/base",
            "top": null,
            "grid_column": null,
            "overflow_y": null,
            "overflow_x": null,
            "grid_auto_flow": null,
            "grid_area": null,
            "grid_template_columns": null,
            "flex": null,
            "_model_name": "LayoutModel",
            "justify_items": null,
            "grid_row": null,
            "max_height": null,
            "align_content": null,
            "visibility": null,
            "align_self": null,
            "height": null,
            "min_height": null,
            "padding": null,
            "grid_auto_rows": null,
            "grid_gap": null,
            "max_width": null,
            "order": null,
            "_view_module_version": "1.2.0",
            "grid_template_areas": null,
            "object_position": null,
            "object_fit": null,
            "grid_auto_columns": null,
            "margin": null,
            "display": null,
            "left": null
          }
        },
        "776aff267411459198967dd7488f0e1b": {
          "model_module": "@jupyter-widgets/controls",
          "model_name": "SliderStyleModel",
          "state": {
            "_view_name": "StyleView",
            "handle_color": null,
            "_model_name": "SliderStyleModel",
            "description_width": "",
            "_view_module": "@jupyter-widgets/base",
            "_model_module_version": "1.5.0",
            "_view_count": null,
            "_view_module_version": "1.2.0",
            "_model_module": "@jupyter-widgets/controls"
          }
        },
        "708e59a56231401db712821c7b86267a": {
          "model_module": "@jupyter-widgets/base",
          "model_name": "LayoutModel",
          "state": {
            "_view_name": "LayoutView",
            "grid_template_rows": null,
            "right": null,
            "justify_content": null,
            "_view_module": "@jupyter-widgets/base",
            "overflow": null,
            "_model_module_version": "1.2.0",
            "_view_count": null,
            "flex_flow": null,
            "width": null,
            "min_width": null,
            "border": null,
            "align_items": null,
            "bottom": null,
            "_model_module": "@jupyter-widgets/base",
            "top": null,
            "grid_column": null,
            "overflow_y": null,
            "overflow_x": null,
            "grid_auto_flow": null,
            "grid_area": null,
            "grid_template_columns": null,
            "flex": null,
            "_model_name": "LayoutModel",
            "justify_items": null,
            "grid_row": null,
            "max_height": null,
            "align_content": null,
            "visibility": null,
            "align_self": null,
            "height": null,
            "min_height": null,
            "padding": null,
            "grid_auto_rows": null,
            "grid_gap": null,
            "max_width": null,
            "order": null,
            "_view_module_version": "1.2.0",
            "grid_template_areas": null,
            "object_position": null,
            "object_fit": null,
            "grid_auto_columns": null,
            "margin": null,
            "display": null,
            "left": null
          }
        },
        "975eb9df86b7418ab7b0adfef1ccd4d1": {
          "model_module": "@jupyter-widgets/base",
          "model_name": "LayoutModel",
          "state": {
            "_view_name": "LayoutView",
            "grid_template_rows": null,
            "right": null,
            "justify_content": null,
            "_view_module": "@jupyter-widgets/base",
            "overflow": null,
            "_model_module_version": "1.2.0",
            "_view_count": null,
            "flex_flow": null,
            "width": null,
            "min_width": null,
            "border": null,
            "align_items": null,
            "bottom": null,
            "_model_module": "@jupyter-widgets/base",
            "top": null,
            "grid_column": null,
            "overflow_y": null,
            "overflow_x": null,
            "grid_auto_flow": null,
            "grid_area": null,
            "grid_template_columns": null,
            "flex": null,
            "_model_name": "LayoutModel",
            "justify_items": null,
            "grid_row": null,
            "max_height": null,
            "align_content": null,
            "visibility": null,
            "align_self": null,
            "height": null,
            "min_height": null,
            "padding": null,
            "grid_auto_rows": null,
            "grid_gap": null,
            "max_width": null,
            "order": null,
            "_view_module_version": "1.2.0",
            "grid_template_areas": null,
            "object_position": null,
            "object_fit": null,
            "grid_auto_columns": null,
            "margin": null,
            "display": null,
            "left": null
          }
        }
      }
    }
  },
  "cells": [
    {
      "cell_type": "markdown",
      "metadata": {
        "colab_type": "text",
        "id": "q5XnPEsm0phq"
      },
      "source": [
        "[![Open In Colab](https://colab.research.google.com/assets/colab-badge.svg)](https://drive.google.com/file/d/18jUrrmltn_euwULe_hC2O27H__p7zebF/view?usp=sharing)"
      ]
    },
    {
      "cell_type": "markdown",
      "metadata": {
        "id": "j4DdkJIiHumV",
        "colab_type": "text"
      },
      "source": [
        "# Student's t-Test\n",
        "\n",
        "- Intro\n",
        "- Setup / Import\n",
        "- Data load:\n",
        "- Application\n",
        "- Conclusion\n",
        "- References / Acknowledgements"
      ]
    },
    {
      "cell_type": "markdown",
      "metadata": {
        "colab_type": "text",
        "id": "CdLByacoxqBU"
      },
      "source": [
        "## Intro\n",
        "\n",
        "Student’s t-tests are parametric tests based on the Student’s or t-distribution. Student’s distribution is named in honor of William Sealy Gosset (1876–1937), who first determined it in 1908. Gosset, “one of the most original minds in contemporary science” (Fisher 1939), was one of the best Oxford graduates in chemistry and mathematics in his generation. In 1899, he took up a job as a brewer at Arthur Guinness Son & Co, Ltd in Dublin, Ireland. Working for the Guinness brewery, he was interested in quality control based on small samples in various stages of the production process. Since Guinness prohibited its employees from publishing any papers to prevent disclosure of confidential information, Gosset had published his work under the pseudonym “Student” (the other possible pseudonym he was offered by the managing director La Touche was “Pupil,” see Box 1987,  p. 49), and his identity was not known for some time after the publication of his most famous achievements, so the distribution was named Student’s or t-distribution, leaving his name less well known than his important results in statistics. His, now, famous paper “The Probable Error of a Mean” published in Biometrika in 1908, where he introduced the t-test (initially he called it the z-test), was essentially ignored by most statisticians for more than 2 decades, since the “statistical community” was not interested in small samples (“only naughty brewers take n so small,” Karl Pearson writing to Gosset, September 17, 1912, quoted by E.S. Pearson 1939, p. 218). It was only R. Fisher who appreciated the importance of Gosset’s small-sample work, and who reconfigured and extended it to two independent samples, correlation and regression, and provided correct number of degrees of freedom. “It took the genius and drive of a Fisher to give Student’s work general currency” (Zabel 2008, p. 6); “The importance of 1908 article is due to what Fisher found there, not what Gosset placed there”\n",
        "\n",
        "#### Things \n",
        "\n",
        "- Student t-Test\n",
        "- Student t-Test dependent samples\n",
        "- Student t-Test independent samples\n",
        "- Application with real world dataset"
      ]
    },
    {
      "cell_type": "markdown",
      "metadata": {
        "id": "XE9mQ9NmHumW",
        "colab_type": "text"
      },
      "source": [
        "## Pseudo Understanding Of t-Test\n",
        "\n",
        "The test works by checking the means from two samples to see if they are significantly different from each other. It does this by calculating the standard error in the difference between means, which can be interpreted to see how likely the difference is, if the two samples have the same mean (the null hypothesis).\n",
        "\n",
        "![alt text](https://a8h2w5y7.rocketcdn.me/wp-content/uploads/2020/02/students-normal-t-768x461.png)\n",
        "\n",
        "The t statistic calculated by the test can be interpreted by comparing it to critical values from the t-distribution. The critical value can be calculated using the degrees of freedom and a significance level with the percent point function (PPF).\n",
        "\n",
        "We can interpret the statistic value in a two-tailed test, meaning that if we reject the null hypothesis, it could be because the first mean is smaller or greater than the second mean. To do this, we can calculate the absolute value of the test statistic and compare it to the positive (right tailed) critical value, as follows:\n",
        "\n",
        "- If abs(t-statistic) <= critical value: Accept null hypothesis that the means are equal.\n",
        "- If abs(t-statistic) > critical value: Reject the null hypothesis that the means are equal.\n",
        "\n",
        "We can also retrieve the cumulative probability of observing the absolute value of the t-statistic using the cumulative distribution function (CDF) of the t-distribution in order to calculate a p-value. The p-value can then be compared to a chosen significance level (alpha) such as 0.05 to determine if the null hypothesis can be rejected:\n",
        "\n",
        "- If p > alpha: Accept null hypothesis that the means are equal.\n",
        "- If p <= alpha: Reject null hypothesis that the means are equal.\n",
        "\n",
        "In working with the means of the samples, the test assumes that both samples were drawn from a Gaussian distribution. The test also assumes that the samples have the same variance, and the same size, although there are corrections to the test if these assumptions do not hold.\n",
        "\n",
        "\n",
        "There are two main versions of Student’s t-test:\n",
        "\n",
        "- Independent Samples. The case where the two samples are unrelated.\n",
        "- Dependent Samples. The case where the samples are related, such as repeated measures on the same population. Also called a paired test.\n",
        "\n",
        "Both the independent and the dependent Student’s t-tests are available in Python via the ttest_ind() and ttest_rel() SciPy functions respectively.\n",
        "\n",
        "\n",
        "### How is it difference than Normal Distribution?\n",
        "\n",
        "The normal distribution is used when the population distribution of data is assumed normal. It is characterized by the mean and the standard deviation of the data. A sample of the population is used to estimate the mean and standard deviation.\n",
        "\n",
        "The t statistic is an estimate of the standard error of the mean of the population or how well known is the mean based on the sample size.\n",
        "\n",
        "The decision to use one or the other requires a clear, logical statement and argument to establish whether to use the t-distribution or the normal distribution. Use of either assumes a normally distributed population.\n",
        "\n",
        "in addition to all t-distribution will give better result than normal distribution whenever we have less number of data point(<30 in general).\n",
        "![alt text](https://financetrain.com/assets/t-dist1.gif)\n",
        "\n"
      ]
    },
    {
      "cell_type": "markdown",
      "metadata": {
        "id": "ZJbOS114HumX",
        "colab_type": "text"
      },
      "source": [
        "## Setup / Dependencies"
      ]
    },
    {
      "cell_type": "code",
      "metadata": {
        "id": "UUeG8QmSHumY",
        "colab_type": "code",
        "colab": {
          "base_uri": "https://localhost:8080/",
          "height": 887
        },
        "outputId": "e297eb15-5c50-46c4-c915-aa83e67e1407"
      },
      "source": [
        "! pip install ipywidgets\n",
        "! jupyter nbextension enable --py widgetsnbextension\n",
        "! pip install chart_studio"
      ],
      "execution_count": 2,
      "outputs": [
        {
          "output_type": "stream",
          "text": [
            "Requirement already satisfied: ipywidgets in /usr/local/lib/python3.6/dist-packages (7.5.1)\n",
            "Requirement already satisfied: ipykernel>=4.5.1 in /usr/local/lib/python3.6/dist-packages (from ipywidgets) (4.10.1)\n",
            "Requirement already satisfied: ipython>=4.0.0; python_version >= \"3.3\" in /usr/local/lib/python3.6/dist-packages (from ipywidgets) (5.5.0)\n",
            "Requirement already satisfied: widgetsnbextension~=3.5.0 in /usr/local/lib/python3.6/dist-packages (from ipywidgets) (3.5.1)\n",
            "Requirement already satisfied: traitlets>=4.3.1 in /usr/local/lib/python3.6/dist-packages (from ipywidgets) (4.3.3)\n",
            "Requirement already satisfied: nbformat>=4.2.0 in /usr/local/lib/python3.6/dist-packages (from ipywidgets) (5.0.5)\n",
            "Requirement already satisfied: tornado>=4.0 in /usr/local/lib/python3.6/dist-packages (from ipykernel>=4.5.1->ipywidgets) (4.5.3)\n",
            "Requirement already satisfied: jupyter-client in /usr/local/lib/python3.6/dist-packages (from ipykernel>=4.5.1->ipywidgets) (5.3.4)\n",
            "Requirement already satisfied: setuptools>=18.5 in /usr/local/lib/python3.6/dist-packages (from ipython>=4.0.0; python_version >= \"3.3\"->ipywidgets) (46.1.3)\n",
            "Requirement already satisfied: pickleshare in /usr/local/lib/python3.6/dist-packages (from ipython>=4.0.0; python_version >= \"3.3\"->ipywidgets) (0.7.5)\n",
            "Requirement already satisfied: pexpect; sys_platform != \"win32\" in /usr/local/lib/python3.6/dist-packages (from ipython>=4.0.0; python_version >= \"3.3\"->ipywidgets) (4.8.0)\n",
            "Requirement already satisfied: prompt-toolkit<2.0.0,>=1.0.4 in /usr/local/lib/python3.6/dist-packages (from ipython>=4.0.0; python_version >= \"3.3\"->ipywidgets) (1.0.18)\n",
            "Requirement already satisfied: pygments in /usr/local/lib/python3.6/dist-packages (from ipython>=4.0.0; python_version >= \"3.3\"->ipywidgets) (2.1.3)\n",
            "Requirement already satisfied: decorator in /usr/local/lib/python3.6/dist-packages (from ipython>=4.0.0; python_version >= \"3.3\"->ipywidgets) (4.4.2)\n",
            "Requirement already satisfied: simplegeneric>0.8 in /usr/local/lib/python3.6/dist-packages (from ipython>=4.0.0; python_version >= \"3.3\"->ipywidgets) (0.8.1)\n",
            "Requirement already satisfied: notebook>=4.4.1 in /usr/local/lib/python3.6/dist-packages (from widgetsnbextension~=3.5.0->ipywidgets) (5.2.2)\n",
            "Requirement already satisfied: ipython-genutils in /usr/local/lib/python3.6/dist-packages (from traitlets>=4.3.1->ipywidgets) (0.2.0)\n",
            "Requirement already satisfied: six in /usr/local/lib/python3.6/dist-packages (from traitlets>=4.3.1->ipywidgets) (1.12.0)\n",
            "Requirement already satisfied: jsonschema!=2.5.0,>=2.4 in /usr/local/lib/python3.6/dist-packages (from nbformat>=4.2.0->ipywidgets) (2.6.0)\n",
            "Requirement already satisfied: jupyter-core in /usr/local/lib/python3.6/dist-packages (from nbformat>=4.2.0->ipywidgets) (4.6.3)\n",
            "Requirement already satisfied: python-dateutil>=2.1 in /usr/local/lib/python3.6/dist-packages (from jupyter-client->ipykernel>=4.5.1->ipywidgets) (2.8.1)\n",
            "Requirement already satisfied: pyzmq>=13 in /usr/local/lib/python3.6/dist-packages (from jupyter-client->ipykernel>=4.5.1->ipywidgets) (19.0.0)\n",
            "Requirement already satisfied: ptyprocess>=0.5 in /usr/local/lib/python3.6/dist-packages (from pexpect; sys_platform != \"win32\"->ipython>=4.0.0; python_version >= \"3.3\"->ipywidgets) (0.6.0)\n",
            "Requirement already satisfied: wcwidth in /usr/local/lib/python3.6/dist-packages (from prompt-toolkit<2.0.0,>=1.0.4->ipython>=4.0.0; python_version >= \"3.3\"->ipywidgets) (0.1.9)\n",
            "Requirement already satisfied: terminado>=0.3.3; sys_platform != \"win32\" in /usr/local/lib/python3.6/dist-packages (from notebook>=4.4.1->widgetsnbextension~=3.5.0->ipywidgets) (0.8.3)\n",
            "Requirement already satisfied: jinja2 in /usr/local/lib/python3.6/dist-packages (from notebook>=4.4.1->widgetsnbextension~=3.5.0->ipywidgets) (2.11.1)\n",
            "Requirement already satisfied: nbconvert in /usr/local/lib/python3.6/dist-packages (from notebook>=4.4.1->widgetsnbextension~=3.5.0->ipywidgets) (5.6.1)\n",
            "Requirement already satisfied: MarkupSafe>=0.23 in /usr/local/lib/python3.6/dist-packages (from jinja2->notebook>=4.4.1->widgetsnbextension~=3.5.0->ipywidgets) (1.1.1)\n",
            "Requirement already satisfied: mistune<2,>=0.8.1 in /usr/local/lib/python3.6/dist-packages (from nbconvert->notebook>=4.4.1->widgetsnbextension~=3.5.0->ipywidgets) (0.8.4)\n",
            "Requirement already satisfied: testpath in /usr/local/lib/python3.6/dist-packages (from nbconvert->notebook>=4.4.1->widgetsnbextension~=3.5.0->ipywidgets) (0.4.4)\n",
            "Requirement already satisfied: bleach in /usr/local/lib/python3.6/dist-packages (from nbconvert->notebook>=4.4.1->widgetsnbextension~=3.5.0->ipywidgets) (3.1.4)\n",
            "Requirement already satisfied: entrypoints>=0.2.2 in /usr/local/lib/python3.6/dist-packages (from nbconvert->notebook>=4.4.1->widgetsnbextension~=3.5.0->ipywidgets) (0.3)\n",
            "Requirement already satisfied: defusedxml in /usr/local/lib/python3.6/dist-packages (from nbconvert->notebook>=4.4.1->widgetsnbextension~=3.5.0->ipywidgets) (0.6.0)\n",
            "Requirement already satisfied: pandocfilters>=1.4.1 in /usr/local/lib/python3.6/dist-packages (from nbconvert->notebook>=4.4.1->widgetsnbextension~=3.5.0->ipywidgets) (1.4.2)\n",
            "Requirement already satisfied: webencodings in /usr/local/lib/python3.6/dist-packages (from bleach->nbconvert->notebook>=4.4.1->widgetsnbextension~=3.5.0->ipywidgets) (0.5.1)\n",
            "Enabling notebook extension jupyter-js-widgets/extension...\n",
            "      - Validating: \u001b[32mOK\u001b[0m\n",
            "Collecting chart_studio\n",
            "\u001b[?25l  Downloading https://files.pythonhosted.org/packages/ca/ce/330794a6b6ca4b9182c38fc69dd2a9cbff60fd49421cb8648ee5fee352dc/chart_studio-1.1.0-py3-none-any.whl (64kB)\n",
            "\u001b[K     |████████████████████████████████| 71kB 3.0MB/s \n",
            "\u001b[?25hRequirement already satisfied: requests in /usr/local/lib/python3.6/dist-packages (from chart_studio) (2.21.0)\n",
            "Requirement already satisfied: retrying>=1.3.3 in /usr/local/lib/python3.6/dist-packages (from chart_studio) (1.3.3)\n",
            "Requirement already satisfied: plotly in /usr/local/lib/python3.6/dist-packages (from chart_studio) (4.4.1)\n",
            "Requirement already satisfied: six in /usr/local/lib/python3.6/dist-packages (from chart_studio) (1.12.0)\n",
            "Requirement already satisfied: idna<2.9,>=2.5 in /usr/local/lib/python3.6/dist-packages (from requests->chart_studio) (2.8)\n",
            "Requirement already satisfied: certifi>=2017.4.17 in /usr/local/lib/python3.6/dist-packages (from requests->chart_studio) (2020.4.5.1)\n",
            "Requirement already satisfied: urllib3<1.25,>=1.21.1 in /usr/local/lib/python3.6/dist-packages (from requests->chart_studio) (1.24.3)\n",
            "Requirement already satisfied: chardet<3.1.0,>=3.0.2 in /usr/local/lib/python3.6/dist-packages (from requests->chart_studio) (3.0.4)\n",
            "Installing collected packages: chart-studio\n",
            "Successfully installed chart-studio-1.1.0\n"
          ],
          "name": "stdout"
        }
      ]
    },
    {
      "cell_type": "markdown",
      "metadata": {
        "colab_type": "text",
        "id": "EovComAJxr-0"
      },
      "source": [
        "## Import\n"
      ]
    },
    {
      "cell_type": "code",
      "metadata": {
        "scrolled": true,
        "id": "j4oNjNqjHumc",
        "colab_type": "code",
        "colab": {}
      },
      "source": [
        "import ipywidgets as widgets\n",
        "from ipywidgets import interact, interact_manual\n",
        "import pandas as pd\n",
        "from sklearn.datasets import load_boston\n",
        "import numpy as np\n",
        "import scipy\n",
        "from scipy.stats import t\n",
        "import matplotlib.pyplot as plt\n",
        "%matplotlib inline"
      ],
      "execution_count": 0,
      "outputs": []
    },
    {
      "cell_type": "markdown",
      "metadata": {
        "colab_type": "text",
        "id": "9hI1xXAGzaNk"
      },
      "source": [
        "## Data load\n",
        "\n",
        "- Patients with Liver disease have been continuously increasing because of excessive consumption of alcohol, inhale of harmful gases, intake of contaminated food, pickles and drugs. This dataset was used to evaluate prediction algorithms in an effort to reduce burden on doctors.\n",
        "\n",
        "### Hypothesis\n",
        "- H0 : there is no significant difference of Albumin and Globulin Ratio between patient with liver disease and no liver disease\n",
        "- H1 : there is significant difference of Albumin and Globulin Ratio between patient with liver disease and no liver disease\n"
      ]
    },
    {
      "cell_type": "code",
      "metadata": {
        "id": "lDdJIYBBJ9xX",
        "colab_type": "code",
        "colab": {
          "base_uri": "https://localhost:8080/",
          "height": 224
        },
        "outputId": "ec6bb232-52a2-4be9-bf77-0b5bfda61df9"
      },
      "source": [
        "!mkdir Dataset\n",
        "!cd Dataset && wget https://raw.githubusercontent.com/jacked97/Interactive-Statistics-Notebooks-1/student-t_test/Student-T-Test/Dataset/indian_liver_patient.csv"
      ],
      "execution_count": 4,
      "outputs": [
        {
          "output_type": "stream",
          "text": [
            "--2020-04-12 21:33:15--  https://raw.githubusercontent.com/jacked97/Interactive-Statistics-Notebooks-1/student-t_test/Student-T-Test/Dataset/indian_liver_patient.csv\n",
            "Resolving raw.githubusercontent.com (raw.githubusercontent.com)... 151.101.0.133, 151.101.64.133, 151.101.128.133, ...\n",
            "Connecting to raw.githubusercontent.com (raw.githubusercontent.com)|151.101.0.133|:443... connected.\n",
            "HTTP request sent, awaiting response... 200 OK\n",
            "Length: 23347 (23K) [text/plain]\n",
            "Saving to: ‘indian_liver_patient.csv’\n",
            "\n",
            "\rindian_liver_patien   0%[                    ]       0  --.-KB/s               \rindian_liver_patien 100%[===================>]  22.80K  --.-KB/s    in 0.007s  \n",
            "\n",
            "2020-04-12 21:33:15 (3.12 MB/s) - ‘indian_liver_patient.csv’ saved [23347/23347]\n",
            "\n"
          ],
          "name": "stdout"
        }
      ]
    },
    {
      "cell_type": "code",
      "metadata": {
        "colab_type": "code",
        "id": "Qiozktuj16i8",
        "colab": {}
      },
      "source": [
        "path = 'Dataset/indian_liver_patient.csv'\n",
        "data = pd.read_csv(path)"
      ],
      "execution_count": 0,
      "outputs": []
    },
    {
      "cell_type": "code",
      "metadata": {
        "colab_type": "code",
        "id": "5djlAHrK2ETI",
        "colab": {
          "base_uri": "https://localhost:8080/",
          "height": 439
        },
        "outputId": "27667e1d-c5fa-4b85-88c3-1fbb15cc3922"
      },
      "source": [
        "df = data\n",
        "df.dropna()"
      ],
      "execution_count": 37,
      "outputs": [
        {
          "output_type": "execute_result",
          "data": {
            "text/html": [
              "<div>\n",
              "<style scoped>\n",
              "    .dataframe tbody tr th:only-of-type {\n",
              "        vertical-align: middle;\n",
              "    }\n",
              "\n",
              "    .dataframe tbody tr th {\n",
              "        vertical-align: top;\n",
              "    }\n",
              "\n",
              "    .dataframe thead th {\n",
              "        text-align: right;\n",
              "    }\n",
              "</style>\n",
              "<table border=\"1\" class=\"dataframe\">\n",
              "  <thead>\n",
              "    <tr style=\"text-align: right;\">\n",
              "      <th></th>\n",
              "      <th>Age</th>\n",
              "      <th>Gender</th>\n",
              "      <th>Total_Bilirubin</th>\n",
              "      <th>Direct_Bilirubin</th>\n",
              "      <th>Alkaline_Phosphotase</th>\n",
              "      <th>Alamine_Aminotransferase</th>\n",
              "      <th>Aspartate_Aminotransferase</th>\n",
              "      <th>Total_Protiens</th>\n",
              "      <th>Albumin</th>\n",
              "      <th>Albumin_and_Globulin_Ratio</th>\n",
              "      <th>Dataset</th>\n",
              "    </tr>\n",
              "  </thead>\n",
              "  <tbody>\n",
              "    <tr>\n",
              "      <th>0</th>\n",
              "      <td>65</td>\n",
              "      <td>Female</td>\n",
              "      <td>0.7</td>\n",
              "      <td>0.1</td>\n",
              "      <td>187</td>\n",
              "      <td>16</td>\n",
              "      <td>18</td>\n",
              "      <td>6.8</td>\n",
              "      <td>3.3</td>\n",
              "      <td>0.90</td>\n",
              "      <td>1</td>\n",
              "    </tr>\n",
              "    <tr>\n",
              "      <th>1</th>\n",
              "      <td>62</td>\n",
              "      <td>Male</td>\n",
              "      <td>10.9</td>\n",
              "      <td>5.5</td>\n",
              "      <td>699</td>\n",
              "      <td>64</td>\n",
              "      <td>100</td>\n",
              "      <td>7.5</td>\n",
              "      <td>3.2</td>\n",
              "      <td>0.74</td>\n",
              "      <td>1</td>\n",
              "    </tr>\n",
              "    <tr>\n",
              "      <th>2</th>\n",
              "      <td>62</td>\n",
              "      <td>Male</td>\n",
              "      <td>7.3</td>\n",
              "      <td>4.1</td>\n",
              "      <td>490</td>\n",
              "      <td>60</td>\n",
              "      <td>68</td>\n",
              "      <td>7.0</td>\n",
              "      <td>3.3</td>\n",
              "      <td>0.89</td>\n",
              "      <td>1</td>\n",
              "    </tr>\n",
              "    <tr>\n",
              "      <th>3</th>\n",
              "      <td>58</td>\n",
              "      <td>Male</td>\n",
              "      <td>1.0</td>\n",
              "      <td>0.4</td>\n",
              "      <td>182</td>\n",
              "      <td>14</td>\n",
              "      <td>20</td>\n",
              "      <td>6.8</td>\n",
              "      <td>3.4</td>\n",
              "      <td>1.00</td>\n",
              "      <td>1</td>\n",
              "    </tr>\n",
              "    <tr>\n",
              "      <th>4</th>\n",
              "      <td>72</td>\n",
              "      <td>Male</td>\n",
              "      <td>3.9</td>\n",
              "      <td>2.0</td>\n",
              "      <td>195</td>\n",
              "      <td>27</td>\n",
              "      <td>59</td>\n",
              "      <td>7.3</td>\n",
              "      <td>2.4</td>\n",
              "      <td>0.40</td>\n",
              "      <td>1</td>\n",
              "    </tr>\n",
              "    <tr>\n",
              "      <th>...</th>\n",
              "      <td>...</td>\n",
              "      <td>...</td>\n",
              "      <td>...</td>\n",
              "      <td>...</td>\n",
              "      <td>...</td>\n",
              "      <td>...</td>\n",
              "      <td>...</td>\n",
              "      <td>...</td>\n",
              "      <td>...</td>\n",
              "      <td>...</td>\n",
              "      <td>...</td>\n",
              "    </tr>\n",
              "    <tr>\n",
              "      <th>578</th>\n",
              "      <td>60</td>\n",
              "      <td>Male</td>\n",
              "      <td>0.5</td>\n",
              "      <td>0.1</td>\n",
              "      <td>500</td>\n",
              "      <td>20</td>\n",
              "      <td>34</td>\n",
              "      <td>5.9</td>\n",
              "      <td>1.6</td>\n",
              "      <td>0.37</td>\n",
              "      <td>2</td>\n",
              "    </tr>\n",
              "    <tr>\n",
              "      <th>579</th>\n",
              "      <td>40</td>\n",
              "      <td>Male</td>\n",
              "      <td>0.6</td>\n",
              "      <td>0.1</td>\n",
              "      <td>98</td>\n",
              "      <td>35</td>\n",
              "      <td>31</td>\n",
              "      <td>6.0</td>\n",
              "      <td>3.2</td>\n",
              "      <td>1.10</td>\n",
              "      <td>1</td>\n",
              "    </tr>\n",
              "    <tr>\n",
              "      <th>580</th>\n",
              "      <td>52</td>\n",
              "      <td>Male</td>\n",
              "      <td>0.8</td>\n",
              "      <td>0.2</td>\n",
              "      <td>245</td>\n",
              "      <td>48</td>\n",
              "      <td>49</td>\n",
              "      <td>6.4</td>\n",
              "      <td>3.2</td>\n",
              "      <td>1.00</td>\n",
              "      <td>1</td>\n",
              "    </tr>\n",
              "    <tr>\n",
              "      <th>581</th>\n",
              "      <td>31</td>\n",
              "      <td>Male</td>\n",
              "      <td>1.3</td>\n",
              "      <td>0.5</td>\n",
              "      <td>184</td>\n",
              "      <td>29</td>\n",
              "      <td>32</td>\n",
              "      <td>6.8</td>\n",
              "      <td>3.4</td>\n",
              "      <td>1.00</td>\n",
              "      <td>1</td>\n",
              "    </tr>\n",
              "    <tr>\n",
              "      <th>582</th>\n",
              "      <td>38</td>\n",
              "      <td>Male</td>\n",
              "      <td>1.0</td>\n",
              "      <td>0.3</td>\n",
              "      <td>216</td>\n",
              "      <td>21</td>\n",
              "      <td>24</td>\n",
              "      <td>7.3</td>\n",
              "      <td>4.4</td>\n",
              "      <td>1.50</td>\n",
              "      <td>2</td>\n",
              "    </tr>\n",
              "  </tbody>\n",
              "</table>\n",
              "<p>579 rows × 11 columns</p>\n",
              "</div>"
            ],
            "text/plain": [
              "     Age  Gender  Total_Bilirubin  ...  Albumin  Albumin_and_Globulin_Ratio  Dataset\n",
              "0     65  Female              0.7  ...      3.3                        0.90        1\n",
              "1     62    Male             10.9  ...      3.2                        0.74        1\n",
              "2     62    Male              7.3  ...      3.3                        0.89        1\n",
              "3     58    Male              1.0  ...      3.4                        1.00        1\n",
              "4     72    Male              3.9  ...      2.4                        0.40        1\n",
              "..   ...     ...              ...  ...      ...                         ...      ...\n",
              "578   60    Male              0.5  ...      1.6                        0.37        2\n",
              "579   40    Male              0.6  ...      3.2                        1.10        1\n",
              "580   52    Male              0.8  ...      3.2                        1.00        1\n",
              "581   31    Male              1.3  ...      3.4                        1.00        1\n",
              "582   38    Male              1.0  ...      4.4                        1.50        2\n",
              "\n",
              "[579 rows x 11 columns]"
            ]
          },
          "metadata": {
            "tags": []
          },
          "execution_count": 37
        }
      ]
    },
    {
      "cell_type": "markdown",
      "metadata": {
        "colab_type": "text",
        "id": "jNm4a9nY23l2"
      },
      "source": [
        "`interact` [documentation](https://ipywidgets.readthedocs.io/en/stable/examples/Using%20Interact.html)"
      ]
    },
    {
      "cell_type": "code",
      "metadata": {
        "colab_type": "code",
        "id": "KgTO1Out2ZEU",
        "outputId": "a592493f-58cf-4943-c3fb-6e4565a839c3",
        "colab": {
          "base_uri": "https://localhost:8080/",
          "height": 346,
          "referenced_widgets": [
            "a367a22acd6a43508fc2a1c96dc1cc5c",
            "2280947dfa2441129791f088380e4921",
            "359f8cda98b04f0987d1fa80aa30e74c",
            "e49f84dcba004000bb75ad1e807eb971",
            "c513d9c5ffc143d7bc0500f119487ca0",
            "55081c1c193447deb496a5a29dbb0e84",
            "db153e4514e74accaf44807221212483",
            "776aff267411459198967dd7488f0e1b",
            "708e59a56231401db712821c7b86267a",
            "975eb9df86b7418ab7b0adfef1ccd4d1"
          ]
        }
      },
      "source": [
        "@interact\n",
        "def show_articles_more_than(column=df.columns, x=20):\n",
        "    return df[column].loc[:x].hist()"
      ],
      "execution_count": 7,
      "outputs": [
        {
          "output_type": "display_data",
          "data": {
            "application/vnd.jupyter.widget-view+json": {
              "model_id": "a367a22acd6a43508fc2a1c96dc1cc5c",
              "version_minor": 0,
              "version_major": 2
            },
            "text/plain": [
              "interactive(children=(Dropdown(description='column', options=('Age', 'Gender', 'Total_Bilirubin', 'Direct_Bili…"
            ]
          },
          "metadata": {
            "tags": []
          }
        }
      ]
    },
    {
      "cell_type": "code",
      "metadata": {
        "id": "cWN73uxKHump",
        "colab_type": "code",
        "colab": {
          "base_uri": "https://localhost:8080/",
          "height": 224
        },
        "outputId": "8e749d05-4e6d-4603-f75f-05f71008fb48"
      },
      "source": [
        "df.head()"
      ],
      "execution_count": 8,
      "outputs": [
        {
          "output_type": "execute_result",
          "data": {
            "text/html": [
              "<div>\n",
              "<style scoped>\n",
              "    .dataframe tbody tr th:only-of-type {\n",
              "        vertical-align: middle;\n",
              "    }\n",
              "\n",
              "    .dataframe tbody tr th {\n",
              "        vertical-align: top;\n",
              "    }\n",
              "\n",
              "    .dataframe thead th {\n",
              "        text-align: right;\n",
              "    }\n",
              "</style>\n",
              "<table border=\"1\" class=\"dataframe\">\n",
              "  <thead>\n",
              "    <tr style=\"text-align: right;\">\n",
              "      <th></th>\n",
              "      <th>Age</th>\n",
              "      <th>Gender</th>\n",
              "      <th>Total_Bilirubin</th>\n",
              "      <th>Direct_Bilirubin</th>\n",
              "      <th>Alkaline_Phosphotase</th>\n",
              "      <th>Alamine_Aminotransferase</th>\n",
              "      <th>Aspartate_Aminotransferase</th>\n",
              "      <th>Total_Protiens</th>\n",
              "      <th>Albumin</th>\n",
              "      <th>Albumin_and_Globulin_Ratio</th>\n",
              "      <th>Dataset</th>\n",
              "    </tr>\n",
              "  </thead>\n",
              "  <tbody>\n",
              "    <tr>\n",
              "      <th>0</th>\n",
              "      <td>65</td>\n",
              "      <td>Female</td>\n",
              "      <td>0.7</td>\n",
              "      <td>0.1</td>\n",
              "      <td>187</td>\n",
              "      <td>16</td>\n",
              "      <td>18</td>\n",
              "      <td>6.8</td>\n",
              "      <td>3.3</td>\n",
              "      <td>0.90</td>\n",
              "      <td>1</td>\n",
              "    </tr>\n",
              "    <tr>\n",
              "      <th>1</th>\n",
              "      <td>62</td>\n",
              "      <td>Male</td>\n",
              "      <td>10.9</td>\n",
              "      <td>5.5</td>\n",
              "      <td>699</td>\n",
              "      <td>64</td>\n",
              "      <td>100</td>\n",
              "      <td>7.5</td>\n",
              "      <td>3.2</td>\n",
              "      <td>0.74</td>\n",
              "      <td>1</td>\n",
              "    </tr>\n",
              "    <tr>\n",
              "      <th>2</th>\n",
              "      <td>62</td>\n",
              "      <td>Male</td>\n",
              "      <td>7.3</td>\n",
              "      <td>4.1</td>\n",
              "      <td>490</td>\n",
              "      <td>60</td>\n",
              "      <td>68</td>\n",
              "      <td>7.0</td>\n",
              "      <td>3.3</td>\n",
              "      <td>0.89</td>\n",
              "      <td>1</td>\n",
              "    </tr>\n",
              "    <tr>\n",
              "      <th>3</th>\n",
              "      <td>58</td>\n",
              "      <td>Male</td>\n",
              "      <td>1.0</td>\n",
              "      <td>0.4</td>\n",
              "      <td>182</td>\n",
              "      <td>14</td>\n",
              "      <td>20</td>\n",
              "      <td>6.8</td>\n",
              "      <td>3.4</td>\n",
              "      <td>1.00</td>\n",
              "      <td>1</td>\n",
              "    </tr>\n",
              "    <tr>\n",
              "      <th>4</th>\n",
              "      <td>72</td>\n",
              "      <td>Male</td>\n",
              "      <td>3.9</td>\n",
              "      <td>2.0</td>\n",
              "      <td>195</td>\n",
              "      <td>27</td>\n",
              "      <td>59</td>\n",
              "      <td>7.3</td>\n",
              "      <td>2.4</td>\n",
              "      <td>0.40</td>\n",
              "      <td>1</td>\n",
              "    </tr>\n",
              "  </tbody>\n",
              "</table>\n",
              "</div>"
            ],
            "text/plain": [
              "   Age  Gender  Total_Bilirubin  ...  Albumin  Albumin_and_Globulin_Ratio  Dataset\n",
              "0   65  Female              0.7  ...      3.3                        0.90        1\n",
              "1   62    Male             10.9  ...      3.2                        0.74        1\n",
              "2   62    Male              7.3  ...      3.3                        0.89        1\n",
              "3   58    Male              1.0  ...      3.4                        1.00        1\n",
              "4   72    Male              3.9  ...      2.4                        0.40        1\n",
              "\n",
              "[5 rows x 11 columns]"
            ]
          },
          "metadata": {
            "tags": []
          },
          "execution_count": 8
        }
      ]
    },
    {
      "cell_type": "markdown",
      "metadata": {
        "colab_type": "text",
        "id": "rh-gP7nSzp23"
      },
      "source": [
        "## Application\n",
        "\n",
        "### Indepdent Test"
      ]
    },
    {
      "cell_type": "code",
      "metadata": {
        "id": "6bhbOvyXHumt",
        "colab_type": "code",
        "colab": {}
      },
      "source": [
        "liver_patient = (df.loc[df['Dataset'] == 1])['Albumin_and_Globulin_Ratio']\n",
        "non_liver_patient = (df.loc[df['Dataset'] == 2])['Albumin_and_Globulin_Ratio']"
      ],
      "execution_count": 0,
      "outputs": []
    },
    {
      "cell_type": "code",
      "metadata": {
        "id": "NX9SvZIhHumv",
        "colab_type": "code",
        "colab": {
          "base_uri": "https://localhost:8080/",
          "height": 51
        },
        "outputId": "7b43aab0-b428-4a87-8ccc-3b48c3912393"
      },
      "source": [
        "lp_mean = liver_patient.mean()\n",
        "nlp_mean = non_liver_patient.mean();\n",
        "\n",
        "lp_variance = liver_patient.var()\n",
        "nlp_variance = non_liver_patient.var();\n",
        "\n",
        "lp_n = liver_patient.size\n",
        "nlp_n = non_liver_patient.size\n",
        "\n",
        "alpha = 0.05\n",
        "degree_of_freedom = nlp_n + lp_n - 2\n",
        "critical_value = t.ppf(1.0 - alpha, degree_of_freedom)\n",
        "\n",
        "print(\"Liver Patients: Mean: {0}, Variance: {1}, Size: {2}\".format(lp_mean, lp_variance, lp_n))\n",
        "print(\"Non-liver Patients: Mean: {0}, Variance: {1}, Size: {2}\".format(nlp_mean, nlp_variance, nlp_n))"
      ],
      "execution_count": 39,
      "outputs": [
        {
          "output_type": "stream",
          "text": [
            "Liver Patients: Mean: 0.9141787439613527, Variance: 0.10637547402650555, Size: 416\n",
            "Non-liver Patients: Mean: 1.0295757575757576, Variance: 0.08251384331116045, Size: 167\n"
          ],
          "name": "stdout"
        }
      ]
    },
    {
      "cell_type": "code",
      "metadata": {
        "id": "Ce2YZashHumy",
        "colab_type": "code",
        "colab": {
          "base_uri": "https://localhost:8080/",
          "height": 34
        },
        "outputId": "6c5531d6-3e34-41e3-b85f-8b6b815067b9"
      },
      "source": [
        "t_value = ( nlp_mean - lp_mean ) / np.sqrt( (nlp_variance / nlp_n ) + (lp_variance / lp_n) )\n",
        "\t\n",
        "# calculate the p-value\n",
        "print(\"Calculated T-Value: {0}, Critical Value: {1}\".format(t_value, critical_value))"
      ],
      "execution_count": 40,
      "outputs": [
        {
          "output_type": "stream",
          "text": [
            "Calculated T-Value: 4.214250644624419, Critical Value: 1.647480505562809\n"
          ],
          "name": "stdout"
        }
      ]
    },
    {
      "cell_type": "code",
      "metadata": {
        "id": "qNlN81hSHum1",
        "colab_type": "code",
        "colab": {
          "base_uri": "https://localhost:8080/",
          "height": 34
        },
        "outputId": "a54a17aa-6b3d-4a27-cd8d-3e4b1e7d4952"
      },
      "source": [
        "# interpret via critical value\n",
        "if abs(t_value) <= critical_value:\n",
        "    print('Accept null hypothesis, there is no significant difference of Albumin and Globulin Ratio between patient with liver disease and no liver disease')\n",
        "else:\n",
        "    print('Reject the null hypothesis')\n"
      ],
      "execution_count": 41,
      "outputs": [
        {
          "output_type": "stream",
          "text": [
            "Reject the null hypothesis\n"
          ],
          "name": "stdout"
        }
      ]
    },
    {
      "cell_type": "markdown",
      "metadata": {
        "id": "F_U3Dm7wUwna",
        "colab_type": "text"
      },
      "source": [
        "### Dependent Test\n",
        "\n",
        "Example: using your current dataset but only with liver disease, the data of Albumin and Globulin Ratio. Give a case like this: the medical doctor give a new medicine to the patient and want to know whether it is effective or not. After 1 month, he check again Albumin and Globulin Ratio of all patients. (then just add random number to complete this case)\n",
        "- H0: there is no significant difference\n",
        "-H1 : there is significance difference\n"
      ]
    },
    {
      "cell_type": "code",
      "metadata": {
        "id": "-5FQYPvDUwFR",
        "colab_type": "code",
        "colab": {}
      },
      "source": [
        "# draw random samples from same data set \n",
        "N = 50\n",
        "liver_patient = (df.loc[df['Dataset'] == 1])['Albumin_and_Globulin_Ratio']\n",
        "set_a = np.random.choice(list(liver_patient), N)\n",
        "set_b = np.random.choice(list(liver_patient), N)"
      ],
      "execution_count": 0,
      "outputs": []
    },
    {
      "cell_type": "code",
      "metadata": {
        "id": "oZtwhP7XWj7G",
        "colab_type": "code",
        "colab": {
          "base_uri": "https://localhost:8080/",
          "height": 51
        },
        "outputId": "e57c306c-9777-45e1-ca5a-6464a049a79f"
      },
      "source": [
        "set_a_mean = set_a.mean()\n",
        "set_b_mean = set_b.mean();\n",
        "\n",
        "alpha = 0.05\n",
        "degree_of_freedom = N - 1\n",
        "critical_value = t.ppf(1.0 - alpha, degree_of_freedom)\n",
        "\n",
        "print(\"Liver Patients A: Mean: {0}\".format(set_a_mean))\n",
        "print(\"Liver Patients B: Mean: {0}\".format(set_b_mean))"
      ],
      "execution_count": 65,
      "outputs": [
        {
          "output_type": "stream",
          "text": [
            "Liver Patients A: Mean: 0.9017999999999999\n",
            "Liver Patients B: Mean: 0.9398000000000001\n"
          ],
          "name": "stdout"
        }
      ]
    },
    {
      "cell_type": "code",
      "metadata": {
        "id": "ACqnQb3lVKel",
        "colab_type": "code",
        "colab": {}
      },
      "source": [
        "d1 = sum([(set_a[i] - set_b[i])**2 for i in range(N)])\n",
        "# sum difference between observations\n",
        "d2 = sum([set_a[i] - set_b[i] for i in range(N)])\n",
        "# standard deviation of the difference between means\n",
        "sd = np.sqrt((d1 - (d2**2 / N)) / (N - 1))\n",
        "# standard error of the difference between the means\n",
        "sed = sd / np.sqrt(N)\n",
        "# calculate the t statistic\n",
        "t_stat = (set_a_mean - set_b_mean) / sed"
      ],
      "execution_count": 0,
      "outputs": []
    },
    {
      "cell_type": "code",
      "metadata": {
        "id": "0ueLCD9lWbS0",
        "colab_type": "code",
        "colab": {
          "base_uri": "https://localhost:8080/",
          "height": 34
        },
        "outputId": "9769dd01-fea4-4b4c-ce89-a467e40fa810"
      },
      "source": [
        "if abs(t_stat) <= critical_value:\n",
        "\tprint('Accept null hypothesis, that the new medicine is effective')\n",
        "else:\n",
        "\tprint('Reject the null hypothesis, that the new medicine is not effective')"
      ],
      "execution_count": 68,
      "outputs": [
        {
          "output_type": "stream",
          "text": [
            "Accept null hypothesis, that the new medicine is effective\n"
          ],
          "name": "stdout"
        }
      ]
    },
    {
      "cell_type": "markdown",
      "metadata": {
        "colab_type": "text",
        "id": "n7rXmOAfz7t9"
      },
      "source": [
        "## Conclusion\n",
        "\n",
        "The student's t test can let you know if there is a significant difference in the means of the two sample groups and disprove the null hypothesis. Like all statistical tests, it cannot prove anything, as there is always a chance of experimental error occurring. But the test can support a hypothesis.\n",
        "\n",
        "However, it is still useful for measuring small sample populations and determining if there is a significant difference between the groups."
      ]
    },
    {
      "cell_type": "markdown",
      "metadata": {
        "colab_type": "text",
        "id": "jBzcWz4M0Fm0"
      },
      "source": [
        "## References / Acknowledgements"
      ]
    },
    {
      "cell_type": "markdown",
      "metadata": {
        "colab_type": "text",
        "id": "K1nm8ZcO0JUH"
      },
      "source": [
        "- Student’s t-Tests (Damir Kalpić, Nikica Hlupić, Miodrag Lovrić)\n",
        "- http://www.sthda.com/english/wiki/t-test-formula\n",
        "- https://en.wikipedia.org/wiki/Student%27s_t-test\n",
        "- https://www.youtube.com/watch?time_continue=3&v=fKZA5waOJ0U&feature=emb_title\n",
        "= https://www.researchgate.net/post/What_is_the_difference_between_the_t-Distribution_and_Normal_Distribution\n",
        "- https://explorable.com/students-t-test\n"
      ]
    },
    {
      "cell_type": "code",
      "metadata": {
        "id": "lpvC3yIYHum5",
        "colab_type": "code",
        "colab": {}
      },
      "source": [
        ""
      ],
      "execution_count": 0,
      "outputs": []
    }
  ]
}