{
 "cells": [
  {
   "cell_type": "markdown",
   "metadata": {
    "colab_type": "text",
    "id": "q5XnPEsm0phq"
   },
   "source": [
    "# Student's t-Test\n",
    "\n",
    "- Intro\n",
    "- Setup / Import\n",
    "- Data load:\n",
    "- Application\n",
    "- Conclusion\n",
    "- References / Acknowledgements"
   ]
  },
  {
   "cell_type": "markdown",
   "metadata": {
    "colab_type": "text",
    "id": "CdLByacoxqBU"
   },
   "source": [
    "## Intro\n",
    "\n",
    "Student’s t-tests are parametric tests based on the Student’s or t-distribution. Student’s distribution is named in honor of William Sealy Gosset (1876–1937), who first determined it in 1908. Gosset, “one of the most original minds in contemporary science” (Fisher 1939), was one of the best Oxford graduates in chemistry and mathematics in his generation. In 1899, he took up a job as a brewer at Arthur Guinness Son & Co, Ltd in Dublin, Ireland. Working for the Guinness brewery, he was interested in quality control based on small samples in various stages of the production process. Since Guinness prohibited its employees from publishing any papers to prevent disclosure of confidential information, Gosset had published his work under the pseudonym “Student” (the other possible pseudonym he was offered by the managing director La Touche was “Pupil,” see Box 1987,  p. 49), and his identity was not known for some time after the publication of his most famous achievements, so the distribution was named Student’s or t-distribution, leaving his name less well known than his important results in statistics. His, now, famous paper “The Probable Error of a Mean” published in Biometrika in 1908, where he introduced the t-test (initially he called it the z-test), was essentially ignored by most statisticians for more than 2 decades, since the “statistical community” was not interested in small samples (“only naughty brewers take n so small,” Karl Pearson writing to Gosset, September 17, 1912, quoted by E.S. Pearson 1939, p. 218). It was only R. Fisher who appreciated the importance of Gosset’s small-sample work, and who reconfigured and extended it to two independent samples, correlation and regression, and provided correct number of degrees of freedom. “It took the genius and drive of a Fisher to give Student’s work general currency” (Zabel 2008, p. 6); “The importance of 1908 article is due to what Fisher found there, not what Gosset placed there”\n",
    "\n",
    "#### Things \n",
    "\n",
    "- Student t-Test\n",
    "- Student t-Test dependent samples\n",
    "- Student t-Test independent samples\n",
    "- Application with real world dataset"
   ]
  },
  {
   "cell_type": "markdown",
   "metadata": {},
   "source": [
    "## Pseduo Understanding Of t-Test\n",
    "\n",
    "The test works by checking the means from two samples to see if they are significantly different from each other. It does this by calculating the standard error in the difference between means, which can be interpreted to see how likely the difference is, if the two samples have the same mean (the null hypothesis).\n",
    "\n",
    "The t statistic calculated by the test can be interpreted by comparing it to critical values from the t-distribution. The critical value can be calculated using the degrees of freedom and a significance level with the percent point function (PPF).\n",
    "\n",
    "We can interpret the statistic value in a two-tailed test, meaning that if we reject the null hypothesis, it could be because the first mean is smaller or greater than the second mean. To do this, we can calculate the absolute value of the test statistic and compare it to the positive (right tailed) critical value, as follows:\n",
    "\n",
    "- If abs(t-statistic) <= critical value: Accept null hypothesis that the means are equal.\n",
    "- If abs(t-statistic) > critical value: Reject the null hypothesis that the means are equal.\n",
    "\n",
    "We can also retrieve the cumulative probability of observing the absolute value of the t-statistic using the cumulative distribution function (CDF) of the t-distribution in order to calculate a p-value. The p-value can then be compared to a chosen significance level (alpha) such as 0.05 to determine if the null hypothesis can be rejected:\n",
    "\n",
    "- If p > alpha: Accept null hypothesis that the means are equal.\n",
    "- If p <= alpha: Reject null hypothesis that the means are equal.\n",
    "\n",
    "In working with the means of the samples, the test assumes that both samples were drawn from a Gaussian distribution. The test also assumes that the samples have the same variance, and the same size, although there are corrections to the test if these assumptions do not hold.\n",
    "\n",
    "\n",
    "There are two main versions of Student’s t-test:\n",
    "\n",
    "- Independent Samples. The case where the two samples are unrelated.\n",
    "- Dependent Samples. The case where the samples are related, such as repeated measures on the same population. Also called a paired test.\n",
    "\n",
    "Both the independent and the dependent Student’s t-tests are available in Python via the ttest_ind() and ttest_rel() SciPy functions respectively."
   ]
  },
  {
   "cell_type": "markdown",
   "metadata": {
    "colab_type": "text",
    "id": "EovComAJxr-0"
   },
   "source": [
    "## Setup / Import\n"
   ]
  },
  {
   "cell_type": "code",
   "execution_count": 23,
   "metadata": {
    "scrolled": true
   },
   "outputs": [
    {
     "name": "stdout",
     "output_type": "stream",
     "text": [
      "Requirement already satisfied: ipywidgets in /Users/abdullah/anaconda3/lib/python3.7/site-packages (7.5.0)\n",
      "Requirement already satisfied: nbformat>=4.2.0 in /Users/abdullah/anaconda3/lib/python3.7/site-packages (from ipywidgets) (4.4.0)\n",
      "Requirement already satisfied: traitlets>=4.3.1 in /Users/abdullah/anaconda3/lib/python3.7/site-packages (from ipywidgets) (4.3.2)\n",
      "Requirement already satisfied: widgetsnbextension~=3.5.0 in /Users/abdullah/anaconda3/lib/python3.7/site-packages (from ipywidgets) (3.5.0)\n",
      "Requirement already satisfied: ipython>=4.0.0; python_version >= \"3.3\" in /Users/abdullah/anaconda3/lib/python3.7/site-packages (from ipywidgets) (7.6.1)\n",
      "Requirement already satisfied: ipykernel>=4.5.1 in /Users/abdullah/anaconda3/lib/python3.7/site-packages (from ipywidgets) (5.1.1)\n",
      "Requirement already satisfied: jsonschema!=2.5.0,>=2.4 in /Users/abdullah/anaconda3/lib/python3.7/site-packages (from nbformat>=4.2.0->ipywidgets) (3.0.1)\n",
      "Requirement already satisfied: jupyter-core in /Users/abdullah/anaconda3/lib/python3.7/site-packages (from nbformat>=4.2.0->ipywidgets) (4.5.0)\n",
      "Requirement already satisfied: ipython-genutils in /Users/abdullah/anaconda3/lib/python3.7/site-packages (from nbformat>=4.2.0->ipywidgets) (0.2.0)\n",
      "Requirement already satisfied: decorator in /Users/abdullah/anaconda3/lib/python3.7/site-packages (from traitlets>=4.3.1->ipywidgets) (4.4.0)\n",
      "Requirement already satisfied: six in /Users/abdullah/anaconda3/lib/python3.7/site-packages (from traitlets>=4.3.1->ipywidgets) (1.12.0)\n",
      "Requirement already satisfied: notebook>=4.4.1 in /Users/abdullah/anaconda3/lib/python3.7/site-packages (from widgetsnbextension~=3.5.0->ipywidgets) (6.0.0)\n",
      "Requirement already satisfied: pexpect; sys_platform != \"win32\" in /Users/abdullah/anaconda3/lib/python3.7/site-packages (from ipython>=4.0.0; python_version >= \"3.3\"->ipywidgets) (4.7.0)\n",
      "Requirement already satisfied: pygments in /Users/abdullah/anaconda3/lib/python3.7/site-packages (from ipython>=4.0.0; python_version >= \"3.3\"->ipywidgets) (2.4.2)\n",
      "Requirement already satisfied: pickleshare in /Users/abdullah/anaconda3/lib/python3.7/site-packages (from ipython>=4.0.0; python_version >= \"3.3\"->ipywidgets) (0.7.5)\n",
      "Requirement already satisfied: backcall in /Users/abdullah/anaconda3/lib/python3.7/site-packages (from ipython>=4.0.0; python_version >= \"3.3\"->ipywidgets) (0.1.0)\n",
      "Requirement already satisfied: jedi>=0.10 in /Users/abdullah/anaconda3/lib/python3.7/site-packages (from ipython>=4.0.0; python_version >= \"3.3\"->ipywidgets) (0.13.3)\n",
      "Requirement already satisfied: appnope; sys_platform == \"darwin\" in /Users/abdullah/anaconda3/lib/python3.7/site-packages (from ipython>=4.0.0; python_version >= \"3.3\"->ipywidgets) (0.1.0)\n",
      "Requirement already satisfied: setuptools>=18.5 in /Users/abdullah/anaconda3/lib/python3.7/site-packages (from ipython>=4.0.0; python_version >= \"3.3\"->ipywidgets) (41.0.1)\n",
      "Requirement already satisfied: prompt-toolkit<2.1.0,>=2.0.0 in /Users/abdullah/anaconda3/lib/python3.7/site-packages (from ipython>=4.0.0; python_version >= \"3.3\"->ipywidgets) (2.0.9)\n",
      "Requirement already satisfied: tornado>=4.2 in /Users/abdullah/anaconda3/lib/python3.7/site-packages (from ipykernel>=4.5.1->ipywidgets) (6.0.3)\n",
      "Requirement already satisfied: jupyter-client in /Users/abdullah/anaconda3/lib/python3.7/site-packages (from ipykernel>=4.5.1->ipywidgets) (5.3.1)\n",
      "Requirement already satisfied: attrs>=17.4.0 in /Users/abdullah/anaconda3/lib/python3.7/site-packages (from jsonschema!=2.5.0,>=2.4->nbformat>=4.2.0->ipywidgets) (19.1.0)\n",
      "Requirement already satisfied: pyrsistent>=0.14.0 in /Users/abdullah/anaconda3/lib/python3.7/site-packages (from jsonschema!=2.5.0,>=2.4->nbformat>=4.2.0->ipywidgets) (0.14.11)\n",
      "Requirement already satisfied: prometheus-client in /Users/abdullah/anaconda3/lib/python3.7/site-packages (from notebook>=4.4.1->widgetsnbextension~=3.5.0->ipywidgets) (0.7.1)\n",
      "Requirement already satisfied: nbconvert in /Users/abdullah/anaconda3/lib/python3.7/site-packages (from notebook>=4.4.1->widgetsnbextension~=3.5.0->ipywidgets) (5.5.0)\n",
      "Requirement already satisfied: Send2Trash in /Users/abdullah/anaconda3/lib/python3.7/site-packages (from notebook>=4.4.1->widgetsnbextension~=3.5.0->ipywidgets) (1.5.0)\n",
      "Requirement already satisfied: pyzmq>=17 in /Users/abdullah/anaconda3/lib/python3.7/site-packages (from notebook>=4.4.1->widgetsnbextension~=3.5.0->ipywidgets) (18.0.0)\n",
      "Requirement already satisfied: terminado>=0.8.1 in /Users/abdullah/anaconda3/lib/python3.7/site-packages (from notebook>=4.4.1->widgetsnbextension~=3.5.0->ipywidgets) (0.8.2)\n",
      "Requirement already satisfied: jinja2 in /Users/abdullah/anaconda3/lib/python3.7/site-packages (from notebook>=4.4.1->widgetsnbextension~=3.5.0->ipywidgets) (2.10.1)\n",
      "Requirement already satisfied: ptyprocess>=0.5 in /Users/abdullah/anaconda3/lib/python3.7/site-packages (from pexpect; sys_platform != \"win32\"->ipython>=4.0.0; python_version >= \"3.3\"->ipywidgets) (0.6.0)\n",
      "Requirement already satisfied: parso>=0.3.0 in /Users/abdullah/anaconda3/lib/python3.7/site-packages (from jedi>=0.10->ipython>=4.0.0; python_version >= \"3.3\"->ipywidgets) (0.5.0)\n",
      "Requirement already satisfied: wcwidth in /Users/abdullah/anaconda3/lib/python3.7/site-packages (from prompt-toolkit<2.1.0,>=2.0.0->ipython>=4.0.0; python_version >= \"3.3\"->ipywidgets) (0.1.7)\n",
      "Requirement already satisfied: python-dateutil>=2.1 in /Users/abdullah/anaconda3/lib/python3.7/site-packages (from jupyter-client->ipykernel>=4.5.1->ipywidgets) (2.8.0)\n",
      "Requirement already satisfied: bleach in /Users/abdullah/anaconda3/lib/python3.7/site-packages (from nbconvert->notebook>=4.4.1->widgetsnbextension~=3.5.0->ipywidgets) (3.1.0)\n",
      "Requirement already satisfied: mistune>=0.8.1 in /Users/abdullah/anaconda3/lib/python3.7/site-packages (from nbconvert->notebook>=4.4.1->widgetsnbextension~=3.5.0->ipywidgets) (0.8.4)\n",
      "Requirement already satisfied: pandocfilters>=1.4.1 in /Users/abdullah/anaconda3/lib/python3.7/site-packages (from nbconvert->notebook>=4.4.1->widgetsnbextension~=3.5.0->ipywidgets) (1.4.2)\n",
      "Requirement already satisfied: defusedxml in /Users/abdullah/anaconda3/lib/python3.7/site-packages (from nbconvert->notebook>=4.4.1->widgetsnbextension~=3.5.0->ipywidgets) (0.6.0)\n",
      "Requirement already satisfied: entrypoints>=0.2.2 in /Users/abdullah/anaconda3/lib/python3.7/site-packages (from nbconvert->notebook>=4.4.1->widgetsnbextension~=3.5.0->ipywidgets) (0.3)\n",
      "Requirement already satisfied: testpath in /Users/abdullah/anaconda3/lib/python3.7/site-packages (from nbconvert->notebook>=4.4.1->widgetsnbextension~=3.5.0->ipywidgets) (0.4.2)\n",
      "Requirement already satisfied: MarkupSafe>=0.23 in /Users/abdullah/anaconda3/lib/python3.7/site-packages (from jinja2->notebook>=4.4.1->widgetsnbextension~=3.5.0->ipywidgets) (1.1.1)\n",
      "Requirement already satisfied: webencodings in /Users/abdullah/anaconda3/lib/python3.7/site-packages (from bleach->nbconvert->notebook>=4.4.1->widgetsnbextension~=3.5.0->ipywidgets) (0.5.1)\n",
      "Enabling notebook extension jupyter-js-widgets/extension...\n",
      "      - Validating: \u001b[32mOK\u001b[0m\n",
      "Requirement already satisfied: chart_studio in /Users/abdullah/anaconda3/lib/python3.7/site-packages (1.1.0)\n",
      "Requirement already satisfied: plotly in /Users/abdullah/anaconda3/lib/python3.7/site-packages (from chart_studio) (4.3.0)\n",
      "Requirement already satisfied: requests in /Users/abdullah/anaconda3/lib/python3.7/site-packages (from chart_studio) (2.22.0)\n",
      "Requirement already satisfied: retrying>=1.3.3 in /Users/abdullah/anaconda3/lib/python3.7/site-packages (from chart_studio) (1.3.3)\n",
      "Requirement already satisfied: six in /Users/abdullah/anaconda3/lib/python3.7/site-packages (from chart_studio) (1.12.0)\n",
      "Requirement already satisfied: urllib3!=1.25.0,!=1.25.1,<1.26,>=1.21.1 in /Users/abdullah/anaconda3/lib/python3.7/site-packages (from requests->chart_studio) (1.24.2)\n",
      "Requirement already satisfied: idna<2.9,>=2.5 in /Users/abdullah/anaconda3/lib/python3.7/site-packages (from requests->chart_studio) (2.8)\n",
      "Requirement already satisfied: chardet<3.1.0,>=3.0.2 in /Users/abdullah/anaconda3/lib/python3.7/site-packages (from requests->chart_studio) (3.0.4)\n",
      "Requirement already satisfied: certifi>=2017.4.17 in /Users/abdullah/anaconda3/lib/python3.7/site-packages (from requests->chart_studio) (2019.9.11)\n"
     ]
    }
   ],
   "source": [
    "! pip install ipywidgets\n",
    "! jupyter nbextension enable --py widgetsnbextension\n",
    "!pip install chart_studio\n",
    "\n",
    "\n",
    "import ipywidgets as widgets\n",
    "from ipywidgets import interact, interact_manual\n",
    "import pandas as pd\n",
    "from sklearn.datasets import load_boston\n",
    "import numpy as np\n",
    "import scipy\n",
    "from scipy.stats import t\n",
    "import matplotlib.pyplot as plt\n",
    "%matplotlib inline"
   ]
  },
  {
   "cell_type": "markdown",
   "metadata": {
    "colab_type": "text",
    "id": "9hI1xXAGzaNk"
   },
   "source": [
    "## Data load\n",
    "\n",
    "- Patients with Liver disease have been continuously increasing because of excessive consumption of alcohol, inhale of harmful gases, intake of contaminated food, pickles and drugs. This dataset was used to evaluate prediction algorithms in an effort to reduce burden on doctors."
   ]
  },
  {
   "cell_type": "code",
   "execution_count": 2,
   "metadata": {
    "colab": {},
    "colab_type": "code",
    "id": "Qiozktuj16i8"
   },
   "outputs": [],
   "source": [
    "path = 'Dataset/indian_liver_patient.csv'\n",
    "data = pd.read_csv(path)"
   ]
  },
  {
   "cell_type": "code",
   "execution_count": 3,
   "metadata": {
    "colab": {},
    "colab_type": "code",
    "id": "5djlAHrK2ETI"
   },
   "outputs": [],
   "source": [
    "df = data"
   ]
  },
  {
   "cell_type": "markdown",
   "metadata": {
    "colab_type": "text",
    "id": "jNm4a9nY23l2"
   },
   "source": [
    "`interact` [documentation](https://ipywidgets.readthedocs.io/en/stable/examples/Using%20Interact.html)"
   ]
  },
  {
   "cell_type": "code",
   "execution_count": 4,
   "metadata": {
    "colab": {
     "base_uri": "https://localhost:8080/",
     "height": 346,
     "referenced_widgets": [
      "78deccceb53245af90eda97143852178",
      "61d5e9831cb34c2692a2ba22ece4c283",
      "5e0136f6e5974ea8bfa8ebb43e3e9965",
      "054513f7880d4c6199dce00e4b3f6bf2",
      "4340b92901c24ca0a63e21255de472c0",
      "dfe79fe34a3e4a27a0c3cd08cfba4b43",
      "e87d4345292e4b9faa6ef1104261e520",
      "fdad9b76cc6043e68b8fc5763ce488c4",
      "7270459363f04d9883967d51840f86bf"
     ]
    },
    "colab_type": "code",
    "id": "KgTO1Out2ZEU",
    "outputId": "68276ef4-87a3-46b3-ef5e-05bad2b5236d"
   },
   "outputs": [
    {
     "data": {
      "application/vnd.jupyter.widget-view+json": {
       "model_id": "053b7960bdf540998f254c0cf55633c2",
       "version_major": 2,
       "version_minor": 0
      },
      "text/plain": [
       "interactive(children=(Dropdown(description='column', options=('Age', 'Gender', 'Total_Bilirubin', 'Direct_Bili…"
      ]
     },
     "metadata": {},
     "output_type": "display_data"
    }
   ],
   "source": [
    "@interact\n",
    "def show_articles_more_than(column=df.columns, x=20):\n",
    "    return df[column].loc[:x].hist()"
   ]
  },
  {
   "cell_type": "code",
   "execution_count": 5,
   "metadata": {},
   "outputs": [
    {
     "data": {
      "text/html": [
       "<div>\n",
       "<style scoped>\n",
       "    .dataframe tbody tr th:only-of-type {\n",
       "        vertical-align: middle;\n",
       "    }\n",
       "\n",
       "    .dataframe tbody tr th {\n",
       "        vertical-align: top;\n",
       "    }\n",
       "\n",
       "    .dataframe thead th {\n",
       "        text-align: right;\n",
       "    }\n",
       "</style>\n",
       "<table border=\"1\" class=\"dataframe\">\n",
       "  <thead>\n",
       "    <tr style=\"text-align: right;\">\n",
       "      <th></th>\n",
       "      <th>Age</th>\n",
       "      <th>Gender</th>\n",
       "      <th>Total_Bilirubin</th>\n",
       "      <th>Direct_Bilirubin</th>\n",
       "      <th>Alkaline_Phosphotase</th>\n",
       "      <th>Alamine_Aminotransferase</th>\n",
       "      <th>Aspartate_Aminotransferase</th>\n",
       "      <th>Total_Protiens</th>\n",
       "      <th>Albumin</th>\n",
       "      <th>Albumin_and_Globulin_Ratio</th>\n",
       "      <th>Dataset</th>\n",
       "    </tr>\n",
       "  </thead>\n",
       "  <tbody>\n",
       "    <tr>\n",
       "      <th>0</th>\n",
       "      <td>65</td>\n",
       "      <td>Female</td>\n",
       "      <td>0.7</td>\n",
       "      <td>0.1</td>\n",
       "      <td>187</td>\n",
       "      <td>16</td>\n",
       "      <td>18</td>\n",
       "      <td>6.8</td>\n",
       "      <td>3.3</td>\n",
       "      <td>0.90</td>\n",
       "      <td>1</td>\n",
       "    </tr>\n",
       "    <tr>\n",
       "      <th>1</th>\n",
       "      <td>62</td>\n",
       "      <td>Male</td>\n",
       "      <td>10.9</td>\n",
       "      <td>5.5</td>\n",
       "      <td>699</td>\n",
       "      <td>64</td>\n",
       "      <td>100</td>\n",
       "      <td>7.5</td>\n",
       "      <td>3.2</td>\n",
       "      <td>0.74</td>\n",
       "      <td>1</td>\n",
       "    </tr>\n",
       "    <tr>\n",
       "      <th>2</th>\n",
       "      <td>62</td>\n",
       "      <td>Male</td>\n",
       "      <td>7.3</td>\n",
       "      <td>4.1</td>\n",
       "      <td>490</td>\n",
       "      <td>60</td>\n",
       "      <td>68</td>\n",
       "      <td>7.0</td>\n",
       "      <td>3.3</td>\n",
       "      <td>0.89</td>\n",
       "      <td>1</td>\n",
       "    </tr>\n",
       "    <tr>\n",
       "      <th>3</th>\n",
       "      <td>58</td>\n",
       "      <td>Male</td>\n",
       "      <td>1.0</td>\n",
       "      <td>0.4</td>\n",
       "      <td>182</td>\n",
       "      <td>14</td>\n",
       "      <td>20</td>\n",
       "      <td>6.8</td>\n",
       "      <td>3.4</td>\n",
       "      <td>1.00</td>\n",
       "      <td>1</td>\n",
       "    </tr>\n",
       "    <tr>\n",
       "      <th>4</th>\n",
       "      <td>72</td>\n",
       "      <td>Male</td>\n",
       "      <td>3.9</td>\n",
       "      <td>2.0</td>\n",
       "      <td>195</td>\n",
       "      <td>27</td>\n",
       "      <td>59</td>\n",
       "      <td>7.3</td>\n",
       "      <td>2.4</td>\n",
       "      <td>0.40</td>\n",
       "      <td>1</td>\n",
       "    </tr>\n",
       "  </tbody>\n",
       "</table>\n",
       "</div>"
      ],
      "text/plain": [
       "   Age  Gender  Total_Bilirubin  Direct_Bilirubin  Alkaline_Phosphotase  \\\n",
       "0   65  Female              0.7               0.1                   187   \n",
       "1   62    Male             10.9               5.5                   699   \n",
       "2   62    Male              7.3               4.1                   490   \n",
       "3   58    Male              1.0               0.4                   182   \n",
       "4   72    Male              3.9               2.0                   195   \n",
       "\n",
       "   Alamine_Aminotransferase  Aspartate_Aminotransferase  Total_Protiens  \\\n",
       "0                        16                          18             6.8   \n",
       "1                        64                         100             7.5   \n",
       "2                        60                          68             7.0   \n",
       "3                        14                          20             6.8   \n",
       "4                        27                          59             7.3   \n",
       "\n",
       "   Albumin  Albumin_and_Globulin_Ratio  Dataset  \n",
       "0      3.3                        0.90        1  \n",
       "1      3.2                        0.74        1  \n",
       "2      3.3                        0.89        1  \n",
       "3      3.4                        1.00        1  \n",
       "4      2.4                        0.40        1  "
      ]
     },
     "execution_count": 5,
     "metadata": {},
     "output_type": "execute_result"
    }
   ],
   "source": [
    "df.head()"
   ]
  },
  {
   "cell_type": "markdown",
   "metadata": {
    "colab_type": "text",
    "id": "rh-gP7nSzp23"
   },
   "source": [
    "## Application"
   ]
  },
  {
   "cell_type": "code",
   "execution_count": 6,
   "metadata": {},
   "outputs": [],
   "source": [
    "liver_patient = (df.loc[df['Dataset'] == 1])['Albumin_and_Globulin_Ratio']\n",
    "non_liver_patient = (df.loc[df['Dataset'] == 2])['Albumin_and_Globulin_Ratio']"
   ]
  },
  {
   "cell_type": "code",
   "execution_count": 7,
   "metadata": {},
   "outputs": [
    {
     "name": "stdout",
     "output_type": "stream",
     "text": [
      "Liver Patients: Mean: 0.9141787439613527, Variance: 0.10637547402650555, Size: 416\n",
      "Non-liver Patients: Mean: 1.0295757575757576, Variance: 0.08251384331116045, Size: 167\n"
     ]
    }
   ],
   "source": [
    "lp_mean = liver_patient.mean()\n",
    "nlp_mean = non_liver_patient.mean();\n",
    "\n",
    "lp_variance = liver_patient.var()\n",
    "nlp_variance = non_liver_patient.var();\n",
    "\n",
    "lp_n = liver_patient.size\n",
    "nlp_n = non_liver_patient.size\n",
    "\n",
    "alpha = 0.05\n",
    "degree_of_freedom = nlp_n + lp_n - 2\n",
    "critical_value = t.ppf(1.0 - alpha, degree_of_freedom)\n",
    "\n",
    "print(\"Liver Patients: Mean: {0}, Variance: {1}, Size: {2}\".format(lp_mean, lp_variance, lp_n))\n",
    "print(\"Non-liver Patients: Mean: {0}, Variance: {1}, Size: {2}\".format(nlp_mean, nlp_variance, nlp_n))"
   ]
  },
  {
   "cell_type": "code",
   "execution_count": 9,
   "metadata": {},
   "outputs": [
    {
     "name": "stdout",
     "output_type": "stream",
     "text": [
      "Calculated T-Value: 4.214250644624419, Critical Value: 1.647480505562809\n"
     ]
    }
   ],
   "source": [
    "t_value = ( nlp_mean - lp_mean ) / np.sqrt( (nlp_variance / nlp_n ) + (lp_variance / lp_n) )\n",
    "\t\n",
    "# calculate the p-value\n",
    "print(\"Calculated T-Value: {0}, Critical Value: {1}\".format(t_value, critical_value))"
   ]
  },
  {
   "cell_type": "code",
   "execution_count": 31,
   "metadata": {},
   "outputs": [
    {
     "name": "stdout",
     "output_type": "stream",
     "text": [
      "Reject the null hypothesis that the means are equal.\n"
     ]
    }
   ],
   "source": [
    "# interpret via critical value\n",
    "if abs(t_value) <= critical_value:\n",
    "    print('Accept null hypothesis that the means are equal.')\n",
    "else:\n",
    "    print('Reject the null hypothesis that the means are equal.')\n"
   ]
  },
  {
   "cell_type": "markdown",
   "metadata": {
    "colab_type": "text",
    "id": "n7rXmOAfz7t9"
   },
   "source": [
    "## Conclusion\n",
    "\n",
    "- The Student’s t-test show whether it is likely to observe two samples given that the samples were drawn from the same population."
   ]
  },
  {
   "cell_type": "markdown",
   "metadata": {
    "colab_type": "text",
    "id": "jBzcWz4M0Fm0"
   },
   "source": [
    "## References / Acknowledgements"
   ]
  },
  {
   "cell_type": "markdown",
   "metadata": {
    "colab_type": "text",
    "id": "K1nm8ZcO0JUH"
   },
   "source": [
    "- Student’s t-Tests (Damir Kalpić, Nikica Hlupić, Miodrag Lovrić)\n",
    "- http://www.sthda.com/english/wiki/t-test-formula\n",
    "- https://en.wikipedia.org/wiki/Student%27s_t-test\n"
   ]
  },
  {
   "cell_type": "code",
   "execution_count": null,
   "metadata": {},
   "outputs": [],
   "source": []
  }
 ],
 "metadata": {
  "colab": {
   "collapsed_sections": [],
   "name": "[Template] Interactive Notebook.ipynb",
   "provenance": []
  },
  "kernelspec": {
   "display_name": "Python 3",
   "language": "python",
   "name": "python3"
  },
  "language_info": {
   "codemirror_mode": {
    "name": "ipython",
    "version": 3
   },
   "file_extension": ".py",
   "mimetype": "text/x-python",
   "name": "python",
   "nbconvert_exporter": "python",
   "pygments_lexer": "ipython3",
   "version": "3.7.3"
  },
  "widgets": {
   "application/vnd.jupyter.widget-state+json": {
    "054513f7880d4c6199dce00e4b3f6bf2": {
     "model_module": "@jupyter-widgets/controls",
     "model_name": "IntSliderModel",
     "state": {
      "_dom_classes": [],
      "_model_module": "@jupyter-widgets/controls",
      "_model_module_version": "1.5.0",
      "_model_name": "IntSliderModel",
      "_view_count": null,
      "_view_module": "@jupyter-widgets/controls",
      "_view_module_version": "1.5.0",
      "_view_name": "IntSliderView",
      "continuous_update": true,
      "description": "x",
      "description_tooltip": null,
      "disabled": false,
      "layout": "IPY_MODEL_7270459363f04d9883967d51840f86bf",
      "max": 60,
      "min": -20,
      "orientation": "horizontal",
      "readout": true,
      "readout_format": "d",
      "step": 1,
      "style": "IPY_MODEL_fdad9b76cc6043e68b8fc5763ce488c4",
      "value": 36
     }
    },
    "4340b92901c24ca0a63e21255de472c0": {
     "model_module": "@jupyter-widgets/output",
     "model_name": "OutputModel",
     "state": {
      "_dom_classes": [],
      "_model_module": "@jupyter-widgets/output",
      "_model_module_version": "1.0.0",
      "_model_name": "OutputModel",
      "_view_count": null,
      "_view_module": "@jupyter-widgets/output",
      "_view_module_version": "1.0.0",
      "_view_name": "OutputView",
      "layout": "IPY_MODEL_551e128d2afb4c46aa1cbe71ebb1086a",
      "msg_id": "",
      "outputs": [
       {
        "image/png": "iVBORw0KGgoAAAANSUhEUgAAAXAAAAD4CAYAAAD1jb0+AAAABHNCSVQICAgIfAhkiAAAAAlwSFlz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\n1nWzzWUAAAAASUVORK5CYII=\n",
        "metadata": {
         "tags": []
        },
        "output_type": "display_data",
        "text/plain": "<Figure size 432x288 with 1 Axes>"
       },
       {
        "metadata": {
         "tags": []
        },
        "output_type": "display_data",
        "text/plain": "<matplotlib.axes._subplots.AxesSubplot at 0x7f78a10e0668>"
       }
      ]
     }
    },
    "5e0136f6e5974ea8bfa8ebb43e3e9965": {
     "model_module": "@jupyter-widgets/controls",
     "model_name": "DropdownModel",
     "state": {
      "_dom_classes": [],
      "_model_module": "@jupyter-widgets/controls",
      "_model_module_version": "1.5.0",
      "_model_name": "DropdownModel",
      "_options_labels": [
       "CRIM",
       "ZN",
       "INDUS",
       "CHAS",
       "NOX",
       "RM",
       "AGE",
       "DIS",
       "RAD",
       "TAX",
       "PTRATIO",
       "B",
       "LSTAT"
      ],
      "_view_count": null,
      "_view_module": "@jupyter-widgets/controls",
      "_view_module_version": "1.5.0",
      "_view_name": "DropdownView",
      "description": "column",
      "description_tooltip": null,
      "disabled": false,
      "index": 10,
      "layout": "IPY_MODEL_e87d4345292e4b9faa6ef1104261e520",
      "style": "IPY_MODEL_dfe79fe34a3e4a27a0c3cd08cfba4b43"
     }
    },
    "61d5e9831cb34c2692a2ba22ece4c283": {
     "model_module": "@jupyter-widgets/base",
     "model_name": "LayoutModel",
     "state": {
      "_model_module": "@jupyter-widgets/base",
      "_model_module_version": "1.2.0",
      "_model_name": "LayoutModel",
      "_view_count": null,
      "_view_module": "@jupyter-widgets/base",
      "_view_module_version": "1.2.0",
      "_view_name": "LayoutView",
      "align_content": null,
      "align_items": null,
      "align_self": null,
      "border": null,
      "bottom": null,
      "display": null,
      "flex": null,
      "flex_flow": null,
      "grid_area": null,
      "grid_auto_columns": null,
      "grid_auto_flow": null,
      "grid_auto_rows": null,
      "grid_column": null,
      "grid_gap": null,
      "grid_row": null,
      "grid_template_areas": null,
      "grid_template_columns": null,
      "grid_template_rows": null,
      "height": null,
      "justify_content": null,
      "justify_items": null,
      "left": null,
      "margin": null,
      "max_height": null,
      "max_width": null,
      "min_height": null,
      "min_width": null,
      "object_fit": null,
      "object_position": null,
      "order": null,
      "overflow": null,
      "overflow_x": null,
      "overflow_y": null,
      "padding": null,
      "right": null,
      "top": null,
      "visibility": null,
      "width": null
     }
    },
    "7270459363f04d9883967d51840f86bf": {
     "model_module": "@jupyter-widgets/base",
     "model_name": "LayoutModel",
     "state": {
      "_model_module": "@jupyter-widgets/base",
      "_model_module_version": "1.2.0",
      "_model_name": "LayoutModel",
      "_view_count": null,
      "_view_module": "@jupyter-widgets/base",
      "_view_module_version": "1.2.0",
      "_view_name": "LayoutView",
      "align_content": null,
      "align_items": null,
      "align_self": null,
      "border": null,
      "bottom": null,
      "display": null,
      "flex": null,
      "flex_flow": null,
      "grid_area": null,
      "grid_auto_columns": null,
      "grid_auto_flow": null,
      "grid_auto_rows": null,
      "grid_column": null,
      "grid_gap": null,
      "grid_row": null,
      "grid_template_areas": null,
      "grid_template_columns": null,
      "grid_template_rows": null,
      "height": null,
      "justify_content": null,
      "justify_items": null,
      "left": null,
      "margin": null,
      "max_height": null,
      "max_width": null,
      "min_height": null,
      "min_width": null,
      "object_fit": null,
      "object_position": null,
      "order": null,
      "overflow": null,
      "overflow_x": null,
      "overflow_y": null,
      "padding": null,
      "right": null,
      "top": null,
      "visibility": null,
      "width": null
     }
    },
    "78deccceb53245af90eda97143852178": {
     "model_module": "@jupyter-widgets/controls",
     "model_name": "VBoxModel",
     "state": {
      "_dom_classes": [
       "widget-interact"
      ],
      "_model_module": "@jupyter-widgets/controls",
      "_model_module_version": "1.5.0",
      "_model_name": "VBoxModel",
      "_view_count": null,
      "_view_module": "@jupyter-widgets/controls",
      "_view_module_version": "1.5.0",
      "_view_name": "VBoxView",
      "box_style": "",
      "children": [
       "IPY_MODEL_5e0136f6e5974ea8bfa8ebb43e3e9965",
       "IPY_MODEL_054513f7880d4c6199dce00e4b3f6bf2",
       "IPY_MODEL_4340b92901c24ca0a63e21255de472c0"
      ],
      "layout": "IPY_MODEL_61d5e9831cb34c2692a2ba22ece4c283"
     }
    },
    "dfe79fe34a3e4a27a0c3cd08cfba4b43": {
     "model_module": "@jupyter-widgets/controls",
     "model_name": "DescriptionStyleModel",
     "state": {
      "_model_module": "@jupyter-widgets/controls",
      "_model_module_version": "1.5.0",
      "_model_name": "DescriptionStyleModel",
      "_view_count": null,
      "_view_module": "@jupyter-widgets/base",
      "_view_module_version": "1.2.0",
      "_view_name": "StyleView",
      "description_width": ""
     }
    },
    "e87d4345292e4b9faa6ef1104261e520": {
     "model_module": "@jupyter-widgets/base",
     "model_name": "LayoutModel",
     "state": {
      "_model_module": "@jupyter-widgets/base",
      "_model_module_version": "1.2.0",
      "_model_name": "LayoutModel",
      "_view_count": null,
      "_view_module": "@jupyter-widgets/base",
      "_view_module_version": "1.2.0",
      "_view_name": "LayoutView",
      "align_content": null,
      "align_items": null,
      "align_self": null,
      "border": null,
      "bottom": null,
      "display": null,
      "flex": null,
      "flex_flow": null,
      "grid_area": null,
      "grid_auto_columns": null,
      "grid_auto_flow": null,
      "grid_auto_rows": null,
      "grid_column": null,
      "grid_gap": null,
      "grid_row": null,
      "grid_template_areas": null,
      "grid_template_columns": null,
      "grid_template_rows": null,
      "height": null,
      "justify_content": null,
      "justify_items": null,
      "left": null,
      "margin": null,
      "max_height": null,
      "max_width": null,
      "min_height": null,
      "min_width": null,
      "object_fit": null,
      "object_position": null,
      "order": null,
      "overflow": null,
      "overflow_x": null,
      "overflow_y": null,
      "padding": null,
      "right": null,
      "top": null,
      "visibility": null,
      "width": null
     }
    },
    "fdad9b76cc6043e68b8fc5763ce488c4": {
     "model_module": "@jupyter-widgets/controls",
     "model_name": "SliderStyleModel",
     "state": {
      "_model_module": "@jupyter-widgets/controls",
      "_model_module_version": "1.5.0",
      "_model_name": "SliderStyleModel",
      "_view_count": null,
      "_view_module": "@jupyter-widgets/base",
      "_view_module_version": "1.2.0",
      "_view_name": "StyleView",
      "description_width": "",
      "handle_color": null
     }
    }
   }
  }
 },
 "nbformat": 4,
 "nbformat_minor": 1
}
