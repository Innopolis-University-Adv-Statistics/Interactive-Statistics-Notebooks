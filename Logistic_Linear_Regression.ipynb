{
  "nbformat": 4,
  "nbformat_minor": 0,
  "metadata": {
    "colab": {
      "name": "Logistic/Linear Regression.ipynb",
      "provenance": [],
      "collapsed_sections": [],
      "include_colab_link": true
    },
    "kernelspec": {
      "name": "python3",
      "display_name": "Python 3"
    },
    "widgets": {
      "application/vnd.jupyter.widget-state+json": {
        "12798d7344c2431e9af7cbceaed4ad19": {
          "model_module": "@jupyter-widgets/controls",
          "model_name": "VBoxModel",
          "state": {
            "_view_name": "VBoxView",
            "_dom_classes": [
              "widget-interact"
            ],
            "_model_name": "VBoxModel",
            "_view_module": "@jupyter-widgets/controls",
            "_model_module_version": "1.5.0",
            "_view_count": null,
            "_view_module_version": "1.5.0",
            "box_style": "",
            "layout": "IPY_MODEL_c59fb1c883f248d3b9b127b4ab720637",
            "_model_module": "@jupyter-widgets/controls",
            "children": [
              "IPY_MODEL_91673af94790484d94c624ec9de9830a",
              "IPY_MODEL_e5496bcf2add496191e545746f18a939",
              "IPY_MODEL_39e5d39fad58492aab63826a06a69867"
            ]
          }
        },
        "c59fb1c883f248d3b9b127b4ab720637": {
          "model_module": "@jupyter-widgets/base",
          "model_name": "LayoutModel",
          "state": {
            "_view_name": "LayoutView",
            "grid_template_rows": null,
            "right": null,
            "justify_content": null,
            "_view_module": "@jupyter-widgets/base",
            "overflow": null,
            "_model_module_version": "1.2.0",
            "_view_count": null,
            "flex_flow": null,
            "width": null,
            "min_width": null,
            "border": null,
            "align_items": null,
            "bottom": null,
            "_model_module": "@jupyter-widgets/base",
            "top": null,
            "grid_column": null,
            "overflow_y": null,
            "overflow_x": null,
            "grid_auto_flow": null,
            "grid_area": null,
            "grid_template_columns": null,
            "flex": null,
            "_model_name": "LayoutModel",
            "justify_items": null,
            "grid_row": null,
            "max_height": null,
            "align_content": null,
            "visibility": null,
            "align_self": null,
            "height": null,
            "min_height": null,
            "padding": null,
            "grid_auto_rows": null,
            "grid_gap": null,
            "max_width": null,
            "order": null,
            "_view_module_version": "1.2.0",
            "grid_template_areas": null,
            "object_position": null,
            "object_fit": null,
            "grid_auto_columns": null,
            "margin": null,
            "display": null,
            "left": null
          }
        },
        "91673af94790484d94c624ec9de9830a": {
          "model_module": "@jupyter-widgets/controls",
          "model_name": "DropdownModel",
          "state": {
            "_options_labels": [
              "age",
              "sex",
              "bmi",
              "bp",
              "s1",
              "s2",
              "s3",
              "s4",
              "s5",
              "s6"
            ],
            "_view_name": "DropdownView",
            "style": "IPY_MODEL_938b904083e840f18d30c17f8a8970b7",
            "_dom_classes": [],
            "description": "column",
            "_model_name": "DropdownModel",
            "index": 0,
            "_view_module": "@jupyter-widgets/controls",
            "_model_module_version": "1.5.0",
            "_view_count": null,
            "disabled": false,
            "_view_module_version": "1.5.0",
            "description_tooltip": null,
            "_model_module": "@jupyter-widgets/controls",
            "layout": "IPY_MODEL_f0bc54b5aa3340c6a003e3ce7d1efcba"
          }
        },
        "e5496bcf2add496191e545746f18a939": {
          "model_module": "@jupyter-widgets/controls",
          "model_name": "IntSliderModel",
          "state": {
            "_view_name": "IntSliderView",
            "style": "IPY_MODEL_2c28dfe189ca4202996c3e1b8a0b22e6",
            "_dom_classes": [],
            "description": "x",
            "step": 1,
            "_model_name": "IntSliderModel",
            "orientation": "horizontal",
            "max": 60,
            "_view_module": "@jupyter-widgets/controls",
            "_model_module_version": "1.5.0",
            "value": 20,
            "_view_count": null,
            "disabled": false,
            "_view_module_version": "1.5.0",
            "min": -20,
            "continuous_update": true,
            "readout_format": "d",
            "description_tooltip": null,
            "readout": true,
            "_model_module": "@jupyter-widgets/controls",
            "layout": "IPY_MODEL_ec59729a3b1f4b15bc6fb68fb4e13a03"
          }
        },
        "39e5d39fad58492aab63826a06a69867": {
          "model_module": "@jupyter-widgets/output",
          "model_name": "OutputModel",
          "state": {
            "_view_name": "OutputView",
            "msg_id": "",
            "_dom_classes": [],
            "_model_name": "OutputModel",
            "outputs": [
              {
                "output_type": "display_data",
                "metadata": {
                  "tags": []
                },
                "image/png": "iVBORw0KGgoAAAANSUhEUgAAAXQAAAD4CAYAAAD8Zh1EAAAABHNCSVQICAgIfAhkiAAAAAlwSFlz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\nZAAAAABJRU5ErkJggg==\n",
                "text/plain": "<Figure size 432x288 with 1 Axes>"
              },
              {
                "output_type": "display_data",
                "metadata": {
                  "tags": []
                },
                "text/plain": "<matplotlib.axes._subplots.AxesSubplot at 0x7fec59be7d30>"
              }
            ],
            "_view_module": "@jupyter-widgets/output",
            "_model_module_version": "1.0.0",
            "_view_count": null,
            "_view_module_version": "1.0.0",
            "layout": "IPY_MODEL_8da9dba1a5554b5cb72580237c0a0992",
            "_model_module": "@jupyter-widgets/output"
          }
        },
        "938b904083e840f18d30c17f8a8970b7": {
          "model_module": "@jupyter-widgets/controls",
          "model_name": "DescriptionStyleModel",
          "state": {
            "_view_name": "StyleView",
            "_model_name": "DescriptionStyleModel",
            "description_width": "",
            "_view_module": "@jupyter-widgets/base",
            "_model_module_version": "1.5.0",
            "_view_count": null,
            "_view_module_version": "1.2.0",
            "_model_module": "@jupyter-widgets/controls"
          }
        },
        "f0bc54b5aa3340c6a003e3ce7d1efcba": {
          "model_module": "@jupyter-widgets/base",
          "model_name": "LayoutModel",
          "state": {
            "_view_name": "LayoutView",
            "grid_template_rows": null,
            "right": null,
            "justify_content": null,
            "_view_module": "@jupyter-widgets/base",
            "overflow": null,
            "_model_module_version": "1.2.0",
            "_view_count": null,
            "flex_flow": null,
            "width": null,
            "min_width": null,
            "border": null,
            "align_items": null,
            "bottom": null,
            "_model_module": "@jupyter-widgets/base",
            "top": null,
            "grid_column": null,
            "overflow_y": null,
            "overflow_x": null,
            "grid_auto_flow": null,
            "grid_area": null,
            "grid_template_columns": null,
            "flex": null,
            "_model_name": "LayoutModel",
            "justify_items": null,
            "grid_row": null,
            "max_height": null,
            "align_content": null,
            "visibility": null,
            "align_self": null,
            "height": null,
            "min_height": null,
            "padding": null,
            "grid_auto_rows": null,
            "grid_gap": null,
            "max_width": null,
            "order": null,
            "_view_module_version": "1.2.0",
            "grid_template_areas": null,
            "object_position": null,
            "object_fit": null,
            "grid_auto_columns": null,
            "margin": null,
            "display": null,
            "left": null
          }
        },
        "2c28dfe189ca4202996c3e1b8a0b22e6": {
          "model_module": "@jupyter-widgets/controls",
          "model_name": "SliderStyleModel",
          "state": {
            "_view_name": "StyleView",
            "handle_color": null,
            "_model_name": "SliderStyleModel",
            "description_width": "",
            "_view_module": "@jupyter-widgets/base",
            "_model_module_version": "1.5.0",
            "_view_count": null,
            "_view_module_version": "1.2.0",
            "_model_module": "@jupyter-widgets/controls"
          }
        },
        "ec59729a3b1f4b15bc6fb68fb4e13a03": {
          "model_module": "@jupyter-widgets/base",
          "model_name": "LayoutModel",
          "state": {
            "_view_name": "LayoutView",
            "grid_template_rows": null,
            "right": null,
            "justify_content": null,
            "_view_module": "@jupyter-widgets/base",
            "overflow": null,
            "_model_module_version": "1.2.0",
            "_view_count": null,
            "flex_flow": null,
            "width": null,
            "min_width": null,
            "border": null,
            "align_items": null,
            "bottom": null,
            "_model_module": "@jupyter-widgets/base",
            "top": null,
            "grid_column": null,
            "overflow_y": null,
            "overflow_x": null,
            "grid_auto_flow": null,
            "grid_area": null,
            "grid_template_columns": null,
            "flex": null,
            "_model_name": "LayoutModel",
            "justify_items": null,
            "grid_row": null,
            "max_height": null,
            "align_content": null,
            "visibility": null,
            "align_self": null,
            "height": null,
            "min_height": null,
            "padding": null,
            "grid_auto_rows": null,
            "grid_gap": null,
            "max_width": null,
            "order": null,
            "_view_module_version": "1.2.0",
            "grid_template_areas": null,
            "object_position": null,
            "object_fit": null,
            "grid_auto_columns": null,
            "margin": null,
            "display": null,
            "left": null
          }
        },
        "35d5905d8dd74d2ca9cebfdd753c0ed3": {
          "model_module": "@jupyter-widgets/controls",
          "model_name": "VBoxModel",
          "state": {
            "_view_name": "VBoxView",
            "_dom_classes": [
              "widget-interact"
            ],
            "_model_name": "VBoxModel",
            "_view_module": "@jupyter-widgets/controls",
            "_model_module_version": "1.5.0",
            "_view_count": null,
            "_view_module_version": "1.5.0",
            "box_style": "",
            "layout": "IPY_MODEL_989192dc5cd64e79983f0d490b1bade7",
            "_model_module": "@jupyter-widgets/controls",
            "children": [
              "IPY_MODEL_52c09332f93c43c3b51a70396dd034e7",
              "IPY_MODEL_028b0795c585467bb4958fbd321521b1",
              "IPY_MODEL_9b20f331a2e942a8a187b9cd46308972"
            ]
          }
        },
        "989192dc5cd64e79983f0d490b1bade7": {
          "model_module": "@jupyter-widgets/base",
          "model_name": "LayoutModel",
          "state": {
            "_view_name": "LayoutView",
            "grid_template_rows": null,
            "right": null,
            "justify_content": null,
            "_view_module": "@jupyter-widgets/base",
            "overflow": null,
            "_model_module_version": "1.2.0",
            "_view_count": null,
            "flex_flow": null,
            "width": null,
            "min_width": null,
            "border": null,
            "align_items": null,
            "bottom": null,
            "_model_module": "@jupyter-widgets/base",
            "top": null,
            "grid_column": null,
            "overflow_y": null,
            "overflow_x": null,
            "grid_auto_flow": null,
            "grid_area": null,
            "grid_template_columns": null,
            "flex": null,
            "_model_name": "LayoutModel",
            "justify_items": null,
            "grid_row": null,
            "max_height": null,
            "align_content": null,
            "visibility": null,
            "align_self": null,
            "height": null,
            "min_height": null,
            "padding": null,
            "grid_auto_rows": null,
            "grid_gap": null,
            "max_width": null,
            "order": null,
            "_view_module_version": "1.2.0",
            "grid_template_areas": null,
            "object_position": null,
            "object_fit": null,
            "grid_auto_columns": null,
            "margin": null,
            "display": null,
            "left": null
          }
        },
        "52c09332f93c43c3b51a70396dd034e7": {
          "model_module": "@jupyter-widgets/controls",
          "model_name": "DropdownModel",
          "state": {
            "_options_labels": [
              "sepal length (cm)",
              "sepal width (cm)",
              "petal length (cm)",
              "petal width (cm)"
            ],
            "_view_name": "DropdownView",
            "style": "IPY_MODEL_2bf6da8c0d624735a48b64910b164a99",
            "_dom_classes": [],
            "description": "column",
            "_model_name": "DropdownModel",
            "index": 1,
            "_view_module": "@jupyter-widgets/controls",
            "_model_module_version": "1.5.0",
            "_view_count": null,
            "disabled": false,
            "_view_module_version": "1.5.0",
            "description_tooltip": null,
            "_model_module": "@jupyter-widgets/controls",
            "layout": "IPY_MODEL_acc67bee79fe457592ee58a0da9b6525"
          }
        },
        "028b0795c585467bb4958fbd321521b1": {
          "model_module": "@jupyter-widgets/controls",
          "model_name": "IntSliderModel",
          "state": {
            "_view_name": "IntSliderView",
            "style": "IPY_MODEL_ee177a0f2dce4a5ea317d403f2b27f37",
            "_dom_classes": [],
            "description": "x",
            "step": 1,
            "_model_name": "IntSliderModel",
            "orientation": "horizontal",
            "max": 60,
            "_view_module": "@jupyter-widgets/controls",
            "_model_module_version": "1.5.0",
            "value": 20,
            "_view_count": null,
            "disabled": false,
            "_view_module_version": "1.5.0",
            "min": -20,
            "continuous_update": true,
            "readout_format": "d",
            "description_tooltip": null,
            "readout": true,
            "_model_module": "@jupyter-widgets/controls",
            "layout": "IPY_MODEL_f7e924d9a3da4efbb7f0a3550be868d7"
          }
        },
        "9b20f331a2e942a8a187b9cd46308972": {
          "model_module": "@jupyter-widgets/output",
          "model_name": "OutputModel",
          "state": {
            "_view_name": "OutputView",
            "msg_id": "",
            "_dom_classes": [],
            "_model_name": "OutputModel",
            "outputs": [
              {
                "output_type": "display_data",
                "metadata": {
                  "tags": []
                },
                "image/png": "iVBORw0KGgoAAAANSUhEUgAAAXQAAAD4CAYAAAD8Zh1EAAAABHNCSVQICAgIfAhkiAAAAAlwSFlz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\nFGIBiXFUAAAAAElFTkSuQmCC\n",
                "text/plain": "<Figure size 432x288 with 1 Axes>"
              },
              {
                "output_type": "display_data",
                "metadata": {
                  "tags": []
                },
                "text/plain": "<matplotlib.axes._subplots.AxesSubplot at 0x7fec594e2b70>"
              }
            ],
            "_view_module": "@jupyter-widgets/output",
            "_model_module_version": "1.0.0",
            "_view_count": null,
            "_view_module_version": "1.0.0",
            "layout": "IPY_MODEL_2b575b6356334af985b21bb29cdd0c21",
            "_model_module": "@jupyter-widgets/output"
          }
        },
        "2bf6da8c0d624735a48b64910b164a99": {
          "model_module": "@jupyter-widgets/controls",
          "model_name": "DescriptionStyleModel",
          "state": {
            "_view_name": "StyleView",
            "_model_name": "DescriptionStyleModel",
            "description_width": "",
            "_view_module": "@jupyter-widgets/base",
            "_model_module_version": "1.5.0",
            "_view_count": null,
            "_view_module_version": "1.2.0",
            "_model_module": "@jupyter-widgets/controls"
          }
        },
        "acc67bee79fe457592ee58a0da9b6525": {
          "model_module": "@jupyter-widgets/base",
          "model_name": "LayoutModel",
          "state": {
            "_view_name": "LayoutView",
            "grid_template_rows": null,
            "right": null,
            "justify_content": null,
            "_view_module": "@jupyter-widgets/base",
            "overflow": null,
            "_model_module_version": "1.2.0",
            "_view_count": null,
            "flex_flow": null,
            "width": null,
            "min_width": null,
            "border": null,
            "align_items": null,
            "bottom": null,
            "_model_module": "@jupyter-widgets/base",
            "top": null,
            "grid_column": null,
            "overflow_y": null,
            "overflow_x": null,
            "grid_auto_flow": null,
            "grid_area": null,
            "grid_template_columns": null,
            "flex": null,
            "_model_name": "LayoutModel",
            "justify_items": null,
            "grid_row": null,
            "max_height": null,
            "align_content": null,
            "visibility": null,
            "align_self": null,
            "height": null,
            "min_height": null,
            "padding": null,
            "grid_auto_rows": null,
            "grid_gap": null,
            "max_width": null,
            "order": null,
            "_view_module_version": "1.2.0",
            "grid_template_areas": null,
            "object_position": null,
            "object_fit": null,
            "grid_auto_columns": null,
            "margin": null,
            "display": null,
            "left": null
          }
        },
        "ee177a0f2dce4a5ea317d403f2b27f37": {
          "model_module": "@jupyter-widgets/controls",
          "model_name": "SliderStyleModel",
          "state": {
            "_view_name": "StyleView",
            "handle_color": null,
            "_model_name": "SliderStyleModel",
            "description_width": "",
            "_view_module": "@jupyter-widgets/base",
            "_model_module_version": "1.5.0",
            "_view_count": null,
            "_view_module_version": "1.2.0",
            "_model_module": "@jupyter-widgets/controls"
          }
        },
        "f7e924d9a3da4efbb7f0a3550be868d7": {
          "model_module": "@jupyter-widgets/base",
          "model_name": "LayoutModel",
          "state": {
            "_view_name": "LayoutView",
            "grid_template_rows": null,
            "right": null,
            "justify_content": null,
            "_view_module": "@jupyter-widgets/base",
            "overflow": null,
            "_model_module_version": "1.2.0",
            "_view_count": null,
            "flex_flow": null,
            "width": null,
            "min_width": null,
            "border": null,
            "align_items": null,
            "bottom": null,
            "_model_module": "@jupyter-widgets/base",
            "top": null,
            "grid_column": null,
            "overflow_y": null,
            "overflow_x": null,
            "grid_auto_flow": null,
            "grid_area": null,
            "grid_template_columns": null,
            "flex": null,
            "_model_name": "LayoutModel",
            "justify_items": null,
            "grid_row": null,
            "max_height": null,
            "align_content": null,
            "visibility": null,
            "align_self": null,
            "height": null,
            "min_height": null,
            "padding": null,
            "grid_auto_rows": null,
            "grid_gap": null,
            "max_width": null,
            "order": null,
            "_view_module_version": "1.2.0",
            "grid_template_areas": null,
            "object_position": null,
            "object_fit": null,
            "grid_auto_columns": null,
            "margin": null,
            "display": null,
            "left": null
          }
        }
      }
    }
  },
  "cells": [
    {
      "cell_type": "markdown",
      "metadata": {
        "id": "view-in-github",
        "colab_type": "text"
      },
      "source": [
        "<a href=\"https://colab.research.google.com/github/ZamiraKholmatova/Interactive-Statistics-Notebooks/blob/master/Logistic_Linear_Regression.ipynb\" target=\"_parent\"><img src=\"https://colab.research.google.com/assets/colab-badge.svg\" alt=\"Open In Colab\"/></a>"
      ]
    },
    {
      "cell_type": "markdown",
      "metadata": {
        "id": "ITC684n6xm2f",
        "colab_type": "text"
      },
      "source": [
        "# Linear and logistic regression\n",
        "\n",
        "- Intro\n",
        "- Setup\n",
        "- Data load:\n",
        "  - Data for linear regression\n",
        "  - Data for logistic regression\n",
        "- Application:\n",
        "  - Linear regression example\n",
        "  - Logistic regression example\n",
        "- Conclusion\n",
        "- References / Acknowledgements"
      ]
    },
    {
      "cell_type": "markdown",
      "metadata": {
        "id": "CdLByacoxqBU",
        "colab_type": "text"
      },
      "source": [
        "## Intro\n",
        "\n",
        "In this notebook we will cover two simple approaches for supervised learning. The linear regression is used for predicting a quantitative response,while the logistic regression is a tool for predicting a binary dependent variable."
      ]
    },
    {
      "cell_type": "markdown",
      "metadata": {
        "id": "EovComAJxr-0",
        "colab_type": "text"
      },
      "source": [
        "## Setup\n",
        "Here we can see packages to install."
      ]
    },
    {
      "cell_type": "code",
      "metadata": {
        "id": "evAoT3-gD0O0",
        "colab_type": "code",
        "outputId": "0f999776-20ca-4375-b4d6-c5fda28ea13e",
        "colab": {
          "base_uri": "https://localhost:8080/",
          "height": 646
        }
      },
      "source": [
        "! pip install ipywidgets\n",
        "! jupyter nbextension enable --py widgetsnbextension\n",
        "\n",
        "import ipywidgets as widgets\n",
        "from ipywidgets import interact, interact_manual"
      ],
      "execution_count": 0,
      "outputs": [
        {
          "output_type": "stream",
          "text": [
            "Requirement already satisfied: ipywidgets in /usr/local/lib/python3.6/dist-packages (7.5.1)\n",
            "Requirement already satisfied: nbformat>=4.2.0 in /usr/local/lib/python3.6/dist-packages (from ipywidgets) (5.0.4)\n",
            "Requirement already satisfied: widgetsnbextension~=3.5.0 in /usr/local/lib/python3.6/dist-packages (from ipywidgets) (3.5.1)\n",
            "Requirement already satisfied: traitlets>=4.3.1 in /usr/local/lib/python3.6/dist-packages (from ipywidgets) (4.3.3)\n",
            "Requirement already satisfied: ipykernel>=4.5.1 in /usr/local/lib/python3.6/dist-packages (from ipywidgets) (4.6.1)\n",
            "Requirement already satisfied: ipython>=4.0.0; python_version >= \"3.3\" in /usr/local/lib/python3.6/dist-packages (from ipywidgets) (5.5.0)\n",
            "Requirement already satisfied: jupyter-core in /usr/local/lib/python3.6/dist-packages (from nbformat>=4.2.0->ipywidgets) (4.6.3)\n",
            "Requirement already satisfied: ipython-genutils in /usr/local/lib/python3.6/dist-packages (from nbformat>=4.2.0->ipywidgets) (0.2.0)\n",
            "Requirement already satisfied: jsonschema!=2.5.0,>=2.4 in /usr/local/lib/python3.6/dist-packages (from nbformat>=4.2.0->ipywidgets) (2.6.0)\n",
            "Requirement already satisfied: notebook>=4.4.1 in /usr/local/lib/python3.6/dist-packages (from widgetsnbextension~=3.5.0->ipywidgets) (5.2.2)\n",
            "Requirement already satisfied: six in /usr/local/lib/python3.6/dist-packages (from traitlets>=4.3.1->ipywidgets) (1.12.0)\n",
            "Requirement already satisfied: decorator in /usr/local/lib/python3.6/dist-packages (from traitlets>=4.3.1->ipywidgets) (4.4.2)\n",
            "Requirement already satisfied: jupyter-client in /usr/local/lib/python3.6/dist-packages (from ipykernel>=4.5.1->ipywidgets) (5.3.4)\n",
            "Requirement already satisfied: tornado>=4.0 in /usr/local/lib/python3.6/dist-packages (from ipykernel>=4.5.1->ipywidgets) (4.5.3)\n",
            "Requirement already satisfied: pickleshare in /usr/local/lib/python3.6/dist-packages (from ipython>=4.0.0; python_version >= \"3.3\"->ipywidgets) (0.7.5)\n",
            "Requirement already satisfied: setuptools>=18.5 in /usr/local/lib/python3.6/dist-packages (from ipython>=4.0.0; python_version >= \"3.3\"->ipywidgets) (46.0.0)\n",
            "Requirement already satisfied: simplegeneric>0.8 in /usr/local/lib/python3.6/dist-packages (from ipython>=4.0.0; python_version >= \"3.3\"->ipywidgets) (0.8.1)\n",
            "Requirement already satisfied: prompt-toolkit<2.0.0,>=1.0.4 in /usr/local/lib/python3.6/dist-packages (from ipython>=4.0.0; python_version >= \"3.3\"->ipywidgets) (1.0.18)\n",
            "Requirement already satisfied: pygments in /usr/local/lib/python3.6/dist-packages (from ipython>=4.0.0; python_version >= \"3.3\"->ipywidgets) (2.1.3)\n",
            "Requirement already satisfied: pexpect; sys_platform != \"win32\" in /usr/local/lib/python3.6/dist-packages (from ipython>=4.0.0; python_version >= \"3.3\"->ipywidgets) (4.8.0)\n",
            "Requirement already satisfied: nbconvert in /usr/local/lib/python3.6/dist-packages (from notebook>=4.4.1->widgetsnbextension~=3.5.0->ipywidgets) (5.6.1)\n",
            "Requirement already satisfied: terminado>=0.3.3; sys_platform != \"win32\" in /usr/local/lib/python3.6/dist-packages (from notebook>=4.4.1->widgetsnbextension~=3.5.0->ipywidgets) (0.8.3)\n",
            "Requirement already satisfied: jinja2 in /usr/local/lib/python3.6/dist-packages (from notebook>=4.4.1->widgetsnbextension~=3.5.0->ipywidgets) (2.11.1)\n",
            "Requirement already satisfied: pyzmq>=13 in /usr/local/lib/python3.6/dist-packages (from jupyter-client->ipykernel>=4.5.1->ipywidgets) (17.0.0)\n",
            "Requirement already satisfied: python-dateutil>=2.1 in /usr/local/lib/python3.6/dist-packages (from jupyter-client->ipykernel>=4.5.1->ipywidgets) (2.8.1)\n",
            "Requirement already satisfied: wcwidth in /usr/local/lib/python3.6/dist-packages (from prompt-toolkit<2.0.0,>=1.0.4->ipython>=4.0.0; python_version >= \"3.3\"->ipywidgets) (0.1.9)\n",
            "Requirement already satisfied: ptyprocess>=0.5 in /usr/local/lib/python3.6/dist-packages (from pexpect; sys_platform != \"win32\"->ipython>=4.0.0; python_version >= \"3.3\"->ipywidgets) (0.6.0)\n",
            "Requirement already satisfied: bleach in /usr/local/lib/python3.6/dist-packages (from nbconvert->notebook>=4.4.1->widgetsnbextension~=3.5.0->ipywidgets) (3.1.4)\n",
            "Requirement already satisfied: pandocfilters>=1.4.1 in /usr/local/lib/python3.6/dist-packages (from nbconvert->notebook>=4.4.1->widgetsnbextension~=3.5.0->ipywidgets) (1.4.2)\n",
            "Requirement already satisfied: defusedxml in /usr/local/lib/python3.6/dist-packages (from nbconvert->notebook>=4.4.1->widgetsnbextension~=3.5.0->ipywidgets) (0.6.0)\n",
            "Requirement already satisfied: testpath in /usr/local/lib/python3.6/dist-packages (from nbconvert->notebook>=4.4.1->widgetsnbextension~=3.5.0->ipywidgets) (0.4.4)\n",
            "Requirement already satisfied: mistune<2,>=0.8.1 in /usr/local/lib/python3.6/dist-packages (from nbconvert->notebook>=4.4.1->widgetsnbextension~=3.5.0->ipywidgets) (0.8.4)\n",
            "Requirement already satisfied: entrypoints>=0.2.2 in /usr/local/lib/python3.6/dist-packages (from nbconvert->notebook>=4.4.1->widgetsnbextension~=3.5.0->ipywidgets) (0.3)\n",
            "Requirement already satisfied: MarkupSafe>=0.23 in /usr/local/lib/python3.6/dist-packages (from jinja2->notebook>=4.4.1->widgetsnbextension~=3.5.0->ipywidgets) (1.1.1)\n",
            "Requirement already satisfied: webencodings in /usr/local/lib/python3.6/dist-packages (from bleach->nbconvert->notebook>=4.4.1->widgetsnbextension~=3.5.0->ipywidgets) (0.5.1)\n",
            "Enabling notebook extension jupyter-js-widgets/extension...\n",
            "      - Validating: \u001b[32mOK\u001b[0m\n"
          ],
          "name": "stdout"
        }
      ]
    },
    {
      "cell_type": "markdown",
      "metadata": {
        "id": "9hI1xXAGzaNk",
        "colab_type": "text"
      },
      "source": [
        "## Data load \n",
        "\n",
        "We will use diabetes dataset for linear regression. Features will be age, sex, body mass index, average blood pressure, and six blood serum measurements, which were observed for 442 patients. The response variable will be a quantitative measure of disease progression one year after baseline."
      ]
    },
    {
      "cell_type": "code",
      "metadata": {
        "id": "m8ub5YvPE8s-",
        "colab_type": "code",
        "colab": {}
      },
      "source": [
        "import pandas as pd\n",
        "import matplotlib.pyplot as plt\n",
        "import numpy as np\n",
        "from sklearn import datasets, linear_model\n",
        "from sklearn.model_selection import train_test_split\n",
        "from sklearn.linear_model import LogisticRegression\n",
        "from sklearn.metrics import accuracy_score\n",
        "from sklearn.metrics import mean_squared_error, r2_score\n",
        "from sklearn.datasets import load_iris\n",
        "from scipy.special import expit"
      ],
      "execution_count": 0,
      "outputs": []
    },
    {
      "cell_type": "markdown",
      "metadata": {
        "id": "VlZz3dYyD6nZ",
        "colab_type": "text"
      },
      "source": [
        "### Data for linear regression"
      ]
    },
    {
      "cell_type": "code",
      "metadata": {
        "id": "Qiozktuj16i8",
        "colab_type": "code",
        "colab": {}
      },
      "source": [
        "data_linreg = datasets.load_diabetes()\n",
        "df_linreg = pd.DataFrame(data_linreg['data'], columns=data_linreg['feature_names'])"
      ],
      "execution_count": 0,
      "outputs": []
    },
    {
      "cell_type": "code",
      "metadata": {
        "id": "KgTO1Out2ZEU",
        "colab_type": "code",
        "outputId": "15c7bc88-1ef8-4271-806f-0404f4834021",
        "colab": {
          "base_uri": "https://localhost:8080/",
          "height": 346,
          "referenced_widgets": [
            "12798d7344c2431e9af7cbceaed4ad19",
            "c59fb1c883f248d3b9b127b4ab720637",
            "91673af94790484d94c624ec9de9830a",
            "e5496bcf2add496191e545746f18a939",
            "39e5d39fad58492aab63826a06a69867",
            "938b904083e840f18d30c17f8a8970b7",
            "f0bc54b5aa3340c6a003e3ce7d1efcba",
            "2c28dfe189ca4202996c3e1b8a0b22e6",
            "ec59729a3b1f4b15bc6fb68fb4e13a03"
          ]
        }
      },
      "source": [
        "@interact\n",
        "def show_articles_more_than(column=df_linreg.columns, x=20):\n",
        "    return df_linreg[column].loc[:x].hist()"
      ],
      "execution_count": 0,
      "outputs": [
        {
          "output_type": "display_data",
          "data": {
            "application/vnd.jupyter.widget-view+json": {
              "model_id": "12798d7344c2431e9af7cbceaed4ad19",
              "version_minor": 0,
              "version_major": 2
            },
            "text/plain": [
              "interactive(children=(Dropdown(description='column', options=('age', 'sex', 'bmi', 'bp', 's1', 's2', 's3', 's4…"
            ]
          },
          "metadata": {
            "tags": []
          }
        }
      ]
    },
    {
      "cell_type": "markdown",
      "metadata": {
        "id": "5nFKq3EhEAx0",
        "colab_type": "text"
      },
      "source": [
        "### Data for logistic regression"
      ]
    },
    {
      "cell_type": "code",
      "metadata": {
        "id": "B0sfQo69ED6k",
        "colab_type": "code",
        "outputId": "911b0860-a9fb-4f92-ef6f-69cbc5f16800",
        "colab": {
          "base_uri": "https://localhost:8080/",
          "height": 1000
        }
      },
      "source": [
        "iris = load_iris()\n",
        "\n",
        "data_logreg = iris\n",
        "df_logreg = pd.DataFrame(data_logreg['data'], columns=data_logreg['feature_names'])\n",
        "\n",
        "# Let's take the first data column and first two classes for our experiments\n",
        "y = iris.target\n",
        "X = iris.data[y!=2,0:1]\n",
        "y = y[y!=2]\n",
        "X_train, X_test, y_train, y_test = train_test_split(X, y, test_size=0.2, random_state = 10)\n",
        "\n",
        "print(iris.DESCR)"
      ],
      "execution_count": 0,
      "outputs": [
        {
          "output_type": "stream",
          "text": [
            ".. _iris_dataset:\n",
            "\n",
            "Iris plants dataset\n",
            "--------------------\n",
            "\n",
            "**Data Set Characteristics:**\n",
            "\n",
            "    :Number of Instances: 150 (50 in each of three classes)\n",
            "    :Number of Attributes: 4 numeric, predictive attributes and the class\n",
            "    :Attribute Information:\n",
            "        - sepal length in cm\n",
            "        - sepal width in cm\n",
            "        - petal length in cm\n",
            "        - petal width in cm\n",
            "        - class:\n",
            "                - Iris-Setosa\n",
            "                - Iris-Versicolour\n",
            "                - Iris-Virginica\n",
            "                \n",
            "    :Summary Statistics:\n",
            "\n",
            "    ============== ==== ==== ======= ===== ====================\n",
            "                    Min  Max   Mean    SD   Class Correlation\n",
            "    ============== ==== ==== ======= ===== ====================\n",
            "    sepal length:   4.3  7.9   5.84   0.83    0.7826\n",
            "    sepal width:    2.0  4.4   3.05   0.43   -0.4194\n",
            "    petal length:   1.0  6.9   3.76   1.76    0.9490  (high!)\n",
            "    petal width:    0.1  2.5   1.20   0.76    0.9565  (high!)\n",
            "    ============== ==== ==== ======= ===== ====================\n",
            "\n",
            "    :Missing Attribute Values: None\n",
            "    :Class Distribution: 33.3% for each of 3 classes.\n",
            "    :Creator: R.A. Fisher\n",
            "    :Donor: Michael Marshall (MARSHALL%PLU@io.arc.nasa.gov)\n",
            "    :Date: July, 1988\n",
            "\n",
            "The famous Iris database, first used by Sir R.A. Fisher. The dataset is taken\n",
            "from Fisher's paper. Note that it's the same as in R, but not as in the UCI\n",
            "Machine Learning Repository, which has two wrong data points.\n",
            "\n",
            "This is perhaps the best known database to be found in the\n",
            "pattern recognition literature.  Fisher's paper is a classic in the field and\n",
            "is referenced frequently to this day.  (See Duda & Hart, for example.)  The\n",
            "data set contains 3 classes of 50 instances each, where each class refers to a\n",
            "type of iris plant.  One class is linearly separable from the other 2; the\n",
            "latter are NOT linearly separable from each other.\n",
            "\n",
            ".. topic:: References\n",
            "\n",
            "   - Fisher, R.A. \"The use of multiple measurements in taxonomic problems\"\n",
            "     Annual Eugenics, 7, Part II, 179-188 (1936); also in \"Contributions to\n",
            "     Mathematical Statistics\" (John Wiley, NY, 1950).\n",
            "   - Duda, R.O., & Hart, P.E. (1973) Pattern Classification and Scene Analysis.\n",
            "     (Q327.D83) John Wiley & Sons.  ISBN 0-471-22361-1.  See page 218.\n",
            "   - Dasarathy, B.V. (1980) \"Nosing Around the Neighborhood: A New System\n",
            "     Structure and Classification Rule for Recognition in Partially Exposed\n",
            "     Environments\".  IEEE Transactions on Pattern Analysis and Machine\n",
            "     Intelligence, Vol. PAMI-2, No. 1, 67-71.\n",
            "   - Gates, G.W. (1972) \"The Reduced Nearest Neighbor Rule\".  IEEE Transactions\n",
            "     on Information Theory, May 1972, 431-433.\n",
            "   - See also: 1988 MLC Proceedings, 54-64.  Cheeseman et al\"s AUTOCLASS II\n",
            "     conceptual clustering system finds 3 classes in the data.\n",
            "   - Many, many more ...\n"
          ],
          "name": "stdout"
        }
      ]
    },
    {
      "cell_type": "code",
      "metadata": {
        "id": "Y48bx_9RT52u",
        "colab_type": "code",
        "outputId": "04c8b218-cc09-46f2-b54e-451d2139c715",
        "colab": {
          "base_uri": "https://localhost:8080/",
          "height": 346,
          "referenced_widgets": [
            "35d5905d8dd74d2ca9cebfdd753c0ed3",
            "989192dc5cd64e79983f0d490b1bade7",
            "52c09332f93c43c3b51a70396dd034e7",
            "028b0795c585467bb4958fbd321521b1",
            "9b20f331a2e942a8a187b9cd46308972",
            "2bf6da8c0d624735a48b64910b164a99",
            "acc67bee79fe457592ee58a0da9b6525",
            "ee177a0f2dce4a5ea317d403f2b27f37",
            "f7e924d9a3da4efbb7f0a3550be868d7"
          ]
        }
      },
      "source": [
        "@interact\n",
        "def show_articles_more_than(column=df_logreg.columns, x=20):\n",
        "    return df_logreg[column].loc[:x].hist()"
      ],
      "execution_count": 0,
      "outputs": [
        {
          "output_type": "display_data",
          "data": {
            "application/vnd.jupyter.widget-view+json": {
              "model_id": "35d5905d8dd74d2ca9cebfdd753c0ed3",
              "version_minor": 0,
              "version_major": 2
            },
            "text/plain": [
              "interactive(children=(Dropdown(description='column', options=('sepal length (cm)', 'sepal width (cm)', 'petal …"
            ]
          },
          "metadata": {
            "tags": []
          }
        }
      ]
    },
    {
      "cell_type": "markdown",
      "metadata": {
        "id": "rh-gP7nSzp23",
        "colab_type": "text"
      },
      "source": [
        "## Application"
      ]
    },
    {
      "cell_type": "markdown",
      "metadata": {
        "id": "xGmFQ3IoELq3",
        "colab_type": "text"
      },
      "source": [
        "### Linear regression example"
      ]
    },
    {
      "cell_type": "markdown",
      "metadata": {
        "id": "YQni1l1U8oSi",
        "colab_type": "text"
      },
      "source": [
        "We will consider simple linear regression with a quantitative response Y and a single predictor X. Linear regression assumes that a linear relationship exists between X and Y: $$Y = b_0 + b_1 * X\\ ,$$ where $b_0$ is the intercept, $b_1$ is the slope terms on the linear model.\n",
        "\n",
        "Coefficient of determination shows us, how much do we gain using this model instead of mean model ($Y = \\bar{Y}$)"
      ]
    },
    {
      "cell_type": "code",
      "metadata": {
        "id": "vj2neSpW1_pI",
        "colab_type": "code",
        "outputId": "02240ca1-551b-45e9-ff72-1e67c0f3eca3",
        "colab": {
          "base_uri": "https://localhost:8080/",
          "height": 354
        }
      },
      "source": [
        "# Load the diabetes dataset\n",
        "diabetes_X, diabetes_y = datasets.load_diabetes(return_X_y=True)\n",
        "\n",
        "# Use only one feature\n",
        "diabetes_X = diabetes_X[:, np.newaxis, 2]\n",
        "\n",
        "# Split the data into training/testing sets\n",
        "diabetes_X_train = diabetes_X[:-20]\n",
        "diabetes_X_test = diabetes_X[-20:]\n",
        "\n",
        "# Split the targets into training/testing sets\n",
        "diabetes_y_train = diabetes_y[:-20]\n",
        "diabetes_y_test = diabetes_y[-20:]\n",
        "\n",
        "# Create linear regression object\n",
        "regr = linear_model.LinearRegression()\n",
        "\n",
        "# Train the model using the training sets\n",
        "regr.fit(diabetes_X_train, diabetes_y_train)\n",
        "\n",
        "# Make predictions using the testing set\n",
        "diabetes_y_pred = regr.predict(diabetes_X_test)\n",
        "\n",
        "# The coefficients\n",
        "print('The slope: \\n', regr.coef_[0])\n",
        "print('The intercept: \\n', regr.intercept_)\n",
        "# The mean squared error\n",
        "print('Mean squared error: %.2f'\n",
        "      % mean_squared_error(diabetes_y_test, diabetes_y_pred))\n",
        "# The coefficient of determination: 1 is perfect prediction\n",
        "print('Coefficient of determination: %.2f'\n",
        "      % r2_score(diabetes_y_test, diabetes_y_pred))\n",
        "\n",
        "# Plot outputs\n",
        "plt.scatter(diabetes_X_test, diabetes_y_test,  color='black')\n",
        "plt.plot(diabetes_X_test, diabetes_y_pred, color='blue', linewidth=3)\n",
        "\n",
        "plt.xticks(())\n",
        "plt.yticks(())\n",
        "\n",
        "plt.show()"
      ],
      "execution_count": 0,
      "outputs": [
        {
          "output_type": "stream",
          "text": [
            "The slope: \n",
            " 938.2378612512637\n",
            "The intercept: \n",
            " 152.91886182616167\n",
            "Mean squared error: 2548.07\n",
            "Coefficient of determination: 0.47\n"
          ],
          "name": "stdout"
        },
        {
          "output_type": "display_data",
          "data": {
            "image/png": "[encoded data removed]",
            "text/plain": [
              "<Figure size 432x288 with 1 Axes>"
            ]
          },
          "metadata": {
            "tags": []
          }
        }
      ]
    },
    {
      "cell_type": "markdown",
      "metadata": {
        "id": "RZ5Y5roUEPXL",
        "colab_type": "text"
      },
      "source": [
        "### Logistic regression example"
      ]
    },
    {
      "cell_type": "markdown",
      "metadata": {
        "id": "euTSDmy_L9LW",
        "colab_type": "text"
      },
      "source": [
        "In the chosen dataset, the response falls into one of two classes (1 or 3). Instead of directly modeling this response, the logistic regression models the probability that Y belongs to a particular class.\n",
        "\n",
        "We will model the following relationship: $$p(X) = Pr(Y =1|X) = b_0 + b_1*X,$$\n",
        "where $b_0$ and $b_1$ represent the intercept and the slope of the linear regression considered above."
      ]
    },
    {
      "cell_type": "code",
      "metadata": {
        "id": "X0phZaeJETHg",
        "colab_type": "code",
        "outputId": "dcc63e5e-6b5e-4fd0-eb80-b419e8a5db5e",
        "colab": {
          "base_uri": "https://localhost:8080/",
          "height": 282
        }
      },
      "source": [
        "#Create logistic regression object\n",
        "model_lib = LogisticRegression(solver='liblinear', multi_class='ovr')\n",
        "\n",
        "# Train the model using the training sets\n",
        "model_lib.fit(X, y)\n",
        "\n",
        "# Make predictions using the testing set\n",
        "y_pred = model_lib.predict(X_test)\n",
        "\n",
        "# Accuracy of the model\n",
        "accuracy = accuracy_score(y_pred, y_test)\n",
        "print(\"Sklearn accuracy:\", accuracy)\n",
        "\n",
        "#Coefficients of the model: slope and intercept\n",
        "b1 = model_lib.coef_[0][0] \n",
        "b0 = model_lib.intercept_[0]\n",
        "\n",
        "# Visualizing the resulting sigmoid\n",
        "x = np.arange(-100, 100, 0.1)\n",
        "p = np.exp(b0 + b1 * x) / (1 + np.exp(b0 + b1 * x))\n",
        "plt.plot(x, p, label=\"sigmoid\")\n",
        "plt.plot(iris.data[iris.target==0,0:1], [0]*50, 'bo', markersize=3)\n",
        "plt.plot(iris.data[iris.target==1,0:1], [1]*50, 'ro', markersize=3)\n",
        "plt.xlim(4, 7.5)\n",
        "plt.show()"
      ],
      "execution_count": 0,
      "outputs": [
        {
          "output_type": "stream",
          "text": [
            "Sklearn accuracy: 0.85\n"
          ],
          "name": "stdout"
        },
        {
          "output_type": "display_data",
          "data": {
            "image/png": "[encoded data removed]",
            "text/plain": [
              "<Figure size 432x288 with 1 Axes>"
            ]
          },
          "metadata": {
            "tags": []
          }
        }
      ]
    },
    {
      "cell_type": "markdown",
      "metadata": {
        "id": "n7rXmOAfz7t9",
        "colab_type": "text"
      },
      "source": [
        "## Conclusion\n",
        "\n",
        "During this tutorial, we have seen basic examples of linear and logistic regression. \n",
        "\n",
        "When we work with linear regression, the following problems can occur:\n",
        "- non-linearity of the relationship between predictor and response;\n",
        "- correlation of error terms;\n",
        "- non-constant variance of error terms;\n",
        "- outliers;\n",
        "- high-leverage points;\n",
        "- collinearity.\n",
        "\n",
        "We can use residual plots to look at the data distribution and overcome the problems discribed above.\n",
        "\n",
        "When we work with logistic regression, the following problems can occur:\n",
        "- when the classes are well-separated, the logistic regression becomes unstable;\n",
        "- if X is approximately normal in each class, the logistic regression also becomes unstable;\n",
        "- it is difficult for us to work with the logistic regression, when we have more than two response classes.\n",
        "\n",
        "You can use linear discriminant ananlysis to overcome these problems :)\n",
        "\n"
      ]
    },
    {
      "cell_type": "markdown",
      "metadata": {
        "id": "jBzcWz4M0Fm0",
        "colab_type": "text"
      },
      "source": [
        "## References / Acknowledgements"
      ]
    },
    {
      "cell_type": "markdown",
      "metadata": {
        "id": "K1nm8ZcO0JUH",
        "colab_type": "text"
      },
      "source": [
        "- James, G., Witten, D., Hastie, T., & Tibshirani, R. (2013). An introduction to statistical learning (Vol. 112, pp. 3-7). New York: springer.\n",
        "- https://en.wikipedia.org/wiki/Linear_regression\n",
        "- https://en.wikipedia.org/wiki/Logistic_regression\n",
        "- https://scikit-learn.org/stable/auto_examples/linear_model/plot_ols.html#sphx-glr-auto-examples-linear-model-plot-ols-py\n",
        "- https://scikit-learn.org/stable/auto_examples/linear_model/plot_logistic.html#sphx-glr-auto-examples-linear-model-plot-logistic-py\n",
        "- https://towardsdatascience.com/a-comprehensive-study-of-linear-vs-logistic-regression-to-refresh-the-basics-7e526c1d3ebe"
      ]
    }
  ]
}