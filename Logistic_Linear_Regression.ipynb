{
  "nbformat": 4,
  "nbformat_minor": 0,
  "metadata": {
    "colab": {
      "name": "Logistic/Linear Regression.ipynb",
      "provenance": [],
      "collapsed_sections": [],
      "include_colab_link": true
    },
    "kernelspec": {
      "name": "python3",
      "display_name": "Python 3"
    },
    "widgets": {
      "application/vnd.jupyter.widget-state+json": {
        "cb691ad4d87e4335ae668998e4c6b98c": {
          "model_module": "@jupyter-widgets/controls",
          "model_name": "VBoxModel",
          "state": {
            "_view_name": "VBoxView",
            "_dom_classes": [
              "widget-interact"
            ],
            "_model_name": "VBoxModel",
            "_view_module": "@jupyter-widgets/controls",
            "_model_module_version": "1.5.0",
            "_view_count": null,
            "_view_module_version": "1.5.0",
            "box_style": "",
            "layout": "IPY_MODEL_276c36aae4fb415c81c921930bfa8913",
            "_model_module": "@jupyter-widgets/controls",
            "children": [
              "IPY_MODEL_c78d2ecf8a9846df965c6508c9169ccc",
              "IPY_MODEL_8896e417cea94664bc911136328dbd55",
              "IPY_MODEL_c488bade1e4a4e4ca9fa1a55bd268f86"
            ]
          }
        },
        "276c36aae4fb415c81c921930bfa8913": {
          "model_module": "@jupyter-widgets/base",
          "model_name": "LayoutModel",
          "state": {
            "_view_name": "LayoutView",
            "grid_template_rows": null,
            "right": null,
            "justify_content": null,
            "_view_module": "@jupyter-widgets/base",
            "overflow": null,
            "_model_module_version": "1.2.0",
            "_view_count": null,
            "flex_flow": null,
            "width": null,
            "min_width": null,
            "border": null,
            "align_items": null,
            "bottom": null,
            "_model_module": "@jupyter-widgets/base",
            "top": null,
            "grid_column": null,
            "overflow_y": null,
            "overflow_x": null,
            "grid_auto_flow": null,
            "grid_area": null,
            "grid_template_columns": null,
            "flex": null,
            "_model_name": "LayoutModel",
            "justify_items": null,
            "grid_row": null,
            "max_height": null,
            "align_content": null,
            "visibility": null,
            "align_self": null,
            "height": null,
            "min_height": null,
            "padding": null,
            "grid_auto_rows": null,
            "grid_gap": null,
            "max_width": null,
            "order": null,
            "_view_module_version": "1.2.0",
            "grid_template_areas": null,
            "object_position": null,
            "object_fit": null,
            "grid_auto_columns": null,
            "margin": null,
            "display": null,
            "left": null
          }
        },
        "c78d2ecf8a9846df965c6508c9169ccc": {
          "model_module": "@jupyter-widgets/controls",
          "model_name": "DropdownModel",
          "state": {
            "_options_labels": [
              "age",
              "sex",
              "bmi",
              "bp",
              "s1",
              "s2",
              "s3",
              "s4",
              "s5",
              "s6"
            ],
            "_view_name": "DropdownView",
            "style": "IPY_MODEL_17b16fd5361845a8a898776cc7638c7a",
            "_dom_classes": [],
            "description": "column",
            "_model_name": "DropdownModel",
            "index": 0,
            "_view_module": "@jupyter-widgets/controls",
            "_model_module_version": "1.5.0",
            "_view_count": null,
            "disabled": false,
            "_view_module_version": "1.5.0",
            "description_tooltip": null,
            "_model_module": "@jupyter-widgets/controls",
            "layout": "IPY_MODEL_4fb26fd4562140529bb4f7cbcaa7a8e0"
          }
        },
        "8896e417cea94664bc911136328dbd55": {
          "model_module": "@jupyter-widgets/controls",
          "model_name": "IntSliderModel",
          "state": {
            "_view_name": "IntSliderView",
            "style": "IPY_MODEL_c73c952fed614e05a038dc7044ea8cfe",
            "_dom_classes": [],
            "description": "x",
            "step": 1,
            "_model_name": "IntSliderModel",
            "orientation": "horizontal",
            "max": 60,
            "_view_module": "@jupyter-widgets/controls",
            "_model_module_version": "1.5.0",
            "value": 20,
            "_view_count": null,
            "disabled": false,
            "_view_module_version": "1.5.0",
            "min": -20,
            "continuous_update": true,
            "readout_format": "d",
            "description_tooltip": null,
            "readout": true,
            "_model_module": "@jupyter-widgets/controls",
            "layout": "IPY_MODEL_1c7cdccc0e8c4e008c47dcb36322af90"
          }
        },
        "c488bade1e4a4e4ca9fa1a55bd268f86": {
          "model_module": "@jupyter-widgets/output",
          "model_name": "OutputModel",
          "state": {
            "_view_name": "OutputView",
            "msg_id": "",
            "_dom_classes": [],
            "_model_name": "OutputModel",
            "outputs": [
              {
                "output_type": "display_data",
                "metadata": {
                  "tags": [],
                  "needs_background": "light"
                },
                "image/png": "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\n",
                "text/plain": "<Figure size 432x288 with 1 Axes>"
              },
              {
                "output_type": "display_data",
                "metadata": {
                  "tags": []
                },
                "text/plain": "<matplotlib.axes._subplots.AxesSubplot at 0x7febc8ef2828>"
              }
            ],
            "_view_module": "@jupyter-widgets/output",
            "_model_module_version": "1.0.0",
            "_view_count": null,
            "_view_module_version": "1.0.0",
            "layout": "IPY_MODEL_e1c6169d6bd341559fe9d93d0c3a2ffe",
            "_model_module": "@jupyter-widgets/output"
          }
        },
        "17b16fd5361845a8a898776cc7638c7a": {
          "model_module": "@jupyter-widgets/controls",
          "model_name": "DescriptionStyleModel",
          "state": {
            "_view_name": "StyleView",
            "_model_name": "DescriptionStyleModel",
            "description_width": "",
            "_view_module": "@jupyter-widgets/base",
            "_model_module_version": "1.5.0",
            "_view_count": null,
            "_view_module_version": "1.2.0",
            "_model_module": "@jupyter-widgets/controls"
          }
        },
        "4fb26fd4562140529bb4f7cbcaa7a8e0": {
          "model_module": "@jupyter-widgets/base",
          "model_name": "LayoutModel",
          "state": {
            "_view_name": "LayoutView",
            "grid_template_rows": null,
            "right": null,
            "justify_content": null,
            "_view_module": "@jupyter-widgets/base",
            "overflow": null,
            "_model_module_version": "1.2.0",
            "_view_count": null,
            "flex_flow": null,
            "width": null,
            "min_width": null,
            "border": null,
            "align_items": null,
            "bottom": null,
            "_model_module": "@jupyter-widgets/base",
            "top": null,
            "grid_column": null,
            "overflow_y": null,
            "overflow_x": null,
            "grid_auto_flow": null,
            "grid_area": null,
            "grid_template_columns": null,
            "flex": null,
            "_model_name": "LayoutModel",
            "justify_items": null,
            "grid_row": null,
            "max_height": null,
            "align_content": null,
            "visibility": null,
            "align_self": null,
            "height": null,
            "min_height": null,
            "padding": null,
            "grid_auto_rows": null,
            "grid_gap": null,
            "max_width": null,
            "order": null,
            "_view_module_version": "1.2.0",
            "grid_template_areas": null,
            "object_position": null,
            "object_fit": null,
            "grid_auto_columns": null,
            "margin": null,
            "display": null,
            "left": null
          }
        },
        "c73c952fed614e05a038dc7044ea8cfe": {
          "model_module": "@jupyter-widgets/controls",
          "model_name": "SliderStyleModel",
          "state": {
            "_view_name": "StyleView",
            "handle_color": null,
            "_model_name": "SliderStyleModel",
            "description_width": "",
            "_view_module": "@jupyter-widgets/base",
            "_model_module_version": "1.5.0",
            "_view_count": null,
            "_view_module_version": "1.2.0",
            "_model_module": "@jupyter-widgets/controls"
          }
        },
        "1c7cdccc0e8c4e008c47dcb36322af90": {
          "model_module": "@jupyter-widgets/base",
          "model_name": "LayoutModel",
          "state": {
            "_view_name": "LayoutView",
            "grid_template_rows": null,
            "right": null,
            "justify_content": null,
            "_view_module": "@jupyter-widgets/base",
            "overflow": null,
            "_model_module_version": "1.2.0",
            "_view_count": null,
            "flex_flow": null,
            "width": null,
            "min_width": null,
            "border": null,
            "align_items": null,
            "bottom": null,
            "_model_module": "@jupyter-widgets/base",
            "top": null,
            "grid_column": null,
            "overflow_y": null,
            "overflow_x": null,
            "grid_auto_flow": null,
            "grid_area": null,
            "grid_template_columns": null,
            "flex": null,
            "_model_name": "LayoutModel",
            "justify_items": null,
            "grid_row": null,
            "max_height": null,
            "align_content": null,
            "visibility": null,
            "align_self": null,
            "height": null,
            "min_height": null,
            "padding": null,
            "grid_auto_rows": null,
            "grid_gap": null,
            "max_width": null,
            "order": null,
            "_view_module_version": "1.2.0",
            "grid_template_areas": null,
            "object_position": null,
            "object_fit": null,
            "grid_auto_columns": null,
            "margin": null,
            "display": null,
            "left": null
          }
        },
        "e1c6169d6bd341559fe9d93d0c3a2ffe": {
          "model_module": "@jupyter-widgets/base",
          "model_name": "LayoutModel",
          "state": {
            "_view_name": "LayoutView",
            "grid_template_rows": null,
            "right": null,
            "justify_content": null,
            "_view_module": "@jupyter-widgets/base",
            "overflow": null,
            "_model_module_version": "1.2.0",
            "_view_count": null,
            "flex_flow": null,
            "width": null,
            "min_width": null,
            "border": null,
            "align_items": null,
            "bottom": null,
            "_model_module": "@jupyter-widgets/base",
            "top": null,
            "grid_column": null,
            "overflow_y": null,
            "overflow_x": null,
            "grid_auto_flow": null,
            "grid_area": null,
            "grid_template_columns": null,
            "flex": null,
            "_model_name": "LayoutModel",
            "justify_items": null,
            "grid_row": null,
            "max_height": null,
            "align_content": null,
            "visibility": null,
            "align_self": null,
            "height": null,
            "min_height": null,
            "padding": null,
            "grid_auto_rows": null,
            "grid_gap": null,
            "max_width": null,
            "order": null,
            "_view_module_version": "1.2.0",
            "grid_template_areas": null,
            "object_position": null,
            "object_fit": null,
            "grid_auto_columns": null,
            "margin": null,
            "display": null,
            "left": null
          }
        },
        "a4a5c8e77507486d85444e507d5bf94f": {
          "model_module": "@jupyter-widgets/controls",
          "model_name": "VBoxModel",
          "state": {
            "_view_name": "VBoxView",
            "_dom_classes": [
              "widget-interact"
            ],
            "_model_name": "VBoxModel",
            "_view_module": "@jupyter-widgets/controls",
            "_model_module_version": "1.5.0",
            "_view_count": null,
            "_view_module_version": "1.5.0",
            "box_style": "",
            "layout": "IPY_MODEL_ee2d7f3cc8b14cc78037efd2bec4f7f8",
            "_model_module": "@jupyter-widgets/controls",
            "children": [
              "IPY_MODEL_bfc2ac2eaa554169a2fd0d2799ea7a2e",
              "IPY_MODEL_f986c7da70504bcdad01cb1c732fd17e",
              "IPY_MODEL_87e2cf02942a4953b5782927b048703f"
            ]
          }
        },
        "ee2d7f3cc8b14cc78037efd2bec4f7f8": {
          "model_module": "@jupyter-widgets/base",
          "model_name": "LayoutModel",
          "state": {
            "_view_name": "LayoutView",
            "grid_template_rows": null,
            "right": null,
            "justify_content": null,
            "_view_module": "@jupyter-widgets/base",
            "overflow": null,
            "_model_module_version": "1.2.0",
            "_view_count": null,
            "flex_flow": null,
            "width": null,
            "min_width": null,
            "border": null,
            "align_items": null,
            "bottom": null,
            "_model_module": "@jupyter-widgets/base",
            "top": null,
            "grid_column": null,
            "overflow_y": null,
            "overflow_x": null,
            "grid_auto_flow": null,
            "grid_area": null,
            "grid_template_columns": null,
            "flex": null,
            "_model_name": "LayoutModel",
            "justify_items": null,
            "grid_row": null,
            "max_height": null,
            "align_content": null,
            "visibility": null,
            "align_self": null,
            "height": null,
            "min_height": null,
            "padding": null,
            "grid_auto_rows": null,
            "grid_gap": null,
            "max_width": null,
            "order": null,
            "_view_module_version": "1.2.0",
            "grid_template_areas": null,
            "object_position": null,
            "object_fit": null,
            "grid_auto_columns": null,
            "margin": null,
            "display": null,
            "left": null
          }
        },
        "bfc2ac2eaa554169a2fd0d2799ea7a2e": {
          "model_module": "@jupyter-widgets/controls",
          "model_name": "DropdownModel",
          "state": {
            "_options_labels": [
              "sepal length (cm)",
              "sepal width (cm)",
              "petal length (cm)",
              "petal width (cm)"
            ],
            "_view_name": "DropdownView",
            "style": "IPY_MODEL_258fa55056bc4f4c9d67b725d67b73e8",
            "_dom_classes": [],
            "description": "column",
            "_model_name": "DropdownModel",
            "index": 0,
            "_view_module": "@jupyter-widgets/controls",
            "_model_module_version": "1.5.0",
            "_view_count": null,
            "disabled": false,
            "_view_module_version": "1.5.0",
            "description_tooltip": null,
            "_model_module": "@jupyter-widgets/controls",
            "layout": "IPY_MODEL_77263261488944ae83cb67099668ceac"
          }
        },
        "f986c7da70504bcdad01cb1c732fd17e": {
          "model_module": "@jupyter-widgets/controls",
          "model_name": "IntSliderModel",
          "state": {
            "_view_name": "IntSliderView",
            "style": "IPY_MODEL_3635dfbc4c484e3986ff8e1181cc371e",
            "_dom_classes": [],
            "description": "x",
            "step": 1,
            "_model_name": "IntSliderModel",
            "orientation": "horizontal",
            "max": 60,
            "_view_module": "@jupyter-widgets/controls",
            "_model_module_version": "1.5.0",
            "value": 20,
            "_view_count": null,
            "disabled": false,
            "_view_module_version": "1.5.0",
            "min": -20,
            "continuous_update": true,
            "readout_format": "d",
            "description_tooltip": null,
            "readout": true,
            "_model_module": "@jupyter-widgets/controls",
            "layout": "IPY_MODEL_dcb216db650a4ea0a17458c6201c4b59"
          }
        },
        "87e2cf02942a4953b5782927b048703f": {
          "model_module": "@jupyter-widgets/output",
          "model_name": "OutputModel",
          "state": {
            "_view_name": "OutputView",
            "msg_id": "",
            "_dom_classes": [],
            "_model_name": "OutputModel",
            "outputs": [
              {
                "output_type": "display_data",
                "metadata": {
                  "tags": [],
                  "needs_background": "light"
                },
                "image/png": "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\n",
                "text/plain": "<Figure size 432x288 with 1 Axes>"
              },
              {
                "output_type": "display_data",
                "metadata": {
                  "tags": []
                },
                "text/plain": "<matplotlib.axes._subplots.AxesSubplot at 0x7febc8e87978>"
              }
            ],
            "_view_module": "@jupyter-widgets/output",
            "_model_module_version": "1.0.0",
            "_view_count": null,
            "_view_module_version": "1.0.0",
            "layout": "IPY_MODEL_e1bedbed0cde458e98e8bf07c75188c4",
            "_model_module": "@jupyter-widgets/output"
          }
        },
        "258fa55056bc4f4c9d67b725d67b73e8": {
          "model_module": "@jupyter-widgets/controls",
          "model_name": "DescriptionStyleModel",
          "state": {
            "_view_name": "StyleView",
            "_model_name": "DescriptionStyleModel",
            "description_width": "",
            "_view_module": "@jupyter-widgets/base",
            "_model_module_version": "1.5.0",
            "_view_count": null,
            "_view_module_version": "1.2.0",
            "_model_module": "@jupyter-widgets/controls"
          }
        },
        "77263261488944ae83cb67099668ceac": {
          "model_module": "@jupyter-widgets/base",
          "model_name": "LayoutModel",
          "state": {
            "_view_name": "LayoutView",
            "grid_template_rows": null,
            "right": null,
            "justify_content": null,
            "_view_module": "@jupyter-widgets/base",
            "overflow": null,
            "_model_module_version": "1.2.0",
            "_view_count": null,
            "flex_flow": null,
            "width": null,
            "min_width": null,
            "border": null,
            "align_items": null,
            "bottom": null,
            "_model_module": "@jupyter-widgets/base",
            "top": null,
            "grid_column": null,
            "overflow_y": null,
            "overflow_x": null,
            "grid_auto_flow": null,
            "grid_area": null,
            "grid_template_columns": null,
            "flex": null,
            "_model_name": "LayoutModel",
            "justify_items": null,
            "grid_row": null,
            "max_height": null,
            "align_content": null,
            "visibility": null,
            "align_self": null,
            "height": null,
            "min_height": null,
            "padding": null,
            "grid_auto_rows": null,
            "grid_gap": null,
            "max_width": null,
            "order": null,
            "_view_module_version": "1.2.0",
            "grid_template_areas": null,
            "object_position": null,
            "object_fit": null,
            "grid_auto_columns": null,
            "margin": null,
            "display": null,
            "left": null
          }
        },
        "3635dfbc4c484e3986ff8e1181cc371e": {
          "model_module": "@jupyter-widgets/controls",
          "model_name": "SliderStyleModel",
          "state": {
            "_view_name": "StyleView",
            "handle_color": null,
            "_model_name": "SliderStyleModel",
            "description_width": "",
            "_view_module": "@jupyter-widgets/base",
            "_model_module_version": "1.5.0",
            "_view_count": null,
            "_view_module_version": "1.2.0",
            "_model_module": "@jupyter-widgets/controls"
          }
        },
        "dcb216db650a4ea0a17458c6201c4b59": {
          "model_module": "@jupyter-widgets/base",
          "model_name": "LayoutModel",
          "state": {
            "_view_name": "LayoutView",
            "grid_template_rows": null,
            "right": null,
            "justify_content": null,
            "_view_module": "@jupyter-widgets/base",
            "overflow": null,
            "_model_module_version": "1.2.0",
            "_view_count": null,
            "flex_flow": null,
            "width": null,
            "min_width": null,
            "border": null,
            "align_items": null,
            "bottom": null,
            "_model_module": "@jupyter-widgets/base",
            "top": null,
            "grid_column": null,
            "overflow_y": null,
            "overflow_x": null,
            "grid_auto_flow": null,
            "grid_area": null,
            "grid_template_columns": null,
            "flex": null,
            "_model_name": "LayoutModel",
            "justify_items": null,
            "grid_row": null,
            "max_height": null,
            "align_content": null,
            "visibility": null,
            "align_self": null,
            "height": null,
            "min_height": null,
            "padding": null,
            "grid_auto_rows": null,
            "grid_gap": null,
            "max_width": null,
            "order": null,
            "_view_module_version": "1.2.0",
            "grid_template_areas": null,
            "object_position": null,
            "object_fit": null,
            "grid_auto_columns": null,
            "margin": null,
            "display": null,
            "left": null
          }
        },
        "e1bedbed0cde458e98e8bf07c75188c4": {
          "model_module": "@jupyter-widgets/base",
          "model_name": "LayoutModel",
          "state": {
            "_view_name": "LayoutView",
            "grid_template_rows": null,
            "right": null,
            "justify_content": null,
            "_view_module": "@jupyter-widgets/base",
            "overflow": null,
            "_model_module_version": "1.2.0",
            "_view_count": null,
            "flex_flow": null,
            "width": null,
            "min_width": null,
            "border": null,
            "align_items": null,
            "bottom": null,
            "_model_module": "@jupyter-widgets/base",
            "top": null,
            "grid_column": null,
            "overflow_y": null,
            "overflow_x": null,
            "grid_auto_flow": null,
            "grid_area": null,
            "grid_template_columns": null,
            "flex": null,
            "_model_name": "LayoutModel",
            "justify_items": null,
            "grid_row": null,
            "max_height": null,
            "align_content": null,
            "visibility": null,
            "align_self": null,
            "height": null,
            "min_height": null,
            "padding": null,
            "grid_auto_rows": null,
            "grid_gap": null,
            "max_width": null,
            "order": null,
            "_view_module_version": "1.2.0",
            "grid_template_areas": null,
            "object_position": null,
            "object_fit": null,
            "grid_auto_columns": null,
            "margin": null,
            "display": null,
            "left": null
          }
        }
      }
    }
  },
  "cells": [
    {
      "cell_type": "markdown",
      "metadata": {
        "id": "view-in-github",
        "colab_type": "text"
      },
      "source": [
        "<a href=\"https://colab.research.google.com/github/ZamiraKholmatova/Interactive-Statistics-Notebooks/blob/master/Logistic_Linear_Regression.ipynb\" target=\"_parent\"><img src=\"https://colab.research.google.com/assets/colab-badge.svg\" alt=\"Open In Colab\"/></a>"
      ]
    },
    {
      "cell_type": "markdown",
      "metadata": {
        "id": "ITC684n6xm2f",
        "colab_type": "text"
      },
      "source": [
        "# Linear and logistic regression\n",
        "\n",
        "- Intro\n",
        "- Setup\n",
        "- Data load:\n",
        "  - Data for linear regression\n",
        "  - Data for logistic regression\n",
        "- Application:\n",
        "  - Linear regression example\n",
        "  - Logistic regression example\n",
        "- Conclusion\n",
        "- References / Acknowledgements"
      ]
    },
    {
      "cell_type": "markdown",
      "metadata": {
        "id": "CdLByacoxqBU",
        "colab_type": "text"
      },
      "source": [
        "## Intro\n",
        "\n",
        "In this notebook we will cover two simple approaches for supervised learning. The linear regression is used for predicting a quantitative response,while the logistic regression is a tool for predicting a binary dependent variable."
      ]
    },
    {
      "cell_type": "markdown",
      "metadata": {
        "id": "EovComAJxr-0",
        "colab_type": "text"
      },
      "source": [
        "## Setup\n",
        "Here we can see packages to install."
      ]
    },
    {
      "cell_type": "code",
      "metadata": {
        "id": "evAoT3-gD0O0",
        "colab_type": "code",
        "outputId": "052917a6-68f3-4300-858f-1829d434e018",
        "colab": {
          "base_uri": "https://localhost:8080/",
          "height": 646
        }
      },
      "source": [
        "! pip install ipywidgets\n",
        "! jupyter nbextension enable --py widgetsnbextension\n",
        "\n",
        "import ipywidgets as widgets\n",
        "from ipywidgets import interact, interact_manual"
      ],
      "execution_count": 8,
      "outputs": [
        {
          "output_type": "stream",
          "text": [
            "Requirement already satisfied: ipywidgets in /usr/local/lib/python3.6/dist-packages (7.5.1)\n",
            "Requirement already satisfied: nbformat>=4.2.0 in /usr/local/lib/python3.6/dist-packages (from ipywidgets) (5.0.5)\n",
            "Requirement already satisfied: ipython>=4.0.0; python_version >= \"3.3\" in /usr/local/lib/python3.6/dist-packages (from ipywidgets) (5.5.0)\n",
            "Requirement already satisfied: traitlets>=4.3.1 in /usr/local/lib/python3.6/dist-packages (from ipywidgets) (4.3.3)\n",
            "Requirement already satisfied: widgetsnbextension~=3.5.0 in /usr/local/lib/python3.6/dist-packages (from ipywidgets) (3.5.1)\n",
            "Requirement already satisfied: ipykernel>=4.5.1 in /usr/local/lib/python3.6/dist-packages (from ipywidgets) (4.10.1)\n",
            "Requirement already satisfied: ipython-genutils in /usr/local/lib/python3.6/dist-packages (from nbformat>=4.2.0->ipywidgets) (0.2.0)\n",
            "Requirement already satisfied: jupyter-core in /usr/local/lib/python3.6/dist-packages (from nbformat>=4.2.0->ipywidgets) (4.6.3)\n",
            "Requirement already satisfied: jsonschema!=2.5.0,>=2.4 in /usr/local/lib/python3.6/dist-packages (from nbformat>=4.2.0->ipywidgets) (2.6.0)\n",
            "Requirement already satisfied: prompt-toolkit<2.0.0,>=1.0.4 in /usr/local/lib/python3.6/dist-packages (from ipython>=4.0.0; python_version >= \"3.3\"->ipywidgets) (1.0.18)\n",
            "Requirement already satisfied: setuptools>=18.5 in /usr/local/lib/python3.6/dist-packages (from ipython>=4.0.0; python_version >= \"3.3\"->ipywidgets) (46.1.3)\n",
            "Requirement already satisfied: simplegeneric>0.8 in /usr/local/lib/python3.6/dist-packages (from ipython>=4.0.0; python_version >= \"3.3\"->ipywidgets) (0.8.1)\n",
            "Requirement already satisfied: pygments in /usr/local/lib/python3.6/dist-packages (from ipython>=4.0.0; python_version >= \"3.3\"->ipywidgets) (2.1.3)\n",
            "Requirement already satisfied: pexpect; sys_platform != \"win32\" in /usr/local/lib/python3.6/dist-packages (from ipython>=4.0.0; python_version >= \"3.3\"->ipywidgets) (4.8.0)\n",
            "Requirement already satisfied: decorator in /usr/local/lib/python3.6/dist-packages (from ipython>=4.0.0; python_version >= \"3.3\"->ipywidgets) (4.4.2)\n",
            "Requirement already satisfied: pickleshare in /usr/local/lib/python3.6/dist-packages (from ipython>=4.0.0; python_version >= \"3.3\"->ipywidgets) (0.7.5)\n",
            "Requirement already satisfied: six in /usr/local/lib/python3.6/dist-packages (from traitlets>=4.3.1->ipywidgets) (1.12.0)\n",
            "Requirement already satisfied: notebook>=4.4.1 in /usr/local/lib/python3.6/dist-packages (from widgetsnbextension~=3.5.0->ipywidgets) (5.2.2)\n",
            "Requirement already satisfied: tornado>=4.0 in /usr/local/lib/python3.6/dist-packages (from ipykernel>=4.5.1->ipywidgets) (4.5.3)\n",
            "Requirement already satisfied: jupyter-client in /usr/local/lib/python3.6/dist-packages (from ipykernel>=4.5.1->ipywidgets) (5.3.4)\n",
            "Requirement already satisfied: wcwidth in /usr/local/lib/python3.6/dist-packages (from prompt-toolkit<2.0.0,>=1.0.4->ipython>=4.0.0; python_version >= \"3.3\"->ipywidgets) (0.1.9)\n",
            "Requirement already satisfied: ptyprocess>=0.5 in /usr/local/lib/python3.6/dist-packages (from pexpect; sys_platform != \"win32\"->ipython>=4.0.0; python_version >= \"3.3\"->ipywidgets) (0.6.0)\n",
            "Requirement already satisfied: nbconvert in /usr/local/lib/python3.6/dist-packages (from notebook>=4.4.1->widgetsnbextension~=3.5.0->ipywidgets) (5.6.1)\n",
            "Requirement already satisfied: terminado>=0.3.3; sys_platform != \"win32\" in /usr/local/lib/python3.6/dist-packages (from notebook>=4.4.1->widgetsnbextension~=3.5.0->ipywidgets) (0.8.3)\n",
            "Requirement already satisfied: jinja2 in /usr/local/lib/python3.6/dist-packages (from notebook>=4.4.1->widgetsnbextension~=3.5.0->ipywidgets) (2.11.1)\n",
            "Requirement already satisfied: pyzmq>=13 in /usr/local/lib/python3.6/dist-packages (from jupyter-client->ipykernel>=4.5.1->ipywidgets) (19.0.0)\n",
            "Requirement already satisfied: python-dateutil>=2.1 in /usr/local/lib/python3.6/dist-packages (from jupyter-client->ipykernel>=4.5.1->ipywidgets) (2.8.1)\n",
            "Requirement already satisfied: bleach in /usr/local/lib/python3.6/dist-packages (from nbconvert->notebook>=4.4.1->widgetsnbextension~=3.5.0->ipywidgets) (3.1.4)\n",
            "Requirement already satisfied: defusedxml in /usr/local/lib/python3.6/dist-packages (from nbconvert->notebook>=4.4.1->widgetsnbextension~=3.5.0->ipywidgets) (0.6.0)\n",
            "Requirement already satisfied: entrypoints>=0.2.2 in /usr/local/lib/python3.6/dist-packages (from nbconvert->notebook>=4.4.1->widgetsnbextension~=3.5.0->ipywidgets) (0.3)\n",
            "Requirement already satisfied: testpath in /usr/local/lib/python3.6/dist-packages (from nbconvert->notebook>=4.4.1->widgetsnbextension~=3.5.0->ipywidgets) (0.4.4)\n",
            "Requirement already satisfied: pandocfilters>=1.4.1 in /usr/local/lib/python3.6/dist-packages (from nbconvert->notebook>=4.4.1->widgetsnbextension~=3.5.0->ipywidgets) (1.4.2)\n",
            "Requirement already satisfied: mistune<2,>=0.8.1 in /usr/local/lib/python3.6/dist-packages (from nbconvert->notebook>=4.4.1->widgetsnbextension~=3.5.0->ipywidgets) (0.8.4)\n",
            "Requirement already satisfied: MarkupSafe>=0.23 in /usr/local/lib/python3.6/dist-packages (from jinja2->notebook>=4.4.1->widgetsnbextension~=3.5.0->ipywidgets) (1.1.1)\n",
            "Requirement already satisfied: webencodings in /usr/local/lib/python3.6/dist-packages (from bleach->nbconvert->notebook>=4.4.1->widgetsnbextension~=3.5.0->ipywidgets) (0.5.1)\n",
            "Enabling notebook extension jupyter-js-widgets/extension...\n",
            "      - Validating: \u001b[32mOK\u001b[0m\n"
          ],
          "name": "stdout"
        }
      ]
    },
    {
      "cell_type": "markdown",
      "metadata": {
        "id": "9hI1xXAGzaNk",
        "colab_type": "text"
      },
      "source": [
        "## Data load \n",
        "\n",
        "We will use diabetes dataset for linear regression. Features will be age, sex, body mass index, average blood pressure, and six blood serum measurements, which were observed for 442 patients. The response variable will be a quantitative measure of disease progression one year after baseline.\n",
        "\n",
        "For a logistic regression, we will use iris dataset. Small description you can see in the section \"Data for logistic regression\". For more information, you can go [here](https://en.wikipedia.org/wiki/Iris_flower_data_set)."
      ]
    },
    {
      "cell_type": "code",
      "metadata": {
        "id": "m8ub5YvPE8s-",
        "colab_type": "code",
        "colab": {}
      },
      "source": [
        "\n",
        "import pandas as pd\n",
        "import matplotlib.pyplot as plt\n",
        "import numpy as np\n",
        "from sklearn import datasets, linear_model\n",
        "from sklearn.model_selection import train_test_split\n",
        "from sklearn.linear_model import LogisticRegression\n",
        "from sklearn.metrics import accuracy_score\n",
        "from sklearn.metrics import mean_squared_error, r2_score\n",
        "from sklearn.datasets import load_iris\n",
        "from scipy.special import expit\n",
        "\n",
        "%matplotlib inline\n",
        "import matplotlib"
      ],
      "execution_count": 0,
      "outputs": []
    },
    {
      "cell_type": "markdown",
      "metadata": {
        "id": "VlZz3dYyD6nZ",
        "colab_type": "text"
      },
      "source": [
        "### Data for linear regression"
      ]
    },
    {
      "cell_type": "code",
      "metadata": {
        "id": "Qiozktuj16i8",
        "colab_type": "code",
        "colab": {}
      },
      "source": [
        "data_linreg = datasets.load_diabetes()\n",
        "df_linreg = pd.DataFrame(data_linreg['data'], columns=data_linreg['feature_names'])"
      ],
      "execution_count": 0,
      "outputs": []
    },
    {
      "cell_type": "markdown",
      "metadata": {
        "id": "GL4WXd0R9viM",
        "colab_type": "text"
      },
      "source": [
        "In the cell below, you can see distributions of all variables in the dataset for a linear regression."
      ]
    },
    {
      "cell_type": "code",
      "metadata": {
        "id": "KgTO1Out2ZEU",
        "colab_type": "code",
        "outputId": "43e47ad5-2d3b-4356-c9bb-aa3d5837f789",
        "colab": {
          "base_uri": "https://localhost:8080/",
          "height": 346,
          "referenced_widgets": [
            "cb691ad4d87e4335ae668998e4c6b98c",
            "276c36aae4fb415c81c921930bfa8913",
            "c78d2ecf8a9846df965c6508c9169ccc",
            "8896e417cea94664bc911136328dbd55",
            "c488bade1e4a4e4ca9fa1a55bd268f86",
            "17b16fd5361845a8a898776cc7638c7a",
            "4fb26fd4562140529bb4f7cbcaa7a8e0",
            "c73c952fed614e05a038dc7044ea8cfe",
            "1c7cdccc0e8c4e008c47dcb36322af90",
            "e1c6169d6bd341559fe9d93d0c3a2ffe"
          ]
        }
      },
      "source": [
        "@interact\n",
        "def show_data_distibution_for_linreg(column=df_linreg.columns, x=20):\n",
        "    return df_linreg[column].hist()"
      ],
      "execution_count": 14,
      "outputs": [
        {
          "output_type": "display_data",
          "data": {
            "application/vnd.jupyter.widget-view+json": {
              "model_id": "cb691ad4d87e4335ae668998e4c6b98c",
              "version_minor": 0,
              "version_major": 2
            },
            "text/plain": [
              "interactive(children=(Dropdown(description='column', options=('age', 'sex', 'bmi', 'bp', 's1', 's2', 's3', 's4…"
            ]
          },
          "metadata": {
            "tags": []
          }
        }
      ]
    },
    {
      "cell_type": "markdown",
      "metadata": {
        "id": "5nFKq3EhEAx0",
        "colab_type": "text"
      },
      "source": [
        "### Data for logistic regression"
      ]
    },
    {
      "cell_type": "code",
      "metadata": {
        "id": "B0sfQo69ED6k",
        "colab_type": "code",
        "outputId": "6dd99797-327b-4f55-a9d8-63f1bca84aad",
        "colab": {
          "base_uri": "https://localhost:8080/",
          "height": 1000
        }
      },
      "source": [
        "iris = load_iris()\n",
        "\n",
        "data_logreg = iris\n",
        "df_logreg = pd.DataFrame(data_logreg['data'], columns=data_logreg['feature_names'])\n",
        "\n",
        "# Let's take the first data column and first two classes for our experiments\n",
        "y = iris.target\n",
        "X = iris.data[y!=2,0:1]\n",
        "y = y[y!=2]\n",
        "X_train, X_test, y_train, y_test = train_test_split(X, y, test_size=0.2, random_state = 10)\n",
        "\n",
        "print(iris.DESCR)"
      ],
      "execution_count": 12,
      "outputs": [
        {
          "output_type": "stream",
          "text": [
            ".. _iris_dataset:\n",
            "\n",
            "Iris plants dataset\n",
            "--------------------\n",
            "\n",
            "**Data Set Characteristics:**\n",
            "\n",
            "    :Number of Instances: 150 (50 in each of three classes)\n",
            "    :Number of Attributes: 4 numeric, predictive attributes and the class\n",
            "    :Attribute Information:\n",
            "        - sepal length in cm\n",
            "        - sepal width in cm\n",
            "        - petal length in cm\n",
            "        - petal width in cm\n",
            "        - class:\n",
            "                - Iris-Setosa\n",
            "                - Iris-Versicolour\n",
            "                - Iris-Virginica\n",
            "                \n",
            "    :Summary Statistics:\n",
            "\n",
            "    ============== ==== ==== ======= ===== ====================\n",
            "                    Min  Max   Mean    SD   Class Correlation\n",
            "    ============== ==== ==== ======= ===== ====================\n",
            "    sepal length:   4.3  7.9   5.84   0.83    0.7826\n",
            "    sepal width:    2.0  4.4   3.05   0.43   -0.4194\n",
            "    petal length:   1.0  6.9   3.76   1.76    0.9490  (high!)\n",
            "    petal width:    0.1  2.5   1.20   0.76    0.9565  (high!)\n",
            "    ============== ==== ==== ======= ===== ====================\n",
            "\n",
            "    :Missing Attribute Values: None\n",
            "    :Class Distribution: 33.3% for each of 3 classes.\n",
            "    :Creator: R.A. Fisher\n",
            "    :Donor: Michael Marshall (MARSHALL%PLU@io.arc.nasa.gov)\n",
            "    :Date: July, 1988\n",
            "\n",
            "The famous Iris database, first used by Sir R.A. Fisher. The dataset is taken\n",
            "from Fisher's paper. Note that it's the same as in R, but not as in the UCI\n",
            "Machine Learning Repository, which has two wrong data points.\n",
            "\n",
            "This is perhaps the best known database to be found in the\n",
            "pattern recognition literature.  Fisher's paper is a classic in the field and\n",
            "is referenced frequently to this day.  (See Duda & Hart, for example.)  The\n",
            "data set contains 3 classes of 50 instances each, where each class refers to a\n",
            "type of iris plant.  One class is linearly separable from the other 2; the\n",
            "latter are NOT linearly separable from each other.\n",
            "\n",
            ".. topic:: References\n",
            "\n",
            "   - Fisher, R.A. \"The use of multiple measurements in taxonomic problems\"\n",
            "     Annual Eugenics, 7, Part II, 179-188 (1936); also in \"Contributions to\n",
            "     Mathematical Statistics\" (John Wiley, NY, 1950).\n",
            "   - Duda, R.O., & Hart, P.E. (1973) Pattern Classification and Scene Analysis.\n",
            "     (Q327.D83) John Wiley & Sons.  ISBN 0-471-22361-1.  See page 218.\n",
            "   - Dasarathy, B.V. (1980) \"Nosing Around the Neighborhood: A New System\n",
            "     Structure and Classification Rule for Recognition in Partially Exposed\n",
            "     Environments\".  IEEE Transactions on Pattern Analysis and Machine\n",
            "     Intelligence, Vol. PAMI-2, No. 1, 67-71.\n",
            "   - Gates, G.W. (1972) \"The Reduced Nearest Neighbor Rule\".  IEEE Transactions\n",
            "     on Information Theory, May 1972, 431-433.\n",
            "   - See also: 1988 MLC Proceedings, 54-64.  Cheeseman et al\"s AUTOCLASS II\n",
            "     conceptual clustering system finds 3 classes in the data.\n",
            "   - Many, many more ...\n"
          ],
          "name": "stdout"
        }
      ]
    },
    {
      "cell_type": "markdown",
      "metadata": {
        "id": "fy3VCtWB9Z5p",
        "colab_type": "text"
      },
      "source": [
        "In the cell below, you can see distributions of all variables in the dataset for a logistic regression."
      ]
    },
    {
      "cell_type": "code",
      "metadata": {
        "id": "Y48bx_9RT52u",
        "colab_type": "code",
        "outputId": "774ae65c-b495-4f83-f8c8-f96d2c810bf0",
        "colab": {
          "base_uri": "https://localhost:8080/",
          "height": 346,
          "referenced_widgets": [
            "a4a5c8e77507486d85444e507d5bf94f",
            "ee2d7f3cc8b14cc78037efd2bec4f7f8",
            "bfc2ac2eaa554169a2fd0d2799ea7a2e",
            "f986c7da70504bcdad01cb1c732fd17e",
            "87e2cf02942a4953b5782927b048703f",
            "258fa55056bc4f4c9d67b725d67b73e8",
            "77263261488944ae83cb67099668ceac",
            "3635dfbc4c484e3986ff8e1181cc371e",
            "dcb216db650a4ea0a17458c6201c4b59",
            "e1bedbed0cde458e98e8bf07c75188c4"
          ]
        }
      },
      "source": [
        "@interact\n",
        "def show_data_distibution_for_logreg(column=df_logreg.columns, x=20):\n",
        "    return df_logreg[column].hist()"
      ],
      "execution_count": 15,
      "outputs": [
        {
          "output_type": "display_data",
          "data": {
            "application/vnd.jupyter.widget-view+json": {
              "model_id": "a4a5c8e77507486d85444e507d5bf94f",
              "version_minor": 0,
              "version_major": 2
            },
            "text/plain": [
              "interactive(children=(Dropdown(description='column', options=('sepal length (cm)', 'sepal width (cm)', 'petal …"
            ]
          },
          "metadata": {
            "tags": []
          }
        }
      ]
    },
    {
      "cell_type": "markdown",
      "metadata": {
        "id": "rh-gP7nSzp23",
        "colab_type": "text"
      },
      "source": [
        "## Application"
      ]
    },
    {
      "cell_type": "markdown",
      "metadata": {
        "id": "xGmFQ3IoELq3",
        "colab_type": "text"
      },
      "source": [
        "### Linear regression example"
      ]
    },
    {
      "cell_type": "markdown",
      "metadata": {
        "id": "YQni1l1U8oSi",
        "colab_type": "text"
      },
      "source": [
        "We will consider simple linear regression with a quantitative response Y and a single predictor X. Linear regression assumes that a linear relationship exists between X and Y: $$Y = b_0 + b_1 * X\\ ,$$ where $b_0$ is the intercept, $b_1$ is the slope terms on the linear model.\n",
        "\n",
        "Coefficient of determination shows us, how much do we gain using this model instead of mean model ($Y = \\bar{Y}$)"
      ]
    },
    {
      "cell_type": "code",
      "metadata": {
        "id": "vj2neSpW1_pI",
        "colab_type": "code",
        "outputId": "00faa49e-6df5-4062-d307-03c8788202ce",
        "colab": {
          "base_uri": "https://localhost:8080/",
          "height": 354
        }
      },
      "source": [
        "# Load the diabetes dataset\n",
        "diabetes_X, diabetes_y = datasets.load_diabetes(return_X_y=True)\n",
        "\n",
        "# Use only one feature\n",
        "diabetes_X = diabetes_X[:, np.newaxis, 2]\n",
        "\n",
        "# Split the data into training/testing sets\n",
        "diabetes_X_train = diabetes_X[:-20]\n",
        "diabetes_X_test = diabetes_X[-20:]\n",
        "\n",
        "# Split the targets into training/testing sets\n",
        "diabetes_y_train = diabetes_y[:-20]\n",
        "diabetes_y_test = diabetes_y[-20:]\n",
        "\n",
        "# Create linear regression object\n",
        "regr = linear_model.LinearRegression()\n",
        "\n",
        "# Train the model using the training sets\n",
        "regr.fit(diabetes_X_train, diabetes_y_train)\n",
        "\n",
        "# Make predictions using the testing set\n",
        "diabetes_y_pred = regr.predict(diabetes_X_test)\n",
        "\n",
        "# The coefficients\n",
        "print('The slope: \\n', regr.coef_[0])\n",
        "print('The intercept: \\n', regr.intercept_)\n",
        "# The mean squared error\n",
        "print('Mean squared error: %.2f'\n",
        "      % mean_squared_error(diabetes_y_test, diabetes_y_pred))\n",
        "# The coefficient of determination: 1 is perfect prediction\n",
        "print('Coefficient of determination: %.2f'\n",
        "      % r2_score(diabetes_y_test, diabetes_y_pred))\n",
        "\n",
        "# Plot outputs\n",
        "plt.scatter(diabetes_X_test, diabetes_y_test,  color='black')\n",
        "plt.plot(diabetes_X_test, diabetes_y_pred, color='blue', linewidth=3)\n",
        "\n",
        "plt.xticks(())\n",
        "plt.yticks(())\n",
        "\n",
        "plt.show()"
      ],
      "execution_count": 0,
      "outputs": [
        {
          "output_type": "stream",
          "text": [
            "The slope: \n",
            " 938.2378612512637\n",
            "The intercept: \n",
            " 152.91886182616167\n",
            "Mean squared error: 2548.07\n",
            "Coefficient of determination: 0.47\n"
          ],
          "name": "stdout"
        },
        {
          "output_type": "display_data",
          "data": {
            "image/png": "[encoded data removed]",
            "text/plain": [
              "<Figure size 432x288 with 1 Axes>"
            ]
          },
          "metadata": {
            "tags": []
          }
        }
      ]
    },
    {
      "cell_type": "markdown",
      "metadata": {
        "id": "__VsfvKbCwb7",
        "colab_type": "text"
      },
      "source": [
        "In the case of linear regression, we need to minimize the Mean Squared Error:\n",
        "$$MSE = \\Sigma _{i=1}^n (y_i - (b_0+b_1*x))^2,$$ where $y_i$ indicates the real target, $b_0+b_1*x$ indicates the predicted target value."
      ]
    },
    {
      "cell_type": "markdown",
      "metadata": {
        "id": "RZ5Y5roUEPXL",
        "colab_type": "text"
      },
      "source": [
        "### Logistic regression example"
      ]
    },
    {
      "cell_type": "markdown",
      "metadata": {
        "id": "euTSDmy_L9LW",
        "colab_type": "text"
      },
      "source": [
        "In the chosen dataset, the response falls into one of two classes (1 and 2). Instead of directly modeling this response, the logistic regression models the probability that Y belongs to a particular class.\n",
        "\n",
        "We will model the following relationship:\n",
        "$$log \\frac{p(Y=1)}{1 - p(Y=1)} =  b_0 + b_1*X.$$\n",
        "We assume a linear relationship between the predictor variables and the log-odds of the event that $Y=1$."
      ]
    },
    {
      "cell_type": "code",
      "metadata": {
        "id": "X0phZaeJETHg",
        "colab_type": "code",
        "outputId": "94d4ffad-22c5-4fc5-b68a-bda6816feeb6",
        "colab": {
          "base_uri": "https://localhost:8080/",
          "height": 283
        }
      },
      "source": [
        "X = iris[\"data\"][:,3:]  # petal width\n",
        "y = (iris[\"target\"]==2).astype(np.int)\n",
        "\n",
        "log_reg = LogisticRegression(penalty=\"l2\")\n",
        "log_reg.fit(X,y)\n",
        "\n",
        "X_new = np.linspace(0,3,1000).reshape(-1,1)\n",
        "y_proba = log_reg.predict_proba(X_new)\n",
        "\n",
        "plt.plot(X,y,\"r.\")\n",
        "plt.plot(X_new,y_proba[:,1],\"g-\",label=\"Iris-Virginica\")\n",
        "plt.plot(X_new,y_proba[:,0],\"b--\",label=\"Not Iris-Virginca\")\n",
        "plt.xlabel(\"Petal width\", fontsize=14)\n",
        "plt.ylabel(\"Probability\", fontsize=14)\n",
        "plt.legend(loc=\"upper left\", fontsize=14)\n",
        "plt.show()"
      ],
      "execution_count": 0,
      "outputs": [
        {
          "output_type": "display_data",
          "data": {
            "image/png": "[encoded data removed]",
            "text/plain": [
              "<Figure size 432x288 with 1 Axes>"
            ]
          },
          "metadata": {
            "tags": [],
            "needs_background": "light"
          }
        }
      ]
    },
    {
      "cell_type": "markdown",
      "metadata": {
        "id": "tEU1fuqREygQ",
        "colab_type": "text"
      },
      "source": [
        "In the case of logistic regression, we need to minimize the Logistic Loss:\n",
        "$$LogLoss = \\Sigma _{(x,y)\\in D} -y*log(y') - (1-y) * log(1-y'),$$ where $(x,y)\\in D$ is the dataset of a labeled data, $y$ indicates the real target, $y'$ - the predicted target value."
      ]
    },
    {
      "cell_type": "markdown",
      "metadata": {
        "id": "n7rXmOAfz7t9",
        "colab_type": "text"
      },
      "source": [
        "## Conclusion\n",
        "\n",
        "![](https://drive.google.com/uc?id=1OE4gIKJdvS5Eqi83wgsp6KlsaYurIO5f)\n",
        "\n",
        "During this tutorial, we have seen basic examples of linear and logistic regression. \n",
        "\n",
        "When we work with linear regression, the following problems can occur:\n",
        "- non-linearity of the relationship between predictor and response;\n",
        "- correlation of error terms;\n",
        "- non-constant variance of error terms;\n",
        "- outliers;\n",
        "- high-leverage points;\n",
        "- collinearity.\n",
        "\n",
        "We can use residual plots to look at the data distribution and overcome the problems discribed above.\n",
        "\n",
        "When we work with logistic regression, the following problems can occur:\n",
        "- when the classes are well-separated, the logistic regression becomes unstable;\n",
        "- if X is approximately normal in each class, the logistic regression also becomes unstable;\n",
        "- it is difficult for us to work with the logistic regression, when we have more than two response classes.\n",
        "\n",
        "You can use linear discriminant ananlysis to overcome these problems :)\n",
        "\n"
      ]
    },
    {
      "cell_type": "markdown",
      "metadata": {
        "id": "jBzcWz4M0Fm0",
        "colab_type": "text"
      },
      "source": [
        "## References / Acknowledgements"
      ]
    },
    {
      "cell_type": "markdown",
      "metadata": {
        "id": "K1nm8ZcO0JUH",
        "colab_type": "text"
      },
      "source": [
        "- James, G., Witten, D., Hastie, T., & Tibshirani, R. (2013). An introduction to statistical learning (Vol. 112, pp. 3-7). New York: springer.\n",
        "- https://en.wikipedia.org/wiki/Linear_regression\n",
        "- https://en.wikipedia.org/wiki/Logistic_regression\n",
        "- https://scikit-learn.org/stable/auto_examples/linear_model/plot_ols.html#sphx-glr-auto-examples-linear-model-plot-ols-py\n",
        "- https://scikit-learn.org/stable/auto_examples/linear_model/plot_logistic.html#sphx-glr-auto-examples-linear-model-plot-logistic-py\n",
        "- https://towardsdatascience.com/a-comprehensive-study-of-linear-vs-logistic-regression-to-refresh-the-basics-7e526c1d3ebe"
      ]
    }
  ]
}