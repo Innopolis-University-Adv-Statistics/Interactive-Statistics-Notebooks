{
  "nbformat": 4,
  "nbformat_minor": 0,
  "metadata": {
    "kernelspec": {
      "display_name": "Python 3",
      "language": "python",
      "name": "python3"
    },
    "language_info": {
      "codemirror_mode": {
        "name": "ipython",
        "version": 3
      },
      "file_extension": ".py",
      "mimetype": "text/x-python",
      "name": "python",
      "nbconvert_exporter": "python",
      "pygments_lexer": "ipython3",
      "version": "3.6.9"
    },
    "colab": {
      "name": "Gamma-Distribution.ipynb",
      "provenance": [],
      "include_colab_link": true
    },
    "widgets": {
      "application/vnd.jupyter.widget-state+json": {
        "ce0d6e68331949b48ac12c7debf20849": {
          "model_module": "@jupyter-widgets/controls",
          "model_name": "VBoxModel",
          "state": {
            "_view_name": "VBoxView",
            "_dom_classes": [
              "widget-interact"
            ],
            "_model_name": "VBoxModel",
            "_view_module": "@jupyter-widgets/controls",
            "_model_module_version": "1.5.0",
            "_view_count": null,
            "_view_module_version": "1.5.0",
            "box_style": "",
            "layout": "IPY_MODEL_5b78e41bc69f4672ae415886fbde34e1",
            "_model_module": "@jupyter-widgets/controls",
            "children": [
              "IPY_MODEL_49c6a274a1864d8c9ded9506db0cf294",
              "IPY_MODEL_0be07f961a1b436eb721b07f8491497b",
              "IPY_MODEL_c057d87d8bad404399795cb84b263d34"
            ]
          }
        },
        "5b78e41bc69f4672ae415886fbde34e1": {
          "model_module": "@jupyter-widgets/base",
          "model_name": "LayoutModel",
          "state": {
            "_view_name": "LayoutView",
            "grid_template_rows": null,
            "right": null,
            "justify_content": null,
            "_view_module": "@jupyter-widgets/base",
            "overflow": null,
            "_model_module_version": "1.2.0",
            "_view_count": null,
            "flex_flow": null,
            "width": null,
            "min_width": null,
            "border": null,
            "align_items": null,
            "bottom": null,
            "_model_module": "@jupyter-widgets/base",
            "top": null,
            "grid_column": null,
            "overflow_y": null,
            "overflow_x": null,
            "grid_auto_flow": null,
            "grid_area": null,
            "grid_template_columns": null,
            "flex": null,
            "_model_name": "LayoutModel",
            "justify_items": null,
            "grid_row": null,
            "max_height": null,
            "align_content": null,
            "visibility": null,
            "align_self": null,
            "height": null,
            "min_height": null,
            "padding": null,
            "grid_auto_rows": null,
            "grid_gap": null,
            "max_width": null,
            "order": null,
            "_view_module_version": "1.2.0",
            "grid_template_areas": null,
            "object_position": null,
            "object_fit": null,
            "grid_auto_columns": null,
            "margin": null,
            "display": null,
            "left": null
          }
        },
        "49c6a274a1864d8c9ded9506db0cf294": {
          "model_module": "@jupyter-widgets/controls",
          "model_name": "FloatSliderModel",
          "state": {
            "_view_name": "FloatSliderView",
            "style": "IPY_MODEL_06f77a2efb704607a7b862ef818ba2f7",
            "_dom_classes": [],
            "description": "k",
            "step": 0.5,
            "_model_name": "FloatSliderModel",
            "orientation": "horizontal",
            "max": 50,
            "_view_module": "@jupyter-widgets/controls",
            "_model_module_version": "1.5.0",
            "value": 9,
            "_view_count": null,
            "disabled": false,
            "_view_module_version": "1.5.0",
            "min": 0,
            "continuous_update": true,
            "readout_format": ".2f",
            "description_tooltip": null,
            "readout": true,
            "_model_module": "@jupyter-widgets/controls",
            "layout": "IPY_MODEL_79004124c13e4754909c4fe17c1caddc"
          }
        },
        "0be07f961a1b436eb721b07f8491497b": {
          "model_module": "@jupyter-widgets/controls",
          "model_name": "FloatSliderModel",
          "state": {
            "_view_name": "FloatSliderView",
            "style": "IPY_MODEL_cbd0279b191b4a7392d3f172d3710928",
            "_dom_classes": [],
            "description": "theta",
            "step": 0.1,
            "_model_name": "FloatSliderModel",
            "orientation": "horizontal",
            "max": 5,
            "_view_module": "@jupyter-widgets/controls",
            "_model_module_version": "1.5.0",
            "value": 0.5,
            "_view_count": null,
            "disabled": false,
            "_view_module_version": "1.5.0",
            "min": 0.1,
            "continuous_update": true,
            "readout_format": ".2f",
            "description_tooltip": null,
            "readout": true,
            "_model_module": "@jupyter-widgets/controls",
            "layout": "IPY_MODEL_dd2cb1e015a942b4aa80c34e6de7cba4"
          }
        },
        "c057d87d8bad404399795cb84b263d34": {
          "model_module": "@jupyter-widgets/output",
          "model_name": "OutputModel",
          "state": {
            "_view_name": "OutputView",
            "msg_id": "",
            "_dom_classes": [],
            "_model_name": "OutputModel",
            "outputs": [
              {
                "output_type": "display_data",
                "metadata": {
                  "tags": [],
                  "needs_background": "light"
                },
                "image/png": "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\n",
                "text/plain": "<Figure size 432x288 with 1 Axes>"
              },
              {
                "output_type": "display_data",
                "metadata": {
                  "tags": []
                },
                "text/plain": "(<Figure size 432x288 with 1 Axes>,\n <matplotlib.axes._subplots.AxesSubplot at 0x7fcc983bf278>)"
              }
            ],
            "_view_module": "@jupyter-widgets/output",
            "_model_module_version": "1.0.0",
            "_view_count": null,
            "_view_module_version": "1.0.0",
            "layout": "IPY_MODEL_399e77475ab64e93b20380fa49c6c2b5",
            "_model_module": "@jupyter-widgets/output"
          }
        },
        "06f77a2efb704607a7b862ef818ba2f7": {
          "model_module": "@jupyter-widgets/controls",
          "model_name": "SliderStyleModel",
          "state": {
            "_view_name": "StyleView",
            "handle_color": null,
            "_model_name": "SliderStyleModel",
            "description_width": "",
            "_view_module": "@jupyter-widgets/base",
            "_model_module_version": "1.5.0",
            "_view_count": null,
            "_view_module_version": "1.2.0",
            "_model_module": "@jupyter-widgets/controls"
          }
        },
        "79004124c13e4754909c4fe17c1caddc": {
          "model_module": "@jupyter-widgets/base",
          "model_name": "LayoutModel",
          "state": {
            "_view_name": "LayoutView",
            "grid_template_rows": null,
            "right": null,
            "justify_content": null,
            "_view_module": "@jupyter-widgets/base",
            "overflow": null,
            "_model_module_version": "1.2.0",
            "_view_count": null,
            "flex_flow": null,
            "width": null,
            "min_width": null,
            "border": null,
            "align_items": null,
            "bottom": null,
            "_model_module": "@jupyter-widgets/base",
            "top": null,
            "grid_column": null,
            "overflow_y": null,
            "overflow_x": null,
            "grid_auto_flow": null,
            "grid_area": null,
            "grid_template_columns": null,
            "flex": null,
            "_model_name": "LayoutModel",
            "justify_items": null,
            "grid_row": null,
            "max_height": null,
            "align_content": null,
            "visibility": null,
            "align_self": null,
            "height": null,
            "min_height": null,
            "padding": null,
            "grid_auto_rows": null,
            "grid_gap": null,
            "max_width": null,
            "order": null,
            "_view_module_version": "1.2.0",
            "grid_template_areas": null,
            "object_position": null,
            "object_fit": null,
            "grid_auto_columns": null,
            "margin": null,
            "display": null,
            "left": null
          }
        },
        "cbd0279b191b4a7392d3f172d3710928": {
          "model_module": "@jupyter-widgets/controls",
          "model_name": "SliderStyleModel",
          "state": {
            "_view_name": "StyleView",
            "handle_color": null,
            "_model_name": "SliderStyleModel",
            "description_width": "",
            "_view_module": "@jupyter-widgets/base",
            "_model_module_version": "1.5.0",
            "_view_count": null,
            "_view_module_version": "1.2.0",
            "_model_module": "@jupyter-widgets/controls"
          }
        },
        "dd2cb1e015a942b4aa80c34e6de7cba4": {
          "model_module": "@jupyter-widgets/base",
          "model_name": "LayoutModel",
          "state": {
            "_view_name": "LayoutView",
            "grid_template_rows": null,
            "right": null,
            "justify_content": null,
            "_view_module": "@jupyter-widgets/base",
            "overflow": null,
            "_model_module_version": "1.2.0",
            "_view_count": null,
            "flex_flow": null,
            "width": null,
            "min_width": null,
            "border": null,
            "align_items": null,
            "bottom": null,
            "_model_module": "@jupyter-widgets/base",
            "top": null,
            "grid_column": null,
            "overflow_y": null,
            "overflow_x": null,
            "grid_auto_flow": null,
            "grid_area": null,
            "grid_template_columns": null,
            "flex": null,
            "_model_name": "LayoutModel",
            "justify_items": null,
            "grid_row": null,
            "max_height": null,
            "align_content": null,
            "visibility": null,
            "align_self": null,
            "height": null,
            "min_height": null,
            "padding": null,
            "grid_auto_rows": null,
            "grid_gap": null,
            "max_width": null,
            "order": null,
            "_view_module_version": "1.2.0",
            "grid_template_areas": null,
            "object_position": null,
            "object_fit": null,
            "grid_auto_columns": null,
            "margin": null,
            "display": null,
            "left": null
          }
        },
        "399e77475ab64e93b20380fa49c6c2b5": {
          "model_module": "@jupyter-widgets/base",
          "model_name": "LayoutModel",
          "state": {
            "_view_name": "LayoutView",
            "grid_template_rows": null,
            "right": null,
            "justify_content": null,
            "_view_module": "@jupyter-widgets/base",
            "overflow": null,
            "_model_module_version": "1.2.0",
            "_view_count": null,
            "flex_flow": null,
            "width": null,
            "min_width": null,
            "border": null,
            "align_items": null,
            "bottom": null,
            "_model_module": "@jupyter-widgets/base",
            "top": null,
            "grid_column": null,
            "overflow_y": null,
            "overflow_x": null,
            "grid_auto_flow": null,
            "grid_area": null,
            "grid_template_columns": null,
            "flex": null,
            "_model_name": "LayoutModel",
            "justify_items": null,
            "grid_row": null,
            "max_height": null,
            "align_content": null,
            "visibility": null,
            "align_self": null,
            "height": null,
            "min_height": null,
            "padding": null,
            "grid_auto_rows": null,
            "grid_gap": null,
            "max_width": null,
            "order": null,
            "_view_module_version": "1.2.0",
            "grid_template_areas": null,
            "object_position": null,
            "object_fit": null,
            "grid_auto_columns": null,
            "margin": null,
            "display": null,
            "left": null
          }
        },
        "9628d1ad09174a53ab52d9a2180bbfad": {
          "model_module": "@jupyter-widgets/controls",
          "model_name": "VBoxModel",
          "state": {
            "_view_name": "VBoxView",
            "_dom_classes": [
              "widget-interact"
            ],
            "_model_name": "VBoxModel",
            "_view_module": "@jupyter-widgets/controls",
            "_model_module_version": "1.5.0",
            "_view_count": null,
            "_view_module_version": "1.5.0",
            "box_style": "",
            "layout": "IPY_MODEL_a6c3d8b6a4c54402805f21a25d9ee551",
            "_model_module": "@jupyter-widgets/controls",
            "children": [
              "IPY_MODEL_71e385b3677643a5b3b8e028e1d9b026",
              "IPY_MODEL_701450a194fc451dbd4c138d91d4fc64",
              "IPY_MODEL_e4b5e596424a4fb68c957d7a66e04ef9",
              "IPY_MODEL_f7d302ca40884a2fb269140fe999ce9c",
              "IPY_MODEL_ca44cad0a6ba42b781d650519086fb25"
            ]
          }
        },
        "a6c3d8b6a4c54402805f21a25d9ee551": {
          "model_module": "@jupyter-widgets/base",
          "model_name": "LayoutModel",
          "state": {
            "_view_name": "LayoutView",
            "grid_template_rows": null,
            "right": null,
            "justify_content": null,
            "_view_module": "@jupyter-widgets/base",
            "overflow": null,
            "_model_module_version": "1.2.0",
            "_view_count": null,
            "flex_flow": null,
            "width": null,
            "min_width": null,
            "border": null,
            "align_items": null,
            "bottom": null,
            "_model_module": "@jupyter-widgets/base",
            "top": null,
            "grid_column": null,
            "overflow_y": null,
            "overflow_x": null,
            "grid_auto_flow": null,
            "grid_area": null,
            "grid_template_columns": null,
            "flex": null,
            "_model_name": "LayoutModel",
            "justify_items": null,
            "grid_row": null,
            "max_height": null,
            "align_content": null,
            "visibility": null,
            "align_self": null,
            "height": null,
            "min_height": null,
            "padding": null,
            "grid_auto_rows": null,
            "grid_gap": null,
            "max_width": null,
            "order": null,
            "_view_module_version": "1.2.0",
            "grid_template_areas": null,
            "object_position": null,
            "object_fit": null,
            "grid_auto_columns": null,
            "margin": null,
            "display": null,
            "left": null
          }
        },
        "71e385b3677643a5b3b8e028e1d9b026": {
          "model_module": "@jupyter-widgets/controls",
          "model_name": "IntSliderModel",
          "state": {
            "_view_name": "IntSliderView",
            "style": "IPY_MODEL_a45327786e944dddbc70b8d130784371",
            "_dom_classes": [],
            "description": "k",
            "step": 1,
            "_model_name": "IntSliderModel",
            "orientation": "horizontal",
            "max": 20,
            "_view_module": "@jupyter-widgets/controls",
            "_model_module_version": "1.5.0",
            "value": 4,
            "_view_count": null,
            "disabled": false,
            "_view_module_version": "1.5.0",
            "min": 1,
            "continuous_update": true,
            "readout_format": "d",
            "description_tooltip": null,
            "readout": true,
            "_model_module": "@jupyter-widgets/controls",
            "layout": "IPY_MODEL_3f672f7e1d4947deaa88e29077e7bd83"
          }
        },
        "701450a194fc451dbd4c138d91d4fc64": {
          "model_module": "@jupyter-widgets/controls",
          "model_name": "FloatSliderModel",
          "state": {
            "_view_name": "FloatSliderView",
            "style": "IPY_MODEL_16fee4e84116480cb89176deae268908",
            "_dom_classes": [],
            "description": "theta",
            "step": 0.1,
            "_model_name": "FloatSliderModel",
            "orientation": "horizontal",
            "max": 5,
            "_view_module": "@jupyter-widgets/controls",
            "_model_module_version": "1.5.0",
            "value": 2,
            "_view_count": null,
            "disabled": false,
            "_view_module_version": "1.5.0",
            "min": 0.1,
            "continuous_update": true,
            "readout_format": ".2f",
            "description_tooltip": null,
            "readout": true,
            "_model_module": "@jupyter-widgets/controls",
            "layout": "IPY_MODEL_57abc1d47b1848a1b517c9c201d564e0"
          }
        },
        "e4b5e596424a4fb68c957d7a66e04ef9": {
          "model_module": "@jupyter-widgets/controls",
          "model_name": "FloatSliderModel",
          "state": {
            "_view_name": "FloatSliderView",
            "style": "IPY_MODEL_0935ff3c83aa431ebf8850aac98c01c1",
            "_dom_classes": [],
            "description": "a",
            "step": 0.25,
            "_model_name": "FloatSliderModel",
            "orientation": "horizontal",
            "max": 20,
            "_view_module": "@jupyter-widgets/controls",
            "_model_module_version": "1.5.0",
            "value": 2,
            "_view_count": null,
            "disabled": false,
            "_view_module_version": "1.5.0",
            "min": 0,
            "continuous_update": true,
            "readout_format": ".2f",
            "description_tooltip": null,
            "readout": true,
            "_model_module": "@jupyter-widgets/controls",
            "layout": "IPY_MODEL_d5cbd451d3024785a5ed44aec9d10d79"
          }
        },
        "f7d302ca40884a2fb269140fe999ce9c": {
          "model_module": "@jupyter-widgets/controls",
          "model_name": "FloatSliderModel",
          "state": {
            "_view_name": "FloatSliderView",
            "style": "IPY_MODEL_724cbaf0442841ff8d27a750273218e5",
            "_dom_classes": [],
            "description": "b",
            "step": 0.25,
            "_model_name": "FloatSliderModel",
            "orientation": "horizontal",
            "max": 20,
            "_view_module": "@jupyter-widgets/controls",
            "_model_module_version": "1.5.0",
            "value": 4,
            "_view_count": null,
            "disabled": false,
            "_view_module_version": "1.5.0",
            "min": 0,
            "continuous_update": true,
            "readout_format": ".2f",
            "description_tooltip": null,
            "readout": true,
            "_model_module": "@jupyter-widgets/controls",
            "layout": "IPY_MODEL_96f46685131a481084c84443df64e2f3"
          }
        },
        "ca44cad0a6ba42b781d650519086fb25": {
          "model_module": "@jupyter-widgets/output",
          "model_name": "OutputModel",
          "state": {
            "_view_name": "OutputView",
            "msg_id": "",
            "_dom_classes": [],
            "_model_name": "OutputModel",
            "outputs": [
              {
                "output_type": "display_data",
                "metadata": {
                  "tags": [],
                  "needs_background": "light"
                },
                "image/png": "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\n",
                "text/plain": "<Figure size 432x288 with 1 Axes>"
              }
            ],
            "_view_module": "@jupyter-widgets/output",
            "_model_module_version": "1.0.0",
            "_view_count": null,
            "_view_module_version": "1.0.0",
            "layout": "IPY_MODEL_1ca722d6ed144975ba7a6175a558206b",
            "_model_module": "@jupyter-widgets/output"
          }
        },
        "a45327786e944dddbc70b8d130784371": {
          "model_module": "@jupyter-widgets/controls",
          "model_name": "SliderStyleModel",
          "state": {
            "_view_name": "StyleView",
            "handle_color": null,
            "_model_name": "SliderStyleModel",
            "description_width": "",
            "_view_module": "@jupyter-widgets/base",
            "_model_module_version": "1.5.0",
            "_view_count": null,
            "_view_module_version": "1.2.0",
            "_model_module": "@jupyter-widgets/controls"
          }
        },
        "3f672f7e1d4947deaa88e29077e7bd83": {
          "model_module": "@jupyter-widgets/base",
          "model_name": "LayoutModel",
          "state": {
            "_view_name": "LayoutView",
            "grid_template_rows": null,
            "right": null,
            "justify_content": null,
            "_view_module": "@jupyter-widgets/base",
            "overflow": null,
            "_model_module_version": "1.2.0",
            "_view_count": null,
            "flex_flow": null,
            "width": null,
            "min_width": null,
            "border": null,
            "align_items": null,
            "bottom": null,
            "_model_module": "@jupyter-widgets/base",
            "top": null,
            "grid_column": null,
            "overflow_y": null,
            "overflow_x": null,
            "grid_auto_flow": null,
            "grid_area": null,
            "grid_template_columns": null,
            "flex": null,
            "_model_name": "LayoutModel",
            "justify_items": null,
            "grid_row": null,
            "max_height": null,
            "align_content": null,
            "visibility": null,
            "align_self": null,
            "height": null,
            "min_height": null,
            "padding": null,
            "grid_auto_rows": null,
            "grid_gap": null,
            "max_width": null,
            "order": null,
            "_view_module_version": "1.2.0",
            "grid_template_areas": null,
            "object_position": null,
            "object_fit": null,
            "grid_auto_columns": null,
            "margin": null,
            "display": null,
            "left": null
          }
        },
        "16fee4e84116480cb89176deae268908": {
          "model_module": "@jupyter-widgets/controls",
          "model_name": "SliderStyleModel",
          "state": {
            "_view_name": "StyleView",
            "handle_color": null,
            "_model_name": "SliderStyleModel",
            "description_width": "",
            "_view_module": "@jupyter-widgets/base",
            "_model_module_version": "1.5.0",
            "_view_count": null,
            "_view_module_version": "1.2.0",
            "_model_module": "@jupyter-widgets/controls"
          }
        },
        "57abc1d47b1848a1b517c9c201d564e0": {
          "model_module": "@jupyter-widgets/base",
          "model_name": "LayoutModel",
          "state": {
            "_view_name": "LayoutView",
            "grid_template_rows": null,
            "right": null,
            "justify_content": null,
            "_view_module": "@jupyter-widgets/base",
            "overflow": null,
            "_model_module_version": "1.2.0",
            "_view_count": null,
            "flex_flow": null,
            "width": null,
            "min_width": null,
            "border": null,
            "align_items": null,
            "bottom": null,
            "_model_module": "@jupyter-widgets/base",
            "top": null,
            "grid_column": null,
            "overflow_y": null,
            "overflow_x": null,
            "grid_auto_flow": null,
            "grid_area": null,
            "grid_template_columns": null,
            "flex": null,
            "_model_name": "LayoutModel",
            "justify_items": null,
            "grid_row": null,
            "max_height": null,
            "align_content": null,
            "visibility": null,
            "align_self": null,
            "height": null,
            "min_height": null,
            "padding": null,
            "grid_auto_rows": null,
            "grid_gap": null,
            "max_width": null,
            "order": null,
            "_view_module_version": "1.2.0",
            "grid_template_areas": null,
            "object_position": null,
            "object_fit": null,
            "grid_auto_columns": null,
            "margin": null,
            "display": null,
            "left": null
          }
        },
        "0935ff3c83aa431ebf8850aac98c01c1": {
          "model_module": "@jupyter-widgets/controls",
          "model_name": "SliderStyleModel",
          "state": {
            "_view_name": "StyleView",
            "handle_color": null,
            "_model_name": "SliderStyleModel",
            "description_width": "",
            "_view_module": "@jupyter-widgets/base",
            "_model_module_version": "1.5.0",
            "_view_count": null,
            "_view_module_version": "1.2.0",
            "_model_module": "@jupyter-widgets/controls"
          }
        },
        "d5cbd451d3024785a5ed44aec9d10d79": {
          "model_module": "@jupyter-widgets/base",
          "model_name": "LayoutModel",
          "state": {
            "_view_name": "LayoutView",
            "grid_template_rows": null,
            "right": null,
            "justify_content": null,
            "_view_module": "@jupyter-widgets/base",
            "overflow": null,
            "_model_module_version": "1.2.0",
            "_view_count": null,
            "flex_flow": null,
            "width": null,
            "min_width": null,
            "border": null,
            "align_items": null,
            "bottom": null,
            "_model_module": "@jupyter-widgets/base",
            "top": null,
            "grid_column": null,
            "overflow_y": null,
            "overflow_x": null,
            "grid_auto_flow": null,
            "grid_area": null,
            "grid_template_columns": null,
            "flex": null,
            "_model_name": "LayoutModel",
            "justify_items": null,
            "grid_row": null,
            "max_height": null,
            "align_content": null,
            "visibility": null,
            "align_self": null,
            "height": null,
            "min_height": null,
            "padding": null,
            "grid_auto_rows": null,
            "grid_gap": null,
            "max_width": null,
            "order": null,
            "_view_module_version": "1.2.0",
            "grid_template_areas": null,
            "object_position": null,
            "object_fit": null,
            "grid_auto_columns": null,
            "margin": null,
            "display": null,
            "left": null
          }
        },
        "724cbaf0442841ff8d27a750273218e5": {
          "model_module": "@jupyter-widgets/controls",
          "model_name": "SliderStyleModel",
          "state": {
            "_view_name": "StyleView",
            "handle_color": null,
            "_model_name": "SliderStyleModel",
            "description_width": "",
            "_view_module": "@jupyter-widgets/base",
            "_model_module_version": "1.5.0",
            "_view_count": null,
            "_view_module_version": "1.2.0",
            "_model_module": "@jupyter-widgets/controls"
          }
        },
        "96f46685131a481084c84443df64e2f3": {
          "model_module": "@jupyter-widgets/base",
          "model_name": "LayoutModel",
          "state": {
            "_view_name": "LayoutView",
            "grid_template_rows": null,
            "right": null,
            "justify_content": null,
            "_view_module": "@jupyter-widgets/base",
            "overflow": null,
            "_model_module_version": "1.2.0",
            "_view_count": null,
            "flex_flow": null,
            "width": null,
            "min_width": null,
            "border": null,
            "align_items": null,
            "bottom": null,
            "_model_module": "@jupyter-widgets/base",
            "top": null,
            "grid_column": null,
            "overflow_y": null,
            "overflow_x": null,
            "grid_auto_flow": null,
            "grid_area": null,
            "grid_template_columns": null,
            "flex": null,
            "_model_name": "LayoutModel",
            "justify_items": null,
            "grid_row": null,
            "max_height": null,
            "align_content": null,
            "visibility": null,
            "align_self": null,
            "height": null,
            "min_height": null,
            "padding": null,
            "grid_auto_rows": null,
            "grid_gap": null,
            "max_width": null,
            "order": null,
            "_view_module_version": "1.2.0",
            "grid_template_areas": null,
            "object_position": null,
            "object_fit": null,
            "grid_auto_columns": null,
            "margin": null,
            "display": null,
            "left": null
          }
        },
        "1ca722d6ed144975ba7a6175a558206b": {
          "model_module": "@jupyter-widgets/base",
          "model_name": "LayoutModel",
          "state": {
            "_view_name": "LayoutView",
            "grid_template_rows": null,
            "right": null,
            "justify_content": null,
            "_view_module": "@jupyter-widgets/base",
            "overflow": null,
            "_model_module_version": "1.2.0",
            "_view_count": null,
            "flex_flow": null,
            "width": null,
            "min_width": null,
            "border": null,
            "align_items": null,
            "bottom": null,
            "_model_module": "@jupyter-widgets/base",
            "top": null,
            "grid_column": null,
            "overflow_y": null,
            "overflow_x": null,
            "grid_auto_flow": null,
            "grid_area": null,
            "grid_template_columns": null,
            "flex": null,
            "_model_name": "LayoutModel",
            "justify_items": null,
            "grid_row": null,
            "max_height": null,
            "align_content": null,
            "visibility": null,
            "align_self": null,
            "height": null,
            "min_height": null,
            "padding": null,
            "grid_auto_rows": null,
            "grid_gap": null,
            "max_width": null,
            "order": null,
            "_view_module_version": "1.2.0",
            "grid_template_areas": null,
            "object_position": null,
            "object_fit": null,
            "grid_auto_columns": null,
            "margin": null,
            "display": null,
            "left": null
          }
        }
      }
    }
  },
  "cells": [
    {
      "cell_type": "markdown",
      "metadata": {
        "id": "view-in-github",
        "colab_type": "text"
      },
      "source": [
        "<a href=\"https://colab.research.google.com/github/sobir-git/Interactive-Statistics-Notebooks/blob/gamma-distribution/gamma-distribution/Gamma_Distribution.ipynb\" target=\"_parent\"><img src=\"https://colab.research.google.com/assets/colab-badge.svg\" alt=\"Open In Colab\"/></a>"
      ]
    },
    {
      "cell_type": "code",
      "metadata": {
        "scrolled": true,
        "id": "qUhvsKSMcFqf",
        "colab_type": "code",
        "colab": {
          "base_uri": "https://localhost:8080/",
          "height": 666
        },
        "outputId": "d496610c-5bd3-4617-b9f0-90bb2b62efe6"
      },
      "source": [
        "! pip install ipywidgets\n",
        "! jupyter nbextension enable --py widgetsnbextension\n",
        "\n",
        "import ipywidgets as widgets\n",
        "from ipywidgets import interact, interact_manual"
      ],
      "execution_count": 1,
      "outputs": [
        {
          "output_type": "stream",
          "text": [
            "Requirement already satisfied: ipywidgets in /usr/local/lib/python3.6/dist-packages (7.5.1)\n",
            "Requirement already satisfied: traitlets>=4.3.1 in /usr/local/lib/python3.6/dist-packages (from ipywidgets) (4.3.3)\n",
            "Requirement already satisfied: widgetsnbextension~=3.5.0 in /usr/local/lib/python3.6/dist-packages (from ipywidgets) (3.5.1)\n",
            "Requirement already satisfied: nbformat>=4.2.0 in /usr/local/lib/python3.6/dist-packages (from ipywidgets) (5.0.5)\n",
            "Requirement already satisfied: ipykernel>=4.5.1 in /usr/local/lib/python3.6/dist-packages (from ipywidgets) (4.10.1)\n",
            "Requirement already satisfied: ipython>=4.0.0; python_version >= \"3.3\" in /usr/local/lib/python3.6/dist-packages (from ipywidgets) (5.5.0)\n",
            "Requirement already satisfied: decorator in /usr/local/lib/python3.6/dist-packages (from traitlets>=4.3.1->ipywidgets) (4.4.2)\n",
            "Requirement already satisfied: ipython-genutils in /usr/local/lib/python3.6/dist-packages (from traitlets>=4.3.1->ipywidgets) (0.2.0)\n",
            "Requirement already satisfied: six in /usr/local/lib/python3.6/dist-packages (from traitlets>=4.3.1->ipywidgets) (1.12.0)\n",
            "Requirement already satisfied: notebook>=4.4.1 in /usr/local/lib/python3.6/dist-packages (from widgetsnbextension~=3.5.0->ipywidgets) (5.2.2)\n",
            "Requirement already satisfied: jsonschema!=2.5.0,>=2.4 in /usr/local/lib/python3.6/dist-packages (from nbformat>=4.2.0->ipywidgets) (2.6.0)\n",
            "Requirement already satisfied: jupyter-core in /usr/local/lib/python3.6/dist-packages (from nbformat>=4.2.0->ipywidgets) (4.6.3)\n",
            "Requirement already satisfied: jupyter-client in /usr/local/lib/python3.6/dist-packages (from ipykernel>=4.5.1->ipywidgets) (5.3.4)\n",
            "Requirement already satisfied: tornado>=4.0 in /usr/local/lib/python3.6/dist-packages (from ipykernel>=4.5.1->ipywidgets) (4.5.3)\n",
            "Requirement already satisfied: pickleshare in /usr/local/lib/python3.6/dist-packages (from ipython>=4.0.0; python_version >= \"3.3\"->ipywidgets) (0.7.5)\n",
            "Requirement already satisfied: setuptools>=18.5 in /usr/local/lib/python3.6/dist-packages (from ipython>=4.0.0; python_version >= \"3.3\"->ipywidgets) (46.1.3)\n",
            "Requirement already satisfied: prompt-toolkit<2.0.0,>=1.0.4 in /usr/local/lib/python3.6/dist-packages (from ipython>=4.0.0; python_version >= \"3.3\"->ipywidgets) (1.0.18)\n",
            "Requirement already satisfied: pexpect; sys_platform != \"win32\" in /usr/local/lib/python3.6/dist-packages (from ipython>=4.0.0; python_version >= \"3.3\"->ipywidgets) (4.8.0)\n",
            "Requirement already satisfied: pygments in /usr/local/lib/python3.6/dist-packages (from ipython>=4.0.0; python_version >= \"3.3\"->ipywidgets) (2.1.3)\n",
            "Requirement already satisfied: simplegeneric>0.8 in /usr/local/lib/python3.6/dist-packages (from ipython>=4.0.0; python_version >= \"3.3\"->ipywidgets) (0.8.1)\n",
            "Requirement already satisfied: terminado>=0.3.3; sys_platform != \"win32\" in /usr/local/lib/python3.6/dist-packages (from notebook>=4.4.1->widgetsnbextension~=3.5.0->ipywidgets) (0.8.3)\n",
            "Requirement already satisfied: nbconvert in /usr/local/lib/python3.6/dist-packages (from notebook>=4.4.1->widgetsnbextension~=3.5.0->ipywidgets) (5.6.1)\n",
            "Requirement already satisfied: jinja2 in /usr/local/lib/python3.6/dist-packages (from notebook>=4.4.1->widgetsnbextension~=3.5.0->ipywidgets) (2.11.1)\n",
            "Requirement already satisfied: pyzmq>=13 in /usr/local/lib/python3.6/dist-packages (from jupyter-client->ipykernel>=4.5.1->ipywidgets) (19.0.0)\n",
            "Requirement already satisfied: python-dateutil>=2.1 in /usr/local/lib/python3.6/dist-packages (from jupyter-client->ipykernel>=4.5.1->ipywidgets) (2.8.1)\n",
            "Requirement already satisfied: wcwidth in /usr/local/lib/python3.6/dist-packages (from prompt-toolkit<2.0.0,>=1.0.4->ipython>=4.0.0; python_version >= \"3.3\"->ipywidgets) (0.1.9)\n",
            "Requirement already satisfied: ptyprocess>=0.5 in /usr/local/lib/python3.6/dist-packages (from pexpect; sys_platform != \"win32\"->ipython>=4.0.0; python_version >= \"3.3\"->ipywidgets) (0.6.0)\n",
            "Requirement already satisfied: entrypoints>=0.2.2 in /usr/local/lib/python3.6/dist-packages (from nbconvert->notebook>=4.4.1->widgetsnbextension~=3.5.0->ipywidgets) (0.3)\n",
            "Requirement already satisfied: bleach in /usr/local/lib/python3.6/dist-packages (from nbconvert->notebook>=4.4.1->widgetsnbextension~=3.5.0->ipywidgets) (3.1.4)\n",
            "Requirement already satisfied: testpath in /usr/local/lib/python3.6/dist-packages (from nbconvert->notebook>=4.4.1->widgetsnbextension~=3.5.0->ipywidgets) (0.4.4)\n",
            "Requirement already satisfied: pandocfilters>=1.4.1 in /usr/local/lib/python3.6/dist-packages (from nbconvert->notebook>=4.4.1->widgetsnbextension~=3.5.0->ipywidgets) (1.4.2)\n",
            "Requirement already satisfied: defusedxml in /usr/local/lib/python3.6/dist-packages (from nbconvert->notebook>=4.4.1->widgetsnbextension~=3.5.0->ipywidgets) (0.6.0)\n",
            "Requirement already satisfied: mistune<2,>=0.8.1 in /usr/local/lib/python3.6/dist-packages (from nbconvert->notebook>=4.4.1->widgetsnbextension~=3.5.0->ipywidgets) (0.8.4)\n",
            "Requirement already satisfied: MarkupSafe>=0.23 in /usr/local/lib/python3.6/dist-packages (from jinja2->notebook>=4.4.1->widgetsnbextension~=3.5.0->ipywidgets) (1.1.1)\n",
            "Requirement already satisfied: webencodings in /usr/local/lib/python3.6/dist-packages (from bleach->nbconvert->notebook>=4.4.1->widgetsnbextension~=3.5.0->ipywidgets) (0.5.1)\n",
            "Enabling notebook extension jupyter-js-widgets/extension...\n",
            "      - Validating: \u001b[32mOK\u001b[0m\n"
          ],
          "name": "stdout"
        }
      ]
    },
    {
      "cell_type": "markdown",
      "metadata": {
        "id": "95-axXaicFqk",
        "colab_type": "text"
      },
      "source": [
        "# Gamma Distribution\n",
        "\n",
        "This notebook will introduce you to the Gamma Distribution and its use cases. Interactive widgets help you understand the behavior of this distribution better. You will be experimenting with a real-life example - fishing!\n",
        "\n",
        "### Table of Contents:\n",
        " - Definition of Gamma Function\n",
        " - Gamma Distribution - Introduction\n",
        "     - Properties\n",
        " - Interactive Plot of PDF\n",
        " - Real-life Example - Fishing\n",
        "     - Interaction\n",
        " - References"
      ]
    },
    {
      "cell_type": "markdown",
      "metadata": {
        "id": "ALfb93QGcFql",
        "colab_type": "text"
      },
      "source": [
        "# Gamma function\n",
        "Recall that $\\Gamma (k)$ is the [Gamma function](https://en.wikipedia.org/wiki/Gamma_function)\n",
        "$$\n",
        "{\\displaystyle \\Gamma (k)=\\int _{0}^{\\infty }x^{k-1}e^{-x}\\,dx,\\ \\qquad k>0 .}\n",
        "$$\n",
        "\n",
        "\n",
        "![image.png](https://upload.wikimedia.org/wikipedia/commons/thumb/5/52/Gamma_plot.svg/488px-Gamma_plot.svg.png)\n",
        "\n",
        "It's worth mentioning the two important properties of the Gamma funtion.\n",
        "\n",
        "- $\\Gamma(\\alpha + 1)=\\alpha \\Gamma(\\alpha)$;\n",
        "- $\\Gamma (n)=(n-1)!$\n",
        "\n",
        "The second property indicates that the Gamma function is a generalization of factorial (!).\n"
      ]
    },
    {
      "cell_type": "markdown",
      "metadata": {
        "id": "inaYUrnscFqm",
        "colab_type": "text"
      },
      "source": [
        "# Gamma Distribution - Definition\n",
        "Gamma distribution is a distribution that arises naturally in processes for which the waiting times between events are relevant. It can be thought of as a waiting time between Poisson distributed events. The exponential distribution, and chi-squared distribution are special cases of the gamma distribution. \n",
        "Formally, we can parametrize it using shape parameter $k$ and scale $\\theta$:\n",
        "$$\n",
        "{\\displaystyle X\\sim \\Gamma (k,\\theta )\\equiv \\operatorname {Gamma} (k,\\theta )}\n",
        "$$\n",
        "\n",
        "and the probability distribution is described as\n",
        "$$\n",
        "f(x;k,\\theta) =  \\frac{x^{k-1}e^{-\\frac{x}{\\theta}}}{\\theta^k\\Gamma(k)} \\quad \\text{ for } x > 0 \\text{ and } k, \\theta > 0.\n",
        "$$\n",
        "\n",
        "where\n",
        "\n",
        "- $e$ is the natural number ($e = 2.71828…$)\n",
        "- $k$ is the number of occurrences of an event\n",
        "- if $k$ is a positive integer, then $\\Gamma(k) = (k - 1)$! is the gamma function\n",
        "- $\\theta = 1/\\lambda$ is the mean number of events per time unit, where $\\lambda$ is the mean time between events. For example, if the mean time between phone calls is $2$ hours, then you would use a gamma distribution with $\\theta = 1/2 = 0.5$. If we want to find the mean number of calls in 5 hours, it would be $5 \\times 1/2 = 2.5$.\n",
        "- $x$ is a random variable\n",
        "\n",
        "  \n",
        "There is also another parametrization using shape $\\alpha$ and rate $\\beta$ which you can look up at Wikipedia. "
      ]
    },
    {
      "cell_type": "markdown",
      "metadata": {
        "id": "mWdbijjHcFqn",
        "colab_type": "text"
      },
      "source": [
        "## Properties\n",
        "\n",
        "- $\\mu = k \\theta$\n",
        "- $\\sigma ^ 2 = k \\theta ^ 2$\n",
        "\n",
        "Keep in mind that, for large $k$ the gamma distribution converges to **normal distribution**."
      ]
    },
    {
      "cell_type": "markdown",
      "metadata": {
        "id": "nyKwB440cFqn",
        "colab_type": "text"
      },
      "source": [
        "# Interactive PDF plot"
      ]
    },
    {
      "cell_type": "code",
      "metadata": {
        "id": "7fmDDClpcFqq",
        "colab_type": "code",
        "colab": {}
      },
      "source": [
        "import numpy as np\n",
        "import scipy.stats as stats \n",
        "from matplotlib import pyplot as plt\n",
        "from ipywidgets import interact, interactive, fixed, interact_manual\n",
        "import ipywidgets as widgets"
      ],
      "execution_count": 0,
      "outputs": []
    },
    {
      "cell_type": "code",
      "metadata": {
        "scrolled": true,
        "id": "7Ey35QEZcFqw",
        "colab_type": "code",
        "outputId": "bae85290-58b0-421e-ff44-db9fb7f8130f",
        "colab": {
          "base_uri": "https://localhost:8080/",
          "height": 381,
          "referenced_widgets": [
            "ce0d6e68331949b48ac12c7debf20849",
            "5b78e41bc69f4672ae415886fbde34e1",
            "49c6a274a1864d8c9ded9506db0cf294",
            "0be07f961a1b436eb721b07f8491497b",
            "c057d87d8bad404399795cb84b263d34",
            "06f77a2efb704607a7b862ef818ba2f7",
            "79004124c13e4754909c4fe17c1caddc",
            "cbd0279b191b4a7392d3f172d3710928",
            "dd2cb1e015a942b4aa80c34e6de7cba4",
            "399e77475ab64e93b20380fa49c6c2b5"
          ]
        }
      },
      "source": [
        "@interact(k=widgets.FloatSlider(min=0.0, max=50, step=0.5, value=9.), \n",
        "          theta=widgets.FloatSlider(min=0.1, max=5, step=0.1, value=0.5))\n",
        "def plot_gamma(k, theta):\n",
        "    fig, ax = plt.subplots()\n",
        "\n",
        "    x = np.linspace (0, 20, 100) \n",
        "    y1 = stats.gamma.pdf(x, a=k, scale=theta)\n",
        "    ax.plot(x, y1, \"y-\", label=(fr'$k={k}, \\theta={theta}$')) \n",
        "    ax.set_title(fr'$\\Gamma(k, \\theta)$ - distribution')\n",
        "\n",
        "    ax.legend()\n",
        "    ax.set_ylim([0,0.6])\n",
        "    ax.set_xlim([0,20])\n",
        "    ax.set_xticks(range(20))\n",
        "    return fig, ax\n"
      ],
      "execution_count": 3,
      "outputs": [
        {
          "output_type": "display_data",
          "data": {
            "application/vnd.jupyter.widget-view+json": {
              "model_id": "ce0d6e68331949b48ac12c7debf20849",
              "version_minor": 0,
              "version_major": 2
            },
            "text/plain": [
              "interactive(children=(FloatSlider(value=9.0, description='k', max=50.0, step=0.5), FloatSlider(value=0.5, desc…"
            ]
          },
          "metadata": {
            "tags": []
          }
        }
      ]
    },
    {
      "cell_type": "markdown",
      "metadata": {
        "id": "HMzmjd6QNIom",
        "colab_type": "text"
      },
      "source": [
        "## Question:\n",
        "- How do the parameters $k$ and $\\theta$ affect the distribution?\n",
        "- Can you relate it the process mentioned in the definition section (i.e. the waiting time)?\n",
        "\n",
        "<details>\n",
        "<summary> Hint </summary>\n",
        "\n",
        "https://online.stat.psu.edu/stat414/node/141/\n",
        "\n",
        "</details>"
      ]
    },
    {
      "cell_type": "markdown",
      "metadata": {
        "id": "tyX1w9Q7cFq1",
        "colab_type": "text"
      },
      "source": [
        "# Applications\n",
        "\n",
        "The gamma distribution can be used a range of disciplines including queuing models, climatology, and financial services. Examples of events that may be modeled by gamma distribution include:\n",
        "\n",
        "- The amount of rainfall accumulated in a reservoir\n",
        "- The size of loan defaults or aggregate insurance claims\n",
        "- The flow of items through manufacturing and distribution processes\n",
        "- The load on web servers\n",
        "- The many and varied forms of telecom exchange\n",
        "- The gamma distribution is also used to model errors in a multi-level Poisson regression model because the combination of a Poisson distribution and a gamma distribution is a negative binomial distribution."
      ]
    },
    {
      "cell_type": "markdown",
      "metadata": {
        "id": "JxFDiUNQcFq2",
        "colab_type": "text"
      },
      "source": [
        "# Real-life Example - Fishing \n",
        "\n",
        "Suppose you are fishing and you expect to get a fish once every $1/2$ hour. Compute the probability that you will have to wait between 2 to 4 hours before you catch 4 fish.\n",
        "\n",
        "One fish every $1/2$ hour means we would expect to get $\\theta = 1 / 0.5 = 2$ fish every hour on average. Using $\\theta  = 2$ and $k = 4$, we can compute this as follows:\n",
        "\n",
        "$$\n",
        "P(2\\le X\\le 4)=\\sum_{x=2}^4\\frac{x^{4-1}e^{-x/2}}{\\Gamma(4)2^4}=0.12388\n",
        "$$"
      ]
    },
    {
      "cell_type": "markdown",
      "metadata": {
        "id": "lLsALjmScFq3",
        "colab_type": "text"
      },
      "source": [
        "## Interaction\n",
        "\n",
        "Play with the interactive widget demonstrating the example. Change the variable $\\theta$ - fish rate, $k$ - number fish to catch. The area under the curve shows the expected waiting time to catch the $k$-th fish"
      ]
    },
    {
      "cell_type": "code",
      "metadata": {
        "id": "Db4T_BsAcFq4",
        "colab_type": "code",
        "outputId": "1ff69925-29e4-4acf-e55a-36eed41b3d2a",
        "colab": {
          "base_uri": "https://localhost:8080/",
          "height": 411,
          "referenced_widgets": [
            "9628d1ad09174a53ab52d9a2180bbfad",
            "a6c3d8b6a4c54402805f21a25d9ee551",
            "71e385b3677643a5b3b8e028e1d9b026",
            "701450a194fc451dbd4c138d91d4fc64",
            "e4b5e596424a4fb68c957d7a66e04ef9",
            "f7d302ca40884a2fb269140fe999ce9c",
            "ca44cad0a6ba42b781d650519086fb25",
            "a45327786e944dddbc70b8d130784371",
            "3f672f7e1d4947deaa88e29077e7bd83",
            "16fee4e84116480cb89176deae268908",
            "57abc1d47b1848a1b517c9c201d564e0",
            "0935ff3c83aa431ebf8850aac98c01c1",
            "d5cbd451d3024785a5ed44aec9d10d79",
            "724cbaf0442841ff8d27a750273218e5",
            "96f46685131a481084c84443df64e2f3",
            "1ca722d6ed144975ba7a6175a558206b"
          ]
        }
      },
      "source": [
        "from matplotlib.patches import Polygon\n",
        "\n",
        "\n",
        "@interact(k=widgets.IntSlider(min=1, max=20, step=1, value=4), \n",
        "          theta=widgets.FloatSlider(min=0.1, max=5, step=0.1, value=2.),\n",
        "          a = widgets.FloatSlider(min=0, max=20, step=0.25, value=2),\n",
        "          b = widgets.FloatSlider(min=0, max=20, step=0.25, value=4))\n",
        "def plot_fish_example(k, theta, a=2, b=4):\n",
        "    fig, ax = plot_gamma(k, theta)\n",
        "    # Make the shaded region\n",
        "    ix = np.linspace(a, b)\n",
        "    iy = stats.gamma.pdf(ix, a=k, scale=theta)\n",
        "    verts = [(a, 0), *zip(ix, iy), (b, 0)]\n",
        "    poly = Polygon(verts, facecolor='0.9', edgecolor='0.5')\n",
        "    \n",
        "    intg_value = stats.gamma.cdf(b, a=k, scale=theta) - stats.gamma.cdf(a, a=k, scale=theta)\n",
        "    \n",
        "    text_y = max(iy.min() / 2, 0.01)\n",
        "    ax.text(0.5 * (a + b), text_y, r\"$\\int_a^b \\Gamma(x; k, \\theta)\\mathrm{d}x$ = %0.2f\" % intg_value,\n",
        "        horizontalalignment='center')\n",
        "\n",
        "    ax.add_patch(poly)\n",
        "    ax.set_ylim([0, 0.15])"
      ],
      "execution_count": 4,
      "outputs": [
        {
          "output_type": "display_data",
          "data": {
            "application/vnd.jupyter.widget-view+json": {
              "model_id": "9628d1ad09174a53ab52d9a2180bbfad",
              "version_minor": 0,
              "version_major": 2
            },
            "text/plain": [
              "interactive(children=(IntSlider(value=4, description='k', max=20, min=1), FloatSlider(value=2.0, description='…"
            ]
          },
          "metadata": {
            "tags": []
          }
        }
      ]
    },
    {
      "cell_type": "markdown",
      "metadata": {
        "id": "n7ZMNWJBO1pM",
        "colab_type": "text"
      },
      "source": [
        "# Example\n",
        "*The following example is taken from https://online.stat.psu.edu/stat414/node/144/.*\n",
        "\n",
        "Engineers designing the next generation of space shuttles plan to include two fuel pumps —one active, the other in reserve. If the primary pump malfunctions, the second is automatically brought on line. Suppose a typical mission is expected to require that fuel be pumped for at most 50 hours. According to the manufacturer's specifications, pumps are expected to fail once every 100 hours. What are the chances that such a fuel pump system would not remain functioning for the full 50 hours?\n",
        "\n",
        "<details>\n",
        "<summary> Solution </summary>\n",
        "\n",
        "We are given that $\\lambda$, the&nbsp;average number of failures in a 100-hour interval is 1. Therefore, $\\theta$, the mean waiting time until the first failure is 1/$\\lambda$, or 100 hours. Knowing that, let's now let $Y$denote the time elapsed until the $\\alpha$ = 2nd pump breaks down. Assuming the failures follow a Poisson process, the probability density function of $Y$ is:\n",
        "$$\n",
        "f_Y(y)=\\dfrac{1}{100^2 \\Gamma(2)}e^{-y/100} y^{2-1}=\\dfrac{1}{10000}ye^{-y/100}\n",
        "$$\n",
        "for $y \\gt 0$. Therefore, the probability that the system fails to last for 50 hours is: \n",
        "$$\n",
        "P(Y \\lt 50) = \\int^{50}_0 \\dfrac{1}{10000}ye^{-y/100} dy\n",
        "$$\n",
        "\n",
        "Integrating that baby is going to require integration by parts. Let's let $$\n",
        "u=y \\quad \\text{and} \\quad dv=e^{-y/100}\n",
        "$$\n",
        "So that:\n",
        "$$\n",
        "du=dy \\quad \\text{and} \\quad v=-100e^{-y/100}\n",
        "$$\n",
        "\n",
        "Finish the integration yourself of watch the solution [here](https://www.youtube.com/embed/nnXu9Mj1axQ). The final result is\n",
        "$$\n",
        "1 - \\frac{3}{2} e ^ {-1/2} = 0.09\n",
        "$$\n",
        "\n",
        "</details>\n"
      ]
    },
    {
      "cell_type": "markdown",
      "metadata": {
        "id": "52I-o0AMSjMw",
        "colab_type": "text"
      },
      "source": [
        "# Questions\n",
        "- "
      ]
    },
    {
      "cell_type": "markdown",
      "metadata": {
        "id": "iIZaszG9cFq8",
        "colab_type": "text"
      },
      "source": [
        "# References\n",
        "\n",
        " - http://wiki.stat.ucla.edu/socr/index.php/AP_Statistics_Curriculum_2007_Gamma\n",
        " - Probability and Statistics by Morris H. Degroot, Mark J. Schervish (Fourth edition, page 319)\n",
        " - https://online.stat.psu.edu/stat414/node/89/"
      ]
    },
    {
      "cell_type": "code",
      "metadata": {
        "id": "msEBpWRZSqWe",
        "colab_type": "code",
        "colab": {}
      },
      "source": [
        ""
      ],
      "execution_count": 0,
      "outputs": []
    }
  ]
}