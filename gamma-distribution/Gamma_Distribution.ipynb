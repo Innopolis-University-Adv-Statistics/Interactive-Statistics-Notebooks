{
  "nbformat": 4,
  "nbformat_minor": 0,
  "metadata": {
    "kernelspec": {
      "display_name": "Python 3",
      "language": "python",
      "name": "python3"
    },
    "language_info": {
      "codemirror_mode": {
        "name": "ipython",
        "version": 3
      },
      "file_extension": ".py",
      "mimetype": "text/x-python",
      "name": "python",
      "nbconvert_exporter": "python",
      "pygments_lexer": "ipython3",
      "version": "3.6.9"
    },
    "colab": {
      "name": "Gamma-Distribution.ipynb",
      "provenance": [],
      "include_colab_link": true
    }
  },
  "cells": [
    {
      "cell_type": "markdown",
      "metadata": {
        "id": "view-in-github",
        "colab_type": "text"
      },
      "source": [
        "<a href=\"https://colab.research.google.com/github/sobir-git/Interactive-Statistics-Notebooks/blob/gamma-distribution/gamma-distribution/Gamma_Distribution.ipynb\" target=\"_parent\"><img src=\"https://colab.research.google.com/assets/colab-badge.svg\" alt=\"Open In Colab\"/></a>"
      ]
    },
    {
      "cell_type": "code",
      "metadata": {
        "scrolled": true,
        "id": "qUhvsKSMcFqf",
        "colab_type": "code",
        "colab": {}
      },
      "source": [
        "! pip install ipywidgets\n",
        "! jupyter nbextension enable --py widgetsnbextension\n",
        "\n",
        "import ipywidgets as widgets\n",
        "from ipywidgets import interact, interact_manual"
      ],
      "execution_count": 0,
      "outputs": []
    },
    {
      "cell_type": "markdown",
      "metadata": {
        "id": "95-axXaicFqk",
        "colab_type": "text"
      },
      "source": [
        "# Gamma Distribution\n",
        "\n",
        "This notebook will introduce you to the Gamma Distribution and its use cases. Interactive widgets help you understand the behavior of this distribution better. You will be experimenting with a real-life example - fishing!\n",
        "\n",
        "### Table of Contents:\n",
        " - Definition of Gamma Function\n",
        " - Gamma Distribution - Introduction\n",
        "     - Properties\n",
        " - Interactive Plot of PDF\n",
        " - Real-life Example - Fishing\n",
        "     - Interaction\n",
        " - References"
      ]
    },
    {
      "cell_type": "markdown",
      "metadata": {
        "id": "ALfb93QGcFql",
        "colab_type": "text"
      },
      "source": [
        "# Gamma function\n",
        "Recall that $\\Gamma (k)$ is the [Gamma function](https://en.wikipedia.org/wiki/Gamma_function)\n",
        "$$\n",
        "{\\displaystyle \\Gamma (k)=\\int _{0}^{\\infty }x^{k-1}e^{-x}\\,dx,\\ \\qquad k>0 .}\n",
        "$$\n",
        "\n",
        "It is a generalization of factorial. In fact, for any positive integer $n$\n",
        "$$\n",
        "\\Gamma (n)=(n-1)!\n",
        "$$\n",
        "![image.png](https://upload.wikimedia.org/wikipedia/commons/thumb/5/52/Gamma_plot.svg/488px-Gamma_plot.svg.png)"
      ]
    },
    {
      "cell_type": "markdown",
      "metadata": {
        "id": "inaYUrnscFqm",
        "colab_type": "text"
      },
      "source": [
        "# Gamma Distribution - Definition\n",
        "Gamma distribution is a distribution that arises naturally in processes for which the waiting times between events are relevant. It can be thought of as a waiting time between Poisson distributed events. The exponential distribution, and chi-squared distribution are special cases of the gamma distribution. \n",
        "Formally, we can parametrize it using shape parameter $k$ and scale $\\theta$:\n",
        "$$\n",
        "{\\displaystyle X\\sim \\Gamma (k,\\theta )\\equiv \\operatorname {Gamma} (k,\\theta )}\n",
        "$$\n",
        "\n",
        "and the probability distribution is described as\n",
        "$$\n",
        "f(x;k,\\theta) =  \\frac{x^{k-1}e^{-\\frac{x}{\\theta}}}{\\theta^k\\Gamma(k)} \\quad \\text{ for } x > 0 \\text{ and } k, \\theta > 0.\n",
        "$$\n",
        "\n",
        "where\n",
        "\n",
        "- $e$ is the natural number ($e = 2.71828…$)\n",
        "- $k$ is the number of occurrences of an event\n",
        "- if $k$ is a positive integer, then $\\Gamma(k) = (k - 1)$! is the gamma function\n",
        "- $\\theta = 1/\\lambda$ is the mean number of events per time unit, where $\\lambda$ is the mean time between events. For example, if the mean time between phone calls is $2$ hours, then you would use a gamma distribution with $\\theta = 1/2 = 0.5$. If we want to find the mean number of calls in 5 hours, it would be $5 \\times 1/2 = 2.5$.\n",
        "- $x$ is a random variable\n",
        "\n",
        "  \n",
        "There is also another parametrization using shape $\\alpha$ and rate $\\beta$ which you can look up at Wikipedia. "
      ]
    },
    {
      "cell_type": "markdown",
      "metadata": {
        "id": "mWdbijjHcFqn",
        "colab_type": "text"
      },
      "source": [
        "## Properties\n",
        "\n",
        "- $\\mu = k \\theta$\n",
        "- $\\sigma ^ 2 = k \\theta ^ 2$\n",
        "\n",
        "Keep in mind that, for large $k$ the gamma distribution converges to **normal distribution**."
      ]
    },
    {
      "cell_type": "markdown",
      "metadata": {
        "id": "nyKwB440cFqn",
        "colab_type": "text"
      },
      "source": [
        "# Interactive PDF plot"
      ]
    },
    {
      "cell_type": "code",
      "metadata": {
        "id": "7fmDDClpcFqq",
        "colab_type": "code",
        "colab": {}
      },
      "source": [
        "import numpy as np\n",
        "import scipy.stats as stats \n",
        "from matplotlib import pyplot as plt\n",
        "from ipywidgets import interact, interactive, fixed, interact_manual\n",
        "import ipywidgets as widgets"
      ],
      "execution_count": 0,
      "outputs": []
    },
    {
      "cell_type": "code",
      "metadata": {
        "scrolled": true,
        "id": "7Ey35QEZcFqw",
        "colab_type": "code",
        "outputId": "144baeb1-6a47-497a-d11c-a31d51067eff",
        "colab": {
          "referenced_widgets": [
            "35c8a6f46c354be1be174d80d8e5e66c"
          ]
        }
      },
      "source": [
        "@interact(k=widgets.FloatSlider(min=0.0, max=50, step=0.5, value=9.), \n",
        "          theta=widgets.FloatSlider(min=0.1, max=5, step=0.1, value=0.5))\n",
        "def plot_gamma(k, theta):\n",
        "    fig, ax = plt.subplots()\n",
        "\n",
        "    x = np.linspace (0, 20, 100) \n",
        "    y1 = stats.gamma.pdf(x, a=k, scale=theta)\n",
        "    ax.plot(x, y1, \"y-\", label=(fr'$k={k}, \\theta={theta}$')) \n",
        "    ax.set_title(fr'$\\Gamma(k, \\theta)$ - distribution')\n",
        "\n",
        "    ax.legend()\n",
        "    ax.set_ylim([0,0.6])\n",
        "    ax.set_xlim([0,20])\n",
        "    ax.set_xticks(range(20))\n",
        "    return fig, ax\n"
      ],
      "execution_count": 0,
      "outputs": [
        {
          "output_type": "display_data",
          "data": {
            "application/vnd.jupyter.widget-view+json": {
              "model_id": "35c8a6f46c354be1be174d80d8e5e66c",
              "version_major": 2,
              "version_minor": 0
            },
            "text/plain": [
              "interactive(children=(FloatSlider(value=9.0, description='k', max=50.0, step=0.5), FloatSlider(value=0.5, desc…"
            ]
          },
          "metadata": {
            "tags": []
          }
        }
      ]
    },
    {
      "cell_type": "markdown",
      "metadata": {
        "id": "tyX1w9Q7cFq1",
        "colab_type": "text"
      },
      "source": [
        "# Applications\n",
        "\n",
        "The gamma distribution can be used a range of disciplines including queuing models, climatology, and financial services. Examples of events that may be modeled by gamma distribution include:\n",
        "\n",
        "- The amount of rainfall accumulated in a reservoir\n",
        "- The size of loan defaults or aggregate insurance claims\n",
        "- The flow of items through manufacturing and distribution processes\n",
        "- The load on web servers\n",
        "- The many and varied forms of telecom exchange\n",
        "- The gamma distribution is also used to model errors in a multi-level Poisson regression model because the combination of a Poisson distribution and a gamma distribution is a negative binomial distribution."
      ]
    },
    {
      "cell_type": "markdown",
      "metadata": {
        "id": "JxFDiUNQcFq2",
        "colab_type": "text"
      },
      "source": [
        "# Real-life Example - Fishing \n",
        "\n",
        "Suppose you are fishing and you expect to get a fish once every $1/2$ hour. Compute the probability that you will have to wait between 2 to 4 hours before you catch 4 fish.\n",
        "\n",
        "One fish every $1/2$ hour means we would expect to get $\\theta = 1 / 0.5 = 2$ fish every hour on average. Using $\\theta  = 2$ and $k = 4$, we can compute this as follows:\n",
        "\n",
        "$$\n",
        "P(2\\le X\\le 4)=\\sum_{x=2}^4\\frac{x^{4-1}e^{-x/2}}{\\Gamma(4)2^4}=0.12388\n",
        "$$"
      ]
    },
    {
      "cell_type": "markdown",
      "metadata": {
        "id": "lLsALjmScFq3",
        "colab_type": "text"
      },
      "source": [
        "## Interaction\n",
        "\n",
        "Play with the interactive widget demonstrating the example. Change the variable $\\theta$ - fish rate, $k$ - number fish to catch. The area under the curve shows the expected waiting time to catch the $k$-th fish"
      ]
    },
    {
      "cell_type": "code",
      "metadata": {
        "id": "Db4T_BsAcFq4",
        "colab_type": "code",
        "outputId": "ec2feea0-c40a-4c52-d9f6-7618b17301fa",
        "colab": {
          "referenced_widgets": [
            "fc9b3dc3d05141ddb572ab545a737ac0"
          ]
        }
      },
      "source": [
        "from matplotlib.patches import Polygon\n",
        "\n",
        "\n",
        "@interact(k=widgets.IntSlider(min=1, max=20, step=1, value=4), \n",
        "          theta=widgets.FloatSlider(min=0.1, max=5, step=0.1, value=2.),\n",
        "          a = widgets.FloatSlider(min=0, max=20, step=0.25, value=2),\n",
        "          b = widgets.FloatSlider(min=0, max=20, step=0.25, value=4))\n",
        "def plot_fish_example(k, theta, a=2, b=4):\n",
        "    fig, ax = plot_gamma(k, theta)\n",
        "    # Make the shaded region\n",
        "    ix = np.linspace(a, b)\n",
        "    iy = stats.gamma.pdf(ix, a=k, scale=theta)\n",
        "    verts = [(a, 0), *zip(ix, iy), (b, 0)]\n",
        "    poly = Polygon(verts, facecolor='0.9', edgecolor='0.5')\n",
        "    \n",
        "    intg_value = stats.gamma.cdf(b, a=k, scale=theta) - stats.gamma.cdf(a, a=k, scale=theta)\n",
        "    \n",
        "    text_y = max(iy.min() / 2, 0.01)\n",
        "    ax.text(0.5 * (a + b), text_y, r\"$\\int_a^b \\Gamma(x; k, \\theta)\\mathrm{d}x$ = %0.2f\" % intg_value,\n",
        "        horizontalalignment='center')\n",
        "\n",
        "    ax.add_patch(poly)\n",
        "    ax.set_ylim([0, 0.15])"
      ],
      "execution_count": 0,
      "outputs": [
        {
          "output_type": "display_data",
          "data": {
            "application/vnd.jupyter.widget-view+json": {
              "model_id": "fc9b3dc3d05141ddb572ab545a737ac0",
              "version_major": 2,
              "version_minor": 0
            },
            "text/plain": [
              "interactive(children=(IntSlider(value=4, description='k', max=20, min=1), FloatSlider(value=2.0, description='…"
            ]
          },
          "metadata": {
            "tags": []
          }
        }
      ]
    },
    {
      "cell_type": "markdown",
      "metadata": {
        "id": "iIZaszG9cFq8",
        "colab_type": "text"
      },
      "source": [
        "# Refernces\n",
        "\n",
        " - http://wiki.stat.ucla.edu/socr/index.php/AP_Statistics_Curriculum_2007_Gamma\n",
        " - Probability and Statistics by Morris H. Degroot, Mark J. Schervish (Fourth edition, page 319)"
      ]
    }
  ]
}