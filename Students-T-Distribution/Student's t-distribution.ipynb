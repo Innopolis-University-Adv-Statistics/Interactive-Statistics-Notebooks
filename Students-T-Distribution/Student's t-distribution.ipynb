{
 "cells": [
  {
   "cell_type": "code",
   "execution_count": 1,
   "metadata": {},
   "outputs": [
    {
     "name": "stdout",
     "output_type": "stream",
     "text": [
      "Requirement already satisfied: ipywidgets in /home/sobir/Desktop/mlevn/lib/python3.6/site-packages (7.5.1)\n",
      "Requirement already satisfied: ipython>=4.0.0; python_version >= \"3.3\" in /home/sobir/Desktop/mlevn/lib/python3.6/site-packages (from ipywidgets) (7.11.1)\n",
      "Requirement already satisfied: ipykernel>=4.5.1 in /home/sobir/Desktop/mlevn/lib/python3.6/site-packages (from ipywidgets) (5.1.3)\n",
      "Requirement already satisfied: traitlets>=4.3.1 in /home/sobir/Desktop/mlevn/lib/python3.6/site-packages (from ipywidgets) (4.3.3)\n",
      "Requirement already satisfied: widgetsnbextension~=3.5.0 in /home/sobir/Desktop/mlevn/lib/python3.6/site-packages (from ipywidgets) (3.5.1)\n",
      "Requirement already satisfied: nbformat>=4.2.0 in /home/sobir/Desktop/mlevn/lib/python3.6/site-packages (from ipywidgets) (5.0.4)\n",
      "Requirement already satisfied: backcall in /home/sobir/Desktop/mlevn/lib/python3.6/site-packages (from ipython>=4.0.0; python_version >= \"3.3\"->ipywidgets) (0.1.0)\n",
      "Requirement already satisfied: pygments in /home/sobir/Desktop/mlevn/lib/python3.6/site-packages (from ipython>=4.0.0; python_version >= \"3.3\"->ipywidgets) (2.5.2)\n",
      "Requirement already satisfied: pickleshare in /home/sobir/Desktop/mlevn/lib/python3.6/site-packages (from ipython>=4.0.0; python_version >= \"3.3\"->ipywidgets) (0.7.5)\n",
      "Requirement already satisfied: prompt-toolkit!=3.0.0,!=3.0.1,<3.1.0,>=2.0.0 in /home/sobir/Desktop/mlevn/lib/python3.6/site-packages (from ipython>=4.0.0; python_version >= \"3.3\"->ipywidgets) (3.0.3)\n",
      "Requirement already satisfied: jedi>=0.10 in /home/sobir/Desktop/mlevn/lib/python3.6/site-packages (from ipython>=4.0.0; python_version >= \"3.3\"->ipywidgets) (0.15.2)\n",
      "Requirement already satisfied: decorator in /home/sobir/Desktop/mlevn/lib/python3.6/site-packages (from ipython>=4.0.0; python_version >= \"3.3\"->ipywidgets) (4.4.1)\n",
      "Requirement already satisfied: setuptools>=18.5 in /home/sobir/Desktop/mlevn/lib/python3.6/site-packages (from ipython>=4.0.0; python_version >= \"3.3\"->ipywidgets) (45.3.0)\n",
      "Requirement already satisfied: pexpect; sys_platform != \"win32\" in /home/sobir/Desktop/mlevn/lib/python3.6/site-packages (from ipython>=4.0.0; python_version >= \"3.3\"->ipywidgets) (4.8.0)\n",
      "Requirement already satisfied: tornado>=4.2 in /home/sobir/Desktop/mlevn/lib/python3.6/site-packages (from ipykernel>=4.5.1->ipywidgets) (6.0.3)\n",
      "Requirement already satisfied: jupyter-client in /home/sobir/Desktop/mlevn/lib/python3.6/site-packages (from ipykernel>=4.5.1->ipywidgets) (5.3.4)\n",
      "Requirement already satisfied: six in /home/sobir/Desktop/mlevn/lib/python3.6/site-packages (from traitlets>=4.3.1->ipywidgets) (1.12.0)\n",
      "Requirement already satisfied: ipython-genutils in /home/sobir/Desktop/mlevn/lib/python3.6/site-packages (from traitlets>=4.3.1->ipywidgets) (0.2.0)\n",
      "Requirement already satisfied: notebook>=4.4.1 in /home/sobir/Desktop/mlevn/lib/python3.6/site-packages (from widgetsnbextension~=3.5.0->ipywidgets) (6.0.3)\n",
      "Requirement already satisfied: jupyter-core in /home/sobir/Desktop/mlevn/lib/python3.6/site-packages (from nbformat>=4.2.0->ipywidgets) (4.6.1)\n",
      "Requirement already satisfied: jsonschema!=2.5.0,>=2.4 in /home/sobir/Desktop/mlevn/lib/python3.6/site-packages (from nbformat>=4.2.0->ipywidgets) (3.2.0)\n",
      "Requirement already satisfied: wcwidth in /home/sobir/Desktop/mlevn/lib/python3.6/site-packages (from prompt-toolkit!=3.0.0,!=3.0.1,<3.1.0,>=2.0.0->ipython>=4.0.0; python_version >= \"3.3\"->ipywidgets) (0.1.8)\n",
      "Requirement already satisfied: parso>=0.5.2 in /home/sobir/Desktop/mlevn/lib/python3.6/site-packages (from jedi>=0.10->ipython>=4.0.0; python_version >= \"3.3\"->ipywidgets) (0.6.0)\n",
      "Requirement already satisfied: ptyprocess>=0.5 in /home/sobir/Desktop/mlevn/lib/python3.6/site-packages (from pexpect; sys_platform != \"win32\"->ipython>=4.0.0; python_version >= \"3.3\"->ipywidgets) (0.6.0)\n",
      "Requirement already satisfied: pyzmq>=13 in /home/sobir/Desktop/mlevn/lib/python3.6/site-packages (from jupyter-client->ipykernel>=4.5.1->ipywidgets) (18.1.1)\n",
      "Requirement already satisfied: python-dateutil>=2.1 in /home/sobir/Desktop/mlevn/lib/python3.6/site-packages (from jupyter-client->ipykernel>=4.5.1->ipywidgets) (2.8.1)\n",
      "Requirement already satisfied: terminado>=0.8.1 in /home/sobir/Desktop/mlevn/lib/python3.6/site-packages (from notebook>=4.4.1->widgetsnbextension~=3.5.0->ipywidgets) (0.8.3)\n",
      "Requirement already satisfied: jinja2 in /home/sobir/Desktop/mlevn/lib/python3.6/site-packages (from notebook>=4.4.1->widgetsnbextension~=3.5.0->ipywidgets) (2.10.3)\n",
      "Requirement already satisfied: nbconvert in /home/sobir/Desktop/mlevn/lib/python3.6/site-packages (from notebook>=4.4.1->widgetsnbextension~=3.5.0->ipywidgets) (5.6.1)\n",
      "Requirement already satisfied: prometheus-client in /home/sobir/Desktop/mlevn/lib/python3.6/site-packages (from notebook>=4.4.1->widgetsnbextension~=3.5.0->ipywidgets) (0.7.1)\n",
      "Requirement already satisfied: Send2Trash in /home/sobir/Desktop/mlevn/lib/python3.6/site-packages (from notebook>=4.4.1->widgetsnbextension~=3.5.0->ipywidgets) (1.5.0)\n",
      "Requirement already satisfied: attrs>=17.4.0 in /home/sobir/Desktop/mlevn/lib/python3.6/site-packages (from jsonschema!=2.5.0,>=2.4->nbformat>=4.2.0->ipywidgets) (19.3.0)\n",
      "Requirement already satisfied: importlib-metadata; python_version < \"3.8\" in /home/sobir/Desktop/mlevn/lib/python3.6/site-packages (from jsonschema!=2.5.0,>=2.4->nbformat>=4.2.0->ipywidgets) (1.4.0)\n",
      "Requirement already satisfied: pyrsistent>=0.14.0 in /home/sobir/Desktop/mlevn/lib/python3.6/site-packages (from jsonschema!=2.5.0,>=2.4->nbformat>=4.2.0->ipywidgets) (0.15.7)\n",
      "Requirement already satisfied: MarkupSafe>=0.23 in /home/sobir/Desktop/mlevn/lib/python3.6/site-packages (from jinja2->notebook>=4.4.1->widgetsnbextension~=3.5.0->ipywidgets) (1.1.1)\n",
      "Requirement already satisfied: mistune<2,>=0.8.1 in /home/sobir/Desktop/mlevn/lib/python3.6/site-packages (from nbconvert->notebook>=4.4.1->widgetsnbextension~=3.5.0->ipywidgets) (0.8.4)\n",
      "Requirement already satisfied: entrypoints>=0.2.2 in /home/sobir/Desktop/mlevn/lib/python3.6/site-packages (from nbconvert->notebook>=4.4.1->widgetsnbextension~=3.5.0->ipywidgets) (0.3)\n",
      "Requirement already satisfied: pandocfilters>=1.4.1 in /home/sobir/Desktop/mlevn/lib/python3.6/site-packages (from nbconvert->notebook>=4.4.1->widgetsnbextension~=3.5.0->ipywidgets) (1.4.2)\n",
      "Requirement already satisfied: testpath in /home/sobir/Desktop/mlevn/lib/python3.6/site-packages (from nbconvert->notebook>=4.4.1->widgetsnbextension~=3.5.0->ipywidgets) (0.4.4)\n",
      "Requirement already satisfied: bleach in /home/sobir/Desktop/mlevn/lib/python3.6/site-packages (from nbconvert->notebook>=4.4.1->widgetsnbextension~=3.5.0->ipywidgets) (3.1.0)\n",
      "Requirement already satisfied: defusedxml in /home/sobir/Desktop/mlevn/lib/python3.6/site-packages (from nbconvert->notebook>=4.4.1->widgetsnbextension~=3.5.0->ipywidgets) (0.6.0)\n",
      "Requirement already satisfied: zipp>=0.5 in /home/sobir/Desktop/mlevn/lib/python3.6/site-packages (from importlib-metadata; python_version < \"3.8\"->jsonschema!=2.5.0,>=2.4->nbformat>=4.2.0->ipywidgets) (2.1.0)\n",
      "Requirement already satisfied: webencodings in /home/sobir/Desktop/mlevn/lib/python3.6/site-packages (from bleach->nbconvert->notebook>=4.4.1->widgetsnbextension~=3.5.0->ipywidgets) (0.5.1)\n",
      "Enabling notebook extension jupyter-js-widgets/extension...\n",
      "      - Validating: \u001b[32mOK\u001b[0m\n",
      "Requirement already satisfied: seaborn in /home/sobir/Desktop/mlevn/lib/python3.6/site-packages (0.10.0)\n",
      "Requirement already satisfied: matplotlib>=2.1.2 in /home/sobir/Desktop/mlevn/lib/python3.6/site-packages (from seaborn) (3.1.2)\n",
      "Requirement already satisfied: scipy>=1.0.1 in /home/sobir/Desktop/mlevn/lib/python3.6/site-packages (from seaborn) (1.4.1)\n",
      "Requirement already satisfied: numpy>=1.13.3 in /home/sobir/Desktop/mlevn/lib/python3.6/site-packages (from seaborn) (1.17.4)\n",
      "Requirement already satisfied: pandas>=0.22.0 in /home/sobir/Desktop/mlevn/lib/python3.6/site-packages (from seaborn) (0.25.3)\n",
      "Requirement already satisfied: cycler>=0.10 in /home/sobir/Desktop/mlevn/lib/python3.6/site-packages (from matplotlib>=2.1.2->seaborn) (0.10.0)\n",
      "Requirement already satisfied: python-dateutil>=2.1 in /home/sobir/Desktop/mlevn/lib/python3.6/site-packages (from matplotlib>=2.1.2->seaborn) (2.8.1)\n"
     ]
    },
    {
     "name": "stdout",
     "output_type": "stream",
     "text": [
      "Requirement already satisfied: pyparsing!=2.0.4,!=2.1.2,!=2.1.6,>=2.0.1 in /home/sobir/Desktop/mlevn/lib/python3.6/site-packages (from matplotlib>=2.1.2->seaborn) (2.4.5)\r\n",
      "Requirement already satisfied: kiwisolver>=1.0.1 in /home/sobir/Desktop/mlevn/lib/python3.6/site-packages (from matplotlib>=2.1.2->seaborn) (1.1.0)\r\n",
      "Requirement already satisfied: pytz>=2017.2 in /home/sobir/Desktop/mlevn/lib/python3.6/site-packages (from pandas>=0.22.0->seaborn) (2019.3)\r\n",
      "Requirement already satisfied: six in /home/sobir/Desktop/mlevn/lib/python3.6/site-packages (from cycler>=0.10->matplotlib>=2.1.2->seaborn) (1.12.0)\r\n",
      "Requirement already satisfied: setuptools in /home/sobir/Desktop/mlevn/lib/python3.6/site-packages (from kiwisolver>=1.0.1->matplotlib>=2.1.2->seaborn) (45.3.0)\r\n"
     ]
    }
   ],
   "source": [
    "! pip install ipywidgets\n",
    "! jupyter nbextension enable --py widgetsnbextension\n",
    "! pip install seaborn\n",
    "\n",
    "import ipywidgets as widgets\n",
    "from ipywidgets import interact, interact_manual"
   ]
  },
  {
   "cell_type": "markdown",
   "metadata": {},
   "source": [
    "# Student's t-distribution\n",
    "\n",
    "In this notebook, you will be introduced to the Student's t-distribution, its properties and use cases. We are \n",
    "going to see where does this distribution comes from and how it is related to the standard normal distribution(Gaussian distribution).\n",
    "\n",
    "## Table of Contents\n",
    "1. Warm-up Video (Optional)\n",
    "2. Introduction\n",
    "3. Sampling Experiment\n",
    "4. Conclusion\n",
    "5. References"
   ]
  },
  {
   "cell_type": "markdown",
   "metadata": {},
   "source": [
    "# Warm-up Video (Optional)"
   ]
  },
  {
   "cell_type": "code",
   "execution_count": 2,
   "metadata": {
    "scrolled": true
   },
   "outputs": [
    {
     "data": {
      "image/jpeg": "[encoded data removed]",
      "text/html": [
       "\n",
       "        <iframe\n",
       "            width=\"800\"\n",
       "            height=\"400\"\n",
       "            src=\"https://www.youtube.com/embed/Uv6nGIgZMVw\"\n",
       "            frameborder=\"0\"\n",
       "            allowfullscreen\n",
       "        ></iframe>\n",
       "        "
      ],
      "text/plain": [
       "<IPython.lib.display.YouTubeVideo at 0x7fcf2bf01400>"
      ]
     },
     "execution_count": 2,
     "metadata": {},
     "output_type": "execute_result"
    }
   ],
   "source": [
    "from IPython.display import YouTubeVideo\n",
    "YouTubeVideo('Uv6nGIgZMVw', width=800, height=400)"
   ]
  },
  {
   "cell_type": "markdown",
   "metadata": {},
   "source": [
    "# Introduction\n",
    "\n",
    "Let's start with the following example. \n",
    "\n",
    ">Suppose you are designing a test. The scores on that test are normally distributed, with a population mean of 60. Suppose 20 people are randomly selected and tested. The standard deviation in the sample group is 15. What is the probability that the average test score in the sample group will be at most 70?\n",
    "\n",
    "In the above example population variance is unknown which makes it impossible to use normal distribution. In this case we can use the sample variance:\n",
    "$$\n",
    "S^{2}={\\frac {1}{n-1}}\\sum _{i=1}^{n}(X_{i}-{\\bar {X}})^{2}\n",
    "$$\n",
    "\n",
    "As a result, the distribution of the sample mean (normalized) will be Student's t-distribution.\n",
    "\n",
    "---- \n",
    "### How Student's distribution arises from sampling\n",
    "We will describe the previous example more generally and formally. \n",
    "\n",
    "Let $X_{1},\\ldots ,X_{n}$ be independent and identically distributed as $N(\\mu ,\\sigma ^{2})$, i.e. this is a sample of size $n$ from a normally distributed population with expected mean value $\\mu$  and variance $\\sigma ^2$.\n",
    "\n",
    "Let\n",
    "$$\n",
    "\\bar{X} = \\frac {1}{n} \\sum _{i=1}^{n}X_{i}\n",
    "$$\n",
    "\n",
    "be the sample mean and let\n",
    "\n",
    "$$\n",
    "S^2=\\frac {1}{n-1}\\sum _{i=1}^{n}(X_{i}-{\\bar {X}})^{2}\n",
    "$$\n",
    "\n",
    "be the (Bessel-corrected) sample variance. Then the random variable\n",
    "\n",
    "$$\n",
    "\\frac {{\\bar {X}}-\\mu }{S/{\\sqrt {n}}}\n",
    "$$\n",
    "\n",
    "has a Student's t-distribution with $n-1$ degrees of freedom.\n",
    "\n",
    "\n",
    "----\n",
    "## Probability density function\n",
    "Student's t-distribution has the probability density function given by\n",
    "\n",
    "$$\n",
    "f(t)={\\frac {\\Gamma ({\\frac {\\nu +1}{2}})}{{\\sqrt {\\nu \\pi }}\\,\\Gamma ({\\frac {\\nu }{2}})}}\\left(1+{\\frac {t^{2}}{\\nu }}\\right)^{\\!-{\\frac {\\nu +1}{2}}},\n",
    "$$\n",
    "where $\\nu$  is the number of degrees of freedom and $\\Gamma$ is the gamma function."
   ]
  },
  {
   "cell_type": "markdown",
   "metadata": {},
   "source": [
    "# Sampling Experiment\n",
    "\n",
    "In this experiment we will show how t-distribution is similar to standard normal distribution. We achieve it with the following steps:\n",
    "\n",
    "1. Draw sample from a population of uniform distribution.\n",
    "2. Compute z value $$z = \\frac {{\\bar {X}}-\\mu }{\\sigma /{\\sqrt {n}}}$$\n",
    "3. Compute t value $$t = \\frac {{\\bar {X}}-\\mu }{S /{\\sqrt {n}}},$$\n",
    "    where $$ S^{2}={\\frac {1}{n-1}}\\sum _{i=1}^{n}(X_{i}-{\\bar {X}})^{2}$$\n",
    "4. Repeat the steps 1 to 3 several thousand times\n",
    "5. Plot distribution of z values and t values"
   ]
  },
  {
   "cell_type": "code",
   "execution_count": 4,
   "metadata": {
    "scrolled": false
   },
   "outputs": [
    {
     "data": {
      "application/vnd.jupyter.widget-view+json": {
       "model_id": "53c4fb6bfcbe4ef3af00ece6af59b25c",
       "version_major": 2,
       "version_minor": 0
      },
      "text/plain": [
       "interactive(children=(IntSlider(value=5, description='N', max=25, min=2), Output()), _dom_classes=('widget-int…"
      ]
     },
     "metadata": {},
     "output_type": "display_data"
    }
   ],
   "source": [
    "import numpy as np\n",
    "import matplotlib.pyplot as plt\n",
    "import seaborn as sns\n",
    "\n",
    "population_mean = 0\n",
    "population_std = 1\n",
    "def draw_sample(n):\n",
    "    return np.array([np.random.normal(loc=population_mean, scale=population_std) for _ in range(n)])\n",
    "\n",
    "def sample_some_t(N, sample_size=3000):\n",
    "    t_sample = []\n",
    "    for i in range(sample_size):\n",
    "        sample = draw_sample(N)\n",
    "        sample_mean = sample.mean()\n",
    "        S = np.sqrt(\n",
    "            1 / (N-1) * np.sum( (sample - sample_mean)**2 )\n",
    "        )\n",
    "        t_sample.append((sample.mean() - population_mean) / (S / np.sqrt(N)))\n",
    "    return t_sample\n",
    "\n",
    "def sample_some_z(N, sample_size=3000):\n",
    "    z_sample = [(draw_sample(N).mean() - population_mean) / (population_std / np.sqrt(N)) \n",
    "                         for _ in range(sample_size)]\n",
    "    return z_sample\n",
    "\n",
    "@interact(N=widgets.IntSlider(min=2, max=25, value=5))\n",
    "def experiment_sampling_t(N):\n",
    "    \n",
    "    t_sample = sample_some_t(N, sample_size=2777)\n",
    "    z_sample = sample_some_z(N, sample_size=2777)\n",
    "    \n",
    "    \n",
    "    fig, ax = plt.subplots()\n",
    "    hist_range = (-5, 5)\n",
    "    sns.distplot(z_sample, hist=True, kde=True,\n",
    "             color = 'red', \n",
    "             bins=70,\n",
    "             hist_kws={'alpha': 0.5, 'range': hist_range},\n",
    "             kde_kws={'linewidth': 2},\n",
    "                label='z',\n",
    "                ax=ax)\n",
    "\n",
    "    sns.distplot(t_sample, hist=True, kde=True,\n",
    "             color = 'green', \n",
    "             bins=70,\n",
    "             hist_kws={'alpha': 0.5, 'range':hist_range},\n",
    "             kde_kws={'linewidth': 2},\n",
    "                label='t',\n",
    "                ax=ax)\n",
    "\n",
    "    ax.set_xlim(hist_range)\n",
    "    ax.set_ylim(0, 0.6)\n",
    "    ax.set_title(f't-distribution with {N-1} degrees of freedom')\n",
    "    ax.legend()\n"
   ]
  },
  {
   "cell_type": "markdown",
   "metadata": {},
   "source": [
    "We note two importand things:\n",
    "- When degrees of freedom (N-1) becomes large, t-distribution will be approximately equal to the standard normal distribution. \n",
    "- The intuition behind why t-distribution is more spread than standard normal distribution is because of uncertainity about the population variance."
   ]
  },
  {
   "cell_type": "markdown",
   "metadata": {},
   "source": [
    "# Conclusion\n",
    "\n",
    "Gaussian distributions and Student’s distributions are some of the most important continuous probability distributions in statistics and machine learning.\n",
    "\n",
    "The t-distribution may be used as a placeholder for Gaussian when population variance is not known, or when the sample size is small. Both are closely related to each other in a strict and formal way.\n",
    "\n"
   ]
  },
  {
   "cell_type": "markdown",
   "metadata": {},
   "source": [
    "# References\n",
    "\n",
    "- https://www.freecodecamp.org/news/the-t-distribution-a-key-statistical-concept-discovered-by-a-beer-brewery-dbfdc693184/\n",
    "- https://www.youtube.com/watch?v=Uv6nGIgZMVw"
   ]
  }
 ],
 "metadata": {
  "kernelspec": {
   "display_name": "Python 3",
   "language": "python",
   "name": "python3"
  },
  "language_info": {
   "codemirror_mode": {
    "name": "ipython",
    "version": 3
   },
   "file_extension": ".py",
   "mimetype": "text/x-python",
   "name": "python",
   "nbconvert_exporter": "python",
   "pygments_lexer": "ipython3",
   "version": "3.6.9"
  }
 },
 "nbformat": 4,
 "nbformat_minor": 4
}
