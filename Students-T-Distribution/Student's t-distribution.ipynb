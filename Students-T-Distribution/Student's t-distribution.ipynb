{
  "nbformat": 4,
  "nbformat_minor": 0,
  "metadata": {
    "kernelspec": {
      "display_name": "Python 3",
      "language": "python",
      "name": "python3"
    },
    "language_info": {
      "codemirror_mode": {
        "name": "ipython",
        "version": 3
      },
      "file_extension": ".py",
      "mimetype": "text/x-python",
      "name": "python",
      "nbconvert_exporter": "python",
      "pygments_lexer": "ipython3",
      "version": "3.6.9"
    },
    "colab": {
      "name": "Student's t-distribution.ipynb",
      "provenance": [],
      "include_colab_link": true
    },
    "widgets": {
      "application/vnd.jupyter.widget-state+json": {
        "9e73d7beda1e4b3aafea2d0b7a41109e": {
          "model_module": "@jupyter-widgets/controls",
          "model_name": "VBoxModel",
          "state": {
            "_view_name": "VBoxView",
            "_dom_classes": [
              "widget-interact"
            ],
            "_model_name": "VBoxModel",
            "_view_module": "@jupyter-widgets/controls",
            "_model_module_version": "1.5.0",
            "_view_count": null,
            "_view_module_version": "1.5.0",
            "box_style": "",
            "layout": "IPY_MODEL_77eef5113ec44db2a0b1ab4a9581f5f5",
            "_model_module": "@jupyter-widgets/controls",
            "children": [
              "IPY_MODEL_fb5e62491f78450694c791c1d4f609a1",
              "IPY_MODEL_503ce86a519341bfaefd94666b71e0bc"
            ]
          }
        },
        "77eef5113ec44db2a0b1ab4a9581f5f5": {
          "model_module": "@jupyter-widgets/base",
          "model_name": "LayoutModel",
          "state": {
            "_view_name": "LayoutView",
            "grid_template_rows": null,
            "right": null,
            "justify_content": null,
            "_view_module": "@jupyter-widgets/base",
            "overflow": null,
            "_model_module_version": "1.2.0",
            "_view_count": null,
            "flex_flow": null,
            "width": null,
            "min_width": null,
            "border": null,
            "align_items": null,
            "bottom": null,
            "_model_module": "@jupyter-widgets/base",
            "top": null,
            "grid_column": null,
            "overflow_y": null,
            "overflow_x": null,
            "grid_auto_flow": null,
            "grid_area": null,
            "grid_template_columns": null,
            "flex": null,
            "_model_name": "LayoutModel",
            "justify_items": null,
            "grid_row": null,
            "max_height": null,
            "align_content": null,
            "visibility": null,
            "align_self": null,
            "height": null,
            "min_height": null,
            "padding": null,
            "grid_auto_rows": null,
            "grid_gap": null,
            "max_width": null,
            "order": null,
            "_view_module_version": "1.2.0",
            "grid_template_areas": null,
            "object_position": null,
            "object_fit": null,
            "grid_auto_columns": null,
            "margin": null,
            "display": null,
            "left": null
          }
        },
        "fb5e62491f78450694c791c1d4f609a1": {
          "model_module": "@jupyter-widgets/controls",
          "model_name": "IntSliderModel",
          "state": {
            "_view_name": "IntSliderView",
            "style": "IPY_MODEL_6215c250b36f43da9f397b9fe670111b",
            "_dom_classes": [],
            "description": "N",
            "step": 1,
            "_model_name": "IntSliderModel",
            "orientation": "horizontal",
            "max": 25,
            "_view_module": "@jupyter-widgets/controls",
            "_model_module_version": "1.5.0",
            "value": 3,
            "_view_count": null,
            "disabled": false,
            "_view_module_version": "1.5.0",
            "min": 2,
            "continuous_update": true,
            "readout_format": "d",
            "description_tooltip": null,
            "readout": true,
            "_model_module": "@jupyter-widgets/controls",
            "layout": "IPY_MODEL_ced4f78fe38e4705aba4bd30d23169b4"
          }
        },
        "503ce86a519341bfaefd94666b71e0bc": {
          "model_module": "@jupyter-widgets/output",
          "model_name": "OutputModel",
          "state": {
            "_view_name": "OutputView",
            "msg_id": "",
            "_dom_classes": [],
            "_model_name": "OutputModel",
            "outputs": [
              {
                "output_type": "display_data",
                "metadata": {
                  "tags": [],
                  "needs_background": "light"
                },
                "image/png": "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\n",
                "text/plain": "<Figure size 432x288 with 1 Axes>"
              }
            ],
            "_view_module": "@jupyter-widgets/output",
            "_model_module_version": "1.0.0",
            "_view_count": null,
            "_view_module_version": "1.0.0",
            "layout": "IPY_MODEL_29f5364edc13472687fd19d2a55e4076",
            "_model_module": "@jupyter-widgets/output"
          }
        },
        "6215c250b36f43da9f397b9fe670111b": {
          "model_module": "@jupyter-widgets/controls",
          "model_name": "SliderStyleModel",
          "state": {
            "_view_name": "StyleView",
            "handle_color": null,
            "_model_name": "SliderStyleModel",
            "description_width": "",
            "_view_module": "@jupyter-widgets/base",
            "_model_module_version": "1.5.0",
            "_view_count": null,
            "_view_module_version": "1.2.0",
            "_model_module": "@jupyter-widgets/controls"
          }
        },
        "ced4f78fe38e4705aba4bd30d23169b4": {
          "model_module": "@jupyter-widgets/base",
          "model_name": "LayoutModel",
          "state": {
            "_view_name": "LayoutView",
            "grid_template_rows": null,
            "right": null,
            "justify_content": null,
            "_view_module": "@jupyter-widgets/base",
            "overflow": null,
            "_model_module_version": "1.2.0",
            "_view_count": null,
            "flex_flow": null,
            "width": null,
            "min_width": null,
            "border": null,
            "align_items": null,
            "bottom": null,
            "_model_module": "@jupyter-widgets/base",
            "top": null,
            "grid_column": null,
            "overflow_y": null,
            "overflow_x": null,
            "grid_auto_flow": null,
            "grid_area": null,
            "grid_template_columns": null,
            "flex": null,
            "_model_name": "LayoutModel",
            "justify_items": null,
            "grid_row": null,
            "max_height": null,
            "align_content": null,
            "visibility": null,
            "align_self": null,
            "height": null,
            "min_height": null,
            "padding": null,
            "grid_auto_rows": null,
            "grid_gap": null,
            "max_width": null,
            "order": null,
            "_view_module_version": "1.2.0",
            "grid_template_areas": null,
            "object_position": null,
            "object_fit": null,
            "grid_auto_columns": null,
            "margin": null,
            "display": null,
            "left": null
          }
        },
        "29f5364edc13472687fd19d2a55e4076": {
          "model_module": "@jupyter-widgets/base",
          "model_name": "LayoutModel",
          "state": {
            "_view_name": "LayoutView",
            "grid_template_rows": null,
            "right": null,
            "justify_content": null,
            "_view_module": "@jupyter-widgets/base",
            "overflow": null,
            "_model_module_version": "1.2.0",
            "_view_count": null,
            "flex_flow": null,
            "width": null,
            "min_width": null,
            "border": null,
            "align_items": null,
            "bottom": null,
            "_model_module": "@jupyter-widgets/base",
            "top": null,
            "grid_column": null,
            "overflow_y": null,
            "overflow_x": null,
            "grid_auto_flow": null,
            "grid_area": null,
            "grid_template_columns": null,
            "flex": null,
            "_model_name": "LayoutModel",
            "justify_items": null,
            "grid_row": null,
            "max_height": null,
            "align_content": null,
            "visibility": null,
            "align_self": null,
            "height": null,
            "min_height": null,
            "padding": null,
            "grid_auto_rows": null,
            "grid_gap": null,
            "max_width": null,
            "order": null,
            "_view_module_version": "1.2.0",
            "grid_template_areas": null,
            "object_position": null,
            "object_fit": null,
            "grid_auto_columns": null,
            "margin": null,
            "display": null,
            "left": null
          }
        }
      }
    }
  },
  "cells": [
    {
      "cell_type": "markdown",
      "metadata": {
        "id": "view-in-github",
        "colab_type": "text"
      },
      "source": [
        "<a href=\"https://colab.research.google.com/github/sobir-git/Interactive-Statistics-Notebooks/blob/t-distribution/Students-T-Distribution/Student's%20t-distribution.ipynb\" target=\"_parent\"><img src=\"https://colab.research.google.com/assets/colab-badge.svg\" alt=\"Open In Colab\"/></a>"
      ]
    },
    {
      "cell_type": "code",
      "metadata": {
        "id": "9_jw3zp7kFXr",
        "colab_type": "code",
        "colab": {}
      },
      "source": [
        "! pip install ipywidgets\n",
        "! jupyter nbextension enable --py widgetsnbextension\n",
        "! pip install seaborn\n",
        "\n",
        "import ipywidgets as widgets\n",
        "from ipywidgets import interact, interact_manual"
      ],
      "execution_count": 0,
      "outputs": []
    },
    {
      "cell_type": "markdown",
      "metadata": {
        "id": "sH59X3LAkFXx",
        "colab_type": "text"
      },
      "source": [
        "# Student's t-distribution\n",
        "\n",
        "In this notebook, you will be introduced to the Student's *t*-distribution, its properties and use cases. We are going to see where does this distribution comes from and how it is related to the standard normal distribution(Gaussian distribution).\n",
        "\n",
        "## Table of Contents\n",
        "1. Warm-up Video (Optional)\n",
        "2. Introduction\n",
        "3. Sampling Experiment\n",
        "4. Conclusion\n",
        "5. References"
      ]
    },
    {
      "cell_type": "markdown",
      "metadata": {
        "id": "i1TO9C7nkFXy",
        "colab_type": "text"
      },
      "source": [
        "# Warm-up Video (Optional)\n",
        "\n",
        "The following video is optional, but it's helpful to watch it before you continue if you are the first time to know about t-distribution."
      ]
    },
    {
      "cell_type": "code",
      "metadata": {
        "scrolled": true,
        "id": "jzHmSjuWkFXz",
        "colab_type": "code",
        "outputId": "c87c14ff-93b6-4e84-84df-821bb9a82fd7",
        "colab": {
          "base_uri": "https://localhost:8080/",
          "height": 421
        }
      },
      "source": [
        "from IPython.display import YouTubeVideo\n",
        "YouTubeVideo('Uv6nGIgZMVw', width=800, height=400)"
      ],
      "execution_count": 4,
      "outputs": [
        {
          "output_type": "execute_result",
          "data": {
            "text/html": [
              "\n",
              "        <iframe\n",
              "            width=\"800\"\n",
              "            height=\"400\"\n",
              "            src=\"https://www.youtube.com/embed/Uv6nGIgZMVw\"\n",
              "            frameborder=\"0\"\n",
              "            allowfullscreen\n",
              "        ></iframe>\n",
              "        "
            ],
            "text/plain": [
              "<IPython.lib.display.YouTubeVideo at 0x7f8277c20588>"
            ],
            "image/jpeg": "[encoded data removed]"
          },
          "metadata": {
            "tags": []
          },
          "execution_count": 4
        }
      ]
    },
    {
      "cell_type": "markdown",
      "metadata": {
        "id": "kv6Nn_1nkFX5",
        "colab_type": "text"
      },
      "source": [
        "# Introduction\n",
        "\n",
        "Let's start with the following example. \n",
        "\n",
        ">Suppose you are designing a test. The scores on that test are normally distributed, with a population mean of 60. Suppose 20 people are randomly selected and tested. The standard deviation in the sample group is 15. What is the probability that the average test score in the sample group will be at most 70?\n",
        "\n",
        "In the above example population variance is unknown which makes it impossible to use normal distribution. In this case we can use the sample variance:\n",
        "$$\n",
        "S^{2}={\\frac {1}{n-1}}\\sum _{i=1}^{n}(X_{i}-{\\bar {X}})^{2}\n",
        "$$\n",
        "\n",
        "As a result, the distribution of the sample mean (normalized) will be Student's t-distribution."
      ]
    },
    {
      "cell_type": "markdown",
      "metadata": {
        "id": "7ThSWYfOzlpA",
        "colab_type": "text"
      },
      "source": [
        "### How Student's t-distribution arises from sampling\n",
        "We will describe the previous example more generally and formally. \n",
        "\n",
        "Let $X_{1},\\ldots ,X_{n}$ be independent and identically distributed as $N(\\mu ,\\sigma ^{2})$, i.e. this is a sample of size $n$ from a normally distributed population with expected mean value $\\mu$  and variance $\\sigma ^2$.\n",
        "\n",
        "Let\n",
        "$$\n",
        "\\bar{X} = \\frac {1}{n} \\sum _{i=1}^{n}X_{i}\n",
        "$$\n",
        "\n",
        "be the sample mean and let\n",
        "from\n",
        "$$\n",
        "S^2=\\frac {1}{n-1}\\sum _{i=1}^{n}(X_{i}-{\\bar {X}})^{2}\n",
        "$$\n",
        "\n",
        "be the sample variance. Then the random variable\n",
        "\n",
        "$$\n",
        "\\frac {{\\bar {X}}-\\mu }{S/{\\sqrt {n}}}\n",
        "$$\n",
        "\n",
        "has a Student's *t*-distribution with $n-1$ degrees of freedom."
      ]
    },
    {
      "cell_type": "markdown",
      "metadata": {
        "id": "_csgTME4zQyd",
        "colab_type": "text"
      },
      "source": [
        "## Probability density function (PDF)\n",
        "Student's t-distribution has the probability density function given by\n",
        "\n",
        "$$\n",
        "f(t)={\\frac {\\Gamma ({\\frac {\\nu +1}{2}})}{{\\sqrt {\\nu \\pi }}\\,\\Gamma ({\\frac {\\nu }{2}})}}\\left(1+{\\frac {t^{2}}{\\nu }}\\right)^{\\!-{\\frac {\\nu +1}{2}}},\n",
        "$$\n",
        "where $\\nu$  is the number of degrees of freedom and $\\Gamma$ is the gamma function.\n",
        "\n",
        "Here's is the plot of PDF for different degrees of freedoms.\n",
        "![t-distribution pdf](https://financetrain.com/assets/t-dist1.gif)\n",
        "\n",
        "**Question**:\n",
        "- Why is the *t*-distribution more flat when its degrees of freedom is larger?"
      ]
    },
    {
      "cell_type": "markdown",
      "metadata": {
        "id": "xNoJvK1JyDar",
        "colab_type": "text"
      },
      "source": [
        "## Properties\n",
        "\n",
        "- Mean $\\mu = 0$ for $\\nu > 1$, otherwise undefined;\n",
        "- Median is $0$;\n",
        "- Mode is $0$;\n",
        "- Variance is $\\frac{\\nu}{\\nu-2}$ for $\\nu > 2$, $\\infty$ for $1 < \\nu \\le 2$, otherwise undefined.\n",
        "\n",
        "**Question:**\n",
        "- Is the *t*-distribution symmetric? Why?\n"
      ]
    },
    {
      "cell_type": "markdown",
      "metadata": {
        "id": "-GrCEr9QkFX6",
        "colab_type": "text"
      },
      "source": [
        "# Sampling Experiment\n",
        "\n",
        "In this experiment we will show how *t*-distribution is similar to standard normal distribution. We achieve it with the following steps:\n",
        "\n",
        "1. Draw sample from a population of uniform distribution.\n",
        "2. Compute $z$ value $$z = \\frac {{\\bar {X}}-\\mu }{\\sigma /{\\sqrt {n}}}$$\n",
        "3. Compute $t$ value $$t = \\frac {{\\bar {X}}-\\mu }{S /{\\sqrt {n}}},$$\n",
        "    where $$ S^{2}={\\frac {1}{n-1}}\\sum _{i=1}^{n}(X_{i}-{\\bar {X}})^{2}$$\n",
        "4. Repeat the steps 1 to 3 several thousand times\n",
        "5. Plot distribution of $z$ values and $t$ values"
      ]
    },
    {
      "cell_type": "code",
      "metadata": {
        "scrolled": false,
        "id": "Sa62Ivg_kFX9",
        "colab_type": "code",
        "outputId": "0aa7c264-8c95-4670-b5a4-26ade4e3482d",
        "colab": {
          "base_uri": "https://localhost:8080/",
          "height": 367,
          "referenced_widgets": [
            "9e73d7beda1e4b3aafea2d0b7a41109e",
            "77eef5113ec44db2a0b1ab4a9581f5f5",
            "fb5e62491f78450694c791c1d4f609a1",
            "503ce86a519341bfaefd94666b71e0bc",
            "6215c250b36f43da9f397b9fe670111b",
            "ced4f78fe38e4705aba4bd30d23169b4",
            "29f5364edc13472687fd19d2a55e4076"
          ]
        }
      },
      "source": [
        "import numpy as np\n",
        "import matplotlib.pyplot as plt\n",
        "import seaborn as sns\n",
        "\n",
        "population_mean = 0\n",
        "population_std = 1\n",
        "def draw_sample(n):\n",
        "    return np.array([np.random.normal(loc=population_mean, scale=population_std) for _ in range(n)])\n",
        "\n",
        "def sample_some_t(N, sample_size=3000):\n",
        "    t_sample = []\n",
        "    for i in range(sample_size):\n",
        "        sample = draw_sample(N)\n",
        "        sample_mean = sample.mean()\n",
        "        S = np.sqrt(\n",
        "            1 / (N-1) * np.sum( (sample - sample_mean)**2 )\n",
        "        )\n",
        "        t_sample.append((sample.mean() - population_mean) / (S / np.sqrt(N)))\n",
        "    return t_sample\n",
        "\n",
        "def sample_some_z(N, sample_size=3000):\n",
        "    z_sample = [(draw_sample(N).mean() - population_mean) / (population_std / np.sqrt(N)) \n",
        "                         for _ in range(sample_size)]\n",
        "    return z_sample\n",
        "\n",
        "@interact(N=widgets.IntSlider(min=2, max=25, value=5))\n",
        "def experiment_sampling_t(N):\n",
        "    \n",
        "    t_sample = sample_some_t(N, sample_size=2777)\n",
        "    z_sample = sample_some_z(N, sample_size=2777)\n",
        "    \n",
        "    \n",
        "    fig, ax = plt.subplots()\n",
        "    hist_range = (-5, 5)\n",
        "    sns.distplot(z_sample, hist=True, kde=True,\n",
        "             color = 'red', \n",
        "             bins=70,\n",
        "             hist_kws={'alpha': 0.5, 'range': hist_range},\n",
        "             kde_kws={'linewidth': 2},\n",
        "                label='z',\n",
        "                ax=ax)\n",
        "\n",
        "    sns.distplot(t_sample, hist=True, kde=True,\n",
        "             color = 'green', \n",
        "             bins=70,\n",
        "             hist_kws={'alpha': 0.5, 'range':hist_range},\n",
        "             kde_kws={'linewidth': 2},\n",
        "                label='t',\n",
        "                ax=ax)\n",
        "\n",
        "    ax.set_xlim(hist_range)\n",
        "    ax.set_ylim(0, 0.6)\n",
        "    ax.set_title(f't-distribution with {N-1} degrees of freedom')\n",
        "    ax.legend()\n"
      ],
      "execution_count": 3,
      "outputs": [
        {
          "output_type": "stream",
          "text": [
            "/usr/local/lib/python3.6/dist-packages/statsmodels/tools/_testing.py:19: FutureWarning: pandas.util.testing is deprecated. Use the functions in the public API at pandas.testing instead.\n",
            "  import pandas.util.testing as tm\n"
          ],
          "name": "stderr"
        },
        {
          "output_type": "display_data",
          "data": {
            "application/vnd.jupyter.widget-view+json": {
              "model_id": "9e73d7beda1e4b3aafea2d0b7a41109e",
              "version_minor": 0,
              "version_major": 2
            },
            "text/plain": [
              "interactive(children=(IntSlider(value=5, description='N', max=25, min=2), Output()), _dom_classes=('widget-int…"
            ]
          },
          "metadata": {
            "tags": []
          }
        }
      ]
    },
    {
      "cell_type": "markdown",
      "metadata": {
        "id": "FOIRlfyNkFYC",
        "colab_type": "text"
      },
      "source": [
        "We note two importand things:\n",
        "- When degrees of freedom $(N-1)$ becomes large, *t*-distribution will be approximately equal to the standard normal distribution.\n",
        "- The intuition behind why *t*-distribution is more spread(particularly for small values of $N < 5$) than standard normal distribution is because of uncertainity about the population variance."
      ]
    },
    {
      "cell_type": "markdown",
      "metadata": {
        "id": "IWVNldo64kSE",
        "colab_type": "text"
      },
      "source": [
        "# Confidence intervals\n",
        "\n",
        "![t-dist conf-int](https://user-images.githubusercontent.com/34193118/79111980-38304a80-7d86-11ea-8870-4c616587d5e0.png)\n",
        "\n",
        "Let $T$ be a random variable having $t$-distribution with $n − 1$ degrees of freedom. Recall that by definition\n",
        "$$\n",
        "T = \\frac{\\overline{X}_n - \\mu}{\\frac{S_n}{\\sqrt{n}}}\n",
        "$$\n",
        "where \n",
        "$$\n",
        "S_{n}^{2} = {\\frac {1}{n-1}} \\sum _{i=1}^{n} \\left(X_{i}-{\\overline {X}}_{n}\\right)^{2}\n",
        "$$\n",
        "\n",
        "Now, suppose the number $A$ is so chosen that\n",
        "$$\\Pr(-A < T < A)=0.9,$$\n",
        "By symmetry, this is the same as saying that $A$ satisfies\n",
        "$$\\Pr(T < A) = 0.95,$$\n",
        "so $A$ is the \"95th percentile\" of this probability distribution, or \n",
        "$A = t_{(0.05,n-1)}$. Then\n",
        "\n",
        "$$\\Pr \\left (-A < \\frac{\\overline{X}_n - \\mu}{\\frac{S_n}{\\sqrt{n}}} < A \\right)=0.9,$$\n",
        "\n",
        "and this is equivalent to\n",
        "$$\\Pr\\left(\\overline{X}_n - A \\frac{S_n}{\\sqrt{n}} < \\mu < \\overline{X}_n + A\\frac{S_n}{\\sqrt{n}}\\right) = 0.9.$$\n",
        "\n",
        "Therefore, the interval whose endpoints are\n",
        "$$\n",
        "{\\overline {X}}_{n}\\pm A{\\frac {S_{n}}{\\sqrt {n}}}\n",
        "$$\n",
        "is a 90% confidence interval for $\\mu$. Therefore, if we find the mean of a set of observations that we can reasonably expect to have a normal distribution, we can use the t-distribution to examine whether the confidence limits on that mean include some theoretically predicted value – such as the value predicted on a null hypothesis.\n",
        "\n",
        "It is this result that is used in the Student's t-tests: since the difference between the means of samples from two normal distributions is itself distributed normally, the t-distribution can be used to examine whether that difference can reasonably be supposed to be zero."
      ]
    },
    {
      "cell_type": "markdown",
      "metadata": {
        "id": "8l1_IOxR3KTE",
        "colab_type": "text"
      },
      "source": [
        "# Solving the example\n",
        "\n",
        "In the beginning we brought the following example as a motivation for the *t*-distribution:\n",
        "\n",
        "> Suppose you are designing a test. The scores on that test are normally distributed, with a population mean of 60. Suppose 20 people are randomly selected and tested. The standard deviation in the sample group is 15. What is the probability that the average test score in the sample group will be at most 70?\n",
        "\n"
      ]
    },
    {
      "cell_type": "markdown",
      "metadata": {
        "id": "99FeuRhKkFYD",
        "colab_type": "text"
      },
      "source": [
        "# Conclusion\n",
        "\n",
        "- Let $X_1, \\ldots , X_n$ be a random sample from the normal distribution with mean $\\mu$ and variance $\\sigma^2$. Let $\\overline{X_n} = \\frac{1}{n}\\sum_{i=1}^{n} X_i$ and $\\sigma' = \\left(\\frac{1}{n-1} \\sum_{i=1}^{n} (X_i - \\overline{X_n})^2\\right)^{1/2}$ . Then the distribution of $n^{1/2} (\\overline{X_n} − \\mu)/\\sigma'$ is the *t*-distribution with $n - 1$ degrees of freedom.\n",
        "\n",
        "- Gaussian distributions and Student’s *t*-distributions are some of the most important continuous probability distributions in statistics and machine learning.\n",
        "\n",
        "- The *t*-distribution may be used as a placeholder for Gaussian when population variance is not known, or when the sample size is small. Both are closely related to each other in a strict and formal way.\n",
        "\n"
      ]
    },
    {
      "cell_type": "markdown",
      "metadata": {
        "id": "o5cS5j_wkFYE",
        "colab_type": "text"
      },
      "source": [
        "# References\n",
        "\n",
        "- https://www.freecodecamp.org/news/the-t-distribution-a-key-statistical-concept-discovered-by-a-beer-brewery-dbfdc693184/\n",
        "- https://www.youtube.com/watch?v=Uv6nGIgZMVw"
      ]
    }
  ]
}