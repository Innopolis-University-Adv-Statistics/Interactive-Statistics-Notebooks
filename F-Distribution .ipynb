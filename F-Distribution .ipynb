{
  "nbformat": 4,
  "nbformat_minor": 0,
  "metadata": {
    "colab": {
      "name": "[Template] Interactive Notebook.ipynb",
      "provenance": [],
      "collapsed_sections": [],
      "include_colab_link": true
    },
    "kernelspec": {
      "name": "python3",
      "display_name": "Python 3"
    },
    "widgets": {
      "application/vnd.jupyter.widget-state+json": {
        "78deccceb53245af90eda97143852178": {
          "model_module": "@jupyter-widgets/controls",
          "model_name": "VBoxModel",
          "state": {
            "_view_name": "VBoxView",
            "_dom_classes": [
              "widget-interact"
            ],
            "_model_name": "VBoxModel",
            "_view_module": "@jupyter-widgets/controls",
            "_model_module_version": "1.5.0",
            "_view_count": null,
            "_view_module_version": "1.5.0",
            "box_style": "",
            "layout": "IPY_MODEL_61d5e9831cb34c2692a2ba22ece4c283",
            "_model_module": "@jupyter-widgets/controls",
            "children": [
              "IPY_MODEL_5e0136f6e5974ea8bfa8ebb43e3e9965",
              "IPY_MODEL_054513f7880d4c6199dce00e4b3f6bf2",
              "IPY_MODEL_4340b92901c24ca0a63e21255de472c0"
            ]
          }
        },
        "61d5e9831cb34c2692a2ba22ece4c283": {
          "model_module": "@jupyter-widgets/base",
          "model_name": "LayoutModel",
          "state": {
            "_view_name": "LayoutView",
            "grid_template_rows": null,
            "right": null,
            "justify_content": null,
            "_view_module": "@jupyter-widgets/base",
            "overflow": null,
            "_model_module_version": "1.2.0",
            "_view_count": null,
            "flex_flow": null,
            "width": null,
            "min_width": null,
            "border": null,
            "align_items": null,
            "bottom": null,
            "_model_module": "@jupyter-widgets/base",
            "top": null,
            "grid_column": null,
            "overflow_y": null,
            "overflow_x": null,
            "grid_auto_flow": null,
            "grid_area": null,
            "grid_template_columns": null,
            "flex": null,
            "_model_name": "LayoutModel",
            "justify_items": null,
            "grid_row": null,
            "max_height": null,
            "align_content": null,
            "visibility": null,
            "align_self": null,
            "height": null,
            "min_height": null,
            "padding": null,
            "grid_auto_rows": null,
            "grid_gap": null,
            "max_width": null,
            "order": null,
            "_view_module_version": "1.2.0",
            "grid_template_areas": null,
            "object_position": null,
            "object_fit": null,
            "grid_auto_columns": null,
            "margin": null,
            "display": null,
            "left": null
          }
        },
        "5e0136f6e5974ea8bfa8ebb43e3e9965": {
          "model_module": "@jupyter-widgets/controls",
          "model_name": "DropdownModel",
          "state": {
            "_options_labels": [
              "CRIM",
              "ZN",
              "INDUS",
              "CHAS",
              "NOX",
              "RM",
              "AGE",
              "DIS",
              "RAD",
              "TAX",
              "PTRATIO",
              "B",
              "LSTAT"
            ],
            "_view_name": "DropdownView",
            "style": "IPY_MODEL_dfe79fe34a3e4a27a0c3cd08cfba4b43",
            "_dom_classes": [],
            "description": "column",
            "_model_name": "DropdownModel",
            "index": 10,
            "_view_module": "@jupyter-widgets/controls",
            "_model_module_version": "1.5.0",
            "_view_count": null,
            "disabled": false,
            "_view_module_version": "1.5.0",
            "description_tooltip": null,
            "_model_module": "@jupyter-widgets/controls",
            "layout": "IPY_MODEL_e87d4345292e4b9faa6ef1104261e520"
          }
        },
        "054513f7880d4c6199dce00e4b3f6bf2": {
          "model_module": "@jupyter-widgets/controls",
          "model_name": "IntSliderModel",
          "state": {
            "_view_name": "IntSliderView",
            "style": "IPY_MODEL_fdad9b76cc6043e68b8fc5763ce488c4",
            "_dom_classes": [],
            "description": "x",
            "step": 1,
            "_model_name": "IntSliderModel",
            "orientation": "horizontal",
            "max": 60,
            "_view_module": "@jupyter-widgets/controls",
            "_model_module_version": "1.5.0",
            "value": 36,
            "_view_count": null,
            "disabled": false,
            "_view_module_version": "1.5.0",
            "min": -20,
            "continuous_update": true,
            "readout_format": "d",
            "description_tooltip": null,
            "readout": true,
            "_model_module": "@jupyter-widgets/controls",
            "layout": "IPY_MODEL_7270459363f04d9883967d51840f86bf"
          }
        },
        "4340b92901c24ca0a63e21255de472c0": {
          "model_module": "@jupyter-widgets/output",
          "model_name": "OutputModel",
          "state": {
            "_view_name": "OutputView",
            "msg_id": "",
            "_dom_classes": [],
            "_model_name": "OutputModel",
            "outputs": [
              {
                "output_type": "display_data",
                "metadata": {
                  "tags": []
                },
                "image/png": "iVBORw0KGgoAAAANSUhEUgAAAXAAAAD4CAYAAAD1jb0+AAAABHNCSVQICAgIfAhkiAAAAAlwSFlz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\n1nWzzWUAAAAASUVORK5CYII=\n",
                "text/plain": "<Figure size 432x288 with 1 Axes>"
              },
              {
                "output_type": "display_data",
                "metadata": {
                  "tags": []
                },
                "text/plain": "<matplotlib.axes._subplots.AxesSubplot at 0x7f78a10e0668>"
              }
            ],
            "_view_module": "@jupyter-widgets/output",
            "_model_module_version": "1.0.0",
            "_view_count": null,
            "_view_module_version": "1.0.0",
            "layout": "IPY_MODEL_551e128d2afb4c46aa1cbe71ebb1086a",
            "_model_module": "@jupyter-widgets/output"
          }
        },
        "dfe79fe34a3e4a27a0c3cd08cfba4b43": {
          "model_module": "@jupyter-widgets/controls",
          "model_name": "DescriptionStyleModel",
          "state": {
            "_view_name": "StyleView",
            "_model_name": "DescriptionStyleModel",
            "description_width": "",
            "_view_module": "@jupyter-widgets/base",
            "_model_module_version": "1.5.0",
            "_view_count": null,
            "_view_module_version": "1.2.0",
            "_model_module": "@jupyter-widgets/controls"
          }
        },
        "e87d4345292e4b9faa6ef1104261e520": {
          "model_module": "@jupyter-widgets/base",
          "model_name": "LayoutModel",
          "state": {
            "_view_name": "LayoutView",
            "grid_template_rows": null,
            "right": null,
            "justify_content": null,
            "_view_module": "@jupyter-widgets/base",
            "overflow": null,
            "_model_module_version": "1.2.0",
            "_view_count": null,
            "flex_flow": null,
            "width": null,
            "min_width": null,
            "border": null,
            "align_items": null,
            "bottom": null,
            "_model_module": "@jupyter-widgets/base",
            "top": null,
            "grid_column": null,
            "overflow_y": null,
            "overflow_x": null,
            "grid_auto_flow": null,
            "grid_area": null,
            "grid_template_columns": null,
            "flex": null,
            "_model_name": "LayoutModel",
            "justify_items": null,
            "grid_row": null,
            "max_height": null,
            "align_content": null,
            "visibility": null,
            "align_self": null,
            "height": null,
            "min_height": null,
            "padding": null,
            "grid_auto_rows": null,
            "grid_gap": null,
            "max_width": null,
            "order": null,
            "_view_module_version": "1.2.0",
            "grid_template_areas": null,
            "object_position": null,
            "object_fit": null,
            "grid_auto_columns": null,
            "margin": null,
            "display": null,
            "left": null
          }
        },
        "fdad9b76cc6043e68b8fc5763ce488c4": {
          "model_module": "@jupyter-widgets/controls",
          "model_name": "SliderStyleModel",
          "state": {
            "_view_name": "StyleView",
            "handle_color": null,
            "_model_name": "SliderStyleModel",
            "description_width": "",
            "_view_module": "@jupyter-widgets/base",
            "_model_module_version": "1.5.0",
            "_view_count": null,
            "_view_module_version": "1.2.0",
            "_model_module": "@jupyter-widgets/controls"
          }
        },
        "7270459363f04d9883967d51840f86bf": {
          "model_module": "@jupyter-widgets/base",
          "model_name": "LayoutModel",
          "state": {
            "_view_name": "LayoutView",
            "grid_template_rows": null,
            "right": null,
            "justify_content": null,
            "_view_module": "@jupyter-widgets/base",
            "overflow": null,
            "_model_module_version": "1.2.0",
            "_view_count": null,
            "flex_flow": null,
            "width": null,
            "min_width": null,
            "border": null,
            "align_items": null,
            "bottom": null,
            "_model_module": "@jupyter-widgets/base",
            "top": null,
            "grid_column": null,
            "overflow_y": null,
            "overflow_x": null,
            "grid_auto_flow": null,
            "grid_area": null,
            "grid_template_columns": null,
            "flex": null,
            "_model_name": "LayoutModel",
            "justify_items": null,
            "grid_row": null,
            "max_height": null,
            "align_content": null,
            "visibility": null,
            "align_self": null,
            "height": null,
            "min_height": null,
            "padding": null,
            "grid_auto_rows": null,
            "grid_gap": null,
            "max_width": null,
            "order": null,
            "_view_module_version": "1.2.0",
            "grid_template_areas": null,
            "object_position": null,
            "object_fit": null,
            "grid_auto_columns": null,
            "margin": null,
            "display": null,
            "left": null
          }
        }
      }
    }
  },
  "cells": [
    {
      "cell_type": "markdown",
      "metadata": {
        "id": "view-in-github",
        "colab_type": "text"
      },
      "source": [
        "<a href=\"https://colab.research.google.com/github/Innopolis-University-Adv-Statistics/Interactive-Statistics-Notebooks/blob/f-distribution/F-Distribution%20.ipynb\" target=\"_parent\"><img src=\"https://colab.research.google.com/assets/colab-badge.svg\" alt=\"Open In Colab\"/></a>"
      ]
    },
    {
      "cell_type": "markdown",
      "metadata": {
        "id": "q5XnPEsm0phq",
        "colab_type": "text"
      },
      "source": [
        "# METADATA\n",
        "\n",
        "- [Fastpages](https://fastpages.fast.ai/fastpages/jupyter/2020/02/21/introducing-fastpages.html) - the serving solution, they can beautifully present/server notebooks as blog posts, with code highlighting, visualiztion enabled, etc (e.g. [1](https://drscotthawley.github.io/devblog3/2019/02/08/My-1st-NN-Part-3-Multi-Layer-and-Backprop.html)) - maybe too complex for our needs so far\n",
        "\n",
        "- [This blog post](https://towardsdatascience.com/interactive-controls-for-jupyter-notebooks-f5c94829aee6) - that explains how to use \n",
        "IPyWidgets and stuff\n",
        "\n",
        "- Awesome visuzliation library [Altair](https://altair-viz.github.io/gallery/index.html)"
      ]
    },
    {
      "cell_type": "code",
      "metadata": {
        "id": "KD93l23M1ggr",
        "colab_type": "code",
        "collapsed": true,
        "outputId": "5b0e5771-1445-45fe-daf7-bc464fb1caf4",
        "colab": {
          "base_uri": "https://localhost:8080/",
          "height": 666
        }
      },
      "source": [
        "! pip install ipywidgets\n",
        "! jupyter nbextension enable --py widgetsnbextension\n",
        "\n",
        "import ipywidgets as widgets\n",
        "from ipywidgets import interact, interact_manual"
      ],
      "execution_count": 0,
      "outputs": [
        {
          "output_type": "stream",
          "text": [
            "Requirement already satisfied: ipywidgets in /usr/local/lib/python3.6/dist-packages (7.5.1)\n",
            "Requirement already satisfied: traitlets>=4.3.1 in /usr/local/lib/python3.6/dist-packages (from ipywidgets) (4.3.3)\n",
            "Requirement already satisfied: ipython>=4.0.0; python_version >= \"3.3\" in /usr/local/lib/python3.6/dist-packages (from ipywidgets) (5.5.0)\n",
            "Requirement already satisfied: widgetsnbextension~=3.5.0 in /usr/local/lib/python3.6/dist-packages (from ipywidgets) (3.5.1)\n",
            "Requirement already satisfied: ipykernel>=4.5.1 in /usr/local/lib/python3.6/dist-packages (from ipywidgets) (4.6.1)\n",
            "Requirement already satisfied: nbformat>=4.2.0 in /usr/local/lib/python3.6/dist-packages (from ipywidgets) (5.0.4)\n",
            "Requirement already satisfied: six in /usr/local/lib/python3.6/dist-packages (from traitlets>=4.3.1->ipywidgets) (1.12.0)\n",
            "Requirement already satisfied: decorator in /usr/local/lib/python3.6/dist-packages (from traitlets>=4.3.1->ipywidgets) (4.4.2)\n",
            "Requirement already satisfied: ipython-genutils in /usr/local/lib/python3.6/dist-packages (from traitlets>=4.3.1->ipywidgets) (0.2.0)\n",
            "Requirement already satisfied: prompt-toolkit<2.0.0,>=1.0.4 in /usr/local/lib/python3.6/dist-packages (from ipython>=4.0.0; python_version >= \"3.3\"->ipywidgets) (1.0.18)\n",
            "Requirement already satisfied: setuptools>=18.5 in /usr/local/lib/python3.6/dist-packages (from ipython>=4.0.0; python_version >= \"3.3\"->ipywidgets) (46.0.0)\n",
            "Requirement already satisfied: pickleshare in /usr/local/lib/python3.6/dist-packages (from ipython>=4.0.0; python_version >= \"3.3\"->ipywidgets) (0.7.5)\n",
            "Requirement already satisfied: pygments in /usr/local/lib/python3.6/dist-packages (from ipython>=4.0.0; python_version >= \"3.3\"->ipywidgets) (2.1.3)\n",
            "Requirement already satisfied: simplegeneric>0.8 in /usr/local/lib/python3.6/dist-packages (from ipython>=4.0.0; python_version >= \"3.3\"->ipywidgets) (0.8.1)\n",
            "Requirement already satisfied: pexpect; sys_platform != \"win32\" in /usr/local/lib/python3.6/dist-packages (from ipython>=4.0.0; python_version >= \"3.3\"->ipywidgets) (4.8.0)\n",
            "Requirement already satisfied: notebook>=4.4.1 in /usr/local/lib/python3.6/dist-packages (from widgetsnbextension~=3.5.0->ipywidgets) (5.2.2)\n",
            "Requirement already satisfied: jupyter-client in /usr/local/lib/python3.6/dist-packages (from ipykernel>=4.5.1->ipywidgets) (5.3.4)\n",
            "Requirement already satisfied: tornado>=4.0 in /usr/local/lib/python3.6/dist-packages (from ipykernel>=4.5.1->ipywidgets) (4.5.3)\n",
            "Requirement already satisfied: jsonschema!=2.5.0,>=2.4 in /usr/local/lib/python3.6/dist-packages (from nbformat>=4.2.0->ipywidgets) (2.6.0)\n",
            "Requirement already satisfied: jupyter-core in /usr/local/lib/python3.6/dist-packages (from nbformat>=4.2.0->ipywidgets) (4.6.3)\n",
            "Requirement already satisfied: wcwidth in /usr/local/lib/python3.6/dist-packages (from prompt-toolkit<2.0.0,>=1.0.4->ipython>=4.0.0; python_version >= \"3.3\"->ipywidgets) (0.1.8)\n",
            "Requirement already satisfied: ptyprocess>=0.5 in /usr/local/lib/python3.6/dist-packages (from pexpect; sys_platform != \"win32\"->ipython>=4.0.0; python_version >= \"3.3\"->ipywidgets) (0.6.0)\n",
            "Requirement already satisfied: nbconvert in /usr/local/lib/python3.6/dist-packages (from notebook>=4.4.1->widgetsnbextension~=3.5.0->ipywidgets) (5.6.1)\n",
            "Requirement already satisfied: jinja2 in /usr/local/lib/python3.6/dist-packages (from notebook>=4.4.1->widgetsnbextension~=3.5.0->ipywidgets) (2.11.1)\n",
            "Requirement already satisfied: terminado>=0.3.3; sys_platform != \"win32\" in /usr/local/lib/python3.6/dist-packages (from notebook>=4.4.1->widgetsnbextension~=3.5.0->ipywidgets) (0.8.3)\n",
            "Requirement already satisfied: pyzmq>=13 in /usr/local/lib/python3.6/dist-packages (from jupyter-client->ipykernel>=4.5.1->ipywidgets) (17.0.0)\n",
            "Requirement already satisfied: python-dateutil>=2.1 in /usr/local/lib/python3.6/dist-packages (from jupyter-client->ipykernel>=4.5.1->ipywidgets) (2.8.1)\n",
            "Requirement already satisfied: entrypoints>=0.2.2 in /usr/local/lib/python3.6/dist-packages (from nbconvert->notebook>=4.4.1->widgetsnbextension~=3.5.0->ipywidgets) (0.3)\n",
            "Requirement already satisfied: bleach in /usr/local/lib/python3.6/dist-packages (from nbconvert->notebook>=4.4.1->widgetsnbextension~=3.5.0->ipywidgets) (3.1.3)\n",
            "Requirement already satisfied: defusedxml in /usr/local/lib/python3.6/dist-packages (from nbconvert->notebook>=4.4.1->widgetsnbextension~=3.5.0->ipywidgets) (0.6.0)\n",
            "Requirement already satisfied: pandocfilters>=1.4.1 in /usr/local/lib/python3.6/dist-packages (from nbconvert->notebook>=4.4.1->widgetsnbextension~=3.5.0->ipywidgets) (1.4.2)\n",
            "Requirement already satisfied: testpath in /usr/local/lib/python3.6/dist-packages (from nbconvert->notebook>=4.4.1->widgetsnbextension~=3.5.0->ipywidgets) (0.4.4)\n",
            "Requirement already satisfied: mistune<2,>=0.8.1 in /usr/local/lib/python3.6/dist-packages (from nbconvert->notebook>=4.4.1->widgetsnbextension~=3.5.0->ipywidgets) (0.8.4)\n",
            "Requirement already satisfied: MarkupSafe>=0.23 in /usr/local/lib/python3.6/dist-packages (from jinja2->notebook>=4.4.1->widgetsnbextension~=3.5.0->ipywidgets) (1.1.1)\n",
            "Requirement already satisfied: webencodings in /usr/local/lib/python3.6/dist-packages (from bleach->nbconvert->notebook>=4.4.1->widgetsnbextension~=3.5.0->ipywidgets) (0.5.1)\n",
            "Enabling notebook extension jupyter-js-widgets/extension...\n",
            "      - Validating: \u001b[32mOK\u001b[0m\n"
          ],
          "name": "stdout"
        }
      ]
    },
    {
      "cell_type": "markdown",
      "metadata": {
        "id": "ITC684n6xm2f",
        "colab_type": "text"
      },
      "source": [
        "# < Topic Title >\n",
        "\n",
        "- table of contents\n",
        "- links to other notebooks\n",
        "- image of the mind map and where are we"
      ]
    },
    {
      "cell_type": "markdown",
      "metadata": {
        "id": "CdLByacoxqBU",
        "colab_type": "text"
      },
      "source": [
        "## Intro\n",
        "\n",
        "- brief intro what is going to be covered\n",
        "- brief expected outcome"
      ]
    },
    {
      "cell_type": "markdown",
      "metadata": {
        "id": "EovComAJxr-0",
        "colab_type": "text"
      },
      "source": [
        "## Setup\n",
        "\n",
        "- install required packages\n",
        "- etc"
      ]
    },
    {
      "cell_type": "markdown",
      "metadata": {
        "id": "9hI1xXAGzaNk",
        "colab_type": "text"
      },
      "source": [
        "## Data load / synthesis\n",
        "\n",
        "- introduce theoretical background for synthetic data\n",
        "- state hypothesis upfront if you take data from real life (why it has the properties you will use, e.g. normality/t-distribution/etc.)"
      ]
    },
    {
      "cell_type": "code",
      "metadata": {
        "id": "Qiozktuj16i8",
        "colab_type": "code",
        "colab": {}
      },
      "source": [
        "import pandas as pd\n",
        "from sklearn.datasets import load_boston\n",
        "\n",
        "data = load_boston()"
      ],
      "execution_count": 0,
      "outputs": []
    },
    {
      "cell_type": "code",
      "metadata": {
        "id": "5djlAHrK2ETI",
        "colab_type": "code",
        "colab": {}
      },
      "source": [
        "df = pd.DataFrame(data['data'], columns=data['feature_names'])"
      ],
      "execution_count": 0,
      "outputs": []
    },
    {
      "cell_type": "markdown",
      "metadata": {
        "id": "jNm4a9nY23l2",
        "colab_type": "text"
      },
      "source": [
        "`interact` [documentation](https://ipywidgets.readthedocs.io/en/stable/examples/Using%20Interact.html)"
      ]
    },
    {
      "cell_type": "code",
      "metadata": {
        "id": "KgTO1Out2ZEU",
        "colab_type": "code",
        "outputId": "68276ef4-87a3-46b3-ef5e-05bad2b5236d",
        "colab": {
          "base_uri": "https://localhost:8080/",
          "height": 346,
          "referenced_widgets": [
            "78deccceb53245af90eda97143852178",
            "61d5e9831cb34c2692a2ba22ece4c283",
            "5e0136f6e5974ea8bfa8ebb43e3e9965",
            "054513f7880d4c6199dce00e4b3f6bf2",
            "4340b92901c24ca0a63e21255de472c0",
            "dfe79fe34a3e4a27a0c3cd08cfba4b43",
            "e87d4345292e4b9faa6ef1104261e520",
            "fdad9b76cc6043e68b8fc5763ce488c4",
            "7270459363f04d9883967d51840f86bf",
            "551e128d2afb4c46aa1cbe71ebb1086a"
          ]
        }
      },
      "source": [
        "@interact\n",
        "def show_articles_more_than(column=df.columns, x=20):\n",
        "  \n",
        "    return df[column].loc[:x].hist()"
      ],
      "execution_count": 0,
      "outputs": [
        {
          "output_type": "display_data",
          "data": {
            "application/vnd.jupyter.widget-view+json": {
              "model_id": "78deccceb53245af90eda97143852178",
              "version_minor": 0,
              "version_major": 2
            },
            "text/plain": [
              "interactive(children=(Dropdown(description='column', options=('CRIM', 'ZN', 'INDUS', 'CHAS', 'NOX', 'RM', 'AGE…"
            ]
          },
          "metadata": {
            "tags": []
          }
        }
      ]
    },
    {
      "cell_type": "markdown",
      "metadata": {
        "id": "rh-gP7nSzp23",
        "colab_type": "text"
      },
      "source": [
        "## Application\n",
        " \n",
        "- a sample task / application\n",
        "- parameters and what they mean/affect (if applicable)\n",
        "- hypothesis tests\n",
        "- statistical tests\n",
        "- vizializtion\n"
      ]
    },
    {
      "cell_type": "markdown",
      "metadata": {
        "id": "n7rXmOAfz7t9",
        "colab_type": "text"
      },
      "source": [
        "## Conclusion\n",
        "\n",
        "- what we learned\n",
        "- when to use this distribution/test/etc\n",
        "- when it is not applicable\n",
        "- what are the corner stones / edge cases"
      ]
    },
    {
      "cell_type": "markdown",
      "metadata": {
        "id": "jBzcWz4M0Fm0",
        "colab_type": "text"
      },
      "source": [
        "## References / Acknowledgements"
      ]
    },
    {
      "cell_type": "markdown",
      "metadata": {
        "id": "K1nm8ZcO0JUH",
        "colab_type": "text"
      },
      "source": [
        "- blog posts\n",
        "- wikipedia articles\n",
        "- books\n",
        "- etc."
      ]
    }
  ]
}