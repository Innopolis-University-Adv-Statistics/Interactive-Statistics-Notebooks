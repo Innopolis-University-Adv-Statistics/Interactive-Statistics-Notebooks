{
 "cells": [
  {
   "cell_type": "markdown",
   "metadata": {},
   "source": [
    "[![Open In Colab](https://colab.research.google.com/assets/colab-badge.svg)]()"
   ]
  },
  {
   "cell_type": "markdown",
   "metadata": {
    "colab_type": "text",
    "id": "ITC684n6xm2f"
   },
   "source": [
    "# Kolmogorov-Smirnov test (KS-test)\n",
    "\n",
    "\n",
    "### Table of Contents\n",
    "- Setup\n",
    "- Introduction\n",
    "    - Kolmogorov's distribution\n",
    "    - Kolmogorov's theorem\n",
    "    - Kolmogorov-Smornov statistic\n",
    "    - ECDF\n",
    "    - Definition\n",
    "- Motivation\n",
    "- Data loading\n",
    "- Application\n",
    "    - Play with statistic\n",
    "- Exercises\n",
    "    - Build  ecdf from sample\n",
    "    - Build two sample KS-test\n",
    "    - Compare one sample KS-test and Student's t-test\n",
    "    - Example for two sample ks-test and Student's t-test\n",
    "- Conclusion\n",
    "- References / Acknowledgements"
   ]
  },
  {
   "cell_type": "markdown",
   "metadata": {
    "colab_type": "text",
    "id": "EovComAJxr-0"
   },
   "source": [
    "---\n",
    "## Setup"
   ]
  },
  {
   "cell_type": "code",
   "execution_count": 340,
   "metadata": {
    "colab": {
     "base_uri": "https://localhost:8080/",
     "height": 666
    },
    "colab_type": "code",
    "id": "KD93l23M1ggr",
    "outputId": "5b0e5771-1445-45fe-daf7-bc464fb1caf4"
   },
   "outputs": [],
   "source": [
    "import matplotlib.pyplot as plt\n",
    "\n",
    "import pandas as pd\n",
    "import numpy as np\n",
    "\n",
    "\n",
    "import ipywidgets as widgets\n",
    "from ipywidgets import interact, interact_manual, fixed\n",
    "\n",
    "from scipy.stats import ks_2samp, kstest, norm\n",
    "\n",
    "from sklearn.preprocessing import minmax_scale\n",
    "\n",
    "from statsmodels.distributions.empirical_distribution import ECDF\n",
    "\n",
    "%matplotlib inline"
   ]
  },
  {
   "cell_type": "markdown",
   "metadata": {
    "colab_type": "text",
    "id": "CdLByacoxqBU"
   },
   "source": [
    "---\n",
    "## Introduction\n",
    "\n",
    "In this notebook we are going to consider Kolmogorov-Smirnov test and their properties."
   ]
  },
  {
   "cell_type": "markdown",
   "metadata": {},
   "source": [
    "### Kolmogorov's distribution  \n",
    "CDF of Kolmogorov's distribution [[1](https://en.wikipedia.org/wiki/Kolmogorov%E2%80%93Smirnov_test)]:\n",
    "![](https://wikimedia.org/api/rest_v1/media/math/render/svg/9d065517d5558ecb7a63ec4a6fd589eef06e6552)\n",
    "![](https://wikimedia.org/api/rest_v1/media/math/render/svg/fd9357312760787714f07f6fb53e04a0728d63d7)"
   ]
  },
  {
   "cell_type": "markdown",
   "metadata": {},
   "source": [
    "---\n",
    "### Kolmogorov's theorem  \n",
    "Let X1, ..., Xn, ... - is an infinite sample from a continuous distribution F(x). Let Fn(x) is a empirical CDF (ECDF) build on first n elements of the sample.\n",
    "Then\n",
    "![](https://wikimedia.org/api/rest_v1/media/math/render/svg/9da8bb11ae439ae2d35c150ffc81c19d7b4e9b78)\n",
    "n → ∞,\n",
    "where K is a random variable, that has Kolmogorov distribution [[1](https://en.wikipedia.org/wiki/Kolmogorov%E2%80%93Smirnov_test)]."
   ]
  },
  {
   "cell_type": "markdown",
   "metadata": {},
   "source": [
    "---\n",
    "## Kolmogorov-Smornov statistic\n",
    "**The Kolmogorov–Smirnov test** (KS-test) is a *nonparametric* test of the equality of one-dimensional probability distributions that can be used to compare a sample with a reference probability distribution (*one-sample KS-test*), or to compare two samples (*two-sample KS-test*) [[1](https://en.wikipedia.org/wiki/Kolmogorov%E2%80%93Smirnov_test)].\n",
    "\n",
    "---\n",
    "### ECDF\n",
    "**The Kolmogorov-Smirnov test** is based on the empirical\n",
    "distribution function (**ECDF**). The ECDF Fn for n independent and identically distributed ordered observations Xi is defined as\n",
    "![](https://wikimedia.org/api/rest_v1/media/math/render/svg/aacca85bf28da15cbba66ea7c456cf7ad9784047)\n",
    "This is a step function that increases by 1/N at the value of each ordered data point [[2](https://en.wikipedia.org/wiki/Empirical_distribution_function)].\n",
    "\n",
    "---\n",
    "## Definition\n",
    "*The Kolmogorov-Smirnov test* is defined by:  \n",
    "**H0** : The data follow a specified distribution  \n",
    "**H1** : The data do not follow the specified distribution\n",
    "![](https://wikimedia.org/api/rest_v1/media/math/render/svg/2a8f25b438394d87d3e53a003cc3cc751d418b9c)\n",
    "where *F(x)* is the theoretical cumulative distribution of the distribution\n",
    "being tested which must be a continuous distribution.  \n",
    "**H0** is rejected if D is greater than the critical value obtained from a table.\n",
    "![](https://ars.els-cdn.com/content/image/3-s2.0-B9780128054277000014-f01-42-9780128054277.jpg)\n",
    "\n",
    "---\n",
    "## Motivation\n",
    "  \n",
    "***TODO: add MIND-MAP from Utih***  \n",
    "  \n",
    "**The Kolmogorov–Smirnov test** is similar in application to Student's test, but KS-test is a bit more complex and allows you to detect patterns you can’t detect with a Student's t-test [[3](https://towardsdatascience.com/kolmogorov-smirnov-test-84c92fb4158d)].  \n",
    "Here is an example that shows the difference between Student’s t-test and KS-test.\n",
    "![](https://miro.medium.com/max/934/0*_zFg_-LPurj7FbPL.)\n",
    "Because the sample mean and standard deviation are highly similar the Student’s t-Test gives a very high p-value. KS-test can detect the variance. In this case the *red* distribution has a slightly binomial distribution which KS-test detect. In other words:\n",
    "- Student's t-test says that there is **79.3%** chances the two samples come from the same distribution.\n",
    "- KS-test says that there are **1.6%** chances the two samples come from the same distribution."
   ]
  },
  {
   "cell_type": "markdown",
   "metadata": {
    "colab_type": "text",
    "id": "9hI1xXAGzaNk"
   },
   "source": [
    "---\n",
    "## Data loading\n",
    "\n",
    "Load Boston dataset [[manual](https://scikit-learn.org/stable/modules/generated/sklearn.datasets.load_boston.html)]"
   ]
  },
  {
   "cell_type": "code",
   "execution_count": 303,
   "metadata": {
    "colab": {},
    "colab_type": "code",
    "id": "Qiozktuj16i8"
   },
   "outputs": [],
   "source": [
    "from sklearn.datasets import load_boston\n",
    "\n",
    "data = load_boston()"
   ]
  },
  {
   "cell_type": "code",
   "execution_count": 304,
   "metadata": {
    "colab": {},
    "colab_type": "code",
    "id": "5djlAHrK2ETI"
   },
   "outputs": [
    {
     "data": {
      "text/html": [
       "<div>\n",
       "<style scoped>\n",
       "    .dataframe tbody tr th:only-of-type {\n",
       "        vertical-align: middle;\n",
       "    }\n",
       "\n",
       "    .dataframe tbody tr th {\n",
       "        vertical-align: top;\n",
       "    }\n",
       "\n",
       "    .dataframe thead th {\n",
       "        text-align: right;\n",
       "    }\n",
       "</style>\n",
       "<table border=\"1\" class=\"dataframe\">\n",
       "  <thead>\n",
       "    <tr style=\"text-align: right;\">\n",
       "      <th></th>\n",
       "      <th>CRIM</th>\n",
       "      <th>ZN</th>\n",
       "      <th>INDUS</th>\n",
       "      <th>CHAS</th>\n",
       "      <th>NOX</th>\n",
       "      <th>RM</th>\n",
       "      <th>AGE</th>\n",
       "      <th>DIS</th>\n",
       "      <th>RAD</th>\n",
       "      <th>TAX</th>\n",
       "      <th>PTRATIO</th>\n",
       "      <th>B</th>\n",
       "      <th>LSTAT</th>\n",
       "    </tr>\n",
       "  </thead>\n",
       "  <tbody>\n",
       "    <tr>\n",
       "      <th>0</th>\n",
       "      <td>0.00632</td>\n",
       "      <td>18.0</td>\n",
       "      <td>2.31</td>\n",
       "      <td>0.0</td>\n",
       "      <td>0.538</td>\n",
       "      <td>6.575</td>\n",
       "      <td>65.2</td>\n",
       "      <td>4.0900</td>\n",
       "      <td>1.0</td>\n",
       "      <td>296.0</td>\n",
       "      <td>15.3</td>\n",
       "      <td>396.90</td>\n",
       "      <td>4.98</td>\n",
       "    </tr>\n",
       "    <tr>\n",
       "      <th>1</th>\n",
       "      <td>0.02731</td>\n",
       "      <td>0.0</td>\n",
       "      <td>7.07</td>\n",
       "      <td>0.0</td>\n",
       "      <td>0.469</td>\n",
       "      <td>6.421</td>\n",
       "      <td>78.9</td>\n",
       "      <td>4.9671</td>\n",
       "      <td>2.0</td>\n",
       "      <td>242.0</td>\n",
       "      <td>17.8</td>\n",
       "      <td>396.90</td>\n",
       "      <td>9.14</td>\n",
       "    </tr>\n",
       "    <tr>\n",
       "      <th>2</th>\n",
       "      <td>0.02729</td>\n",
       "      <td>0.0</td>\n",
       "      <td>7.07</td>\n",
       "      <td>0.0</td>\n",
       "      <td>0.469</td>\n",
       "      <td>7.185</td>\n",
       "      <td>61.1</td>\n",
       "      <td>4.9671</td>\n",
       "      <td>2.0</td>\n",
       "      <td>242.0</td>\n",
       "      <td>17.8</td>\n",
       "      <td>392.83</td>\n",
       "      <td>4.03</td>\n",
       "    </tr>\n",
       "    <tr>\n",
       "      <th>3</th>\n",
       "      <td>0.03237</td>\n",
       "      <td>0.0</td>\n",
       "      <td>2.18</td>\n",
       "      <td>0.0</td>\n",
       "      <td>0.458</td>\n",
       "      <td>6.998</td>\n",
       "      <td>45.8</td>\n",
       "      <td>6.0622</td>\n",
       "      <td>3.0</td>\n",
       "      <td>222.0</td>\n",
       "      <td>18.7</td>\n",
       "      <td>394.63</td>\n",
       "      <td>2.94</td>\n",
       "    </tr>\n",
       "    <tr>\n",
       "      <th>4</th>\n",
       "      <td>0.06905</td>\n",
       "      <td>0.0</td>\n",
       "      <td>2.18</td>\n",
       "      <td>0.0</td>\n",
       "      <td>0.458</td>\n",
       "      <td>7.147</td>\n",
       "      <td>54.2</td>\n",
       "      <td>6.0622</td>\n",
       "      <td>3.0</td>\n",
       "      <td>222.0</td>\n",
       "      <td>18.7</td>\n",
       "      <td>396.90</td>\n",
       "      <td>5.33</td>\n",
       "    </tr>\n",
       "  </tbody>\n",
       "</table>\n",
       "</div>"
      ],
      "text/plain": [
       "      CRIM    ZN  INDUS  CHAS    NOX     RM   AGE     DIS  RAD    TAX  \\\n",
       "0  0.00632  18.0   2.31   0.0  0.538  6.575  65.2  4.0900  1.0  296.0   \n",
       "1  0.02731   0.0   7.07   0.0  0.469  6.421  78.9  4.9671  2.0  242.0   \n",
       "2  0.02729   0.0   7.07   0.0  0.469  7.185  61.1  4.9671  2.0  242.0   \n",
       "3  0.03237   0.0   2.18   0.0  0.458  6.998  45.8  6.0622  3.0  222.0   \n",
       "4  0.06905   0.0   2.18   0.0  0.458  7.147  54.2  6.0622  3.0  222.0   \n",
       "\n",
       "   PTRATIO       B  LSTAT  \n",
       "0     15.3  396.90   4.98  \n",
       "1     17.8  396.90   9.14  \n",
       "2     17.8  392.83   4.03  \n",
       "3     18.7  394.63   2.94  \n",
       "4     18.7  396.90   5.33  "
      ]
     },
     "execution_count": 304,
     "metadata": {},
     "output_type": "execute_result"
    }
   ],
   "source": [
    "df = pd.DataFrame(data['data'], columns=data['feature_names'])\n",
    "df.head()"
   ]
  },
  {
   "cell_type": "markdown",
   "metadata": {
    "colab_type": "text",
    "id": "rh-gP7nSzp23"
   },
   "source": [
    "---\n",
    "## Application\n",
    "\n",
    "### Play with distributions\n",
    "\n",
    "#### Sampling\n",
    "\n",
    "Play with sampling different columns in Boston dataset."
   ]
  },
  {
   "cell_type": "code",
   "execution_count": 312,
   "metadata": {},
   "outputs": [],
   "source": [
    "def create_cdf(norm_x):\n",
    "    ecdf = ECDF(norm_x)\n",
    "    cdf_df = pd.Series(ecdf.x, index=ecdf.y)\n",
    "    return cdf_df"
   ]
  },
  {
   "cell_type": "code",
   "execution_count": 348,
   "metadata": {
    "scrolled": false
   },
   "outputs": [
    {
     "data": {
      "application/vnd.jupyter.widget-view+json": {
       "model_id": "e13c345a1b864337863b032f6690cb3a",
       "version_major": 2,
       "version_minor": 0
      },
      "text/plain": [
       "interactive(children=(IntSlider(value=100, description='size', max=506, min=1), Dropdown(description='column_1…"
      ]
     },
     "metadata": {},
     "output_type": "display_data"
    }
   ],
   "source": [
    "@interact(size=widgets.IntSlider(min=1, max=len(df.index), step=1, value=100))\n",
    "def plot_dist(size, column_1=df.columns, column_2=df.columns):\n",
    "    \n",
    "    #load data\n",
    "    x_1 = df[column_1][:size]\n",
    "    x_2 = df[column_2][:size]\n",
    "    \n",
    "    # normalize data\n",
    "    norm_x_1 = minmax_scale(x_1)\n",
    "    norm_x_2 = minmax_scale(x_2)\n",
    "    \n",
    "    # create linspace for normal distribution\n",
    "    norm_dist = np.linspace(0, 1, size)\n",
    "    \n",
    "    # create cdf\n",
    "    cdf_norm_x_1 = create_cdf(norm_x_1)\n",
    "    cdf_norm_x_2 = create_cdf(norm_x_2)\n",
    "    cdf_norm_dist = pd.Series(np.stack(norm.cdf(norm_dist, loc=0.5, scale=0.5/3), axis=-1), index=norm_dist)\n",
    "    \n",
    "    # calculate ks-tests\n",
    "    ks_stat1, _ = kstest(cdf_norm_x_1, 'norm')\n",
    "    ks_stat2, _ = kstest(cdf_norm_x_2, 'norm')\n",
    "    ks_stat1_2, _ = ks_2samp(cdf_norm_x_1.tolist(), cdf_norm_x_2.tolist())\n",
    "\n",
    "    #visualition of results\n",
    "    f = plt.figure(figsize=(20, 20))\n",
    "    gs = f.add_gridspec(3, 1)\n",
    "    \n",
    "    ax = f.add_subplot(gs[0, 0])    \n",
    "    ax.set_title(f\"CDF {column_1} and norm\\n\"+\\\n",
    "                    f\"One sample KS-test={str(round(ks_stat1,2))}\", \n",
    "                 fontsize='large', fontweight='bold')\n",
    "    cdf_norm_x_1.plot.line(ax=ax)\n",
    "    cdf_norm_dist.plot.line(ax=ax)\n",
    "    ax.legend([column_1, \"norm\"], fontsize=20)\n",
    "    \n",
    "    ax = f.add_subplot(gs[1, 0])    \n",
    "    ax.set_title(f\"CDF {column_2} and norm\\n\"+\\\n",
    "                    f\"One sample KS-test={str(round(ks_stat2,2))}\", \n",
    "                 fontsize='large', fontweight='bold')\n",
    "    cdf_norm_x_2.plot.line(ax=ax)\n",
    "    cdf_norm_dist.plot.line(ax=ax)\n",
    "    ax.legend([column_2, \"norm\"], fontsize=20)\n",
    "    \n",
    "    ax = f.add_subplot(gs[2, 0])    \n",
    "    ax.set_title(f\"CDF {column_1} and {column_2}\\n\"+\\\n",
    "                    f\"Two sample KS-test={str(round(ks_stat1_2,2))}\", \n",
    "                 fontsize='large', fontweight='bold')\n",
    "    cdf_norm_x_1.plot.line(ax=ax)\n",
    "    cdf_norm_x_2.plot.line(ax=ax)\n",
    "    ax.legend([column_1, column_2], fontsize=20)\n",
    "    \n",
    "    f.tight_layout()"
   ]
  },
  {
   "cell_type": "markdown",
   "metadata": {},
   "source": [
    "1. What does the *received value* of **KS-test** mean?\n",
    "2. What is the *range* of values for **KS-test**?\n",
    "3. What does it mean if the **KS-test** value is *0*?"
   ]
  },
  {
   "cell_type": "markdown",
   "metadata": {},
   "source": [
    "---\n",
    "## Exercises\n",
    "\n",
    "### Build  ecdf from sample\n",
    "Build an empirical distribution function using any column from the Boston dataset."
   ]
  },
  {
   "cell_type": "code",
   "execution_count": 306,
   "metadata": {},
   "outputs": [],
   "source": [
    "# TODO: build ecdf from norm_x\n",
    "def build_ecdf(norm_df):\n",
    "    \n",
    "    pass"
   ]
  },
  {
   "cell_type": "code",
   "execution_count": 307,
   "metadata": {},
   "outputs": [
    {
     "data": {
      "application/vnd.jupyter.widget-view+json": {
       "model_id": "710d9b29b83d4e56b0b3fa7657ccccde",
       "version_major": 2,
       "version_minor": 0
      },
      "text/plain": [
       "interactive(children=(IntSlider(value=100, description='size', max=506, min=1), Dropdown(description='column_n…"
      ]
     },
     "metadata": {},
     "output_type": "display_data"
    }
   ],
   "source": [
    "@interact(size=widgets.IntSlider(min=1, max=len(df.index), step=1, value=100))\n",
    "def plot_ecdf(size, column_name=df.columns):\n",
    "    \n",
    "    #load data\n",
    "    x = df[column_name][:size]\n",
    "    \n",
    "    # normalize data\n",
    "    norm_x = minmax_scale(x)\n",
    "    \n",
    "    # build ecdf \n",
    "    ecdf_norm_x = build_ecdf(norm_x)\n",
    "    \n",
    "    #visualition of results\n",
    "    f = plt.figure(figsize=(20, 20))\n",
    "    gs = f.add_gridspec(1, 1)\n",
    "    \n",
    "    ax = f.add_subplot(gs[0, 0])    \n",
    "    ax.set_title(f\"ECDF {column_name}\", fontsize='large', fontweight='bold')\n",
    "    \n",
    "    # TODO: Visualize the resulting ecdf. \n",
    "    # HINT: It can be in the form of a line or a set of points.\n",
    "    \n",
    "    f.tight_layout()"
   ]
  },
  {
   "cell_type": "markdown",
   "metadata": {},
   "source": [
    "---\n",
    "### Build two sample KS-test\n",
    "Build your implementation of two sample KS-test using any columns from the Boston dataset.\n",
    "*HINT*: ![](https://wikimedia.org/api/rest_v1/media/math/render/svg/2a8f25b438394d87d3e53a003cc3cc751d418b9c)\n",
    "![](https://upload.wikimedia.org/wikipedia/commons/thumb/c/cf/KS_Example.png/300px-KS_Example.png)"
   ]
  },
  {
   "cell_type": "code",
   "execution_count": 309,
   "metadata": {},
   "outputs": [],
   "source": [
    "def create_cdf(norm_x):\n",
    "    ecdf = build_ecdf(norm_x)\n",
    "    \n",
    "    # TODO: create cdf pandas.Dataframe from ecdf\n",
    "    cdf_df = \n",
    "    \n",
    "    return cdf_df\n",
    "\n",
    "def ks_2_sample_test(cdf1: np.ndarray, cdf2: np.ndarray):\n",
    "    # TODO: calculate two sample KS-statistic\n",
    "    \n",
    "    pass"
   ]
  },
  {
   "cell_type": "code",
   "execution_count": null,
   "metadata": {},
   "outputs": [],
   "source": [
    "@interact(size=widgets.IntSlider(min=1, max=len(df.index), step=1, value=100))\n",
    "def plot_dist(size, column_1=df.columns, column_2=df.columns):\n",
    "    \n",
    "    #load data\n",
    "    x_1 = df[column_1][:size]\n",
    "    x_2 = df[column_2][:size]\n",
    "    \n",
    "    # normalize data\n",
    "    norm_x_1 = minmax_scale(x_1)\n",
    "    norm_x_2 = minmax_scale(x_2)\n",
    "    \n",
    "    # create cdf\n",
    "    cdf_norm_x_1 = create_cdf(norm_x_1)\n",
    "    cdf_norm_x_2 = create_cdf(norm_x_2)\n",
    "    \n",
    "    # calculate ks-test\n",
    "    ks_stat1_2 = ks_2_sample_test(cdf_norm_x_1.tolist(), cdf_norm_x_2.tolist())\n",
    "    \n",
    "    #visualition of results\n",
    "    f = plt.figure(figsize=(20, 20))\n",
    "    gs = f.add_gridspec(1, 1)\n",
    "        \n",
    "    ax = f.add_subplot(gs[0, 0])    \n",
    "    ax.set_title(f\"CDF {column_1} and {column_2}\\n\"+\\\n",
    "                    f\"Two sample KS-test={str(round(ks_stat1_2,2))}\", \n",
    "                 fontsize='large', fontweight='bold')\n",
    "    cdf_norm_x_1.plot.line(ax=ax)\n",
    "    cdf_norm_x_2.plot.line(ax=ax)\n",
    "    \n",
    "    f.tight_layout()"
   ]
  },
  {
   "cell_type": "markdown",
   "metadata": {},
   "source": [
    "1. What happens if one of the samples consists of the same elements?"
   ]
  },
  {
   "cell_type": "markdown",
   "metadata": {},
   "source": [
    "---\n",
    "### Compare one sample KS-test and Student's t-test\n",
    "Add the ability to calculate the Student's t-test and compare them with each other."
   ]
  },
  {
   "cell_type": "code",
   "execution_count": null,
   "metadata": {},
   "outputs": [],
   "source": [
    "def t_2_sample_test(df1: np.ndarray, df2: np.ndarray):\n",
    "    # TODO: calculate two sample Student's t-statistic\n",
    "    \n",
    "    pass"
   ]
  },
  {
   "cell_type": "code",
   "execution_count": null,
   "metadata": {},
   "outputs": [],
   "source": [
    "@interact(size=widgets.IntSlider(min=1, max=len(df.index), step=1, value=100))\n",
    "def plot_dist(size, column_1=df.columns, column_2=df.columns):\n",
    "    \n",
    "    #load data\n",
    "    x_1 = df[column_1][:size]\n",
    "    x_2 = df[column_2][:size]\n",
    "    \n",
    "    # normalize data\n",
    "    norm_x_1 = minmax_scale(x_1)\n",
    "    norm_x_2 = minmax_scale(x_2)\n",
    "    \n",
    "    # create cdf\n",
    "    cdf_norm_x_1 = create_cdf(norm_x_1)\n",
    "    cdf_norm_x_2 = create_cdf(norm_x_2)\n",
    "    \n",
    "    # calculate ks-test\n",
    "    ks_stat1_2 = ks_2_sample_test(cdf_norm_x_1.tolist(), cdf_norm_x_2.tolist())\n",
    "    \n",
    "    # calculate t-test\n",
    "    # TODO: add parametrs for t-test\n",
    "    t_stat1_2 = t_2_sample_test()\n",
    "    \n",
    "    #visualition of results\n",
    "    f = plt.figure(figsize=(20, 20))\n",
    "    gs = f.add_gridspec(1, 1)\n",
    "        \n",
    "    ax = f.add_subplot(gs[0, 0])    \n",
    "    ax.set_title(f\"CDF {column_1} and {column_2}\\n\"+\\\n",
    "                 f\"Two sample KS-test={str(round(ks_stat1_2,2))}\\n\"+\\\n",
    "                 f\"Two sample Student's t-test={str(round(t_stat1_2,2))}\", \n",
    "                 fontsize='large', fontweight='bold')\n",
    "    cdf_norm_x_1.plot.line(ax=ax)\n",
    "    cdf_norm_x_2.plot.line(ax=ax)\n",
    "    \n",
    "    f.tight_layout()"
   ]
  },
  {
   "cell_type": "markdown",
   "metadata": {},
   "source": [
    "1. What are the **differences** between tests?\n",
    "2. In what case we **can not use** KS-test, and **use** Student's t-test?"
   ]
  },
  {
   "cell_type": "markdown",
   "metadata": {},
   "source": [
    "---\n",
    "### Example for two sample ks-test and Student's t-test [[4](http://www.physics.csbsju.edu/stats/KS-test.html)]\n",
    "Two near-by apple trees are in bloom in an otherwise empty field. One is a Whitney Crab the other is a Redwell. Do bees prefer one tree to the other? We collect data by using a stop watch to time how long a bee stays near a particular tree. We begin to time when the bee touches the tree; we stop timing when the bee is more than a meter from the tree. (As a result all our times are at least 1 second long: it takes a touch-and-go bee that long to get one meter from the tree.) We wanted to time exactly the same number of bees for each tree, but it started to rain. Unequal dataset size is not a problem for the KS-test."
   ]
  },
  {
   "cell_type": "code",
   "execution_count": 343,
   "metadata": {},
   "outputs": [],
   "source": [
    "size = 80\n",
    "redwell = pd.Series([23.4, 30.9, 18.8, 23.0, 21.4, 1, 24.6, 23.8, 24.1, 18.7, 16.3, 20.3, 14.9, 35.4, 21.6, 21.2, 21.0, 15.0, 15.6, 24.0, 34.6, 40.9, 30.7, 24.5, 16.6, 1, 21.7, 1, 23.6, 1, 25.7, 19.3, 46.9, 23.3, 21.8, 33.3, 24.9, 24.4, 1, 19.8, 17.2, 21.5, 25.5, 23.3, 18.6, 22.0, 29.8, 33.3, 1, 21.3, 18.6, 26.8, 19.4, 21.1, 21.2, 20.5, 19.8, 26.3, 39.3, 21.4, 22.6, 1, 35.3, 7.0, 19.3, 21.3, 10.1, 20.2, 1, 36.2, 16.7, 21.1, 39.1, 19.9, 32.1, 23.1, 21.8, 30.4, 19.62, 15.5])\n",
    "whitney = pd.Series([16.5, 1, 22.6, 25.3, 23.7, 1, 23.3, 23.9, 16.2, 23.0, 21.6, 10.8, 12.2, 23.6, 10.1, 24.4, 16.4, 11.7, 17.7, 34.3, 24.3, 18.7, 27.5, 25.8, 22.5, 14.2, 21.7, 1, 31.2, 13.8, 29.7, 23.1, 26.1, 25.1, 23.4, 21.7, 24.4, 13.2, 22.1, 26.7, 22.7, 1, 18.2, 28.7, 29.1, 27.4, 22.3, 13.2, 22.5, 25.0, 1, 6.6, 23.7, 23.5, 17.3, 24.6, 27.8, 29.7, 25.3, 19.9, 18.2, 26.2, 20.4, 23.3, 26.7, 26.0, 1, 25.1, 33.1, 35.0, 25.3, 23.6, 23.2, 20.2, 24.7, 22.6, 39.1, 26.5, 22.7])"
   ]
  },
  {
   "cell_type": "markdown",
   "metadata": {},
   "source": [
    "This example is based on data distributed according to the *Cauchy distribution*: **a particularly abnormal case**.\n",
    "\n",
    "Compute ks-test and t-tes for **redwell, whitney** using all your previous experience"
   ]
  },
  {
   "cell_type": "code",
   "execution_count": null,
   "metadata": {},
   "outputs": [],
   "source": [
    "## TODO compute ks-test and t-test for [redwell, whitney]"
   ]
  },
  {
   "cell_type": "markdown",
   "metadata": {},
   "source": [
    "1. Which test is best applied in this case? Why?"
   ]
  },
  {
   "cell_type": "markdown",
   "metadata": {
    "colab_type": "text",
    "id": "n7rXmOAfz7t9"
   },
   "source": [
    "---\n",
    "## Conclusion\n",
    "\n",
    "**Advantage:** \n",
    "An attractive feature of this test is that the distribution of the KS-test statistic itself does not depend on the underlying cumulative distribution function being tested.\n",
    "\n",
    "The K-S test has several important **limitations**:\n",
    "- It only applies to continuous distributions.\n",
    "- It tends to be more sensitive near the center of the distribution than at the tails.\n",
    "- The distribution must be fully specified. That is, if location, scale, and shape parameters are estimated from the data, the critical region of the KS-test is no longer valid. It typically must be determined by simulation."
   ]
  },
  {
   "cell_type": "markdown",
   "metadata": {
    "colab_type": "text",
    "id": "jBzcWz4M0Fm0"
   },
   "source": [
    "---\n",
    "## References / Acknowledgements"
   ]
  },
  {
   "cell_type": "markdown",
   "metadata": {
    "colab_type": "text",
    "id": "K1nm8ZcO0JUH"
   },
   "source": [
    "1. https://en.wikipedia.org/wiki/Kolmogorov%E2%80%93Smirnov_test\n",
    "2. https://en.wikipedia.org/wiki/Empirical_distribution_function\n",
    "3. https://towardsdatascience.com/kolmogorov-smirnov-test-84c92fb4158d\n",
    "4. http://www.physics.csbsju.edu/stats/KS-test.html"
   ]
  }
 ],
 "metadata": {
  "colab": {
   "collapsed_sections": [],
   "name": "[Template] Interactive Notebook.ipynb",
   "provenance": []
  },
  "kernelspec": {
   "display_name": "Python 3",
   "language": "python",
   "name": "python3"
  },
  "language_info": {
   "codemirror_mode": {
    "name": "ipython",
    "version": 3
   },
   "file_extension": ".py",
   "mimetype": "text/x-python",
   "name": "python",
   "nbconvert_exporter": "python",
   "pygments_lexer": "ipython3",
   "version": "3.7.6"
  },
  "widgets": {
   "application/vnd.jupyter.widget-state+json": {
    "054513f7880d4c6199dce00e4b3f6bf2": {
     "model_module": "@jupyter-widgets/controls",
     "model_name": "IntSliderModel",
     "state": {
      "_dom_classes": [],
      "_model_module": "@jupyter-widgets/controls",
      "_model_module_version": "1.5.0",
      "_model_name": "IntSliderModel",
      "_view_count": null,
      "_view_module": "@jupyter-widgets/controls",
      "_view_module_version": "1.5.0",
      "_view_name": "IntSliderView",
      "continuous_update": true,
      "description": "x",
      "description_tooltip": null,
      "disabled": false,
      "layout": "IPY_MODEL_7270459363f04d9883967d51840f86bf",
      "max": 60,
      "min": -20,
      "orientation": "horizontal",
      "readout": true,
      "readout_format": "d",
      "step": 1,
      "style": "IPY_MODEL_fdad9b76cc6043e68b8fc5763ce488c4",
      "value": 36
     }
    },
    "4340b92901c24ca0a63e21255de472c0": {
     "model_module": "@jupyter-widgets/output",
     "model_name": "OutputModel",
     "state": {
      "_dom_classes": [],
      "_model_module": "@jupyter-widgets/output",
      "_model_module_version": "1.0.0",
      "_model_name": "OutputModel",
      "_view_count": null,
      "_view_module": "@jupyter-widgets/output",
      "_view_module_version": "1.0.0",
      "_view_name": "OutputView",
      "layout": "IPY_MODEL_551e128d2afb4c46aa1cbe71ebb1086a",
      "msg_id": "",
      "outputs": [
       {
        "image/png": "iVBORw0KGgoAAAANSUhEUgAAAXAAAAD4CAYAAAD1jb0+AAAABHNCSVQICAgIfAhkiAAAAAlwSFlz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\n1nWzzWUAAAAASUVORK5CYII=\n",
        "metadata": {
         "tags": []
        },
        "output_type": "display_data",
        "text/plain": "<Figure size 432x288 with 1 Axes>"
       },
       {
        "metadata": {
         "tags": []
        },
        "output_type": "display_data",
        "text/plain": "<matplotlib.axes._subplots.AxesSubplot at 0x7f78a10e0668>"
       }
      ]
     }
    },
    "5e0136f6e5974ea8bfa8ebb43e3e9965": {
     "model_module": "@jupyter-widgets/controls",
     "model_name": "DropdownModel",
     "state": {
      "_dom_classes": [],
      "_model_module": "@jupyter-widgets/controls",
      "_model_module_version": "1.5.0",
      "_model_name": "DropdownModel",
      "_options_labels": [
       "CRIM",
       "ZN",
       "INDUS",
       "CHAS",
       "NOX",
       "RM",
       "AGE",
       "DIS",
       "RAD",
       "TAX",
       "PTRATIO",
       "B",
       "LSTAT"
      ],
      "_view_count": null,
      "_view_module": "@jupyter-widgets/controls",
      "_view_module_version": "1.5.0",
      "_view_name": "DropdownView",
      "description": "column",
      "description_tooltip": null,
      "disabled": false,
      "index": 10,
      "layout": "IPY_MODEL_e87d4345292e4b9faa6ef1104261e520",
      "style": "IPY_MODEL_dfe79fe34a3e4a27a0c3cd08cfba4b43"
     }
    },
    "61d5e9831cb34c2692a2ba22ece4c283": {
     "model_module": "@jupyter-widgets/base",
     "model_name": "LayoutModel",
     "state": {
      "_model_module": "@jupyter-widgets/base",
      "_model_module_version": "1.2.0",
      "_model_name": "LayoutModel",
      "_view_count": null,
      "_view_module": "@jupyter-widgets/base",
      "_view_module_version": "1.2.0",
      "_view_name": "LayoutView",
      "align_content": null,
      "align_items": null,
      "align_self": null,
      "border": null,
      "bottom": null,
      "display": null,
      "flex": null,
      "flex_flow": null,
      "grid_area": null,
      "grid_auto_columns": null,
      "grid_auto_flow": null,
      "grid_auto_rows": null,
      "grid_column": null,
      "grid_gap": null,
      "grid_row": null,
      "grid_template_areas": null,
      "grid_template_columns": null,
      "grid_template_rows": null,
      "height": null,
      "justify_content": null,
      "justify_items": null,
      "left": null,
      "margin": null,
      "max_height": null,
      "max_width": null,
      "min_height": null,
      "min_width": null,
      "object_fit": null,
      "object_position": null,
      "order": null,
      "overflow": null,
      "overflow_x": null,
      "overflow_y": null,
      "padding": null,
      "right": null,
      "top": null,
      "visibility": null,
      "width": null
     }
    },
    "7270459363f04d9883967d51840f86bf": {
     "model_module": "@jupyter-widgets/base",
     "model_name": "LayoutModel",
     "state": {
      "_model_module": "@jupyter-widgets/base",
      "_model_module_version": "1.2.0",
      "_model_name": "LayoutModel",
      "_view_count": null,
      "_view_module": "@jupyter-widgets/base",
      "_view_module_version": "1.2.0",
      "_view_name": "LayoutView",
      "align_content": null,
      "align_items": null,
      "align_self": null,
      "border": null,
      "bottom": null,
      "display": null,
      "flex": null,
      "flex_flow": null,
      "grid_area": null,
      "grid_auto_columns": null,
      "grid_auto_flow": null,
      "grid_auto_rows": null,
      "grid_column": null,
      "grid_gap": null,
      "grid_row": null,
      "grid_template_areas": null,
      "grid_template_columns": null,
      "grid_template_rows": null,
      "height": null,
      "justify_content": null,
      "justify_items": null,
      "left": null,
      "margin": null,
      "max_height": null,
      "max_width": null,
      "min_height": null,
      "min_width": null,
      "object_fit": null,
      "object_position": null,
      "order": null,
      "overflow": null,
      "overflow_x": null,
      "overflow_y": null,
      "padding": null,
      "right": null,
      "top": null,
      "visibility": null,
      "width": null
     }
    },
    "78deccceb53245af90eda97143852178": {
     "model_module": "@jupyter-widgets/controls",
     "model_name": "VBoxModel",
     "state": {
      "_dom_classes": [
       "widget-interact"
      ],
      "_model_module": "@jupyter-widgets/controls",
      "_model_module_version": "1.5.0",
      "_model_name": "VBoxModel",
      "_view_count": null,
      "_view_module": "@jupyter-widgets/controls",
      "_view_module_version": "1.5.0",
      "_view_name": "VBoxView",
      "box_style": "",
      "children": [
       "IPY_MODEL_5e0136f6e5974ea8bfa8ebb43e3e9965",
       "IPY_MODEL_054513f7880d4c6199dce00e4b3f6bf2",
       "IPY_MODEL_4340b92901c24ca0a63e21255de472c0"
      ],
      "layout": "IPY_MODEL_61d5e9831cb34c2692a2ba22ece4c283"
     }
    },
    "dfe79fe34a3e4a27a0c3cd08cfba4b43": {
     "model_module": "@jupyter-widgets/controls",
     "model_name": "DescriptionStyleModel",
     "state": {
      "_model_module": "@jupyter-widgets/controls",
      "_model_module_version": "1.5.0",
      "_model_name": "DescriptionStyleModel",
      "_view_count": null,
      "_view_module": "@jupyter-widgets/base",
      "_view_module_version": "1.2.0",
      "_view_name": "StyleView",
      "description_width": ""
     }
    },
    "e87d4345292e4b9faa6ef1104261e520": {
     "model_module": "@jupyter-widgets/base",
     "model_name": "LayoutModel",
     "state": {
      "_model_module": "@jupyter-widgets/base",
      "_model_module_version": "1.2.0",
      "_model_name": "LayoutModel",
      "_view_count": null,
      "_view_module": "@jupyter-widgets/base",
      "_view_module_version": "1.2.0",
      "_view_name": "LayoutView",
      "align_content": null,
      "align_items": null,
      "align_self": null,
      "border": null,
      "bottom": null,
      "display": null,
      "flex": null,
      "flex_flow": null,
      "grid_area": null,
      "grid_auto_columns": null,
      "grid_auto_flow": null,
      "grid_auto_rows": null,
      "grid_column": null,
      "grid_gap": null,
      "grid_row": null,
      "grid_template_areas": null,
      "grid_template_columns": null,
      "grid_template_rows": null,
      "height": null,
      "justify_content": null,
      "justify_items": null,
      "left": null,
      "margin": null,
      "max_height": null,
      "max_width": null,
      "min_height": null,
      "min_width": null,
      "object_fit": null,
      "object_position": null,
      "order": null,
      "overflow": null,
      "overflow_x": null,
      "overflow_y": null,
      "padding": null,
      "right": null,
      "top": null,
      "visibility": null,
      "width": null
     }
    },
    "fdad9b76cc6043e68b8fc5763ce488c4": {
     "model_module": "@jupyter-widgets/controls",
     "model_name": "SliderStyleModel",
     "state": {
      "_model_module": "@jupyter-widgets/controls",
      "_model_module_version": "1.5.0",
      "_model_name": "SliderStyleModel",
      "_view_count": null,
      "_view_module": "@jupyter-widgets/base",
      "_view_module_version": "1.2.0",
      "_view_name": "StyleView",
      "description_width": "",
      "handle_color": null
     }
    }
   }
  },
  "pycharm": {
   "stem_cell": {
    "cell_type": "raw",
    "source": [],
    "metadata": {
     "collapsed": false
    }
   }
  }
 },
 "nbformat": 4,
 "nbformat_minor": 1
}