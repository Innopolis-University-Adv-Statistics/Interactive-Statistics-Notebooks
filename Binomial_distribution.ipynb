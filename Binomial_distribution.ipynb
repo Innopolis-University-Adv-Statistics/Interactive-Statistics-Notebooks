{
  "nbformat": 4,
  "nbformat_minor": 0,
  "metadata": {
    "colab": {
      "name": "Binomial distribution.ipynb",
      "provenance": [],
      "collapsed_sections": [],
      "include_colab_link": true
    },
    "kernelspec": {
      "name": "python3",
      "display_name": "Python 3"
    },
    "widgets": {
      "application/vnd.jupyter.widget-state+json": {
        "e9a9d79756684185b640e09cfa2ec813": {
          "model_module": "@jupyter-widgets/controls",
          "model_name": "VBoxModel",
          "state": {
            "_view_name": "VBoxView",
            "_dom_classes": [
              "widget-interact"
            ],
            "_model_name": "VBoxModel",
            "_view_module": "@jupyter-widgets/controls",
            "_model_module_version": "1.5.0",
            "_view_count": null,
            "_view_module_version": "1.5.0",
            "box_style": "",
            "layout": "IPY_MODEL_46d6a594f562423f955265a135247476",
            "_model_module": "@jupyter-widgets/controls",
            "children": [
              "IPY_MODEL_92976693622244a2b6cda949ed0a2a81",
              "IPY_MODEL_d09152c36d4246e895296713614183e0",
              "IPY_MODEL_a286ce87f7a14fb6b7af03d1d0b35843"
            ]
          }
        },
        "46d6a594f562423f955265a135247476": {
          "model_module": "@jupyter-widgets/base",
          "model_name": "LayoutModel",
          "state": {
            "_view_name": "LayoutView",
            "grid_template_rows": null,
            "right": null,
            "justify_content": null,
            "_view_module": "@jupyter-widgets/base",
            "overflow": null,
            "_model_module_version": "1.2.0",
            "_view_count": null,
            "flex_flow": null,
            "width": null,
            "min_width": null,
            "border": null,
            "align_items": null,
            "bottom": null,
            "_model_module": "@jupyter-widgets/base",
            "top": null,
            "grid_column": null,
            "overflow_y": null,
            "overflow_x": null,
            "grid_auto_flow": null,
            "grid_area": null,
            "grid_template_columns": null,
            "flex": null,
            "_model_name": "LayoutModel",
            "justify_items": null,
            "grid_row": null,
            "max_height": null,
            "align_content": null,
            "visibility": null,
            "align_self": null,
            "height": null,
            "min_height": null,
            "padding": null,
            "grid_auto_rows": null,
            "grid_gap": null,
            "max_width": null,
            "order": null,
            "_view_module_version": "1.2.0",
            "grid_template_areas": null,
            "object_position": null,
            "object_fit": null,
            "grid_auto_columns": null,
            "margin": null,
            "display": null,
            "left": null
          }
        },
        "92976693622244a2b6cda949ed0a2a81": {
          "model_module": "@jupyter-widgets/controls",
          "model_name": "FloatSliderModel",
          "state": {
            "_view_name": "FloatSliderView",
            "style": "IPY_MODEL_41007b337ee64cca9191dc060c6621b9",
            "_dom_classes": [],
            "description": "p",
            "step": 0.1,
            "_model_name": "FloatSliderModel",
            "orientation": "horizontal",
            "max": 1.5,
            "_view_module": "@jupyter-widgets/controls",
            "_model_module_version": "1.5.0",
            "value": 0.5,
            "_view_count": null,
            "disabled": false,
            "_view_module_version": "1.5.0",
            "min": -0.5,
            "continuous_update": true,
            "readout_format": ".2f",
            "description_tooltip": null,
            "readout": true,
            "_model_module": "@jupyter-widgets/controls",
            "layout": "IPY_MODEL_965a2c6676f94d90aba79fca2d55989c"
          }
        },
        "d09152c36d4246e895296713614183e0": {
          "model_module": "@jupyter-widgets/controls",
          "model_name": "IntSliderModel",
          "state": {
            "_view_name": "IntSliderView",
            "style": "IPY_MODEL_2ee029d7cad047db8dc806fa624059ad",
            "_dom_classes": [],
            "description": "size",
            "step": 1,
            "_model_name": "IntSliderModel",
            "orientation": "horizontal",
            "max": 300,
            "_view_module": "@jupyter-widgets/controls",
            "_model_module_version": "1.5.0",
            "value": 100,
            "_view_count": null,
            "disabled": false,
            "_view_module_version": "1.5.0",
            "min": -100,
            "continuous_update": true,
            "readout_format": "d",
            "description_tooltip": null,
            "readout": true,
            "_model_module": "@jupyter-widgets/controls",
            "layout": "IPY_MODEL_f8358b3490584f77b8b74afa3bd4d096"
          }
        },
        "a286ce87f7a14fb6b7af03d1d0b35843": {
          "model_module": "@jupyter-widgets/output",
          "model_name": "OutputModel",
          "state": {
            "_view_name": "OutputView",
            "msg_id": "",
            "_dom_classes": [],
            "_model_name": "OutputModel",
            "outputs": [
              {
                "output_type": "stream",
                "metadata": {
                  "tags": []
                },
                "text": "Calculated mean = p: 0.5\nActual mean is: 0.62\nCalculated variance is: 0.25\nActual mean is: 0.23559999999999998\n",
                "stream": "stdout"
              },
              {
                "output_type": "display_data",
                "metadata": {
                  "tags": []
                },
                "image/png": "iVBORw0KGgoAAAANSUhEUgAAAX8AAAD7CAYAAACCEpQdAAAABHNCSVQICAgIfAhkiAAAAAlwSFlz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\n",
                "text/plain": "<Figure size 432x288 with 1 Axes>"
              }
            ],
            "_view_module": "@jupyter-widgets/output",
            "_model_module_version": "1.0.0",
            "_view_count": null,
            "_view_module_version": "1.0.0",
            "layout": "IPY_MODEL_4cceba9d76da4ab4a2c976461e7ea2ac",
            "_model_module": "@jupyter-widgets/output"
          }
        },
        "41007b337ee64cca9191dc060c6621b9": {
          "model_module": "@jupyter-widgets/controls",
          "model_name": "SliderStyleModel",
          "state": {
            "_view_name": "StyleView",
            "handle_color": null,
            "_model_name": "SliderStyleModel",
            "description_width": "",
            "_view_module": "@jupyter-widgets/base",
            "_model_module_version": "1.5.0",
            "_view_count": null,
            "_view_module_version": "1.2.0",
            "_model_module": "@jupyter-widgets/controls"
          }
        },
        "965a2c6676f94d90aba79fca2d55989c": {
          "model_module": "@jupyter-widgets/base",
          "model_name": "LayoutModel",
          "state": {
            "_view_name": "LayoutView",
            "grid_template_rows": null,
            "right": null,
            "justify_content": null,
            "_view_module": "@jupyter-widgets/base",
            "overflow": null,
            "_model_module_version": "1.2.0",
            "_view_count": null,
            "flex_flow": null,
            "width": null,
            "min_width": null,
            "border": null,
            "align_items": null,
            "bottom": null,
            "_model_module": "@jupyter-widgets/base",
            "top": null,
            "grid_column": null,
            "overflow_y": null,
            "overflow_x": null,
            "grid_auto_flow": null,
            "grid_area": null,
            "grid_template_columns": null,
            "flex": null,
            "_model_name": "LayoutModel",
            "justify_items": null,
            "grid_row": null,
            "max_height": null,
            "align_content": null,
            "visibility": null,
            "align_self": null,
            "height": null,
            "min_height": null,
            "padding": null,
            "grid_auto_rows": null,
            "grid_gap": null,
            "max_width": null,
            "order": null,
            "_view_module_version": "1.2.0",
            "grid_template_areas": null,
            "object_position": null,
            "object_fit": null,
            "grid_auto_columns": null,
            "margin": null,
            "display": null,
            "left": null
          }
        },
        "2ee029d7cad047db8dc806fa624059ad": {
          "model_module": "@jupyter-widgets/controls",
          "model_name": "SliderStyleModel",
          "state": {
            "_view_name": "StyleView",
            "handle_color": null,
            "_model_name": "SliderStyleModel",
            "description_width": "",
            "_view_module": "@jupyter-widgets/base",
            "_model_module_version": "1.5.0",
            "_view_count": null,
            "_view_module_version": "1.2.0",
            "_model_module": "@jupyter-widgets/controls"
          }
        },
        "f8358b3490584f77b8b74afa3bd4d096": {
          "model_module": "@jupyter-widgets/base",
          "model_name": "LayoutModel",
          "state": {
            "_view_name": "LayoutView",
            "grid_template_rows": null,
            "right": null,
            "justify_content": null,
            "_view_module": "@jupyter-widgets/base",
            "overflow": null,
            "_model_module_version": "1.2.0",
            "_view_count": null,
            "flex_flow": null,
            "width": null,
            "min_width": null,
            "border": null,
            "align_items": null,
            "bottom": null,
            "_model_module": "@jupyter-widgets/base",
            "top": null,
            "grid_column": null,
            "overflow_y": null,
            "overflow_x": null,
            "grid_auto_flow": null,
            "grid_area": null,
            "grid_template_columns": null,
            "flex": null,
            "_model_name": "LayoutModel",
            "justify_items": null,
            "grid_row": null,
            "max_height": null,
            "align_content": null,
            "visibility": null,
            "align_self": null,
            "height": null,
            "min_height": null,
            "padding": null,
            "grid_auto_rows": null,
            "grid_gap": null,
            "max_width": null,
            "order": null,
            "_view_module_version": "1.2.0",
            "grid_template_areas": null,
            "object_position": null,
            "object_fit": null,
            "grid_auto_columns": null,
            "margin": null,
            "display": null,
            "left": null
          }
        },
        "4c4197a6674647c7a79800aecc8501c8": {
          "model_module": "@jupyter-widgets/controls",
          "model_name": "VBoxModel",
          "state": {
            "_view_name": "VBoxView",
            "_dom_classes": [
              "widget-interact"
            ],
            "_model_name": "VBoxModel",
            "_view_module": "@jupyter-widgets/controls",
            "_model_module_version": "1.5.0",
            "_view_count": null,
            "_view_module_version": "1.5.0",
            "box_style": "",
            "layout": "IPY_MODEL_349ff4483ab9459e9bd1e2f4293f27d2",
            "_model_module": "@jupyter-widgets/controls",
            "children": [
              "IPY_MODEL_3716d324475f42cc8b0eb92570de4b9d",
              "IPY_MODEL_cb300a55f0f046c3a30beffa099554cc",
              "IPY_MODEL_d41029043b6048ee8135fc8c76c28c0a",
              "IPY_MODEL_112c08587c834c2792a386c32985c0d8",
              "IPY_MODEL_bcc063279e8f4444b9d6ac6341292815"
            ]
          }
        },
        "349ff4483ab9459e9bd1e2f4293f27d2": {
          "model_module": "@jupyter-widgets/base",
          "model_name": "LayoutModel",
          "state": {
            "_view_name": "LayoutView",
            "grid_template_rows": null,
            "right": null,
            "justify_content": null,
            "_view_module": "@jupyter-widgets/base",
            "overflow": null,
            "_model_module_version": "1.2.0",
            "_view_count": null,
            "flex_flow": null,
            "width": null,
            "min_width": null,
            "border": null,
            "align_items": null,
            "bottom": null,
            "_model_module": "@jupyter-widgets/base",
            "top": null,
            "grid_column": null,
            "overflow_y": null,
            "overflow_x": null,
            "grid_auto_flow": null,
            "grid_area": null,
            "grid_template_columns": null,
            "flex": null,
            "_model_name": "LayoutModel",
            "justify_items": null,
            "grid_row": null,
            "max_height": null,
            "align_content": null,
            "visibility": null,
            "align_self": null,
            "height": null,
            "min_height": null,
            "padding": null,
            "grid_auto_rows": null,
            "grid_gap": null,
            "max_width": null,
            "order": null,
            "_view_module_version": "1.2.0",
            "grid_template_areas": null,
            "object_position": null,
            "object_fit": null,
            "grid_auto_columns": null,
            "margin": null,
            "display": null,
            "left": null
          }
        },
        "3716d324475f42cc8b0eb92570de4b9d": {
          "model_module": "@jupyter-widgets/controls",
          "model_name": "FloatSliderModel",
          "state": {
            "_view_name": "FloatSliderView",
            "style": "IPY_MODEL_8b675eedb2924d87a1bd237f189db34c",
            "_dom_classes": [],
            "description": "p",
            "step": 0.1,
            "_model_name": "FloatSliderModel",
            "orientation": "horizontal",
            "max": 1.5,
            "_view_module": "@jupyter-widgets/controls",
            "_model_module_version": "1.5.0",
            "value": 0.5,
            "_view_count": null,
            "disabled": false,
            "_view_module_version": "1.5.0",
            "min": -0.5,
            "continuous_update": true,
            "readout_format": ".2f",
            "description_tooltip": null,
            "readout": true,
            "_model_module": "@jupyter-widgets/controls",
            "layout": "IPY_MODEL_38115c17bf054a8aa241beccdf10db65"
          }
        },
        "cb300a55f0f046c3a30beffa099554cc": {
          "model_module": "@jupyter-widgets/controls",
          "model_name": "IntSliderModel",
          "state": {
            "_view_name": "IntSliderView",
            "style": "IPY_MODEL_52f4aab54b8541fd939d37467fee1e30",
            "_dom_classes": [],
            "description": "n",
            "step": 1,
            "_model_name": "IntSliderModel",
            "orientation": "horizontal",
            "max": 30,
            "_view_module": "@jupyter-widgets/controls",
            "_model_module_version": "1.5.0",
            "value": 10,
            "_view_count": null,
            "disabled": false,
            "_view_module_version": "1.5.0",
            "min": -10,
            "continuous_update": true,
            "readout_format": "d",
            "description_tooltip": null,
            "readout": true,
            "_model_module": "@jupyter-widgets/controls",
            "layout": "IPY_MODEL_1d8f39b0da8c4b06a61a67eb32c90f9d"
          }
        },
        "d41029043b6048ee8135fc8c76c28c0a": {
          "model_module": "@jupyter-widgets/controls",
          "model_name": "IntSliderModel",
          "state": {
            "_view_name": "IntSliderView",
            "style": "IPY_MODEL_45e16d13cfdc48e2a66815137b5c1c3a",
            "_dom_classes": [],
            "description": "size",
            "step": 1,
            "_model_name": "IntSliderModel",
            "orientation": "horizontal",
            "max": 150,
            "_view_module": "@jupyter-widgets/controls",
            "_model_module_version": "1.5.0",
            "value": 50,
            "_view_count": null,
            "disabled": false,
            "_view_module_version": "1.5.0",
            "min": -50,
            "continuous_update": true,
            "readout_format": "d",
            "description_tooltip": null,
            "readout": true,
            "_model_module": "@jupyter-widgets/controls",
            "layout": "IPY_MODEL_5cfbea805f7a4bbca184a27305a0a801"
          }
        },
        "112c08587c834c2792a386c32985c0d8": {
          "model_module": "@jupyter-widgets/controls",
          "model_name": "IntSliderModel",
          "state": {
            "_view_name": "IntSliderView",
            "style": "IPY_MODEL_b656a3ad2c704083897cd09b43bd8338",
            "_dom_classes": [],
            "description": "k",
            "step": 1,
            "_model_name": "IntSliderModel",
            "orientation": "horizontal",
            "max": 15,
            "_view_module": "@jupyter-widgets/controls",
            "_model_module_version": "1.5.0",
            "value": 5,
            "_view_count": null,
            "disabled": false,
            "_view_module_version": "1.5.0",
            "min": -5,
            "continuous_update": true,
            "readout_format": "d",
            "description_tooltip": null,
            "readout": true,
            "_model_module": "@jupyter-widgets/controls",
            "layout": "IPY_MODEL_ef1f71b434724758914b95a10148e0aa"
          }
        },
        "bcc063279e8f4444b9d6ac6341292815": {
          "model_module": "@jupyter-widgets/output",
          "model_name": "OutputModel",
          "state": {
            "_view_name": "OutputView",
            "msg_id": "",
            "_dom_classes": [],
            "_model_name": "OutputModel",
            "outputs": [
              {
                "output_type": "stream",
                "metadata": {
                  "tags": []
                },
                "text": "Expected value via formula is E = np =  5.0\nActual Mean Value is:  5.2\nCalculated P(n=k) using fromula bin_coef*(p**k)*(q**(n-k)) is:  0.24609375\nActual P(n==k) is 0.22\n",
                "stream": "stdout"
              },
              {
                "output_type": "display_data",
                "metadata": {
                  "tags": []
                },
                "image/png": "iVBORw0KGgoAAAANSUhEUgAAAX8AAAD7CAYAAACCEpQdAAAABHNCSVQICAgIfAhkiAAAAAlwSFlz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\nuOQeZyQAAAAASUVORK5CYII=\n",
                "text/plain": "<Figure size 432x288 with 1 Axes>"
              }
            ],
            "_view_module": "@jupyter-widgets/output",
            "_model_module_version": "1.0.0",
            "_view_count": null,
            "_view_module_version": "1.0.0",
            "layout": "IPY_MODEL_27308cbcb303447b95896700a77b1470",
            "_model_module": "@jupyter-widgets/output"
          }
        },
        "8b675eedb2924d87a1bd237f189db34c": {
          "model_module": "@jupyter-widgets/controls",
          "model_name": "SliderStyleModel",
          "state": {
            "_view_name": "StyleView",
            "handle_color": null,
            "_model_name": "SliderStyleModel",
            "description_width": "",
            "_view_module": "@jupyter-widgets/base",
            "_model_module_version": "1.5.0",
            "_view_count": null,
            "_view_module_version": "1.2.0",
            "_model_module": "@jupyter-widgets/controls"
          }
        },
        "38115c17bf054a8aa241beccdf10db65": {
          "model_module": "@jupyter-widgets/base",
          "model_name": "LayoutModel",
          "state": {
            "_view_name": "LayoutView",
            "grid_template_rows": null,
            "right": null,
            "justify_content": null,
            "_view_module": "@jupyter-widgets/base",
            "overflow": null,
            "_model_module_version": "1.2.0",
            "_view_count": null,
            "flex_flow": null,
            "width": null,
            "min_width": null,
            "border": null,
            "align_items": null,
            "bottom": null,
            "_model_module": "@jupyter-widgets/base",
            "top": null,
            "grid_column": null,
            "overflow_y": null,
            "overflow_x": null,
            "grid_auto_flow": null,
            "grid_area": null,
            "grid_template_columns": null,
            "flex": null,
            "_model_name": "LayoutModel",
            "justify_items": null,
            "grid_row": null,
            "max_height": null,
            "align_content": null,
            "visibility": null,
            "align_self": null,
            "height": null,
            "min_height": null,
            "padding": null,
            "grid_auto_rows": null,
            "grid_gap": null,
            "max_width": null,
            "order": null,
            "_view_module_version": "1.2.0",
            "grid_template_areas": null,
            "object_position": null,
            "object_fit": null,
            "grid_auto_columns": null,
            "margin": null,
            "display": null,
            "left": null
          }
        },
        "52f4aab54b8541fd939d37467fee1e30": {
          "model_module": "@jupyter-widgets/controls",
          "model_name": "SliderStyleModel",
          "state": {
            "_view_name": "StyleView",
            "handle_color": null,
            "_model_name": "SliderStyleModel",
            "description_width": "",
            "_view_module": "@jupyter-widgets/base",
            "_model_module_version": "1.5.0",
            "_view_count": null,
            "_view_module_version": "1.2.0",
            "_model_module": "@jupyter-widgets/controls"
          }
        },
        "1d8f39b0da8c4b06a61a67eb32c90f9d": {
          "model_module": "@jupyter-widgets/base",
          "model_name": "LayoutModel",
          "state": {
            "_view_name": "LayoutView",
            "grid_template_rows": null,
            "right": null,
            "justify_content": null,
            "_view_module": "@jupyter-widgets/base",
            "overflow": null,
            "_model_module_version": "1.2.0",
            "_view_count": null,
            "flex_flow": null,
            "width": null,
            "min_width": null,
            "border": null,
            "align_items": null,
            "bottom": null,
            "_model_module": "@jupyter-widgets/base",
            "top": null,
            "grid_column": null,
            "overflow_y": null,
            "overflow_x": null,
            "grid_auto_flow": null,
            "grid_area": null,
            "grid_template_columns": null,
            "flex": null,
            "_model_name": "LayoutModel",
            "justify_items": null,
            "grid_row": null,
            "max_height": null,
            "align_content": null,
            "visibility": null,
            "align_self": null,
            "height": null,
            "min_height": null,
            "padding": null,
            "grid_auto_rows": null,
            "grid_gap": null,
            "max_width": null,
            "order": null,
            "_view_module_version": "1.2.0",
            "grid_template_areas": null,
            "object_position": null,
            "object_fit": null,
            "grid_auto_columns": null,
            "margin": null,
            "display": null,
            "left": null
          }
        },
        "45e16d13cfdc48e2a66815137b5c1c3a": {
          "model_module": "@jupyter-widgets/controls",
          "model_name": "SliderStyleModel",
          "state": {
            "_view_name": "StyleView",
            "handle_color": null,
            "_model_name": "SliderStyleModel",
            "description_width": "",
            "_view_module": "@jupyter-widgets/base",
            "_model_module_version": "1.5.0",
            "_view_count": null,
            "_view_module_version": "1.2.0",
            "_model_module": "@jupyter-widgets/controls"
          }
        },
        "5cfbea805f7a4bbca184a27305a0a801": {
          "model_module": "@jupyter-widgets/base",
          "model_name": "LayoutModel",
          "state": {
            "_view_name": "LayoutView",
            "grid_template_rows": null,
            "right": null,
            "justify_content": null,
            "_view_module": "@jupyter-widgets/base",
            "overflow": null,
            "_model_module_version": "1.2.0",
            "_view_count": null,
            "flex_flow": null,
            "width": null,
            "min_width": null,
            "border": null,
            "align_items": null,
            "bottom": null,
            "_model_module": "@jupyter-widgets/base",
            "top": null,
            "grid_column": null,
            "overflow_y": null,
            "overflow_x": null,
            "grid_auto_flow": null,
            "grid_area": null,
            "grid_template_columns": null,
            "flex": null,
            "_model_name": "LayoutModel",
            "justify_items": null,
            "grid_row": null,
            "max_height": null,
            "align_content": null,
            "visibility": null,
            "align_self": null,
            "height": null,
            "min_height": null,
            "padding": null,
            "grid_auto_rows": null,
            "grid_gap": null,
            "max_width": null,
            "order": null,
            "_view_module_version": "1.2.0",
            "grid_template_areas": null,
            "object_position": null,
            "object_fit": null,
            "grid_auto_columns": null,
            "margin": null,
            "display": null,
            "left": null
          }
        },
        "b656a3ad2c704083897cd09b43bd8338": {
          "model_module": "@jupyter-widgets/controls",
          "model_name": "SliderStyleModel",
          "state": {
            "_view_name": "StyleView",
            "handle_color": null,
            "_model_name": "SliderStyleModel",
            "description_width": "",
            "_view_module": "@jupyter-widgets/base",
            "_model_module_version": "1.5.0",
            "_view_count": null,
            "_view_module_version": "1.2.0",
            "_model_module": "@jupyter-widgets/controls"
          }
        },
        "ef1f71b434724758914b95a10148e0aa": {
          "model_module": "@jupyter-widgets/base",
          "model_name": "LayoutModel",
          "state": {
            "_view_name": "LayoutView",
            "grid_template_rows": null,
            "right": null,
            "justify_content": null,
            "_view_module": "@jupyter-widgets/base",
            "overflow": null,
            "_model_module_version": "1.2.0",
            "_view_count": null,
            "flex_flow": null,
            "width": null,
            "min_width": null,
            "border": null,
            "align_items": null,
            "bottom": null,
            "_model_module": "@jupyter-widgets/base",
            "top": null,
            "grid_column": null,
            "overflow_y": null,
            "overflow_x": null,
            "grid_auto_flow": null,
            "grid_area": null,
            "grid_template_columns": null,
            "flex": null,
            "_model_name": "LayoutModel",
            "justify_items": null,
            "grid_row": null,
            "max_height": null,
            "align_content": null,
            "visibility": null,
            "align_self": null,
            "height": null,
            "min_height": null,
            "padding": null,
            "grid_auto_rows": null,
            "grid_gap": null,
            "max_width": null,
            "order": null,
            "_view_module_version": "1.2.0",
            "grid_template_areas": null,
            "object_position": null,
            "object_fit": null,
            "grid_auto_columns": null,
            "margin": null,
            "display": null,
            "left": null
          }
        },
        "aa4a2816df574b4da3c383706c88e25a": {
          "model_module": "@jupyter-widgets/controls",
          "model_name": "VBoxModel",
          "state": {
            "_view_name": "VBoxView",
            "_dom_classes": [
              "widget-interact"
            ],
            "_model_name": "VBoxModel",
            "_view_module": "@jupyter-widgets/controls",
            "_model_module_version": "1.5.0",
            "_view_count": null,
            "_view_module_version": "1.5.0",
            "box_style": "",
            "layout": "IPY_MODEL_40334d93a0354c1ba8dc01a73c37d103",
            "_model_module": "@jupyter-widgets/controls",
            "children": [
              "IPY_MODEL_250bb4defd734af58d2df2126c7b634c",
              "IPY_MODEL_e65c70d1b3154a6abe8f830436e83205",
              "IPY_MODEL_384913f1cd9046719541f5e9d88bd591",
              "IPY_MODEL_bfae172561544ef885b4cfd18199da4e",
              "IPY_MODEL_2a3cefbca59d499d870ffab1370b9b75",
              "IPY_MODEL_fe85a01530754799b5b5d04ff9256095",
              "IPY_MODEL_230e6e89fdf5470898b8c72156d5f8a1"
            ]
          }
        },
        "40334d93a0354c1ba8dc01a73c37d103": {
          "model_module": "@jupyter-widgets/base",
          "model_name": "LayoutModel",
          "state": {
            "_view_name": "LayoutView",
            "grid_template_rows": null,
            "right": null,
            "justify_content": null,
            "_view_module": "@jupyter-widgets/base",
            "overflow": null,
            "_model_module_version": "1.2.0",
            "_view_count": null,
            "flex_flow": null,
            "width": null,
            "min_width": null,
            "border": null,
            "align_items": null,
            "bottom": null,
            "_model_module": "@jupyter-widgets/base",
            "top": null,
            "grid_column": null,
            "overflow_y": null,
            "overflow_x": null,
            "grid_auto_flow": null,
            "grid_area": null,
            "grid_template_columns": null,
            "flex": null,
            "_model_name": "LayoutModel",
            "justify_items": null,
            "grid_row": null,
            "max_height": null,
            "align_content": null,
            "visibility": null,
            "align_self": null,
            "height": null,
            "min_height": null,
            "padding": null,
            "grid_auto_rows": null,
            "grid_gap": null,
            "max_width": null,
            "order": null,
            "_view_module_version": "1.2.0",
            "grid_template_areas": null,
            "object_position": null,
            "object_fit": null,
            "grid_auto_columns": null,
            "margin": null,
            "display": null,
            "left": null
          }
        },
        "250bb4defd734af58d2df2126c7b634c": {
          "model_module": "@jupyter-widgets/controls",
          "model_name": "IntSliderModel",
          "state": {
            "_view_name": "IntSliderView",
            "style": "IPY_MODEL_075e5153458b48fc817da5b2114eb578",
            "_dom_classes": [],
            "description": "n_employees",
            "step": 1,
            "_model_name": "IntSliderModel",
            "orientation": "horizontal",
            "max": 300,
            "_view_module": "@jupyter-widgets/controls",
            "_model_module_version": "1.5.0",
            "value": 100,
            "_view_count": null,
            "disabled": false,
            "_view_module_version": "1.5.0",
            "min": -100,
            "continuous_update": true,
            "readout_format": "d",
            "description_tooltip": null,
            "readout": true,
            "_model_module": "@jupyter-widgets/controls",
            "layout": "IPY_MODEL_e7ecb596508a4abbae106b26a89f4f65"
          }
        },
        "e65c70d1b3154a6abe8f830436e83205": {
          "model_module": "@jupyter-widgets/controls",
          "model_name": "IntSliderModel",
          "state": {
            "_view_name": "IntSliderView",
            "style": "IPY_MODEL_013437f55bcd47e3aed531f9c18c35d5",
            "_dom_classes": [],
            "description": "wage",
            "step": 1,
            "_model_name": "IntSliderModel",
            "orientation": "horizontal",
            "max": 600,
            "_view_module": "@jupyter-widgets/controls",
            "_model_module_version": "1.5.0",
            "value": 200,
            "_view_count": null,
            "disabled": false,
            "_view_module_version": "1.5.0",
            "min": -200,
            "continuous_update": true,
            "readout_format": "d",
            "description_tooltip": null,
            "readout": true,
            "_model_module": "@jupyter-widgets/controls",
            "layout": "IPY_MODEL_7fc314adfa184133bde5dba2aa3d5b8a"
          }
        },
        "384913f1cd9046719541f5e9d88bd591": {
          "model_module": "@jupyter-widgets/controls",
          "model_name": "IntSliderModel",
          "state": {
            "_view_name": "IntSliderView",
            "style": "IPY_MODEL_9169d56a842a40938e67b1a162c73811",
            "_dom_classes": [],
            "description": "num_of_calls",
            "step": 1,
            "_model_name": "IntSliderModel",
            "orientation": "horizontal",
            "max": 150,
            "_view_module": "@jupyter-widgets/controls",
            "_model_module_version": "1.5.0",
            "value": 50,
            "_view_count": null,
            "disabled": false,
            "_view_module_version": "1.5.0",
            "min": -50,
            "continuous_update": true,
            "readout_format": "d",
            "description_tooltip": null,
            "readout": true,
            "_model_module": "@jupyter-widgets/controls",
            "layout": "IPY_MODEL_fb2c78fa3a9749f39989f84173683154"
          }
        },
        "bfae172561544ef885b4cfd18199da4e": {
          "model_module": "@jupyter-widgets/controls",
          "model_name": "FloatSliderModel",
          "state": {
            "_view_name": "FloatSliderView",
            "style": "IPY_MODEL_fb80ace1679449129d18fdfe586f4198",
            "_dom_classes": [],
            "description": "p",
            "step": 0.01,
            "_model_name": "FloatSliderModel",
            "orientation": "horizontal",
            "max": 0.1,
            "_view_module": "@jupyter-widgets/controls",
            "_model_module_version": "1.5.0",
            "value": 0.04,
            "_view_count": null,
            "disabled": false,
            "_view_module_version": "1.5.0",
            "min": 0,
            "continuous_update": true,
            "readout_format": ".2f",
            "description_tooltip": null,
            "readout": true,
            "_model_module": "@jupyter-widgets/controls",
            "layout": "IPY_MODEL_fb09fe3008e04bd985aee7f94f551c00"
          }
        },
        "2a3cefbca59d499d870ffab1370b9b75": {
          "model_module": "@jupyter-widgets/controls",
          "model_name": "IntSliderModel",
          "state": {
            "_view_name": "IntSliderView",
            "style": "IPY_MODEL_2afd51b61e694c4c9dcf2fe9c551a4e9",
            "_dom_classes": [],
            "description": "revenue",
            "step": 1,
            "_model_name": "IntSliderModel",
            "orientation": "horizontal",
            "max": 300,
            "_view_module": "@jupyter-widgets/controls",
            "_model_module_version": "1.5.0",
            "value": 100,
            "_view_count": null,
            "disabled": false,
            "_view_module_version": "1.5.0",
            "min": -100,
            "continuous_update": true,
            "readout_format": "d",
            "description_tooltip": null,
            "readout": true,
            "_model_module": "@jupyter-widgets/controls",
            "layout": "IPY_MODEL_328c644e094d43a6a6ed24bea3077b42"
          }
        },
        "fe85a01530754799b5b5d04ff9256095": {
          "model_module": "@jupyter-widgets/controls",
          "model_name": "IntSliderModel",
          "state": {
            "_view_name": "IntSliderView",
            "style": "IPY_MODEL_8163c4e6e77d4f9597a324cb4c6d1f83",
            "_dom_classes": [],
            "description": "sims",
            "step": 1,
            "_model_name": "IntSliderModel",
            "orientation": "horizontal",
            "max": 3000,
            "_view_module": "@jupyter-widgets/controls",
            "_model_module_version": "1.5.0",
            "value": 1000,
            "_view_count": null,
            "disabled": false,
            "_view_module_version": "1.5.0",
            "min": -1000,
            "continuous_update": true,
            "readout_format": "d",
            "description_tooltip": null,
            "readout": true,
            "_model_module": "@jupyter-widgets/controls",
            "layout": "IPY_MODEL_1dd753e7c7994eec8009c4bb27cc3f45"
          }
        },
        "230e6e89fdf5470898b8c72156d5f8a1": {
          "model_module": "@jupyter-widgets/output",
          "model_name": "OutputModel",
          "state": {
            "_view_name": "OutputView",
            "msg_id": "",
            "_dom_classes": [],
            "_model_name": "OutputModel",
            "outputs": [
              {
                "output_type": "display_data",
                "metadata": {
                  "tags": []
                },
                "image/png": "iVBORw0KGgoAAAANSUhEUgAAA2UAAAGxCAYAAADiRh5DAAAABHNCSVQICAgIfAhkiAAAAAlwSFlz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\n/h8zGqNSAmh7kgAAAABJRU5ErkJggg==\n",
                "text/plain": "<Figure size 1008x504 with 1 Axes>"
              }
            ],
            "_view_module": "@jupyter-widgets/output",
            "_model_module_version": "1.0.0",
            "_view_count": null,
            "_view_module_version": "1.0.0",
            "layout": "IPY_MODEL_10d2df62e97e451fbdd56552b79b788a",
            "_model_module": "@jupyter-widgets/output"
          }
        },
        "075e5153458b48fc817da5b2114eb578": {
          "model_module": "@jupyter-widgets/controls",
          "model_name": "SliderStyleModel",
          "state": {
            "_view_name": "StyleView",
            "handle_color": null,
            "_model_name": "SliderStyleModel",
            "description_width": "",
            "_view_module": "@jupyter-widgets/base",
            "_model_module_version": "1.5.0",
            "_view_count": null,
            "_view_module_version": "1.2.0",
            "_model_module": "@jupyter-widgets/controls"
          }
        },
        "e7ecb596508a4abbae106b26a89f4f65": {
          "model_module": "@jupyter-widgets/base",
          "model_name": "LayoutModel",
          "state": {
            "_view_name": "LayoutView",
            "grid_template_rows": null,
            "right": null,
            "justify_content": null,
            "_view_module": "@jupyter-widgets/base",
            "overflow": null,
            "_model_module_version": "1.2.0",
            "_view_count": null,
            "flex_flow": null,
            "width": null,
            "min_width": null,
            "border": null,
            "align_items": null,
            "bottom": null,
            "_model_module": "@jupyter-widgets/base",
            "top": null,
            "grid_column": null,
            "overflow_y": null,
            "overflow_x": null,
            "grid_auto_flow": null,
            "grid_area": null,
            "grid_template_columns": null,
            "flex": null,
            "_model_name": "LayoutModel",
            "justify_items": null,
            "grid_row": null,
            "max_height": null,
            "align_content": null,
            "visibility": null,
            "align_self": null,
            "height": null,
            "min_height": null,
            "padding": null,
            "grid_auto_rows": null,
            "grid_gap": null,
            "max_width": null,
            "order": null,
            "_view_module_version": "1.2.0",
            "grid_template_areas": null,
            "object_position": null,
            "object_fit": null,
            "grid_auto_columns": null,
            "margin": null,
            "display": null,
            "left": null
          }
        },
        "013437f55bcd47e3aed531f9c18c35d5": {
          "model_module": "@jupyter-widgets/controls",
          "model_name": "SliderStyleModel",
          "state": {
            "_view_name": "StyleView",
            "handle_color": null,
            "_model_name": "SliderStyleModel",
            "description_width": "",
            "_view_module": "@jupyter-widgets/base",
            "_model_module_version": "1.5.0",
            "_view_count": null,
            "_view_module_version": "1.2.0",
            "_model_module": "@jupyter-widgets/controls"
          }
        },
        "7fc314adfa184133bde5dba2aa3d5b8a": {
          "model_module": "@jupyter-widgets/base",
          "model_name": "LayoutModel",
          "state": {
            "_view_name": "LayoutView",
            "grid_template_rows": null,
            "right": null,
            "justify_content": null,
            "_view_module": "@jupyter-widgets/base",
            "overflow": null,
            "_model_module_version": "1.2.0",
            "_view_count": null,
            "flex_flow": null,
            "width": null,
            "min_width": null,
            "border": null,
            "align_items": null,
            "bottom": null,
            "_model_module": "@jupyter-widgets/base",
            "top": null,
            "grid_column": null,
            "overflow_y": null,
            "overflow_x": null,
            "grid_auto_flow": null,
            "grid_area": null,
            "grid_template_columns": null,
            "flex": null,
            "_model_name": "LayoutModel",
            "justify_items": null,
            "grid_row": null,
            "max_height": null,
            "align_content": null,
            "visibility": null,
            "align_self": null,
            "height": null,
            "min_height": null,
            "padding": null,
            "grid_auto_rows": null,
            "grid_gap": null,
            "max_width": null,
            "order": null,
            "_view_module_version": "1.2.0",
            "grid_template_areas": null,
            "object_position": null,
            "object_fit": null,
            "grid_auto_columns": null,
            "margin": null,
            "display": null,
            "left": null
          }
        },
        "9169d56a842a40938e67b1a162c73811": {
          "model_module": "@jupyter-widgets/controls",
          "model_name": "SliderStyleModel",
          "state": {
            "_view_name": "StyleView",
            "handle_color": null,
            "_model_name": "SliderStyleModel",
            "description_width": "",
            "_view_module": "@jupyter-widgets/base",
            "_model_module_version": "1.5.0",
            "_view_count": null,
            "_view_module_version": "1.2.0",
            "_model_module": "@jupyter-widgets/controls"
          }
        },
        "fb2c78fa3a9749f39989f84173683154": {
          "model_module": "@jupyter-widgets/base",
          "model_name": "LayoutModel",
          "state": {
            "_view_name": "LayoutView",
            "grid_template_rows": null,
            "right": null,
            "justify_content": null,
            "_view_module": "@jupyter-widgets/base",
            "overflow": null,
            "_model_module_version": "1.2.0",
            "_view_count": null,
            "flex_flow": null,
            "width": null,
            "min_width": null,
            "border": null,
            "align_items": null,
            "bottom": null,
            "_model_module": "@jupyter-widgets/base",
            "top": null,
            "grid_column": null,
            "overflow_y": null,
            "overflow_x": null,
            "grid_auto_flow": null,
            "grid_area": null,
            "grid_template_columns": null,
            "flex": null,
            "_model_name": "LayoutModel",
            "justify_items": null,
            "grid_row": null,
            "max_height": null,
            "align_content": null,
            "visibility": null,
            "align_self": null,
            "height": null,
            "min_height": null,
            "padding": null,
            "grid_auto_rows": null,
            "grid_gap": null,
            "max_width": null,
            "order": null,
            "_view_module_version": "1.2.0",
            "grid_template_areas": null,
            "object_position": null,
            "object_fit": null,
            "grid_auto_columns": null,
            "margin": null,
            "display": null,
            "left": null
          }
        },
        "fb80ace1679449129d18fdfe586f4198": {
          "model_module": "@jupyter-widgets/controls",
          "model_name": "SliderStyleModel",
          "state": {
            "_view_name": "StyleView",
            "handle_color": null,
            "_model_name": "SliderStyleModel",
            "description_width": "",
            "_view_module": "@jupyter-widgets/base",
            "_model_module_version": "1.5.0",
            "_view_count": null,
            "_view_module_version": "1.2.0",
            "_model_module": "@jupyter-widgets/controls"
          }
        },
        "fb09fe3008e04bd985aee7f94f551c00": {
          "model_module": "@jupyter-widgets/base",
          "model_name": "LayoutModel",
          "state": {
            "_view_name": "LayoutView",
            "grid_template_rows": null,
            "right": null,
            "justify_content": null,
            "_view_module": "@jupyter-widgets/base",
            "overflow": null,
            "_model_module_version": "1.2.0",
            "_view_count": null,
            "flex_flow": null,
            "width": null,
            "min_width": null,
            "border": null,
            "align_items": null,
            "bottom": null,
            "_model_module": "@jupyter-widgets/base",
            "top": null,
            "grid_column": null,
            "overflow_y": null,
            "overflow_x": null,
            "grid_auto_flow": null,
            "grid_area": null,
            "grid_template_columns": null,
            "flex": null,
            "_model_name": "LayoutModel",
            "justify_items": null,
            "grid_row": null,
            "max_height": null,
            "align_content": null,
            "visibility": null,
            "align_self": null,
            "height": null,
            "min_height": null,
            "padding": null,
            "grid_auto_rows": null,
            "grid_gap": null,
            "max_width": null,
            "order": null,
            "_view_module_version": "1.2.0",
            "grid_template_areas": null,
            "object_position": null,
            "object_fit": null,
            "grid_auto_columns": null,
            "margin": null,
            "display": null,
            "left": null
          }
        },
        "2afd51b61e694c4c9dcf2fe9c551a4e9": {
          "model_module": "@jupyter-widgets/controls",
          "model_name": "SliderStyleModel",
          "state": {
            "_view_name": "StyleView",
            "handle_color": null,
            "_model_name": "SliderStyleModel",
            "description_width": "",
            "_view_module": "@jupyter-widgets/base",
            "_model_module_version": "1.5.0",
            "_view_count": null,
            "_view_module_version": "1.2.0",
            "_model_module": "@jupyter-widgets/controls"
          }
        },
        "328c644e094d43a6a6ed24bea3077b42": {
          "model_module": "@jupyter-widgets/base",
          "model_name": "LayoutModel",
          "state": {
            "_view_name": "LayoutView",
            "grid_template_rows": null,
            "right": null,
            "justify_content": null,
            "_view_module": "@jupyter-widgets/base",
            "overflow": null,
            "_model_module_version": "1.2.0",
            "_view_count": null,
            "flex_flow": null,
            "width": null,
            "min_width": null,
            "border": null,
            "align_items": null,
            "bottom": null,
            "_model_module": "@jupyter-widgets/base",
            "top": null,
            "grid_column": null,
            "overflow_y": null,
            "overflow_x": null,
            "grid_auto_flow": null,
            "grid_area": null,
            "grid_template_columns": null,
            "flex": null,
            "_model_name": "LayoutModel",
            "justify_items": null,
            "grid_row": null,
            "max_height": null,
            "align_content": null,
            "visibility": null,
            "align_self": null,
            "height": null,
            "min_height": null,
            "padding": null,
            "grid_auto_rows": null,
            "grid_gap": null,
            "max_width": null,
            "order": null,
            "_view_module_version": "1.2.0",
            "grid_template_areas": null,
            "object_position": null,
            "object_fit": null,
            "grid_auto_columns": null,
            "margin": null,
            "display": null,
            "left": null
          }
        },
        "8163c4e6e77d4f9597a324cb4c6d1f83": {
          "model_module": "@jupyter-widgets/controls",
          "model_name": "SliderStyleModel",
          "state": {
            "_view_name": "StyleView",
            "handle_color": null,
            "_model_name": "SliderStyleModel",
            "description_width": "",
            "_view_module": "@jupyter-widgets/base",
            "_model_module_version": "1.5.0",
            "_view_count": null,
            "_view_module_version": "1.2.0",
            "_model_module": "@jupyter-widgets/controls"
          }
        },
        "1dd753e7c7994eec8009c4bb27cc3f45": {
          "model_module": "@jupyter-widgets/base",
          "model_name": "LayoutModel",
          "state": {
            "_view_name": "LayoutView",
            "grid_template_rows": null,
            "right": null,
            "justify_content": null,
            "_view_module": "@jupyter-widgets/base",
            "overflow": null,
            "_model_module_version": "1.2.0",
            "_view_count": null,
            "flex_flow": null,
            "width": null,
            "min_width": null,
            "border": null,
            "align_items": null,
            "bottom": null,
            "_model_module": "@jupyter-widgets/base",
            "top": null,
            "grid_column": null,
            "overflow_y": null,
            "overflow_x": null,
            "grid_auto_flow": null,
            "grid_area": null,
            "grid_template_columns": null,
            "flex": null,
            "_model_name": "LayoutModel",
            "justify_items": null,
            "grid_row": null,
            "max_height": null,
            "align_content": null,
            "visibility": null,
            "align_self": null,
            "height": null,
            "min_height": null,
            "padding": null,
            "grid_auto_rows": null,
            "grid_gap": null,
            "max_width": null,
            "order": null,
            "_view_module_version": "1.2.0",
            "grid_template_areas": null,
            "object_position": null,
            "object_fit": null,
            "grid_auto_columns": null,
            "margin": null,
            "display": null,
            "left": null
          }
        }
      }
    }
  },
  "cells": [
    {
      "cell_type": "markdown",
      "metadata": {
        "id": "view-in-github",
        "colab_type": "text"
      },
      "source": [
        "<a href=\"https://colab.research.google.com/github/artemkurylev/Interactive-Statistics-Notebooks/blob/master/Binomial_distribution.ipynb\" target=\"_parent\"><img src=\"https://colab.research.google.com/assets/colab-badge.svg\" alt=\"Open In Colab\"/></a>"
      ]
    },
    {
      "cell_type": "markdown",
      "metadata": {
        "id": "q5XnPEsm0phq",
        "colab_type": "text"
      },
      "source": [
        "# METADATA\n",
        "\n",
        "- [Fastpages](https://fastpages.fast.ai/fastpages/jupyter/2020/02/21/introducing-fastpages.html) - the serving solution, they can beautifully present/server notebooks as blog posts, with code highlighting, visualiztion enabled, etc (e.g. [1](https://drscotthawley.github.io/devblog3/2019/02/08/My-1st-NN-Part-3-Multi-Layer-and-Backprop.html)) - maybe too complex for our needs so far\n",
        "\n",
        "- [This blog post](https://towardsdatascience.com/interactive-controls-for-jupyter-notebooks-f5c94829aee6) - that explains how to use \n",
        "IPyWidgets and stuff\n",
        "\n",
        "- Awesome visuzliation library [Altair](https://altair-viz.github.io/gallery/index.html)"
      ]
    },
    {
      "cell_type": "code",
      "metadata": {
        "id": "KD93l23M1ggr",
        "colab_type": "code",
        "collapsed": true,
        "outputId": "35d441d7-085a-461b-9a1e-1fc787aad46f",
        "colab": {
          "base_uri": "https://localhost:8080/",
          "height": 658
        }
      },
      "source": [
        "! pip install ipywidgets\n",
        "! jupyter nbextension enable --py widgetsnbextension\n",
        "\n",
        "import ipywidgets as widgets\n",
        "from ipywidgets import interact, interact_manual"
      ],
      "execution_count": 1,
      "outputs": [
        {
          "output_type": "stream",
          "text": [
            "Requirement already satisfied: ipywidgets in /usr/local/lib/python3.6/dist-packages (7.5.1)\n",
            "Requirement already satisfied: ipykernel>=4.5.1 in /usr/local/lib/python3.6/dist-packages (from ipywidgets) (4.6.1)\n",
            "Requirement already satisfied: nbformat>=4.2.0 in /usr/local/lib/python3.6/dist-packages (from ipywidgets) (5.0.4)\n",
            "Requirement already satisfied: ipython>=4.0.0; python_version >= \"3.3\" in /usr/local/lib/python3.6/dist-packages (from ipywidgets) (5.5.0)\n",
            "Requirement already satisfied: widgetsnbextension~=3.5.0 in /usr/local/lib/python3.6/dist-packages (from ipywidgets) (3.5.1)\n",
            "Requirement already satisfied: traitlets>=4.3.1 in /usr/local/lib/python3.6/dist-packages (from ipywidgets) (4.3.3)\n",
            "Requirement already satisfied: tornado>=4.0 in /usr/local/lib/python3.6/dist-packages (from ipykernel>=4.5.1->ipywidgets) (4.5.3)\n",
            "Requirement already satisfied: jupyter-client in /usr/local/lib/python3.6/dist-packages (from ipykernel>=4.5.1->ipywidgets) (5.3.4)\n",
            "Requirement already satisfied: ipython-genutils in /usr/local/lib/python3.6/dist-packages (from nbformat>=4.2.0->ipywidgets) (0.2.0)\n",
            "Requirement already satisfied: jupyter-core in /usr/local/lib/python3.6/dist-packages (from nbformat>=4.2.0->ipywidgets) (4.6.3)\n",
            "Requirement already satisfied: jsonschema!=2.5.0,>=2.4 in /usr/local/lib/python3.6/dist-packages (from nbformat>=4.2.0->ipywidgets) (2.6.0)\n",
            "Requirement already satisfied: pygments in /usr/local/lib/python3.6/dist-packages (from ipython>=4.0.0; python_version >= \"3.3\"->ipywidgets) (2.1.3)\n",
            "Requirement already satisfied: pickleshare in /usr/local/lib/python3.6/dist-packages (from ipython>=4.0.0; python_version >= \"3.3\"->ipywidgets) (0.7.5)\n",
            "Requirement already satisfied: pexpect; sys_platform != \"win32\" in /usr/local/lib/python3.6/dist-packages (from ipython>=4.0.0; python_version >= \"3.3\"->ipywidgets) (4.8.0)\n",
            "Requirement already satisfied: decorator in /usr/local/lib/python3.6/dist-packages (from ipython>=4.0.0; python_version >= \"3.3\"->ipywidgets) (4.4.2)\n",
            "Requirement already satisfied: simplegeneric>0.8 in /usr/local/lib/python3.6/dist-packages (from ipython>=4.0.0; python_version >= \"3.3\"->ipywidgets) (0.8.1)\n",
            "Requirement already satisfied: setuptools>=18.5 in /usr/local/lib/python3.6/dist-packages (from ipython>=4.0.0; python_version >= \"3.3\"->ipywidgets) (46.0.0)\n",
            "Requirement already satisfied: prompt-toolkit<2.0.0,>=1.0.4 in /usr/local/lib/python3.6/dist-packages (from ipython>=4.0.0; python_version >= \"3.3\"->ipywidgets) (1.0.18)\n",
            "Requirement already satisfied: notebook>=4.4.1 in /usr/local/lib/python3.6/dist-packages (from widgetsnbextension~=3.5.0->ipywidgets) (5.2.2)\n",
            "Requirement already satisfied: six in /usr/local/lib/python3.6/dist-packages (from traitlets>=4.3.1->ipywidgets) (1.12.0)\n",
            "Requirement already satisfied: python-dateutil>=2.1 in /usr/local/lib/python3.6/dist-packages (from jupyter-client->ipykernel>=4.5.1->ipywidgets) (2.8.1)\n",
            "Requirement already satisfied: pyzmq>=13 in /usr/local/lib/python3.6/dist-packages (from jupyter-client->ipykernel>=4.5.1->ipywidgets) (17.0.0)\n",
            "Requirement already satisfied: ptyprocess>=0.5 in /usr/local/lib/python3.6/dist-packages (from pexpect; sys_platform != \"win32\"->ipython>=4.0.0; python_version >= \"3.3\"->ipywidgets) (0.6.0)\n",
            "Requirement already satisfied: wcwidth in /usr/local/lib/python3.6/dist-packages (from prompt-toolkit<2.0.0,>=1.0.4->ipython>=4.0.0; python_version >= \"3.3\"->ipywidgets) (0.1.9)\n",
            "Requirement already satisfied: nbconvert in /usr/local/lib/python3.6/dist-packages (from notebook>=4.4.1->widgetsnbextension~=3.5.0->ipywidgets) (5.6.1)\n",
            "Requirement already satisfied: jinja2 in /usr/local/lib/python3.6/dist-packages (from notebook>=4.4.1->widgetsnbextension~=3.5.0->ipywidgets) (2.11.1)\n",
            "Requirement already satisfied: terminado>=0.3.3; sys_platform != \"win32\" in /usr/local/lib/python3.6/dist-packages (from notebook>=4.4.1->widgetsnbextension~=3.5.0->ipywidgets) (0.8.3)\n",
            "Requirement already satisfied: defusedxml in /usr/local/lib/python3.6/dist-packages (from nbconvert->notebook>=4.4.1->widgetsnbextension~=3.5.0->ipywidgets) (0.6.0)\n",
            "Requirement already satisfied: testpath in /usr/local/lib/python3.6/dist-packages (from nbconvert->notebook>=4.4.1->widgetsnbextension~=3.5.0->ipywidgets) (0.4.4)\n",
            "Requirement already satisfied: mistune<2,>=0.8.1 in /usr/local/lib/python3.6/dist-packages (from nbconvert->notebook>=4.4.1->widgetsnbextension~=3.5.0->ipywidgets) (0.8.4)\n",
            "Requirement already satisfied: bleach in /usr/local/lib/python3.6/dist-packages (from nbconvert->notebook>=4.4.1->widgetsnbextension~=3.5.0->ipywidgets) (3.1.4)\n",
            "Requirement already satisfied: pandocfilters>=1.4.1 in /usr/local/lib/python3.6/dist-packages (from nbconvert->notebook>=4.4.1->widgetsnbextension~=3.5.0->ipywidgets) (1.4.2)\n",
            "Requirement already satisfied: entrypoints>=0.2.2 in /usr/local/lib/python3.6/dist-packages (from nbconvert->notebook>=4.4.1->widgetsnbextension~=3.5.0->ipywidgets) (0.3)\n",
            "Requirement already satisfied: MarkupSafe>=0.23 in /usr/local/lib/python3.6/dist-packages (from jinja2->notebook>=4.4.1->widgetsnbextension~=3.5.0->ipywidgets) (1.1.1)\n",
            "Requirement already satisfied: webencodings in /usr/local/lib/python3.6/dist-packages (from bleach->nbconvert->notebook>=4.4.1->widgetsnbextension~=3.5.0->ipywidgets) (0.5.1)\n",
            "Enabling notebook extension jupyter-js-widgets/extension...\n",
            "      - Validating: \u001b[32mOK\u001b[0m\n"
          ],
          "name": "stdout"
        }
      ]
    },
    {
      "cell_type": "markdown",
      "metadata": {
        "id": "ITC684n6xm2f",
        "colab_type": "text"
      },
      "source": [
        "# < Topic Title >\n",
        "\n",
        "- table of contents\n",
        "- links to other notebooks\n",
        "- image of the mind map and where are we"
      ]
    },
    {
      "cell_type": "markdown",
      "metadata": {
        "id": "CdLByacoxqBU",
        "colab_type": "text"
      },
      "source": [
        "## Intro\n",
        "\n",
        "- We are going to consider Bernoulli and Binomial distribution and their properties etc.\n",
        "- Expected outcome: Understanding of bernoulli and binomial distributions and their properties\n"
      ]
    },
    {
      "cell_type": "markdown",
      "metadata": {
        "id": "EovComAJxr-0",
        "colab_type": "text"
      },
      "source": [
        "## Setup\n",
        "\n",
        "- install required packages\n",
        "- etc"
      ]
    },
    {
      "cell_type": "markdown",
      "metadata": {
        "id": "9hI1xXAGzaNk",
        "colab_type": "text"
      },
      "source": [
        "## Data load / synthesis\n",
        "\n",
        "- introduce theoretical background for synthetic data\n",
        "- state hypothesis upfront if you take data from real life (why it has the properties you will use, e.g. normality/t-distribution/etc.)"
      ]
    },
    {
      "cell_type": "markdown",
      "metadata": {
        "id": "zyk3F_eGZdFA",
        "colab_type": "text"
      },
      "source": [
        "#### I use syntheized data both for bernouilli and binomial distributions, it is easier to explore them with differenet parameters.\n"
      ]
    },
    {
      "cell_type": "code",
      "metadata": {
        "id": "VB2bb--Tc2A9",
        "colab_type": "code",
        "colab": {
          "base_uri": "https://localhost:8080/",
          "height": 70
        },
        "outputId": "d176c816-36ed-4f18-e825-2f6ac1f063ab"
      },
      "source": [
        "import numpy as np\n",
        "import seaborn as sns\n",
        "import itertools\n",
        "from scipy.stats import bernoulli\n",
        "import matplotlib.pyplot as plt\n",
        "sns.set(color_codes=True)"
      ],
      "execution_count": 2,
      "outputs": [
        {
          "output_type": "stream",
          "text": [
            "/usr/local/lib/python3.6/dist-packages/statsmodels/tools/_testing.py:19: FutureWarning: pandas.util.testing is deprecated. Use the functions in the public API at pandas.testing instead.\n",
            "  import pandas.util.testing as tm\n"
          ],
          "name": "stderr"
        }
      ]
    },
    {
      "cell_type": "markdown",
      "metadata": {
        "id": "Wig6E19dkCBs",
        "colab_type": "text"
      },
      "source": [
        "### Bernoilli distribution\n"
      ]
    },
    {
      "cell_type": "code",
      "metadata": {
        "id": "PqJFvoznFPPo",
        "colab_type": "code",
        "outputId": "cd5d5f0c-f588-466c-a51b-f0afb8019292",
        "colab": {
          "base_uri": "https://localhost:8080/",
          "height": 399,
          "referenced_widgets": [
            "e9a9d79756684185b640e09cfa2ec813",
            "46d6a594f562423f955265a135247476",
            "92976693622244a2b6cda949ed0a2a81",
            "d09152c36d4246e895296713614183e0",
            "a286ce87f7a14fb6b7af03d1d0b35843",
            "41007b337ee64cca9191dc060c6621b9",
            "965a2c6676f94d90aba79fca2d55989c",
            "2ee029d7cad047db8dc806fa624059ad",
            "f8358b3490584f77b8b74afa3bd4d096"
          ]
        }
      },
      "source": [
        "@interact\n",
        "def bernoulli_dist(p = 0.5, size=100):\n",
        "  bern_data = bernoulli.rvs(p,size=size)\n",
        "  sns.distplot(bern_data);\n",
        "  print('Calculated mean = p:', p)\n",
        "  print('Actual mean is:', np.mean(bern_data))\n",
        "  print('Calculated variance is:', p*(1-p))\n",
        "  print('Actual mean is:', np.mean(np.square(bern_data)) - np.mean(bern_data)**2)"
      ],
      "execution_count": 3,
      "outputs": [
        {
          "output_type": "display_data",
          "data": {
            "application/vnd.jupyter.widget-view+json": {
              "model_id": "e9a9d79756684185b640e09cfa2ec813",
              "version_minor": 0,
              "version_major": 2
            },
            "text/plain": [
              "interactive(children=(FloatSlider(value=0.5, description='p', max=1.5, min=-0.5), IntSlider(value=100, descrip…"
            ]
          },
          "metadata": {
            "tags": []
          }
        }
      ]
    },
    {
      "cell_type": "markdown",
      "metadata": {
        "id": "MSrX7kSPe-ob",
        "colab_type": "text"
      },
      "source": [
        "#### Binomial distribution\n",
        "Here we have inctaracting function which shows binomial distribution with differenet values of p, n and size of the sample\n",
        "Also here we can explore probabilities of different numbers of k"
      ]
    },
    {
      "cell_type": "code",
      "metadata": {
        "id": "-J-FgbJZfRGk",
        "colab_type": "code",
        "outputId": "1a26a07c-4018-4485-83f5-db16bb9b3403",
        "colab": {
          "base_uri": "https://localhost:8080/",
          "height": 463,
          "referenced_widgets": [
            "4c4197a6674647c7a79800aecc8501c8",
            "349ff4483ab9459e9bd1e2f4293f27d2",
            "3716d324475f42cc8b0eb92570de4b9d",
            "cb300a55f0f046c3a30beffa099554cc",
            "d41029043b6048ee8135fc8c76c28c0a",
            "112c08587c834c2792a386c32985c0d8",
            "bcc063279e8f4444b9d6ac6341292815",
            "8b675eedb2924d87a1bd237f189db34c",
            "38115c17bf054a8aa241beccdf10db65",
            "52f4aab54b8541fd939d37467fee1e30",
            "1d8f39b0da8c4b06a61a67eb32c90f9d",
            "45e16d13cfdc48e2a66815137b5c1c3a",
            "5cfbea805f7a4bbca184a27305a0a801",
            "b656a3ad2c704083897cd09b43bd8338",
            "ef1f71b434724758914b95a10148e0aa"
          ]
        }
      },
      "source": [
        "@interact\n",
        "def binomial(p=0.5,n=10,size=50, k = 5):\n",
        "  bin_data = np.random.binomial(n,p,size)\n",
        "  sns.distplot(bin_data);\n",
        "  q = 1 - p\n",
        "  print('Expected value via formula is E = np = ', n*p)\n",
        "  print('Actual Mean Value is: ', np.mean(bin_data))\n",
        "  bin_coef = len(list(itertools.combinations(list(range(1,n+1)),k)))\n",
        "  print('Calculated P(n=k) using fromula bin_coef*(p**k)*(q**(n-k)) is: ', bin_coef*(p**k)*(q**(n-k)))\n",
        "  prob = (bin_data==k).sum()/len(bin_data)\n",
        "  print('Actual P(n==k) is', prob)"
      ],
      "execution_count": 4,
      "outputs": [
        {
          "output_type": "display_data",
          "data": {
            "application/vnd.jupyter.widget-view+json": {
              "model_id": "4c4197a6674647c7a79800aecc8501c8",
              "version_minor": 0,
              "version_major": 2
            },
            "text/plain": [
              "interactive(children=(FloatSlider(value=0.5, description='p', max=1.5, min=-0.5), IntSlider(value=10, descript…"
            ]
          },
          "metadata": {
            "tags": []
          }
        }
      ]
    },
    {
      "cell_type": "markdown",
      "metadata": {
        "id": "rh-gP7nSzp23",
        "colab_type": "text"
      },
      "source": [
        "## Application\n",
        " \n",
        "- a sample task / application\n",
        "- parameters and what they mean/affect (if applicable)\n",
        "- hypothesis tests\n",
        "- statistical tests\n",
        "- vizializtion\n"
      ]
    },
    {
      "cell_type": "markdown",
      "metadata": {
        "id": "868UuhpIwHKG",
        "colab_type": "text"
      },
      "source": [
        "#### Task: \n",
        "We need to improve the ROI (Return on Investment) of our company’s call center, where employees attempt to cold call potential customers and get them to purchase our product.\n",
        "We have some this data\n",
        "\n",
        "\n",
        "*   The typical call center employee completes on average 50 calls per day.\n",
        "*   The probability of a conversion (purchase) for each call is 4%.\n",
        "*   The average revenue to your company for each conversion is $20\n",
        "\n",
        "*  The call center you are analyzing has 100 employees.\n",
        "*   Each employee is paid $200 per day of work.\n"
      ]
    },
    {
      "cell_type": "markdown",
      "metadata": {
        "id": "5byPMtXkNdJO",
        "colab_type": "text"
      },
      "source": [
        "We can think of each employee as a binomially distributed random variable with the following parameters:\n",
        "n = 50\n",
        "p = 4%"
      ]
    },
    {
      "cell_type": "markdown",
      "metadata": {
        "id": "qXPMu3H4NmSN",
        "colab_type": "text"
      },
      "source": [
        "Here you can see simulation of this call center, and we can see how different parameters influence on our revenues"
      ]
    },
    {
      "cell_type": "code",
      "metadata": {
        "id": "NuLfKYbysh7P",
        "colab_type": "code",
        "colab": {
          "base_uri": "https://localhost:8080/",
          "height": 642,
          "referenced_widgets": [
            "aa4a2816df574b4da3c383706c88e25a",
            "40334d93a0354c1ba8dc01a73c37d103",
            "250bb4defd734af58d2df2126c7b634c",
            "e65c70d1b3154a6abe8f830436e83205",
            "384913f1cd9046719541f5e9d88bd591",
            "bfae172561544ef885b4cfd18199da4e",
            "2a3cefbca59d499d870ffab1370b9b75",
            "fe85a01530754799b5b5d04ff9256095",
            "230e6e89fdf5470898b8c72156d5f8a1",
            "075e5153458b48fc817da5b2114eb578",
            "e7ecb596508a4abbae106b26a89f4f65",
            "013437f55bcd47e3aed531f9c18c35d5",
            "7fc314adfa184133bde5dba2aa3d5b8a",
            "9169d56a842a40938e67b1a162c73811",
            "fb2c78fa3a9749f39989f84173683154",
            "fb80ace1679449129d18fdfe586f4198",
            "fb09fe3008e04bd985aee7f94f551c00",
            "2afd51b61e694c4c9dcf2fe9c551a4e9",
            "328c644e094d43a6a6ed24bea3077b42",
            "8163c4e6e77d4f9597a324cb4c6d1f83",
            "1dd753e7c7994eec8009c4bb27cc3f45"
          ]
        },
        "outputId": "29a23d2d-8687-444a-ce35-31af1910a0f8"
      },
      "source": [
        "@interact(p=(0,0.1,0.01))\n",
        "def simulate_call_center(n_employees=100, wage=200, num_of_calls=50,p=0.04,revenue=100, sims=1000):\n",
        "  # Call Center Simulation\n",
        "  # Binomial random variables of call center employees\n",
        "  conversions = np.random.binomial(num_of_calls, p, size=n_employees)\n",
        "  sim_conversions = [np.sum(np.random.binomial(num_of_calls, p, size=n_employees)) for i in range(sims)]\n",
        "  sim_profits = np.array(sim_conversions)*revenue - n_employees*wage\n",
        "  # Plot and save the results as a histogram\n",
        "  fig, ax = plt.subplots(figsize=(14,7))\n",
        "  #ax = sns.distplot(sim_profits, bins=20, label='original call center simulation results')\n",
        "  ax = sns.distplot(sim_profits, bins=20, label='call center simulation results', color='red')\n",
        "  ax.set_xlabel(\"Profits\",fontsize=16)\n",
        "  ax.set_ylabel(\"Frequency\",fontsize=16)\n",
        "  plt.legend()"
      ],
      "execution_count": 5,
      "outputs": [
        {
          "output_type": "display_data",
          "data": {
            "application/vnd.jupyter.widget-view+json": {
              "model_id": "aa4a2816df574b4da3c383706c88e25a",
              "version_minor": 0,
              "version_major": 2
            },
            "text/plain": [
              "interactive(children=(IntSlider(value=100, description='n_employees', max=300, min=-100), IntSlider(value=200,…"
            ]
          },
          "metadata": {
            "tags": []
          }
        }
      ]
    },
    {
      "cell_type": "markdown",
      "metadata": {
        "id": "n7rXmOAfz7t9",
        "colab_type": "text"
      },
      "source": [
        "## Conclusion\n",
        "\n",
        "We learned bernoilli and binomial distribution and understand \n",
        "how it can be applicable for the practical tasks"
      ]
    },
    {
      "cell_type": "markdown",
      "metadata": {
        "id": "jBzcWz4M0Fm0",
        "colab_type": "text"
      },
      "source": [
        "## References / Acknowledgements"
      ]
    },
    {
      "cell_type": "markdown",
      "metadata": {
        "id": "K1nm8ZcO0JUH",
        "colab_type": "text"
      },
      "source": [
        "Interacrive version of this notebook you can find here:\n",
        "\n",
        "https://colab.research.google.com/drive/1zsb5Au5uJapblvG5kM7AzCqcf0WMNmII\n",
        "\n",
        "Other useful links:\n",
        "\n",
        "https://en.wikipedia.org/wiki/Bernoulli_distribution\n",
        "\n",
        "https://en.wikipedia.org/wiki/Binomial_distribution\n",
        "\n",
        "https://towardsdatascience.com/fun-with-the-binomial-distribution-96a5ecabf65b\n"
      ]
    }
  ]
}