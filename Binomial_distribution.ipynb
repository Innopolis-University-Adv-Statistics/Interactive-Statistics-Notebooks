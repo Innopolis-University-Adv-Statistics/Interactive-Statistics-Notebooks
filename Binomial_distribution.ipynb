{
  "nbformat": 4,
  "nbformat_minor": 0,
  "metadata": {
    "colab": {
      "name": "Binomial distribution.ipynb",
      "provenance": [],
      "collapsed_sections": [],
      "include_colab_link": true
    },
    "kernelspec": {
      "name": "python3",
      "display_name": "Python 3"
    },
    "widgets": {
      "application/vnd.jupyter.widget-state+json": {
        "40c7f08d116c4848b64638109c6bbdcf": {
          "model_module": "@jupyter-widgets/controls",
          "model_name": "VBoxModel",
          "state": {
            "_view_name": "VBoxView",
            "_dom_classes": [
              "widget-interact"
            ],
            "_model_name": "VBoxModel",
            "_view_module": "@jupyter-widgets/controls",
            "_model_module_version": "1.5.0",
            "_view_count": null,
            "_view_module_version": "1.5.0",
            "box_style": "",
            "layout": "IPY_MODEL_d3ee8433882c471a8e9c953067980089",
            "_model_module": "@jupyter-widgets/controls",
            "children": [
              "IPY_MODEL_6fce18f2747a4257bbe9f03926ea8661",
              "IPY_MODEL_6ca7f16ce1d94a72b5c64b00759c08b2",
              "IPY_MODEL_7172c46eae8e4f6e97074179bf086360"
            ]
          }
        },
        "d3ee8433882c471a8e9c953067980089": {
          "model_module": "@jupyter-widgets/base",
          "model_name": "LayoutModel",
          "state": {
            "_view_name": "LayoutView",
            "grid_template_rows": null,
            "right": null,
            "justify_content": null,
            "_view_module": "@jupyter-widgets/base",
            "overflow": null,
            "_model_module_version": "1.2.0",
            "_view_count": null,
            "flex_flow": null,
            "width": null,
            "min_width": null,
            "border": null,
            "align_items": null,
            "bottom": null,
            "_model_module": "@jupyter-widgets/base",
            "top": null,
            "grid_column": null,
            "overflow_y": null,
            "overflow_x": null,
            "grid_auto_flow": null,
            "grid_area": null,
            "grid_template_columns": null,
            "flex": null,
            "_model_name": "LayoutModel",
            "justify_items": null,
            "grid_row": null,
            "max_height": null,
            "align_content": null,
            "visibility": null,
            "align_self": null,
            "height": null,
            "min_height": null,
            "padding": null,
            "grid_auto_rows": null,
            "grid_gap": null,
            "max_width": null,
            "order": null,
            "_view_module_version": "1.2.0",
            "grid_template_areas": null,
            "object_position": null,
            "object_fit": null,
            "grid_auto_columns": null,
            "margin": null,
            "display": null,
            "left": null
          }
        },
        "6fce18f2747a4257bbe9f03926ea8661": {
          "model_module": "@jupyter-widgets/controls",
          "model_name": "FloatSliderModel",
          "state": {
            "_view_name": "FloatSliderView",
            "style": "IPY_MODEL_11222b5d9f324fceb56caf4a5e939bfb",
            "_dom_classes": [],
            "description": "p",
            "step": 0.05,
            "_model_name": "FloatSliderModel",
            "orientation": "horizontal",
            "max": 1,
            "_view_module": "@jupyter-widgets/controls",
            "_model_module_version": "1.5.0",
            "value": 0.5,
            "_view_count": null,
            "disabled": false,
            "_view_module_version": "1.5.0",
            "min": 0,
            "continuous_update": true,
            "readout_format": ".2f",
            "description_tooltip": null,
            "readout": true,
            "_model_module": "@jupyter-widgets/controls",
            "layout": "IPY_MODEL_842ed3621921479494972b54cbd7af8c"
          }
        },
        "6ca7f16ce1d94a72b5c64b00759c08b2": {
          "model_module": "@jupyter-widgets/controls",
          "model_name": "IntSliderModel",
          "state": {
            "_view_name": "IntSliderView",
            "style": "IPY_MODEL_5cc250651bf4471d884578a70c3ac677",
            "_dom_classes": [],
            "description": "size",
            "step": 1,
            "_model_name": "IntSliderModel",
            "orientation": "horizontal",
            "max": 300,
            "_view_module": "@jupyter-widgets/controls",
            "_model_module_version": "1.5.0",
            "value": 100,
            "_view_count": null,
            "disabled": false,
            "_view_module_version": "1.5.0",
            "min": -100,
            "continuous_update": true,
            "readout_format": "d",
            "description_tooltip": null,
            "readout": true,
            "_model_module": "@jupyter-widgets/controls",
            "layout": "IPY_MODEL_34342b4170f94cd3be60149fedbd4317"
          }
        },
        "7172c46eae8e4f6e97074179bf086360": {
          "model_module": "@jupyter-widgets/output",
          "model_name": "OutputModel",
          "state": {
            "_view_name": "OutputView",
            "msg_id": "",
            "_dom_classes": [],
            "_model_name": "OutputModel",
            "outputs": [
              {
                "output_type": "stream",
                "metadata": {
                  "tags": []
                },
                "text": "Calculated mean = p: 0.5\nActual mean is: 0.41\nCalculated variance is: 0.25\nActual variance is: 0.2419\n",
                "stream": "stdout"
              },
              {
                "output_type": "display_data",
                "metadata": {
                  "tags": []
                },
                "image/png": "iVBORw0KGgoAAAANSUhEUgAAAX8AAAD7CAYAAACCEpQdAAAABHNCSVQICAgIfAhkiAAAAAlwSFlz\nAAALEgAACxIB0t1+/AAAADh0RVh0U29mdHdhcmUAbWF0cGxvdGxpYiB2ZXJzaW9uMy4yLjEsIGh0\ndHA6Ly9tYXRwbG90bGliLm9yZy+j8jraAAAgAElEQVR4nO3de1wTd7438E8mhEtIgBBCSAC5KYgC\n3i9o8U6hFUS362rVXnRr13qep099Paerz7M9WltfZxef5/Sc1tN1n9PT9Zyu7a7HWrUqtmhrvaC2\nFlGR+1UgJCGEO+GazPOHlZZ6IWCSSTLf91+YDDNfxuHDZOY335+AZVkWhBBCeIXhugBCCCGOR+FP\nCCE8ROFPCCE8ROFPCCE8ROFPCCE8ROFPCCE8ROFPCCE85MF1AdZqbe2GxcLNIwlyuQRGYxcn23ZG\ntD9+RPtiONofw3G5PxhGAJnM96Hvu0z4WywsZ+F/b/vkR7Q/fkT7YjjaH8M56/6gyz6EEMJDFP6E\nEMJDFP6EEMJDFP6EEMJDFP6EEMJDFP6EEMJDVg31zM7OxpdffgmNRoMTJ04gNjb2vmV++9vfoqys\nbOjfZWVleP/997F06VLs27cPn3zyCYKDgwEA06dPx65du2z0IxBCCBktq8J/6dKleP7557F+/fqH\nLrN3796hr0tLS/HCCy8gJSVl6LWVK1di+/btj1EqcRadpn509w1yXcaoeIk84EGfcwkZYlX4z5w5\nc1Qr/fTTT5GZmQlPT88xFUWcW0/vIK6V6LkuY1RmxSvh4eUyzzQSYnc2Pxfq7+/HiRMn8Mwzzwx7\n/dSpU8jMzMSmTZtQUFBg680SQggZBZufCp09exZqtRrx8fFDr61duxZbtmyBSCRCXl4etm7dipyc\nHMhkMqvXK5dLbF3qqCgUUk6370yaWkyQSry5LmNUxGIvKALFdlk3HRvD0f4Yzln3h83D/8iRI/ed\n9SsUiqGv58+fD5VKhYqKCsyePdvq9RqNXZz1yFAopDAYOjnZtlMSCtHZ1ct1FaNiMvXBYDbbfL10\nbAxH+2M4LvcHwwgeedJs08s+Op0O+fn5yMzMHPa6Xv/j9eGSkhJoNBpERUXZctOEEEJGwaoz/z17\n9iA3NxfNzc3YuHEjAgICcOrUKWzevBmvvvoqEhMTAQBHjx7F4sWL4e/vP+z733nnHRQVFYFhGIhE\nIuzdu3fYpwFCCCGOJWBZ1jn7jf4MXfZxHqxQiPP5dVyXMSqz4pXwtcNoHzo2hqP9MRxvLvsQQghx\nDRT+hBDCQxT+hBDCQxT+hBDCQxT+hBDCQxT+hBDCQxT+hBDCQxT+hBDCQxT+hBDCQxT+hBDCQxT+\nhBDCQxT+hBDCQxT+hBDCQxT+hBDCQxT+hBDCQxT+hBDCQxT+hBDCQxT+hBDCQxT+hBDCQxT+hBDC\nQ1aFf3Z2NpYsWYK4uDiUl5c/cJl9+/YhOTkZWVlZyMrKwu7du4fe6+npwWuvvYbU1FSkp6fj3Llz\ntqmeEELImHhYs9DSpUvx/PPPY/369Y9cbuXKldi+fft9r3/44YeQSCQ4c+YMamtrsX79euTm5sLX\n13dsVRNCCHksVp35z5w5EyqVaswbOX36NNasWQMAiIyMREJCAi5cuDDm9RFCCHk8Nr3mf+rUKWRm\nZmLTpk0oKCgYer2xsRGhoaFD/1apVNDpdLbcNCGEkFGw6rKPNdauXYstW7ZAJBIhLy8PW7duRU5O\nDmQymU3WL5dLbLKesVIopJxu35k0tZgglXhzXcaoiMVeUASK7bJuOjaGo/0xnLPuD5uFv0KhGPp6\n/vz5UKlUqKiowOzZs6FWq6HRaBAYGAgA0Gq1mDNnzqjWbzR2wWJhbVXuqCgUUhgMnZxs2ykJhejs\n6uW6ilExmfpgMJttvl46Noaj/TEcl/uDYQSPPGm22WUfvV4/9HVJSQk0Gg2ioqIAAOnp6Th06BAA\noLa2FoWFhUhJSbHVpgkhhIySVWf+e/bsQW5uLpqbm7Fx40YEBATg1KlT2Lx5M1599VUkJibinXfe\nQVFRERiGgUgkwt69e4c+Dfz617/Gjh07kJqaCoZh8NZbb0Ei4fYyDiGE8JmAZVlurqWMEl32cR6s\nUIjz+XVclzEqs+KV8PWy2VXOIXRsDEf7YzheXPYhhBDiOij8CSGEhyj8CSGEhyj8CSGEhyj8CSGE\nhyj8CSGEhyj8CSGEhyj8CSGEhyj8CSGEhyj8CSGEhyj8CSGEhyj8CSGEhyj8CSGEhyj8CSGEhyj8\nCSGEhyj8CSGEhyj8CSGEhyj8CSGEhyj8CSGEhyj8CSGEh6ya0To7OxtffvklNBoNTpw4gdjY2PuW\nef/995GTkwOGYSASibBt2zakpKQAAHbs2IHLly9DJpMBANLT0/HKK6/Y8McghBAyGlaF/9KlS/H8\n889j/fr1D10mKSkJmzZtgo+PD0pLS7FhwwZcunQJ3t7eAICXX34ZGzZssE3VhBBCHotV4T9z5swR\nl7l3lg8AcXFxYFkWbW1tCAkJGXt1hBBC7MIu1/yPHTuGcePGDQv+AwcOIDMzE1u3bkVVVZU9NksI\nIcRKVp35j8Z3332Hd999F3/+85+HXtu2bRsUCgUYhsGxY8fw0ksv4ezZsxAKhVavVy6X2LrUUVEo\npJxu35k0tZgglXhzXcaoiMVeUASK7bJuOjaGo/0xnLPuD5uGf0FBAV5//XX88Y9/RHR09NDrSqVy\n6OuVK1fi97//PXQ6HUJDQ61et9HYBYuFtWW5VlMopDAYOjnZtlMSCtHZ1ct1FaNiMvXBYDbbfL10\nbAxH+2M4LvcHwwgeedJss/C/desWtm3bhvfeew+TJ08e9p5erx/6A3Dx4kUwDDPsDwIh5H6DFqBv\nYJDrMkbF29TPdQnESlaF/549e5Cbm4vm5mZs3LgRAQEBOHXqFDZv3oxXX30ViYmJ2L17N3p7e7Fz\n586h79u7dy/i4uKwfft2GI1GCAQCSCQS7N+/Hx4eNr/iRIhb6RsYxLUSPddljMrCGeMg4LoIYhUB\ny7LcXEsZJbrs4zxYoRDn8+u4LmNUZsUr4etl+xMOex4b3X0uGv52uLzmqpz5sg894UsIITxE4U8I\nITxE4U8IITxE4U8IITxE4U8IITxE4U8IITxE4U8IITxE4U8IITxE4U8IITxEPRaIVUy9g7hdY4S+\ntQdSXy/UN3VBJRfDQ0jnD4S4Igp/8kjNbT345GwFCquNMP+svYa3pxATI2SYOC4AniLr23MTQrhH\n4U8eiGVZXCrU4q9nK8ACSJ0VjmkTgjBOKUV3vwVfXKlBSW0rblQ0o6K+DUtmhEEm9eK6bEKIlSj8\nyX1YlsWhryuRe60eceEB+PXyeAQF+Ay97+ntCXWQL9RBvjC09uCbGxp8cbUOC6aqEarw5bByQoi1\n6IItuc/xSzXIvVaPpdPD8Pq6acOC/+cUMh88PTcCErEIX19vQGNztwMrJYSMFYU/GebMtXp8nleL\nJxJVeDZ1AhjByN3ZfX1ESJsTDn9fT1y40YiObprQgxBnR+FPhlRq2nHo60rMiFXgxacmWhX893h6\nCLFkehgEAgG+zm9A3wD1dCfEmVH4EwBAT98g/u3zIgT6eWHj0/FgmNHPxyQRi7BouhpdPQO4WuRa\nk5AQwjcU/gQAcDC3HMaOXmzOnASx99jHAShlYiSND8IdXSfq9DT7GSHOisKf4GZlM64U6ZA5LxIT\nwgIee30JUYGQSb3wbbEe/XT5hxCnROHPcwODFvztqwqEBIqRMS/SJutkGAHmJYSgt9+M78sMNlkn\nIcS2KPx57uz39dC39uDZZRNs2qpB7u+N+AgZKhvaYezotdl6CSG2MeJve3Z2NpYsWYK4uDiUl5c/\ncBmz2Yzdu3dj2bJlSE1NxeHDh616j3CrrasPn1+uxZQYORKj5TZff1KMHJ4iBtfp7J8QpzNi+C9d\nuhQff/wxQkNDH7rMiRMnUFdXh9zcXBw6dAj79u1DQ0PDiO8Rbh27WIPBQQvWLp1gl/V7ioRIipFD\nazTRw1+EOJkRw3/mzJlQqVSPXCYnJwerV68GwzAIDAzEsmXL8MUXX4z4HuFOc1sP8gq1WDQ1FMpA\nsd22EzcuABIfEfLLDGBZduRvIIQ4hE16+2i1WqjV6qF/q1Qq6HS6Ed8bDblc8viFPgaFQsrp9m3t\nb+eqIBAI8FzGJMj9H96+4UGaWkyQSrytXn5uogpnv6uDvq0XE8Jloy3VJsRiLyjs9EfOXscGO8r9\n7Czc7XflcTnr/nCZxm5GYxcsFm7OHBUKKQwG9xmzbmjrwVfX6rBoaigs/YOj/9mEQnR2WX8TVyXz\nhr+vJ64V66EM8IZgFE8O24rJ1AeD2fbDTu15bJj6Bke1n52FO/2uPC4us4NhBI88abbJ8A6VSoXG\nxsahf2u1WoSEhIz4HuHGqSu1EAiAp5MjHLI9gUCAyVGBaO3sg4au/RPiFGwS/unp6Th8+DAsFgta\nWlpw9uxZpKWljfgecbzWzj7kFeqwYIraof33o9V+8PX2QGFVi8O2SQh5uBHDf8+ePViwYAF0Oh02\nbtyI5cuXAwA2b96MwsJCAEBWVhbCwsLw5JNP4le/+hX+7u/+DuHh4SO+RxzvbH49LCyLtNnjHLpd\nhrl79m9o64G+xeTQbRNC7idgXWQIBl3zf3y9/YP4+/cvY1KkDFtXJY55PaxQiPP5daP+vkGzBZ+d\nr4bc3xtLZ4SNeftjMSteCV8v29/isuex0d03iGslrtUgb+GMcRDY4d6Kq3L7a/7ENeQV6mDqG8ST\nDj7rv8dDyCA2PAAaQzf1/CeEYxT+PGGxsMi9VoeYUD+MD/XnrI7Y8AAwAqCsro2zGgghFP68caOy\nGYa2XqTN4uas/x6xtwciQqSobGjHwKCF01oI4TMKf544d70BMqkXpsUGcV0K4iNkGDBbUKVp57oU\nQniLwp8H9C0mFNW2YuFUNYQM9//lQQE+CPL3RumdVmr5QAhHuE8CYnff3NBAyAiwYIp65IUdZGKE\nDB2mAeho2CchnKDwd3MDg2ZcuqXFtAlBCJA47qGukUQoJfAUMSivp0s/hHCBwt/NXSttQnfvIBZN\ne3hLbi4IhQxi1P6o13eip2+Q63II4R0Kfzf3TUEjlIFixEdw003zUSaE+8PCAlWNHVyXQgjvUPi7\nMa2xG5WadiyYouKkk+ZIAiReCJb5oKK+jW78EuJgFP5u7OItLYSMAPMSHj0ZD5diw/3RSTd+CXE4\nCn83NWi24HKhFkkxcvj7enJdzkONU0rh6cGgsoFu/BLiSBT+bqqwyogO0wBSkpxneOeDeAgZRKqk\nqNN3oX+QGoIR4igU/m7q4i0t/CWeSIwJ5LqUEcWE+sNsYXFH18V1KYTwBoW/G2rv6sOtKiPmJ6ic\n4onekQT5e8NPLEI1tXsgxGGcPxnIqF0t1sPCspif6BrTZQoEAsSE+kPf2oNOE7V6JsQRKPzd0OXb\nOkSp/KCS+3JditWi1X4AgCoNjfknxBEo/N1MQ1MX6pu6MC/BNc767/H1EUElF6O6sYPG/BPiABT+\nbuZykQ5CRoDZ8cFclzJqMaF+6OoZQFNrD9elEOL2bD+pKeGMxcLiapEOidFySMXOO7b/YcKDpfAQ\n6lGl6YAyUMx1OcRKHd390Lea0D9gQWtXP+RSL0Sp/KAOErvEgAO+sir8a2pqsGPHDrS1tSEgIADZ\n2dmIjIwctsxvf/tblJWVDf27rKwM77//PpYuXYp9+/bhk08+QXDw3bPR6dOnY9euXbb7KQgAoORO\nK9q6+l3uks89Ig8GESFS3NF1YvakYHgIKTiclcXCory+DRUN7Wjt7Bt6Pb/MMPS1n1iE1FnhWDwt\nDGJvOs90Nlb9j+zatQvr1q1DVlYWjh8/jp07d+Kjjz4atszevXuHvi4tLcULL7yAlJSUoddWrlyJ\n7du326hs8iCXb2sh9vLAlPFyrksZs5hQf1RpOlCn7xq6CUyci9bYje9KmtDe1Y8gf2/MnKhAmEIC\nHy8PLJkdgebmLlQ3duBKkQ5Hzlcj52od1i4djycSnbPHFF+NGP5GoxHFxcU4cOAAACAjIwNvv/02\nWlpaEBj44AeIPv30U2RmZsLT0/UuPbiq3v5B5JcbkDw5BCIPIdfljJlS5gOJjwhVmnYKfyfDsixu\nVBpRWGWExEeExdNDEabwHRbojEAAZaAYykAxkhNCUKvrwH99XYkDOaUorm3F82lx8PGiTwHOYMTP\n1VqtFkqlEkLh3UARCoUIDg6GVqt94PL9/f04ceIEnnnmmWGvnzp1CpmZmdi0aRMKCgpsUDr5qfwy\nA/oHLC57yecegUCAaLUftEYTunsGuC6H/GDQbMGFG40orDJifJg/sp6IRHiwZMQz+cgQP/z92mlY\ntSAa10qa8I8H89HeTc9yOAOb/wk+e/Ys1Go14uPjh15bu3YttmzZApFIhLy8PGzduhU5OTmQyazv\nMS+XS2xd6qgoFFJOtz+S/PJChMjFSJ4aZveP1k0tJkgl3nZbf9IEBW5VGaExmjBjotIm6xSLvaCw\n001kex0brJ33s7UGzRacvFQNjaEb85PUmDIh6JHH2IP2x6asRMyID8HbB77FPx26gT1b5kHu72PP\nsp2Gs2bHiOGvUqmg1+thNpshFAphNpvR1NQElerBbYKPHDly31m/QqEY+nr+/PlQqVSoqKjA7Nmz\nrS7UaOyCxcLN+G+FQgqDoZOTbVujpaMXNysMyJwfieZmB/THEQrR2dVrt9UzABQBPiipbcGEUD+b\n/DEzmfpgMNu+cZw9jw1T36Bd97M1LBYW3xRooDF044kkFaLVUnR19z3yex62P9Qyb2xbPQX/fPgm\nfrvvIv73hhnwc+KOs7bAZXYwjOCRJ80jXvaRy+WIj4/HyZMnAQAnT55EfHz8A6/363Q65OfnIzMz\nc9jrer1+6OuSkhJoNBpERUVZ/UOQR/u2WA8WQLKLX/L5qRi1H9q7+tHS8eigIfbDsizyCrVoMHRj\nziSlTe7BxIYH4H+umYq2zj7s++wWBqiTK2esGkv35ptv4uDBg0hLS8PBgwexe/duAMDmzZtRWFg4\ntNzRo0exePFi+Pv7D/v+d955BxkZGVixYgXeeOMN7N27d9inATJ2LMvi8m0dYkL9oJS5z9j4CJUU\njECAaprikTPFta2o0XZi6oQgxI0LsNl6x4f646WMSajSdODA6VJ6opsjVl3zj4mJweHDh+97/YMP\nPhj271deeeWB35+dnT2G0og16pu6oGnuxnNPxnJdik15iYQIC/ZFjbYDM+IUYBgaIuhIOqMJ18sM\niFBKkBht+7bgMycGY9WCaBy9UI3wYAmemhNh822QR6OnaFzc5dt32znMirfNjVFnEq32Q2+/GY3G\nbq5L4RVT7wAu3GyEn68n5tlxbH5GcgRmxCnw2flq1GjpE56jUfi7MIuFxbfFeiTFyCHxEXFdjs2F\nKiTwEglRTZ0+HebudX4dBs0WLJymhsjDfhEhEAjw4lMT4S/xxP/7vAg9fYN22xa5H4W/Cyu+04L2\n7n4kT3afG70/JWQEiFRJUd9EUzw6Snl9G7RGE2bEKRAg8bL79ny9RdicMQmGth58crbc7tsjP6Lw\nd2FXbuvh4+LtHEYSrfajKR4dpKO7H/llBqjkYsSG2+4G70jixsmwPDkCeYU6FFYbHbZdvqPwd1F9\n/WZcLzdg1sRgl27nMJIgf29IxSJUN9IUj/Z0b9QYIxBgXmKIw3vwZM6LgkouxkdflKK3ny7/OAKF\nv4u6XmFA34AZyZPd70bvTwkEAsSo/aBv6UEXtXuwm0pNB5paezBjYjB8vR1//0jkwWDjU/Fo6ejD\nZ+erHb59PqLwd1FXbusg9/PGBAd+POdK1A8PF9XQmH+76O0fRH5ZE4JlPhgfyl0zvfFh/lg8PRRf\n5Tegij7p2R2Fvwtq7+pDUW0L5k5WguFBi1yp2BPBMh+a4tFO8ssMGBi0YO4kJectl59ZGAM/iSc+\nOVMOC/1f2xWFvwv6tlgPloXbjvJ5kGi1H9q7+2Gkdg821dTagypNByZFBiJAav/RPSPx8fLArxaP\nR422E5duPbhzMLENCn8XdKVIj4gQKdRBvlyX4jARIVIwjIBu/NoQy7K4VqKH2MsDSTHOM2Js7iQl\nJoT548j5Kph66T6PvVD4uxhNczfu6Dt5ddYP3G33EK7wRa22k7Puru6mStMBY0cfpscF2fVhrtES\nCARYnxqLrp4BHLtUw3U5bst5/seJVa4W3R2ON2eSe4/yeZDoUP+77R6aqd3D4xoYtKCgwoAgf29E\nqZxvxrRxSikWTFHj3HUNmlpNXJfjlij8XYiFZXG1SIdJUTL4u3kf9AdRB/nCSyREFY36eWy3a1rQ\n02fGrPhgzm/yPkzWE1EQCgX47AIN/bQHCn8XUlHfBmNHH+bx7JLPPcPaPQxQu4ex6ukbREltCyJD\npFAEOO9sWgESLzw5axy+K2mixm92QOHvQq4U6eAlEmLaBP7OhRCj9oPFwuKO3nlnVnN2hVVGmC0s\npk4I4rqUET01ZxwkPiIcPldJw3xtjMLfRQwMmnGt1IAZcQp4ebpvO4eRyP294ScWUafPMeoyDaC8\nvg3jQ/1dYgpFHy8PrJgfidK6NhRWt3Bdjluh8HcRNyuN6Okb5N0on58TCASIDvWHvrUHXSYaBjha\nNyubAYEASS7UDHDRtFAEB/jg028qaaSXDVH4u4jLt3Xwl3giPkLGdSmci/5hdEo1XQcelbauPlQ3\ndmDiuABO+veMlYeQwS8WRqPB0I0rRTquy3EbFP4uoNPUj8JqI+ZOUtJ0hgAkYhG1exiDGxXN8BAy\nSLDDtIz2NnNiMCJDpDh6sZomfbcRCn8XcKVID7OFxfwEFdelOI0YtR86uvthbO/luhSX0NzWgzp9\nFyZFyeDtadXU3U6FEQiwevF4tHT04at8DdfluAWrwr+mpgZr1qxBWloa1qxZg9ra2vuW2bdvH5KT\nk5GVlYWsrCzs3r176L2enh689tprSE1NRXp6Os6dO2ezH8DdsSyLi7caEaWSIixYwnU5TuNeuwca\n82+d6xXN8PYUYlKk65313xMfIcPkqEDkXL1DUz7agFXhv2vXLqxbtw5ffvkl1q1bh507dz5wuZUr\nV+L48eM4fvw4du3aNfT6hx9+CIlEgjNnzuBPf/oT3njjDXR301Oa1qjRdkJj6EZKkprrUpyKp0iI\n8GAJarWdMFssXJfj1Bqbu6EzmpAQHehUbRzG4hcLotHVM4Az1+q5LsXljXgkGI1GFBcXIyMjAwCQ\nkZGB4uJitLRYP+zq9OnTWLNmDQAgMjISCQkJuHDhwhhL5peLtxrh6cFgdjz/2jmMZHyoP/oGzKhv\nohOJh2FZFgUVzRB7eyDODeZ+iFL5YdqEIHx5rY4m93lMI4a/VquFUqmEUHh3bLlQKERwcDC02vvb\nrZ46dQqZmZnYtGkTCgoKhl5vbGxEaGjo0L9VKhV0OrprP5K+fjO+LdZj5sRgiL1d7zqtvamCxBB7\ne6Civo3rUpxWnb4LxvZeTBkfBKHQtc/671m1IBq9fWac/vYO16W4NJslytq1a7FlyxaIRCLk5eVh\n69atyMnJgUxmm6GJcjm317sVCqnDt/nVtTr09puRuSCGk+0/TFOLCVKJN9dlAAAmR8lxrUQPVsA8\n8qElsdgLikCxXWqw1/8N+5j72cKyuFVVC5nUC1Njgx02Uszex6pCIcWCaWH4Kl+DZ9PiIfNzjmPx\nYZzpd/enRgx/lUoFvV4Ps9kMoVAIs9mMpqYmqFTDR54oFD+2HJg/fz5UKhUqKiowe/ZsqNVqaDQa\nBAbevdmk1WoxZ86cURVqNHZx9oCHQiGFweD4dgI5l6qhlPkgWOrJyfYfSihEZ5dzjLIJD/bFtRLg\nZnnTI9sVmEx9MJhtP0TQnseGqW/wsfZzZUM7Wjv7sHCqGt0mx02C44hjNX12GC7e0OA/TxZhfWqs\n3bc3VlxlBwAwjOCRJ80jfg6Uy+WIj4/HyZMnAQAnT55EfHz8UJDfo9frh74uKSmBRqNBVFQUACA9\nPR2HDh0CANTW1qKwsBApKSmj/2l4RNdiQnlDO55IUjlt10VnIPERQSUXo1LTTtP+/YTZYsHNymbI\n/bwwTul+o8SUMjGeSArB+RsaGu47RlZdBHzzzTdx8OBBpKWl4eDBg0PDODdv3ozCwkIAwDvvvIOM\njAysWLECb7zxBvbu3Tv0aeDXv/41Ojo6kJqait/85jd46623IJG43wFpS5duacEIBJifSGP7RzIh\nzB+m3kFoqc//kPK6dnT3DmJarMJtTx4y5909ufw8jyZ8GQurrvnHxMTg8OHD973+wQcfDH2dnZ39\n0O8Xi8V47733xlAeP5ktFuTd1iIpRo4ACffzqjq7cKUU3p5NKKtvR6iCTioGBi0orDZCGegDldw+\n9zmcgdzfG4umhuLr6xo8PTcCSjvd03FX7nH7380UVrWgvasfKUl01m8NISPA+DB/aJq6aPgfgJI7\nrejtN2O6G5/137N8XiQ8PAQ03eMYUPg7oYu3GuHn64lEJ5pU29nFhgWABVDRwO8J3nv7zSiqaUFY\nsMSpJ2qxFX9fTyybEY7vivVoaOriuhyXQuHvZFo6enGz0oj5CSHwcJNx2Y4gEYsQqvBFZUMbr9v+\nFtUYMTBowTQXmKjFVtLnjIO3lxBHL9J0j6NB6eJkzt9oBMuyWDQtdOSFyTBx4QHo6TOjnqdngKbe\nAZTeaUO02g8yKX/uFUl8REibPQ4FFc2opl5PVqPwdyKDZgvO32xEYoycFx/ZbU2t8IWvtwdK77Ry\nXQonblUZYWFZTHGhiVpsJXVmOCQ+Ihy9UMV1KS6Dwt+J5JcZ0NHdjyXTw7guxSUxAgEmRsigb+1B\nSwe/xn53dPejoqEdseEBkIqdf3pGW/Px8sDTcyNQVNuKsjp+/vEfLQp/J3LuegMUAd4uOdmGsxgf\n5g8PoQAlPDv7v1HRDEYgQGI0/87671kyPRQBEk8cuVBNk/xYgcLfSdQ3daG8oR2Lp4WBcfPhefbk\nJRIiJtQfNY2dvOn5bmjrQa2uE5OjAnndANBTJETmvEhUNrTTZO9WoPB3Eme+r4enB4MnaGz/Y4uP\nkMHCsijnQbdPlmXxfakB3kWKfhIAABPtSURBVJ5CTI6iT4wpU9QI8vfG0QvV1O5jBBT+TqC9ux9X\ni3SYn6SCxMd1JtZ2Vn6+nghV+KKsrg1ms3tP9FKn74KhrQdTJwS5/EQttuAhZJD1RBTu6DvxXYl+\n5G/gMTpanMC56w0wm1mkzgznuhS3MSlSht5+s1tP82i2sLheboC/xBPjQ/25LsdpJCeEYFywBEe+\nocneH4XCn2P9A2Z8fV2DKeODEEK9SWwmJFAMub83impa3Pahr/L6NnSaBjAjTuGwXv2ugBEIsGbJ\neBg7enH2+wauy3FaFP4cu1KkQ1fPANJm01m/LQkEAiRGB6LTNIA7eieaC8FG+gfMuFVpRIhcjNAg\nX67LcTrxkYFIipHj5JVadJr6uS7HKVH4c8hiYfHFd/WIUEoR6wbzqzqb8GAJ/H09cbu6xe2G/hVW\nt6BvwIyZce7fvG2sVi8ej75+Cz6/VMt1KU6Jwp9D35c1Qd9iwvLkCPoFtgOBQIDJUYFo7exDca37\njPvvMg2g5E4rYtR+CHTyKQy5FBrkiwVT1fjmhgZaI8318HMU/hxhWRanrtyBSi7G9DjFyN9AxiRa\n7QeJjwg5V2rd5uz/+7ImCIBHTltJ7sp6IgoeHgw+/YbaPvwchT9HblYZUd/UhafnRtBDXXbEMAIk\nxchRp+/CjYpmrst5bBpDN+r0XUiKkcOXhgWPyN/XE8vnRqCgopnaPvwMhT8HWJbFqcu1CPL3xpxJ\nSq7LcXvRaj8Ey3xw9KJrP/hjtljwXYkeUrEIk6JkXJfjMlJnhUMm9cLfvqp025FfY0Hhz4Gi2hZU\nNXbgqTnjqGe/AzCMAE8nR6DB0I3vS5u4LmfMimta0WkawOx4JYQMHTfW8hIJsXpRDO7oO3HhZiPX\n5TgNOoIcjGVZHDlfjSB/b6RMUXNdDm9Mi1UgVOGLoxeqMeiCT/12dPfjVpUR45QShCpoaOdozZmk\nRFx4AI6cr6Khnz+wKvxramqwZs0apKWlYc2aNaitrb1vmffffx/Lly9HZmYmfvGLX+DixYtD7+3Y\nsQMLFixAVlYWsrKysH//fpv9AK7merkBd3Sdd29E0Vm/wzACAVYvGg99aw++znetB39YlsWVIh0Y\nRoDZ8XSZcCwEAgE2PBmLnj4zjpynGb8AwKoWgLt27cK6deuQlZWF48ePY+fOnfjoo4+GLZOUlIRN\nmzbBx8cHpaWl2LBhAy5dugRv77tD0V5++WVs2LDB9j+BC7FYWHx2oRoquRjJk0O4Lod3kmLkSIgO\nxPG8WsxNCIGfi/S9r2xoh76lB3MnK3ndtfNxhSokWDYzDGeu1SMlSYUYnrfEGPHU02g0ori4GBkZ\nGQCAjIwMFBcXo6VleMvUlJQU+PjcnX0qLi4OLMuirc39uyqOxpUiHbRGE1alRNPj+BxZu2QC+vrN\nOH6xhutSrNLdO4DvywxQynwwIYzfYWULWU9EIUDqhf/4otQlL//Z0ojhr9VqoVQqIRQKAQBCoRDB\nwcHQarUP/Z5jx45h3LhxCAn58ez2wIEDyMzMxNatW1FVxb8xt739gzhyvgpRKilm0Lh+zqiDfLF4\neii+uaFBnZO3fbCwLPIKdWBZFskJIfQgoA34eHngubQ4aAzdOH31DtflcMrmnyG/++47vPvuu/jz\nn/889Nq2bdugUCjAMAyOHTuGl156CWfPnh36g2INuVxi61JHRaGQPtb3/+V0Cdq6+vG7jXMQHOxn\no6q40dRiglTiWk+WisVeUPzQOO+llYnILzfg4Jly/N9XF0D4mPdeHvfYeJjcL0qgM5qwaHoYQpWu\nc8zYa3/YSqpCioJKI05cvoPU5CiEK+1br7PujxHDX6VSQa/Xw2w2QygUwmw2o6mpCSrV/ZOOFBQU\n4PXXX8cf//hHREdHD72uVP54k2rlypX4/e9/D51Oh9DQUKsLNRq7OBujq1BIYTCM/Syxua0Hn52r\nxNxJSsh9RY+1LqcgFKKzy7XmyDWZ+mAw/9je99mlE7D/2G18fLoYT82JGPN6H/fYeJgGQxc+/boC\nYQpfhCvELrW/XeH4/kVKFK6X6vFPB7/Hjg3T7TZ01l7HhzUYRvDIk+YRf2K5XI74+HicPHkSAHDy\n5EnEx8cjMHD4rEG3bt3Ctm3b8N5772Hy5MnD3tPrf5xU4eLFi2AYZtgfBHf3X+cqwQiAXy6K4boU\n8oOZcQpMmxCEYxdroG81cV3OMD19g9h/7DZ8vDzoco+d+Pt6Yn1qLKoaO5BztY7rcjhh1Z+7N998\nEwcPHkRaWhoOHjyI3bt3AwA2b96MwsJCAMDu3bvR29uLnTt3Dg3pLCsrAwBs374dmZmZWLFiBfbv\n34/9+/fDw4MfoxZuVTXj+zIDnk6OoCZcTuTu0L84eAgZfHiyxGlu/rEsi//8ohS6FhNeeGoifLz4\n8XvChTmTlJg1MRifX6rBHZ3zf1qxNQHrIt2uXPGyT0/fIP7hw2/h7emBXS/Ocptp9lihEOfzXets\naVa8Er4PCNKrxTr82+fFWJ4cgWcWjv6Tma0/1p+5Vo+/flWBZxZGY9H0MFxzsakIF84YB4HZdWbP\n6uoZwD98+C18vUX4hxdmwktk/X1Ia7j0ZR8ydkcvVKO1ow8vpk90m+B3N3MnhWDBFBVyrtzB7Roj\np7XcqjLi0NeVmDYhCE/PHft9CGI9iY8Iv14ej8bmbnxyppzrchyKEslOKhva8VV+AxZPD8V4Gp/t\n1J5dFgt1kC8+OFGM5rYeTmq4o+vE/mO3ERbsi5cyJtF1fgdKiJJjeXIELt7S4vLthw9hdzcU/nZg\n6h3Ev50ogtzfe0yXEohjeYmE2LoqAWYzi3/59BZMvQMO3b6hrQf/8ulNSHw88D9+OYWu83NgZUoU\n4sID8NGXZdA082PiFwp/Ozh4pgwtHX14ecVk+kV2ESq5L/7uF4nQt5jwr58VOuwGcFNbD7I/uY7B\nQQteWz0FMqmXQ7ZLhhMyDF5eMRnenh7Yd+QWunocewLABQp/G7tyW4erRXqsmB+J8TzvHeJq4iNk\n2PR0PErr2vDHo7cxMGjfG5f6VhOyP76Ovn4z/n7tNIQquH2Qke9kUi/8t1WJaOnoxf5jt51mBJi9\nUPjbUJ2+E//5ZSliw/yxfB7dsHNFyQkhWJ8aixuVzXjv01vo67fPH4CKhjb841/yMTBowevPTkNE\niHM+Bco348P88UL6RJTcacUnZyvcZurPB6Hwt5EOUz/2HSmEr7cIr6xMoMk2XNjSGWHY9HQ8iu+0\n4v/8rQAtHbZ9uvbSLS32flIAHy8P/K8N0zHOzu0FyOjMT1ThqTnj8E2BBifyarkux27ogrQNDJot\n+NOx22jv7sf/2jAd/hK6buvqnkhSwcdLiH8/VYI3D1zD5sxJSIyWP9Y6O039+PhMOb4raUJ8hAyv\nrEyAhObhdUrPLIpBR3c/jl2qgUQswpLpYVyXZHMU/o/JYmHxwYlilNa1YXPGJESpXKcBF3m0GXHB\nUAf5Yv+x2/jn/7qJeQkheGZhzKhvyg6aLbh8W4cj56tg6h3EqgXRNIWnk2MEArz49ER09w7i49xy\niISM2828R+H/GFiWxcHcMlwrbcKvFo9HcgJN0OJuVHJf/O75mfg8rwZnrtXj+7ImLJoaiieSVAgb\n4QZth6kf+aVNOP1tHZrbexGt9sOL6RMRFkw3dl2BkGGwJWsy/vWzQhw4fbf//2I3+gRA4T9GLMvi\nb19V4psbjXh6bgTS54zjuiRiJ3cnAB+PRVND8dmFanyV34Dca/UID5ZgckwQgv284OsjAiMQwNQ7\nAK3RhFpdB8rq28CyQGSIFOtTY5EUI6eHt1yMp0iI//5MIvYfK8JfcsvRO2BG+uxxbvH/SOE/BhYL\ni//4ohSXbmmxbGYYnlkYPfI3EZenCPDBb1ZMxrPLJuBqkR43K5tx8YYG3T8bE+4hZKCSi7E8OQIz\n44IRHixxi7DgK5HH3YcAPzhRjMPnqmBo7cH6J2NdflAHhf8o9fWb8e8ni5FfbsCK+ZHIeiKKfrF5\nxk/siSdnhePJWeEICpKgtMqAvn4zzBYW3p5CBPn70DSdbsZDyOA3WZOhCPBBztU7MLT34uXMSZC6\nyDzQD0LhPwpNbT341yOF0DR34dmlE5A6K5zrkgjHBAIBgvx9uC6DOAAjEOCXi2KglPngL7llePPA\nNfxmxWTEhgdwXdqYuPbnFgfKLzPg7f+4hpaOXmxbPYWCnxCeSpmixu+emwmRkMHeTwrw2YVqDAy6\n3tPAdOY/gu7eAXz0ST6+yW/AOKUEW1cmIFgm5rosQgiHIkKk2LVxFg7mluPk5VrklzXhhfSJLvUp\ngML/ISwWFhduNuLoxWp09w5ixfxIZMyLpLHZhBAAgI+XBzZnTsLcyUp89EUp/vDxdcyIU+CXC2Og\nDHT+E0QK/5+xWFh8X9aEE5droTF0IzbMH1tXT4Wfl21n+CGEuIfEaDn2vDQXX35Xh9Pf1uFGRTPm\nTFLiqTnjoFA4b+sOCv8fdJj6cfW2Dl9f16CprQchgWK8sjIBM+MUCA7242wqNkKI8/PyFGLFE1FY\nOFWNU1fv4MLNRly+rcPUWAXmxgdj2oQgiDyc6wSS1+Hf3t2Pm5XNuFHRjMJqI8wWFjFqP6xeHINp\nsQowNISTEDIK/hIvrFsWixXzo3DuegPybuvwp3IDfLw8MCVGjqkTgjApMtApejrxIvwtLIvO7n7o\nWkxobO5Gra4TlZp2aI0mAECgnxeWzghDSpKKeqoTQh6bxEeEzPlReHFFIi7k1+FqkQ43K424WqwH\nAIQqfBGj9kd4sARhCl8oAnwQIPFy6PMhVoV/TU0NduzYgba2NgQEBCA7OxuRkZHDljGbzdizZw8u\nXrwIgUCAl19+GatXrx7xPXuqbuzAn47fRmtnH8yWH/ty+3p7YHyoP+YlhCAxWk5PYBJC7IJhBJgc\nGYjJkYGwWFhUNbajtK4N5XWtyC9rwoWbjUPLChkBpGIRfL1F8PYUQsAI4CUSYkNqrF1uIFsV/rt2\n7cK6deuQlZWF48ePY+fOnfjoo4+GLXPixAnU1dUhNzcXbW1tWLlyJZKTkxEWFvbI9+xJ4uOBhGg5\nfL09ECDxglLmA3WQL2RSLwp7QohDMYwAE8ICMCEsAJgXCZZl0drZB01zN5rbe2Fs70WnqR+m3kH0\n9g/CwgL2jKkRw99oNKK4uBgHDhwAAGRkZODtt99GS0sLAgMDh5bLycnB6tWrwTAMAgMDsWzZMnzx\nxRd46aWXHvmetcbycShE7osXn5o46u+z1fbdFcsIIPbm/prlaHgIGbv9H9prvR5CxuX2M8MIIGDp\nd+WnHn58CBAU4IOgAPs8IT7ScTli+Gu1WiiVSgiFd+9UC4VCBAcHQ6vVDgt/rVYLtfrHftcqlQo6\nnW7E96wlk/mOanlbk8vpXsBPLU+J4boEp2HPYyNMRfNAuzpnzQ56YokQQnhoxPBXqVTQ6/Uwm+9O\nZG02m9HU1ASVSnXfco2NP9680Gq1CAkJGfE9Qgghjjdi+MvlcsTHx+PkyZMAgJMnTyI+Pn7YJR8A\nSE9Px+HDh2GxWNDS0oKzZ88iLS1txPcIIYQ4noBlWXakhaqqqrBjxw50dHTAz88P2dnZiI6OxubN\nm/Hqq68iMTERZrMZb731FvLy8gAAmzdvxpo1awDgke8RQghxPKvCnxBCiHuhG76EEMJDFP6EEMJD\nFP6EEMJDFP6EEMJDFP4P0NPTg9deew2pqalIT0/HuXPnHrjct99+iylTpiArKwtZWVkOaVbnKDU1\nNVizZg3S0tKwZs0a1NbW3reM2WzG7t27sWzZMqSmpuLw4cOOL9RBrNkf+/btQ3Jy8tDxsHv3bscX\n6gDZ2dlYsmQJ4uLiUF5e/sBl+HJsWLMvnPa4YMl99u3bx/7ud79jWZZla2pq2Hnz5rFdXV33LXf1\n6lV21apVji7PIZ577jn22LFjLMuy7LFjx9jnnnvuvmWOHj3Kbtq0iTWbzazRaGRTUlLY+vp6R5fq\nENbsj/fee4/9wx/+4OjSHO7atWtsY2Mju3jxYrasrOyBy/Dl2LBmXzjrcUFn/g9w+vTpoecQIiMj\nkZCQgAsXLnBclePca+aXkZEB4G4zv+LiYrS0tAxb7mEN+9yNtfuDL2bOnHnfE/4/x5djw5p94awo\n/B+gsbERoaGhQ/9+VCO62tparFq1CqtXr8bRo0cdVaJdPaqZ38+Xe9yGfa7A2v0BAKdOnUJmZiY2\nbdqEgoICR5fqNPhybFjLGY8LXszk9XOrVq0a1mvopy5fvmz1eiZPnozz589DKpWivr4eGzduhFKp\nxLx582xVKnEha9euxZYtWyASiZCXl4etW7ciJycHMpmM69IIh5z1uOBl+I90hq5Wq6HRaIb6F2m1\nWsyZM+e+5SSSH1u1hoeHY9myZbh+/brLh/9Pm/kJhcIRm/klJSUBuP9sz11Yuz8UCsXQ1/Pnz4dK\npUJFRQVmz57t6JI5x5djwxrOelzQZZ8HSE9Px6FDhwDcvaxTWFiIlJSU+5ZramoC+0N3jLa2NuTl\n5WHiRNtMHsMlWzTzcyfW7g+9Xj/0dUlJCTQaDaKiohxaq7Pgy7FhDWc9Lqi3zwOYTCbs2LEDJSUl\nYBgGr7/+OpYtWwYAePfddxEcHIxnn30WBw8exF//+ld4eHjAbDZj5cqVo5qdzJk9bjM/d2PN/ti+\nfTuKiorAMAxEIhFeffVVLFy4kOvSbW7Pnj3Izc1Fc3MzZDIZAgICcOrUKV4eG9bsC2c9Lij8CSGE\nh+iyDyGE8BCFPyGE8BCFPyGE8BCFPyGE8BCFPyGE8BCFPyGE8BCFPyGE8BCFPyGE8ND/B2nmFYyD\nCJKFAAAAAElFTkSuQmCC\n",
                "text/plain": "<Figure size 432x288 with 1 Axes>"
              }
            ],
            "_view_module": "@jupyter-widgets/output",
            "_model_module_version": "1.0.0",
            "_view_count": null,
            "_view_module_version": "1.0.0",
            "layout": "IPY_MODEL_0e724e7d37834c4e9a6ba7f25b6d039d",
            "_model_module": "@jupyter-widgets/output"
          }
        },
        "11222b5d9f324fceb56caf4a5e939bfb": {
          "model_module": "@jupyter-widgets/controls",
          "model_name": "SliderStyleModel",
          "state": {
            "_view_name": "StyleView",
            "handle_color": null,
            "_model_name": "SliderStyleModel",
            "description_width": "",
            "_view_module": "@jupyter-widgets/base",
            "_model_module_version": "1.5.0",
            "_view_count": null,
            "_view_module_version": "1.2.0",
            "_model_module": "@jupyter-widgets/controls"
          }
        },
        "842ed3621921479494972b54cbd7af8c": {
          "model_module": "@jupyter-widgets/base",
          "model_name": "LayoutModel",
          "state": {
            "_view_name": "LayoutView",
            "grid_template_rows": null,
            "right": null,
            "justify_content": null,
            "_view_module": "@jupyter-widgets/base",
            "overflow": null,
            "_model_module_version": "1.2.0",
            "_view_count": null,
            "flex_flow": null,
            "width": null,
            "min_width": null,
            "border": null,
            "align_items": null,
            "bottom": null,
            "_model_module": "@jupyter-widgets/base",
            "top": null,
            "grid_column": null,
            "overflow_y": null,
            "overflow_x": null,
            "grid_auto_flow": null,
            "grid_area": null,
            "grid_template_columns": null,
            "flex": null,
            "_model_name": "LayoutModel",
            "justify_items": null,
            "grid_row": null,
            "max_height": null,
            "align_content": null,
            "visibility": null,
            "align_self": null,
            "height": null,
            "min_height": null,
            "padding": null,
            "grid_auto_rows": null,
            "grid_gap": null,
            "max_width": null,
            "order": null,
            "_view_module_version": "1.2.0",
            "grid_template_areas": null,
            "object_position": null,
            "object_fit": null,
            "grid_auto_columns": null,
            "margin": null,
            "display": null,
            "left": null
          }
        },
        "5cc250651bf4471d884578a70c3ac677": {
          "model_module": "@jupyter-widgets/controls",
          "model_name": "SliderStyleModel",
          "state": {
            "_view_name": "StyleView",
            "handle_color": null,
            "_model_name": "SliderStyleModel",
            "description_width": "",
            "_view_module": "@jupyter-widgets/base",
            "_model_module_version": "1.5.0",
            "_view_count": null,
            "_view_module_version": "1.2.0",
            "_model_module": "@jupyter-widgets/controls"
          }
        },
        "34342b4170f94cd3be60149fedbd4317": {
          "model_module": "@jupyter-widgets/base",
          "model_name": "LayoutModel",
          "state": {
            "_view_name": "LayoutView",
            "grid_template_rows": null,
            "right": null,
            "justify_content": null,
            "_view_module": "@jupyter-widgets/base",
            "overflow": null,
            "_model_module_version": "1.2.0",
            "_view_count": null,
            "flex_flow": null,
            "width": null,
            "min_width": null,
            "border": null,
            "align_items": null,
            "bottom": null,
            "_model_module": "@jupyter-widgets/base",
            "top": null,
            "grid_column": null,
            "overflow_y": null,
            "overflow_x": null,
            "grid_auto_flow": null,
            "grid_area": null,
            "grid_template_columns": null,
            "flex": null,
            "_model_name": "LayoutModel",
            "justify_items": null,
            "grid_row": null,
            "max_height": null,
            "align_content": null,
            "visibility": null,
            "align_self": null,
            "height": null,
            "min_height": null,
            "padding": null,
            "grid_auto_rows": null,
            "grid_gap": null,
            "max_width": null,
            "order": null,
            "_view_module_version": "1.2.0",
            "grid_template_areas": null,
            "object_position": null,
            "object_fit": null,
            "grid_auto_columns": null,
            "margin": null,
            "display": null,
            "left": null
          }
        },
        "0e724e7d37834c4e9a6ba7f25b6d039d": {
          "model_module": "@jupyter-widgets/base",
          "model_name": "LayoutModel",
          "state": {
            "_view_name": "LayoutView",
            "grid_template_rows": null,
            "right": null,
            "justify_content": null,
            "_view_module": "@jupyter-widgets/base",
            "overflow": null,
            "_model_module_version": "1.2.0",
            "_view_count": null,
            "flex_flow": null,
            "width": null,
            "min_width": null,
            "border": null,
            "align_items": null,
            "bottom": null,
            "_model_module": "@jupyter-widgets/base",
            "top": null,
            "grid_column": null,
            "overflow_y": null,
            "overflow_x": null,
            "grid_auto_flow": null,
            "grid_area": null,
            "grid_template_columns": null,
            "flex": null,
            "_model_name": "LayoutModel",
            "justify_items": null,
            "grid_row": null,
            "max_height": null,
            "align_content": null,
            "visibility": null,
            "align_self": null,
            "height": null,
            "min_height": null,
            "padding": null,
            "grid_auto_rows": null,
            "grid_gap": null,
            "max_width": null,
            "order": null,
            "_view_module_version": "1.2.0",
            "grid_template_areas": null,
            "object_position": null,
            "object_fit": null,
            "grid_auto_columns": null,
            "margin": null,
            "display": null,
            "left": null
          }
        },
        "6dffc500568649cdb9e163058fe1213c": {
          "model_module": "@jupyter-widgets/controls",
          "model_name": "VBoxModel",
          "state": {
            "_view_name": "VBoxView",
            "_dom_classes": [
              "widget-interact"
            ],
            "_model_name": "VBoxModel",
            "_view_module": "@jupyter-widgets/controls",
            "_model_module_version": "1.5.0",
            "_view_count": null,
            "_view_module_version": "1.5.0",
            "box_style": "",
            "layout": "IPY_MODEL_54dffa74069048f0b231fd3442e80863",
            "_model_module": "@jupyter-widgets/controls",
            "children": [
              "IPY_MODEL_0fc65b0cea7f450caf4bc50a21040552",
              "IPY_MODEL_c63656af25b24f5d8eb353aaf2833a1f",
              "IPY_MODEL_e61aba367daa48f29220db32f91237d1",
              "IPY_MODEL_5296e69932d740a3bd84e120ff9231d8",
              "IPY_MODEL_9fade4b4559d4c619064b13776334fbe"
            ]
          }
        },
        "54dffa74069048f0b231fd3442e80863": {
          "model_module": "@jupyter-widgets/base",
          "model_name": "LayoutModel",
          "state": {
            "_view_name": "LayoutView",
            "grid_template_rows": null,
            "right": null,
            "justify_content": null,
            "_view_module": "@jupyter-widgets/base",
            "overflow": null,
            "_model_module_version": "1.2.0",
            "_view_count": null,
            "flex_flow": null,
            "width": null,
            "min_width": null,
            "border": null,
            "align_items": null,
            "bottom": null,
            "_model_module": "@jupyter-widgets/base",
            "top": null,
            "grid_column": null,
            "overflow_y": null,
            "overflow_x": null,
            "grid_auto_flow": null,
            "grid_area": null,
            "grid_template_columns": null,
            "flex": null,
            "_model_name": "LayoutModel",
            "justify_items": null,
            "grid_row": null,
            "max_height": null,
            "align_content": null,
            "visibility": null,
            "align_self": null,
            "height": null,
            "min_height": null,
            "padding": null,
            "grid_auto_rows": null,
            "grid_gap": null,
            "max_width": null,
            "order": null,
            "_view_module_version": "1.2.0",
            "grid_template_areas": null,
            "object_position": null,
            "object_fit": null,
            "grid_auto_columns": null,
            "margin": null,
            "display": null,
            "left": null
          }
        },
        "0fc65b0cea7f450caf4bc50a21040552": {
          "model_module": "@jupyter-widgets/controls",
          "model_name": "FloatSliderModel",
          "state": {
            "_view_name": "FloatSliderView",
            "style": "IPY_MODEL_2af8920d05344fd2bca38e5d2f1ae032",
            "_dom_classes": [],
            "description": "p",
            "step": 0.05,
            "_model_name": "FloatSliderModel",
            "orientation": "horizontal",
            "max": 1,
            "_view_module": "@jupyter-widgets/controls",
            "_model_module_version": "1.5.0",
            "value": 0.5,
            "_view_count": null,
            "disabled": false,
            "_view_module_version": "1.5.0",
            "min": 0,
            "continuous_update": true,
            "readout_format": ".2f",
            "description_tooltip": null,
            "readout": true,
            "_model_module": "@jupyter-widgets/controls",
            "layout": "IPY_MODEL_63794284b1a1448b939a097f795e4df1"
          }
        },
        "c63656af25b24f5d8eb353aaf2833a1f": {
          "model_module": "@jupyter-widgets/controls",
          "model_name": "IntSliderModel",
          "state": {
            "_view_name": "IntSliderView",
            "style": "IPY_MODEL_3f285d38bc36432dbb06b25e840a6ef0",
            "_dom_classes": [],
            "description": "n",
            "step": 1,
            "_model_name": "IntSliderModel",
            "orientation": "horizontal",
            "max": 30,
            "_view_module": "@jupyter-widgets/controls",
            "_model_module_version": "1.5.0",
            "value": 10,
            "_view_count": null,
            "disabled": false,
            "_view_module_version": "1.5.0",
            "min": -10,
            "continuous_update": true,
            "readout_format": "d",
            "description_tooltip": null,
            "readout": true,
            "_model_module": "@jupyter-widgets/controls",
            "layout": "IPY_MODEL_8cd79d701c0d4c679e691a248eae411e"
          }
        },
        "e61aba367daa48f29220db32f91237d1": {
          "model_module": "@jupyter-widgets/controls",
          "model_name": "IntSliderModel",
          "state": {
            "_view_name": "IntSliderView",
            "style": "IPY_MODEL_ad74237facec4b82b82dcf6a1b67a5fb",
            "_dom_classes": [],
            "description": "size",
            "step": 1,
            "_model_name": "IntSliderModel",
            "orientation": "horizontal",
            "max": 150,
            "_view_module": "@jupyter-widgets/controls",
            "_model_module_version": "1.5.0",
            "value": 50,
            "_view_count": null,
            "disabled": false,
            "_view_module_version": "1.5.0",
            "min": -50,
            "continuous_update": true,
            "readout_format": "d",
            "description_tooltip": null,
            "readout": true,
            "_model_module": "@jupyter-widgets/controls",
            "layout": "IPY_MODEL_374a547fdda54adb9362e2a9612d3f28"
          }
        },
        "5296e69932d740a3bd84e120ff9231d8": {
          "model_module": "@jupyter-widgets/controls",
          "model_name": "IntSliderModel",
          "state": {
            "_view_name": "IntSliderView",
            "style": "IPY_MODEL_1889c89c00444abe9f9cd804d939bd95",
            "_dom_classes": [],
            "description": "k",
            "step": 1,
            "_model_name": "IntSliderModel",
            "orientation": "horizontal",
            "max": 15,
            "_view_module": "@jupyter-widgets/controls",
            "_model_module_version": "1.5.0",
            "value": 5,
            "_view_count": null,
            "disabled": false,
            "_view_module_version": "1.5.0",
            "min": -5,
            "continuous_update": true,
            "readout_format": "d",
            "description_tooltip": null,
            "readout": true,
            "_model_module": "@jupyter-widgets/controls",
            "layout": "IPY_MODEL_738253112a104d598bc9e37684a6a827"
          }
        },
        "9fade4b4559d4c619064b13776334fbe": {
          "model_module": "@jupyter-widgets/output",
          "model_name": "OutputModel",
          "state": {
            "_view_name": "OutputView",
            "msg_id": "",
            "_dom_classes": [],
            "_model_name": "OutputModel",
            "outputs": [
              {
                "output_type": "stream",
                "metadata": {
                  "tags": []
                },
                "text": "Expected value via formula is E = np =  5.0\nActual Mean Value is:  4.96\nCalculated P(n=k) using fromula bin_coef*(p**k)*(q**(n-k)) is:  0.24609375\nActual P(n==k) is 0.34\n",
                "stream": "stdout"
              },
              {
                "output_type": "display_data",
                "metadata": {
                  "tags": []
                },
                "image/png": "iVBORw0KGgoAAAANSUhEUgAAAX8AAAD7CAYAAACCEpQdAAAABHNCSVQICAgIfAhkiAAAAAlwSFlz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\nAAAASUVORK5CYII=\n",
                "text/plain": "<Figure size 432x288 with 1 Axes>"
              }
            ],
            "_view_module": "@jupyter-widgets/output",
            "_model_module_version": "1.0.0",
            "_view_count": null,
            "_view_module_version": "1.0.0",
            "layout": "IPY_MODEL_9de2a5a86bb34074ab5cdd6892d20fa7",
            "_model_module": "@jupyter-widgets/output"
          }
        },
        "2af8920d05344fd2bca38e5d2f1ae032": {
          "model_module": "@jupyter-widgets/controls",
          "model_name": "SliderStyleModel",
          "state": {
            "_view_name": "StyleView",
            "handle_color": null,
            "_model_name": "SliderStyleModel",
            "description_width": "",
            "_view_module": "@jupyter-widgets/base",
            "_model_module_version": "1.5.0",
            "_view_count": null,
            "_view_module_version": "1.2.0",
            "_model_module": "@jupyter-widgets/controls"
          }
        },
        "63794284b1a1448b939a097f795e4df1": {
          "model_module": "@jupyter-widgets/base",
          "model_name": "LayoutModel",
          "state": {
            "_view_name": "LayoutView",
            "grid_template_rows": null,
            "right": null,
            "justify_content": null,
            "_view_module": "@jupyter-widgets/base",
            "overflow": null,
            "_model_module_version": "1.2.0",
            "_view_count": null,
            "flex_flow": null,
            "width": null,
            "min_width": null,
            "border": null,
            "align_items": null,
            "bottom": null,
            "_model_module": "@jupyter-widgets/base",
            "top": null,
            "grid_column": null,
            "overflow_y": null,
            "overflow_x": null,
            "grid_auto_flow": null,
            "grid_area": null,
            "grid_template_columns": null,
            "flex": null,
            "_model_name": "LayoutModel",
            "justify_items": null,
            "grid_row": null,
            "max_height": null,
            "align_content": null,
            "visibility": null,
            "align_self": null,
            "height": null,
            "min_height": null,
            "padding": null,
            "grid_auto_rows": null,
            "grid_gap": null,
            "max_width": null,
            "order": null,
            "_view_module_version": "1.2.0",
            "grid_template_areas": null,
            "object_position": null,
            "object_fit": null,
            "grid_auto_columns": null,
            "margin": null,
            "display": null,
            "left": null
          }
        },
        "3f285d38bc36432dbb06b25e840a6ef0": {
          "model_module": "@jupyter-widgets/controls",
          "model_name": "SliderStyleModel",
          "state": {
            "_view_name": "StyleView",
            "handle_color": null,
            "_model_name": "SliderStyleModel",
            "description_width": "",
            "_view_module": "@jupyter-widgets/base",
            "_model_module_version": "1.5.0",
            "_view_count": null,
            "_view_module_version": "1.2.0",
            "_model_module": "@jupyter-widgets/controls"
          }
        },
        "8cd79d701c0d4c679e691a248eae411e": {
          "model_module": "@jupyter-widgets/base",
          "model_name": "LayoutModel",
          "state": {
            "_view_name": "LayoutView",
            "grid_template_rows": null,
            "right": null,
            "justify_content": null,
            "_view_module": "@jupyter-widgets/base",
            "overflow": null,
            "_model_module_version": "1.2.0",
            "_view_count": null,
            "flex_flow": null,
            "width": null,
            "min_width": null,
            "border": null,
            "align_items": null,
            "bottom": null,
            "_model_module": "@jupyter-widgets/base",
            "top": null,
            "grid_column": null,
            "overflow_y": null,
            "overflow_x": null,
            "grid_auto_flow": null,
            "grid_area": null,
            "grid_template_columns": null,
            "flex": null,
            "_model_name": "LayoutModel",
            "justify_items": null,
            "grid_row": null,
            "max_height": null,
            "align_content": null,
            "visibility": null,
            "align_self": null,
            "height": null,
            "min_height": null,
            "padding": null,
            "grid_auto_rows": null,
            "grid_gap": null,
            "max_width": null,
            "order": null,
            "_view_module_version": "1.2.0",
            "grid_template_areas": null,
            "object_position": null,
            "object_fit": null,
            "grid_auto_columns": null,
            "margin": null,
            "display": null,
            "left": null
          }
        },
        "ad74237facec4b82b82dcf6a1b67a5fb": {
          "model_module": "@jupyter-widgets/controls",
          "model_name": "SliderStyleModel",
          "state": {
            "_view_name": "StyleView",
            "handle_color": null,
            "_model_name": "SliderStyleModel",
            "description_width": "",
            "_view_module": "@jupyter-widgets/base",
            "_model_module_version": "1.5.0",
            "_view_count": null,
            "_view_module_version": "1.2.0",
            "_model_module": "@jupyter-widgets/controls"
          }
        },
        "374a547fdda54adb9362e2a9612d3f28": {
          "model_module": "@jupyter-widgets/base",
          "model_name": "LayoutModel",
          "state": {
            "_view_name": "LayoutView",
            "grid_template_rows": null,
            "right": null,
            "justify_content": null,
            "_view_module": "@jupyter-widgets/base",
            "overflow": null,
            "_model_module_version": "1.2.0",
            "_view_count": null,
            "flex_flow": null,
            "width": null,
            "min_width": null,
            "border": null,
            "align_items": null,
            "bottom": null,
            "_model_module": "@jupyter-widgets/base",
            "top": null,
            "grid_column": null,
            "overflow_y": null,
            "overflow_x": null,
            "grid_auto_flow": null,
            "grid_area": null,
            "grid_template_columns": null,
            "flex": null,
            "_model_name": "LayoutModel",
            "justify_items": null,
            "grid_row": null,
            "max_height": null,
            "align_content": null,
            "visibility": null,
            "align_self": null,
            "height": null,
            "min_height": null,
            "padding": null,
            "grid_auto_rows": null,
            "grid_gap": null,
            "max_width": null,
            "order": null,
            "_view_module_version": "1.2.0",
            "grid_template_areas": null,
            "object_position": null,
            "object_fit": null,
            "grid_auto_columns": null,
            "margin": null,
            "display": null,
            "left": null
          }
        },
        "1889c89c00444abe9f9cd804d939bd95": {
          "model_module": "@jupyter-widgets/controls",
          "model_name": "SliderStyleModel",
          "state": {
            "_view_name": "StyleView",
            "handle_color": null,
            "_model_name": "SliderStyleModel",
            "description_width": "",
            "_view_module": "@jupyter-widgets/base",
            "_model_module_version": "1.5.0",
            "_view_count": null,
            "_view_module_version": "1.2.0",
            "_model_module": "@jupyter-widgets/controls"
          }
        },
        "738253112a104d598bc9e37684a6a827": {
          "model_module": "@jupyter-widgets/base",
          "model_name": "LayoutModel",
          "state": {
            "_view_name": "LayoutView",
            "grid_template_rows": null,
            "right": null,
            "justify_content": null,
            "_view_module": "@jupyter-widgets/base",
            "overflow": null,
            "_model_module_version": "1.2.0",
            "_view_count": null,
            "flex_flow": null,
            "width": null,
            "min_width": null,
            "border": null,
            "align_items": null,
            "bottom": null,
            "_model_module": "@jupyter-widgets/base",
            "top": null,
            "grid_column": null,
            "overflow_y": null,
            "overflow_x": null,
            "grid_auto_flow": null,
            "grid_area": null,
            "grid_template_columns": null,
            "flex": null,
            "_model_name": "LayoutModel",
            "justify_items": null,
            "grid_row": null,
            "max_height": null,
            "align_content": null,
            "visibility": null,
            "align_self": null,
            "height": null,
            "min_height": null,
            "padding": null,
            "grid_auto_rows": null,
            "grid_gap": null,
            "max_width": null,
            "order": null,
            "_view_module_version": "1.2.0",
            "grid_template_areas": null,
            "object_position": null,
            "object_fit": null,
            "grid_auto_columns": null,
            "margin": null,
            "display": null,
            "left": null
          }
        },
        "9de2a5a86bb34074ab5cdd6892d20fa7": {
          "model_module": "@jupyter-widgets/base",
          "model_name": "LayoutModel",
          "state": {
            "_view_name": "LayoutView",
            "grid_template_rows": null,
            "right": null,
            "justify_content": null,
            "_view_module": "@jupyter-widgets/base",
            "overflow": null,
            "_model_module_version": "1.2.0",
            "_view_count": null,
            "flex_flow": null,
            "width": null,
            "min_width": null,
            "border": null,
            "align_items": null,
            "bottom": null,
            "_model_module": "@jupyter-widgets/base",
            "top": null,
            "grid_column": null,
            "overflow_y": null,
            "overflow_x": null,
            "grid_auto_flow": null,
            "grid_area": null,
            "grid_template_columns": null,
            "flex": null,
            "_model_name": "LayoutModel",
            "justify_items": null,
            "grid_row": null,
            "max_height": null,
            "align_content": null,
            "visibility": null,
            "align_self": null,
            "height": null,
            "min_height": null,
            "padding": null,
            "grid_auto_rows": null,
            "grid_gap": null,
            "max_width": null,
            "order": null,
            "_view_module_version": "1.2.0",
            "grid_template_areas": null,
            "object_position": null,
            "object_fit": null,
            "grid_auto_columns": null,
            "margin": null,
            "display": null,
            "left": null
          }
        },
        "d967402877e54a5fa32fa28dd544458e": {
          "model_module": "@jupyter-widgets/controls",
          "model_name": "VBoxModel",
          "state": {
            "_view_name": "VBoxView",
            "_dom_classes": [
              "widget-interact"
            ],
            "_model_name": "VBoxModel",
            "_view_module": "@jupyter-widgets/controls",
            "_model_module_version": "1.5.0",
            "_view_count": null,
            "_view_module_version": "1.5.0",
            "box_style": "",
            "layout": "IPY_MODEL_2dd66bc770cf46c7a99045ad7f178619",
            "_model_module": "@jupyter-widgets/controls",
            "children": [
              "IPY_MODEL_d9d05e1d30664251917fe6152e5fce79",
              "IPY_MODEL_74ba492f03d8433fb742190416d03980",
              "IPY_MODEL_12796baf8d0d4abe9bc7c12cc331e43f",
              "IPY_MODEL_fe016bff0434477e8ba7e0ea27cf6567",
              "IPY_MODEL_2b0ae9fedf894fc382a28c7942407ab6",
              "IPY_MODEL_d121bbe7975845a1bfbf58f41d18dcc8",
              "IPY_MODEL_eead6adf753e47e0bbc0f5c83e6494a5"
            ]
          }
        },
        "2dd66bc770cf46c7a99045ad7f178619": {
          "model_module": "@jupyter-widgets/base",
          "model_name": "LayoutModel",
          "state": {
            "_view_name": "LayoutView",
            "grid_template_rows": null,
            "right": null,
            "justify_content": null,
            "_view_module": "@jupyter-widgets/base",
            "overflow": null,
            "_model_module_version": "1.2.0",
            "_view_count": null,
            "flex_flow": null,
            "width": null,
            "min_width": null,
            "border": null,
            "align_items": null,
            "bottom": null,
            "_model_module": "@jupyter-widgets/base",
            "top": null,
            "grid_column": null,
            "overflow_y": null,
            "overflow_x": null,
            "grid_auto_flow": null,
            "grid_area": null,
            "grid_template_columns": null,
            "flex": null,
            "_model_name": "LayoutModel",
            "justify_items": null,
            "grid_row": null,
            "max_height": null,
            "align_content": null,
            "visibility": null,
            "align_self": null,
            "height": null,
            "min_height": null,
            "padding": null,
            "grid_auto_rows": null,
            "grid_gap": null,
            "max_width": null,
            "order": null,
            "_view_module_version": "1.2.0",
            "grid_template_areas": null,
            "object_position": null,
            "object_fit": null,
            "grid_auto_columns": null,
            "margin": null,
            "display": null,
            "left": null
          }
        },
        "d9d05e1d30664251917fe6152e5fce79": {
          "model_module": "@jupyter-widgets/controls",
          "model_name": "IntSliderModel",
          "state": {
            "_view_name": "IntSliderView",
            "style": "IPY_MODEL_d71cfc6f39d8485cb28cd6ac0c136f26",
            "_dom_classes": [],
            "description": "n_employees",
            "step": 1,
            "_model_name": "IntSliderModel",
            "orientation": "horizontal",
            "max": 300,
            "_view_module": "@jupyter-widgets/controls",
            "_model_module_version": "1.5.0",
            "value": 100,
            "_view_count": null,
            "disabled": false,
            "_view_module_version": "1.5.0",
            "min": -100,
            "continuous_update": true,
            "readout_format": "d",
            "description_tooltip": null,
            "readout": true,
            "_model_module": "@jupyter-widgets/controls",
            "layout": "IPY_MODEL_7edda26c93eb4b3b88a2ca9519030489"
          }
        },
        "74ba492f03d8433fb742190416d03980": {
          "model_module": "@jupyter-widgets/controls",
          "model_name": "IntSliderModel",
          "state": {
            "_view_name": "IntSliderView",
            "style": "IPY_MODEL_8d396a8153ef490ab6462d89fb88dd69",
            "_dom_classes": [],
            "description": "wage",
            "step": 1,
            "_model_name": "IntSliderModel",
            "orientation": "horizontal",
            "max": 600,
            "_view_module": "@jupyter-widgets/controls",
            "_model_module_version": "1.5.0",
            "value": 200,
            "_view_count": null,
            "disabled": false,
            "_view_module_version": "1.5.0",
            "min": -200,
            "continuous_update": true,
            "readout_format": "d",
            "description_tooltip": null,
            "readout": true,
            "_model_module": "@jupyter-widgets/controls",
            "layout": "IPY_MODEL_1a98bd2d4aa94b9f9dea285eb01dee81"
          }
        },
        "12796baf8d0d4abe9bc7c12cc331e43f": {
          "model_module": "@jupyter-widgets/controls",
          "model_name": "IntSliderModel",
          "state": {
            "_view_name": "IntSliderView",
            "style": "IPY_MODEL_652c173b972448f99fce05bb5ff98a5a",
            "_dom_classes": [],
            "description": "num_of_calls",
            "step": 1,
            "_model_name": "IntSliderModel",
            "orientation": "horizontal",
            "max": 150,
            "_view_module": "@jupyter-widgets/controls",
            "_model_module_version": "1.5.0",
            "value": 55,
            "_view_count": null,
            "disabled": false,
            "_view_module_version": "1.5.0",
            "min": -50,
            "continuous_update": true,
            "readout_format": "d",
            "description_tooltip": null,
            "readout": true,
            "_model_module": "@jupyter-widgets/controls",
            "layout": "IPY_MODEL_7d349084976c42a1a04371bfcf6ebb2a"
          }
        },
        "fe016bff0434477e8ba7e0ea27cf6567": {
          "model_module": "@jupyter-widgets/controls",
          "model_name": "FloatSliderModel",
          "state": {
            "_view_name": "FloatSliderView",
            "style": "IPY_MODEL_8791e1db563c410b856781f811d167c6",
            "_dom_classes": [],
            "description": "p",
            "step": 0.01,
            "_model_name": "FloatSliderModel",
            "orientation": "horizontal",
            "max": 0.1,
            "_view_module": "@jupyter-widgets/controls",
            "_model_module_version": "1.5.0",
            "value": 0.04,
            "_view_count": null,
            "disabled": false,
            "_view_module_version": "1.5.0",
            "min": 0,
            "continuous_update": true,
            "readout_format": ".2f",
            "description_tooltip": null,
            "readout": true,
            "_model_module": "@jupyter-widgets/controls",
            "layout": "IPY_MODEL_60a3d5bc2a7b46018b9f2af17b55f8a7"
          }
        },
        "2b0ae9fedf894fc382a28c7942407ab6": {
          "model_module": "@jupyter-widgets/controls",
          "model_name": "IntSliderModel",
          "state": {
            "_view_name": "IntSliderView",
            "style": "IPY_MODEL_f2459ac3448a4a248f8d65615861deb4",
            "_dom_classes": [],
            "description": "revenue",
            "step": 1,
            "_model_name": "IntSliderModel",
            "orientation": "horizontal",
            "max": 300,
            "_view_module": "@jupyter-widgets/controls",
            "_model_module_version": "1.5.0",
            "value": 100,
            "_view_count": null,
            "disabled": false,
            "_view_module_version": "1.5.0",
            "min": -100,
            "continuous_update": true,
            "readout_format": "d",
            "description_tooltip": null,
            "readout": true,
            "_model_module": "@jupyter-widgets/controls",
            "layout": "IPY_MODEL_0db6db0a96e643a6aa1bea42eebf27a6"
          }
        },
        "d121bbe7975845a1bfbf58f41d18dcc8": {
          "model_module": "@jupyter-widgets/controls",
          "model_name": "IntSliderModel",
          "state": {
            "_view_name": "IntSliderView",
            "style": "IPY_MODEL_41f2991fa94e41b3ba8bae4182fb5d95",
            "_dom_classes": [],
            "description": "sims",
            "step": 1,
            "_model_name": "IntSliderModel",
            "orientation": "horizontal",
            "max": 3000,
            "_view_module": "@jupyter-widgets/controls",
            "_model_module_version": "1.5.0",
            "value": 1000,
            "_view_count": null,
            "disabled": false,
            "_view_module_version": "1.5.0",
            "min": -1000,
            "continuous_update": true,
            "readout_format": "d",
            "description_tooltip": null,
            "readout": true,
            "_model_module": "@jupyter-widgets/controls",
            "layout": "IPY_MODEL_1703146e3ba14c5db28ff3bc092a3f90"
          }
        },
        "eead6adf753e47e0bbc0f5c83e6494a5": {
          "model_module": "@jupyter-widgets/output",
          "model_name": "OutputModel",
          "state": {
            "_view_name": "OutputView",
            "msg_id": "",
            "_dom_classes": [],
            "_model_name": "OutputModel",
            "outputs": [
              {
                "output_type": "display_data",
                "metadata": {
                  "tags": []
                },
                "image/png": "iVBORw0KGgoAAAANSUhEUgAAA2UAAAGxCAYAAADiRh5DAAAABHNCSVQICAgIfAhkiAAAAAlwSFlz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\nhVSUiYiIiIiIWEhFmYiIiIiIiIX+H6xZG8EVRcTrAAAAAElFTkSuQmCC\n",
                "text/plain": "<Figure size 1008x504 with 1 Axes>"
              }
            ],
            "_view_module": "@jupyter-widgets/output",
            "_model_module_version": "1.0.0",
            "_view_count": null,
            "_view_module_version": "1.0.0",
            "layout": "IPY_MODEL_0185cab83fdd4e97bd96a39172379947",
            "_model_module": "@jupyter-widgets/output"
          }
        },
        "d71cfc6f39d8485cb28cd6ac0c136f26": {
          "model_module": "@jupyter-widgets/controls",
          "model_name": "SliderStyleModel",
          "state": {
            "_view_name": "StyleView",
            "handle_color": null,
            "_model_name": "SliderStyleModel",
            "description_width": "",
            "_view_module": "@jupyter-widgets/base",
            "_model_module_version": "1.5.0",
            "_view_count": null,
            "_view_module_version": "1.2.0",
            "_model_module": "@jupyter-widgets/controls"
          }
        },
        "7edda26c93eb4b3b88a2ca9519030489": {
          "model_module": "@jupyter-widgets/base",
          "model_name": "LayoutModel",
          "state": {
            "_view_name": "LayoutView",
            "grid_template_rows": null,
            "right": null,
            "justify_content": null,
            "_view_module": "@jupyter-widgets/base",
            "overflow": null,
            "_model_module_version": "1.2.0",
            "_view_count": null,
            "flex_flow": null,
            "width": null,
            "min_width": null,
            "border": null,
            "align_items": null,
            "bottom": null,
            "_model_module": "@jupyter-widgets/base",
            "top": null,
            "grid_column": null,
            "overflow_y": null,
            "overflow_x": null,
            "grid_auto_flow": null,
            "grid_area": null,
            "grid_template_columns": null,
            "flex": null,
            "_model_name": "LayoutModel",
            "justify_items": null,
            "grid_row": null,
            "max_height": null,
            "align_content": null,
            "visibility": null,
            "align_self": null,
            "height": null,
            "min_height": null,
            "padding": null,
            "grid_auto_rows": null,
            "grid_gap": null,
            "max_width": null,
            "order": null,
            "_view_module_version": "1.2.0",
            "grid_template_areas": null,
            "object_position": null,
            "object_fit": null,
            "grid_auto_columns": null,
            "margin": null,
            "display": null,
            "left": null
          }
        },
        "8d396a8153ef490ab6462d89fb88dd69": {
          "model_module": "@jupyter-widgets/controls",
          "model_name": "SliderStyleModel",
          "state": {
            "_view_name": "StyleView",
            "handle_color": null,
            "_model_name": "SliderStyleModel",
            "description_width": "",
            "_view_module": "@jupyter-widgets/base",
            "_model_module_version": "1.5.0",
            "_view_count": null,
            "_view_module_version": "1.2.0",
            "_model_module": "@jupyter-widgets/controls"
          }
        },
        "1a98bd2d4aa94b9f9dea285eb01dee81": {
          "model_module": "@jupyter-widgets/base",
          "model_name": "LayoutModel",
          "state": {
            "_view_name": "LayoutView",
            "grid_template_rows": null,
            "right": null,
            "justify_content": null,
            "_view_module": "@jupyter-widgets/base",
            "overflow": null,
            "_model_module_version": "1.2.0",
            "_view_count": null,
            "flex_flow": null,
            "width": null,
            "min_width": null,
            "border": null,
            "align_items": null,
            "bottom": null,
            "_model_module": "@jupyter-widgets/base",
            "top": null,
            "grid_column": null,
            "overflow_y": null,
            "overflow_x": null,
            "grid_auto_flow": null,
            "grid_area": null,
            "grid_template_columns": null,
            "flex": null,
            "_model_name": "LayoutModel",
            "justify_items": null,
            "grid_row": null,
            "max_height": null,
            "align_content": null,
            "visibility": null,
            "align_self": null,
            "height": null,
            "min_height": null,
            "padding": null,
            "grid_auto_rows": null,
            "grid_gap": null,
            "max_width": null,
            "order": null,
            "_view_module_version": "1.2.0",
            "grid_template_areas": null,
            "object_position": null,
            "object_fit": null,
            "grid_auto_columns": null,
            "margin": null,
            "display": null,
            "left": null
          }
        },
        "652c173b972448f99fce05bb5ff98a5a": {
          "model_module": "@jupyter-widgets/controls",
          "model_name": "SliderStyleModel",
          "state": {
            "_view_name": "StyleView",
            "handle_color": null,
            "_model_name": "SliderStyleModel",
            "description_width": "",
            "_view_module": "@jupyter-widgets/base",
            "_model_module_version": "1.5.0",
            "_view_count": null,
            "_view_module_version": "1.2.0",
            "_model_module": "@jupyter-widgets/controls"
          }
        },
        "7d349084976c42a1a04371bfcf6ebb2a": {
          "model_module": "@jupyter-widgets/base",
          "model_name": "LayoutModel",
          "state": {
            "_view_name": "LayoutView",
            "grid_template_rows": null,
            "right": null,
            "justify_content": null,
            "_view_module": "@jupyter-widgets/base",
            "overflow": null,
            "_model_module_version": "1.2.0",
            "_view_count": null,
            "flex_flow": null,
            "width": null,
            "min_width": null,
            "border": null,
            "align_items": null,
            "bottom": null,
            "_model_module": "@jupyter-widgets/base",
            "top": null,
            "grid_column": null,
            "overflow_y": null,
            "overflow_x": null,
            "grid_auto_flow": null,
            "grid_area": null,
            "grid_template_columns": null,
            "flex": null,
            "_model_name": "LayoutModel",
            "justify_items": null,
            "grid_row": null,
            "max_height": null,
            "align_content": null,
            "visibility": null,
            "align_self": null,
            "height": null,
            "min_height": null,
            "padding": null,
            "grid_auto_rows": null,
            "grid_gap": null,
            "max_width": null,
            "order": null,
            "_view_module_version": "1.2.0",
            "grid_template_areas": null,
            "object_position": null,
            "object_fit": null,
            "grid_auto_columns": null,
            "margin": null,
            "display": null,
            "left": null
          }
        },
        "8791e1db563c410b856781f811d167c6": {
          "model_module": "@jupyter-widgets/controls",
          "model_name": "SliderStyleModel",
          "state": {
            "_view_name": "StyleView",
            "handle_color": null,
            "_model_name": "SliderStyleModel",
            "description_width": "",
            "_view_module": "@jupyter-widgets/base",
            "_model_module_version": "1.5.0",
            "_view_count": null,
            "_view_module_version": "1.2.0",
            "_model_module": "@jupyter-widgets/controls"
          }
        },
        "60a3d5bc2a7b46018b9f2af17b55f8a7": {
          "model_module": "@jupyter-widgets/base",
          "model_name": "LayoutModel",
          "state": {
            "_view_name": "LayoutView",
            "grid_template_rows": null,
            "right": null,
            "justify_content": null,
            "_view_module": "@jupyter-widgets/base",
            "overflow": null,
            "_model_module_version": "1.2.0",
            "_view_count": null,
            "flex_flow": null,
            "width": null,
            "min_width": null,
            "border": null,
            "align_items": null,
            "bottom": null,
            "_model_module": "@jupyter-widgets/base",
            "top": null,
            "grid_column": null,
            "overflow_y": null,
            "overflow_x": null,
            "grid_auto_flow": null,
            "grid_area": null,
            "grid_template_columns": null,
            "flex": null,
            "_model_name": "LayoutModel",
            "justify_items": null,
            "grid_row": null,
            "max_height": null,
            "align_content": null,
            "visibility": null,
            "align_self": null,
            "height": null,
            "min_height": null,
            "padding": null,
            "grid_auto_rows": null,
            "grid_gap": null,
            "max_width": null,
            "order": null,
            "_view_module_version": "1.2.0",
            "grid_template_areas": null,
            "object_position": null,
            "object_fit": null,
            "grid_auto_columns": null,
            "margin": null,
            "display": null,
            "left": null
          }
        },
        "f2459ac3448a4a248f8d65615861deb4": {
          "model_module": "@jupyter-widgets/controls",
          "model_name": "SliderStyleModel",
          "state": {
            "_view_name": "StyleView",
            "handle_color": null,
            "_model_name": "SliderStyleModel",
            "description_width": "",
            "_view_module": "@jupyter-widgets/base",
            "_model_module_version": "1.5.0",
            "_view_count": null,
            "_view_module_version": "1.2.0",
            "_model_module": "@jupyter-widgets/controls"
          }
        },
        "0db6db0a96e643a6aa1bea42eebf27a6": {
          "model_module": "@jupyter-widgets/base",
          "model_name": "LayoutModel",
          "state": {
            "_view_name": "LayoutView",
            "grid_template_rows": null,
            "right": null,
            "justify_content": null,
            "_view_module": "@jupyter-widgets/base",
            "overflow": null,
            "_model_module_version": "1.2.0",
            "_view_count": null,
            "flex_flow": null,
            "width": null,
            "min_width": null,
            "border": null,
            "align_items": null,
            "bottom": null,
            "_model_module": "@jupyter-widgets/base",
            "top": null,
            "grid_column": null,
            "overflow_y": null,
            "overflow_x": null,
            "grid_auto_flow": null,
            "grid_area": null,
            "grid_template_columns": null,
            "flex": null,
            "_model_name": "LayoutModel",
            "justify_items": null,
            "grid_row": null,
            "max_height": null,
            "align_content": null,
            "visibility": null,
            "align_self": null,
            "height": null,
            "min_height": null,
            "padding": null,
            "grid_auto_rows": null,
            "grid_gap": null,
            "max_width": null,
            "order": null,
            "_view_module_version": "1.2.0",
            "grid_template_areas": null,
            "object_position": null,
            "object_fit": null,
            "grid_auto_columns": null,
            "margin": null,
            "display": null,
            "left": null
          }
        },
        "41f2991fa94e41b3ba8bae4182fb5d95": {
          "model_module": "@jupyter-widgets/controls",
          "model_name": "SliderStyleModel",
          "state": {
            "_view_name": "StyleView",
            "handle_color": null,
            "_model_name": "SliderStyleModel",
            "description_width": "",
            "_view_module": "@jupyter-widgets/base",
            "_model_module_version": "1.5.0",
            "_view_count": null,
            "_view_module_version": "1.2.0",
            "_model_module": "@jupyter-widgets/controls"
          }
        },
        "1703146e3ba14c5db28ff3bc092a3f90": {
          "model_module": "@jupyter-widgets/base",
          "model_name": "LayoutModel",
          "state": {
            "_view_name": "LayoutView",
            "grid_template_rows": null,
            "right": null,
            "justify_content": null,
            "_view_module": "@jupyter-widgets/base",
            "overflow": null,
            "_model_module_version": "1.2.0",
            "_view_count": null,
            "flex_flow": null,
            "width": null,
            "min_width": null,
            "border": null,
            "align_items": null,
            "bottom": null,
            "_model_module": "@jupyter-widgets/base",
            "top": null,
            "grid_column": null,
            "overflow_y": null,
            "overflow_x": null,
            "grid_auto_flow": null,
            "grid_area": null,
            "grid_template_columns": null,
            "flex": null,
            "_model_name": "LayoutModel",
            "justify_items": null,
            "grid_row": null,
            "max_height": null,
            "align_content": null,
            "visibility": null,
            "align_self": null,
            "height": null,
            "min_height": null,
            "padding": null,
            "grid_auto_rows": null,
            "grid_gap": null,
            "max_width": null,
            "order": null,
            "_view_module_version": "1.2.0",
            "grid_template_areas": null,
            "object_position": null,
            "object_fit": null,
            "grid_auto_columns": null,
            "margin": null,
            "display": null,
            "left": null
          }
        },
        "0185cab83fdd4e97bd96a39172379947": {
          "model_module": "@jupyter-widgets/base",
          "model_name": "LayoutModel",
          "state": {
            "_view_name": "LayoutView",
            "grid_template_rows": null,
            "right": null,
            "justify_content": null,
            "_view_module": "@jupyter-widgets/base",
            "overflow": null,
            "_model_module_version": "1.2.0",
            "_view_count": null,
            "flex_flow": null,
            "width": null,
            "min_width": null,
            "border": null,
            "align_items": null,
            "bottom": null,
            "_model_module": "@jupyter-widgets/base",
            "top": null,
            "grid_column": null,
            "overflow_y": null,
            "overflow_x": null,
            "grid_auto_flow": null,
            "grid_area": null,
            "grid_template_columns": null,
            "flex": null,
            "_model_name": "LayoutModel",
            "justify_items": null,
            "grid_row": null,
            "max_height": null,
            "align_content": null,
            "visibility": null,
            "align_self": null,
            "height": null,
            "min_height": null,
            "padding": null,
            "grid_auto_rows": null,
            "grid_gap": null,
            "max_width": null,
            "order": null,
            "_view_module_version": "1.2.0",
            "grid_template_areas": null,
            "object_position": null,
            "object_fit": null,
            "grid_auto_columns": null,
            "margin": null,
            "display": null,
            "left": null
          }
        }
      }
    }
  },
  "cells": [
    {
      "cell_type": "markdown",
      "metadata": {
        "id": "view-in-github",
        "colab_type": "text"
      },
      "source": [
        "<a href=\"https://colab.research.google.com/github/artemkurylev/Interactive-Statistics-Notebooks/blob/master/Binomial_distribution.ipynb\" target=\"_parent\"><img src=\"https://colab.research.google.com/assets/colab-badge.svg\" alt=\"Open In Colab\"/></a>"
      ]
    },
    {
      "cell_type": "markdown",
      "metadata": {
        "id": "AtvwcDJlqzkn",
        "colab_type": "text"
      },
      "source": [
        "# Bernoulli and Binomial distribution"
      ]
    },
    {
      "cell_type": "markdown",
      "metadata": {
        "id": "q5XnPEsm0phq",
        "colab_type": "text"
      },
      "source": [
        "## Instalation Staff\n",
        "\n"
      ]
    },
    {
      "cell_type": "code",
      "metadata": {
        "id": "KD93l23M1ggr",
        "colab_type": "code",
        "collapsed": true,
        "outputId": "f1a17c8b-2569-45fd-9639-a62db4c6d5cb",
        "colab": {
          "base_uri": "https://localhost:8080/",
          "height": 658
        }
      },
      "source": [
        "! pip install ipywidgets\n",
        "! jupyter nbextension enable --py widgetsnbextension\n",
        "\n",
        "import ipywidgets as widgets\n",
        "from ipywidgets import interact, interact_manual"
      ],
      "execution_count": 1,
      "outputs": [
        {
          "output_type": "stream",
          "text": [
            "Requirement already satisfied: ipywidgets in /usr/local/lib/python3.6/dist-packages (7.5.1)\n",
            "Requirement already satisfied: ipykernel>=4.5.1 in /usr/local/lib/python3.6/dist-packages (from ipywidgets) (4.6.1)\n",
            "Requirement already satisfied: ipython>=4.0.0; python_version >= \"3.3\" in /usr/local/lib/python3.6/dist-packages (from ipywidgets) (5.5.0)\n",
            "Requirement already satisfied: widgetsnbextension~=3.5.0 in /usr/local/lib/python3.6/dist-packages (from ipywidgets) (3.5.1)\n",
            "Requirement already satisfied: traitlets>=4.3.1 in /usr/local/lib/python3.6/dist-packages (from ipywidgets) (4.3.3)\n",
            "Requirement already satisfied: nbformat>=4.2.0 in /usr/local/lib/python3.6/dist-packages (from ipywidgets) (5.0.5)\n",
            "Requirement already satisfied: tornado>=4.0 in /usr/local/lib/python3.6/dist-packages (from ipykernel>=4.5.1->ipywidgets) (4.5.3)\n",
            "Requirement already satisfied: jupyter-client in /usr/local/lib/python3.6/dist-packages (from ipykernel>=4.5.1->ipywidgets) (5.3.4)\n",
            "Requirement already satisfied: simplegeneric>0.8 in /usr/local/lib/python3.6/dist-packages (from ipython>=4.0.0; python_version >= \"3.3\"->ipywidgets) (0.8.1)\n",
            "Requirement already satisfied: setuptools>=18.5 in /usr/local/lib/python3.6/dist-packages (from ipython>=4.0.0; python_version >= \"3.3\"->ipywidgets) (46.1.3)\n",
            "Requirement already satisfied: pickleshare in /usr/local/lib/python3.6/dist-packages (from ipython>=4.0.0; python_version >= \"3.3\"->ipywidgets) (0.7.5)\n",
            "Requirement already satisfied: prompt-toolkit<2.0.0,>=1.0.4 in /usr/local/lib/python3.6/dist-packages (from ipython>=4.0.0; python_version >= \"3.3\"->ipywidgets) (1.0.18)\n",
            "Requirement already satisfied: pexpect; sys_platform != \"win32\" in /usr/local/lib/python3.6/dist-packages (from ipython>=4.0.0; python_version >= \"3.3\"->ipywidgets) (4.8.0)\n",
            "Requirement already satisfied: pygments in /usr/local/lib/python3.6/dist-packages (from ipython>=4.0.0; python_version >= \"3.3\"->ipywidgets) (2.1.3)\n",
            "Requirement already satisfied: decorator in /usr/local/lib/python3.6/dist-packages (from ipython>=4.0.0; python_version >= \"3.3\"->ipywidgets) (4.4.2)\n",
            "Requirement already satisfied: notebook>=4.4.1 in /usr/local/lib/python3.6/dist-packages (from widgetsnbextension~=3.5.0->ipywidgets) (5.2.2)\n",
            "Requirement already satisfied: ipython-genutils in /usr/local/lib/python3.6/dist-packages (from traitlets>=4.3.1->ipywidgets) (0.2.0)\n",
            "Requirement already satisfied: six in /usr/local/lib/python3.6/dist-packages (from traitlets>=4.3.1->ipywidgets) (1.12.0)\n",
            "Requirement already satisfied: jsonschema!=2.5.0,>=2.4 in /usr/local/lib/python3.6/dist-packages (from nbformat>=4.2.0->ipywidgets) (2.6.0)\n",
            "Requirement already satisfied: jupyter-core in /usr/local/lib/python3.6/dist-packages (from nbformat>=4.2.0->ipywidgets) (4.6.3)\n",
            "Requirement already satisfied: python-dateutil>=2.1 in /usr/local/lib/python3.6/dist-packages (from jupyter-client->ipykernel>=4.5.1->ipywidgets) (2.8.1)\n",
            "Requirement already satisfied: pyzmq>=13 in /usr/local/lib/python3.6/dist-packages (from jupyter-client->ipykernel>=4.5.1->ipywidgets) (17.0.0)\n",
            "Requirement already satisfied: wcwidth in /usr/local/lib/python3.6/dist-packages (from prompt-toolkit<2.0.0,>=1.0.4->ipython>=4.0.0; python_version >= \"3.3\"->ipywidgets) (0.1.9)\n",
            "Requirement already satisfied: ptyprocess>=0.5 in /usr/local/lib/python3.6/dist-packages (from pexpect; sys_platform != \"win32\"->ipython>=4.0.0; python_version >= \"3.3\"->ipywidgets) (0.6.0)\n",
            "Requirement already satisfied: jinja2 in /usr/local/lib/python3.6/dist-packages (from notebook>=4.4.1->widgetsnbextension~=3.5.0->ipywidgets) (2.11.1)\n",
            "Requirement already satisfied: nbconvert in /usr/local/lib/python3.6/dist-packages (from notebook>=4.4.1->widgetsnbextension~=3.5.0->ipywidgets) (5.6.1)\n",
            "Requirement already satisfied: terminado>=0.3.3; sys_platform != \"win32\" in /usr/local/lib/python3.6/dist-packages (from notebook>=4.4.1->widgetsnbextension~=3.5.0->ipywidgets) (0.8.3)\n",
            "Requirement already satisfied: MarkupSafe>=0.23 in /usr/local/lib/python3.6/dist-packages (from jinja2->notebook>=4.4.1->widgetsnbextension~=3.5.0->ipywidgets) (1.1.1)\n",
            "Requirement already satisfied: defusedxml in /usr/local/lib/python3.6/dist-packages (from nbconvert->notebook>=4.4.1->widgetsnbextension~=3.5.0->ipywidgets) (0.6.0)\n",
            "Requirement already satisfied: entrypoints>=0.2.2 in /usr/local/lib/python3.6/dist-packages (from nbconvert->notebook>=4.4.1->widgetsnbextension~=3.5.0->ipywidgets) (0.3)\n",
            "Requirement already satisfied: testpath in /usr/local/lib/python3.6/dist-packages (from nbconvert->notebook>=4.4.1->widgetsnbextension~=3.5.0->ipywidgets) (0.4.4)\n",
            "Requirement already satisfied: pandocfilters>=1.4.1 in /usr/local/lib/python3.6/dist-packages (from nbconvert->notebook>=4.4.1->widgetsnbextension~=3.5.0->ipywidgets) (1.4.2)\n",
            "Requirement already satisfied: bleach in /usr/local/lib/python3.6/dist-packages (from nbconvert->notebook>=4.4.1->widgetsnbextension~=3.5.0->ipywidgets) (3.1.4)\n",
            "Requirement already satisfied: mistune<2,>=0.8.1 in /usr/local/lib/python3.6/dist-packages (from nbconvert->notebook>=4.4.1->widgetsnbextension~=3.5.0->ipywidgets) (0.8.4)\n",
            "Requirement already satisfied: webencodings in /usr/local/lib/python3.6/dist-packages (from bleach->nbconvert->notebook>=4.4.1->widgetsnbextension~=3.5.0->ipywidgets) (0.5.1)\n",
            "Enabling notebook extension jupyter-js-widgets/extension...\n",
            "      - Validating: \u001b[32mOK\u001b[0m\n"
          ],
          "name": "stdout"
        }
      ]
    },
    {
      "cell_type": "markdown",
      "metadata": {
        "id": "CdLByacoxqBU",
        "colab_type": "text"
      },
      "source": [
        "## Intro\n",
        "\n",
        "- We are going to consider Bernoulli and Binomial distribution and their properties etc.\n",
        "- Expected outcome: Understanding of bernoulli and binomial distributions and their properties\n"
      ]
    },
    {
      "cell_type": "markdown",
      "metadata": {
        "id": "zyk3F_eGZdFA",
        "colab_type": "text"
      },
      "source": [
        "#### I use syntheized data both for bernouilli and binomial distributions, it is easier to explore them with differenet parameters.\n"
      ]
    },
    {
      "cell_type": "code",
      "metadata": {
        "id": "VB2bb--Tc2A9",
        "colab_type": "code",
        "outputId": "34dd907a-ebdc-4ded-bc63-0194d71f0387",
        "colab": {
          "base_uri": "https://localhost:8080/",
          "height": 70
        }
      },
      "source": [
        "import numpy as np\n",
        "import seaborn as sns\n",
        "import itertools\n",
        "from scipy.stats import bernoulli\n",
        "import matplotlib.pyplot as plt\n",
        "sns.set(color_codes=True)"
      ],
      "execution_count": 2,
      "outputs": [
        {
          "output_type": "stream",
          "text": [
            "/usr/local/lib/python3.6/dist-packages/statsmodels/tools/_testing.py:19: FutureWarning: pandas.util.testing is deprecated. Use the functions in the public API at pandas.testing instead.\n",
            "  import pandas.util.testing as tm\n"
          ],
          "name": "stderr"
        }
      ]
    },
    {
      "cell_type": "markdown",
      "metadata": {
        "id": "Wig6E19dkCBs",
        "colab_type": "text"
      },
      "source": [
        "---\n",
        "### Bernoilli distribution\n"
      ]
    },
    {
      "cell_type": "code",
      "metadata": {
        "id": "PqJFvoznFPPo",
        "colab_type": "code",
        "outputId": "503c3cd6-0358-452a-fe17-3b90a6236f7f",
        "colab": {
          "base_uri": "https://localhost:8080/",
          "height": 399,
          "referenced_widgets": [
            "40c7f08d116c4848b64638109c6bbdcf",
            "d3ee8433882c471a8e9c953067980089",
            "6fce18f2747a4257bbe9f03926ea8661",
            "6ca7f16ce1d94a72b5c64b00759c08b2",
            "7172c46eae8e4f6e97074179bf086360",
            "11222b5d9f324fceb56caf4a5e939bfb",
            "842ed3621921479494972b54cbd7af8c",
            "5cc250651bf4471d884578a70c3ac677",
            "34342b4170f94cd3be60149fedbd4317",
            "0e724e7d37834c4e9a6ba7f25b6d039d"
          ]
        }
      },
      "source": [
        "@interact(p= (0,1.0,0.05))\n",
        "def bernoulli_dist(p = 0.5, size=100):\n",
        "  bern_data = bernoulli.rvs(p,size=size)\n",
        "  sns.distplot(bern_data);\n",
        "  print('Calculated mean = p:', p)\n",
        "  print('Actual mean is:', np.mean(bern_data))\n",
        "  print('Calculated variance is:', p*(1-p))\n",
        "  print('Actual variance is:', np.mean(np.square(bern_data)) - np.mean(bern_data)**2)"
      ],
      "execution_count": 8,
      "outputs": [
        {
          "output_type": "display_data",
          "data": {
            "application/vnd.jupyter.widget-view+json": {
              "model_id": "40c7f08d116c4848b64638109c6bbdcf",
              "version_minor": 0,
              "version_major": 2
            },
            "text/plain": [
              "interactive(children=(FloatSlider(value=0.5, description='p', max=1.0, step=0.05), IntSlider(value=100, descri…"
            ]
          },
          "metadata": {
            "tags": []
          }
        }
      ]
    },
    {
      "cell_type": "markdown",
      "metadata": {
        "id": "MSrX7kSPe-ob",
        "colab_type": "text"
      },
      "source": [
        "---\n",
        "### Binomial distribution\n",
        "Here we have inctaracting function which shows binomial distribution with differenet values of p, n and size of the sample\n",
        "Also here we can explore probabilities of different numbers of k"
      ]
    },
    {
      "cell_type": "code",
      "metadata": {
        "id": "-J-FgbJZfRGk",
        "colab_type": "code",
        "outputId": "80d7c96a-7ca0-4994-9dc7-e81bebf8e007",
        "colab": {
          "base_uri": "https://localhost:8080/",
          "height": 463,
          "referenced_widgets": [
            "6dffc500568649cdb9e163058fe1213c",
            "54dffa74069048f0b231fd3442e80863",
            "0fc65b0cea7f450caf4bc50a21040552",
            "c63656af25b24f5d8eb353aaf2833a1f",
            "e61aba367daa48f29220db32f91237d1",
            "5296e69932d740a3bd84e120ff9231d8",
            "9fade4b4559d4c619064b13776334fbe",
            "2af8920d05344fd2bca38e5d2f1ae032",
            "63794284b1a1448b939a097f795e4df1",
            "3f285d38bc36432dbb06b25e840a6ef0",
            "8cd79d701c0d4c679e691a248eae411e",
            "ad74237facec4b82b82dcf6a1b67a5fb",
            "374a547fdda54adb9362e2a9612d3f28",
            "1889c89c00444abe9f9cd804d939bd95",
            "738253112a104d598bc9e37684a6a827",
            "9de2a5a86bb34074ab5cdd6892d20fa7"
          ]
        }
      },
      "source": [
        "@interact(p= (0,1.0,0.05))\n",
        "def binomial(p=0.5,n=10,size=50, k = 5):\n",
        "  bin_data = np.random.binomial(n,p,size)\n",
        "  sns.distplot(bin_data);\n",
        "  q = 1 - p\n",
        "  print('Expected value via formula is E = np = ', n*p)\n",
        "  print('Actual Mean Value is: ', np.mean(bin_data))\n",
        "  bin_coef = len(list(itertools.combinations(list(range(1,n+1)),k)))\n",
        "  print('Calculated P(n=k) using fromula bin_coef*(p**k)*(q**(n-k)) is: ', bin_coef*(p**k)*(q**(n-k)))\n",
        "  prob = (bin_data==k).sum()/len(bin_data)\n",
        "  print('Actual P(n==k) is', prob)"
      ],
      "execution_count": 9,
      "outputs": [
        {
          "output_type": "display_data",
          "data": {
            "application/vnd.jupyter.widget-view+json": {
              "model_id": "6dffc500568649cdb9e163058fe1213c",
              "version_minor": 0,
              "version_major": 2
            },
            "text/plain": [
              "interactive(children=(FloatSlider(value=0.5, description='p', max=1.0, step=0.05), IntSlider(value=10, descrip…"
            ]
          },
          "metadata": {
            "tags": []
          }
        }
      ]
    },
    {
      "cell_type": "markdown",
      "metadata": {
        "id": "rh-gP7nSzp23",
        "colab_type": "text"
      },
      "source": [
        "## Application\n",
        " \n",
        "- a sample task / application\n",
        "- parameters and what they mean/affect (if applicable)\n",
        "- hypothesis tests\n",
        "- statistical tests\n",
        "- vizializtion\n"
      ]
    },
    {
      "cell_type": "markdown",
      "metadata": {
        "id": "868UuhpIwHKG",
        "colab_type": "text"
      },
      "source": [
        "#### Task: \n",
        "We need to improve the ROI (Return on Investment) of our company’s call center, where employees attempt to cold call potential customers and get them to purchase our product.\n",
        "We have some this data\n",
        "\n",
        "\n",
        "*   The typical call center employee completes on average 50 calls per day.\n",
        "*   The probability of a conversion (purchase) for each call is 4%.\n",
        "*   The average revenue to your company for each conversion is $20\n",
        "\n",
        "*  The call center you are analyzing has 100 employees.\n",
        "*   Each employee is paid $200 per day of work.\n"
      ]
    },
    {
      "cell_type": "markdown",
      "metadata": {
        "id": "nLVz1nZPt06x",
        "colab_type": "text"
      },
      "source": [
        "First we can notice that each call is actually a bernoulli random variable, because we have some probability of conversion p is actually the same as probablity of success p, we can conclude that one call is nothing but a bernoulli variable   "
      ]
    },
    {
      "cell_type": "markdown",
      "metadata": {
        "id": "5byPMtXkNdJO",
        "colab_type": "text"
      },
      "source": [
        "That's why we can think of each employee as a binomially distributed random variable with the following parameters:\n",
        "n = 50\n",
        "p = 4%"
      ]
    },
    {
      "cell_type": "markdown",
      "metadata": {
        "id": "qXPMu3H4NmSN",
        "colab_type": "text"
      },
      "source": [
        "Here you can see simulation of this call center, and we can see how different parameters influence on our revenues"
      ]
    },
    {
      "cell_type": "code",
      "metadata": {
        "id": "NuLfKYbysh7P",
        "colab_type": "code",
        "outputId": "b513ca25-6df7-4aa3-8de4-4fd2c6da3711",
        "colab": {
          "base_uri": "https://localhost:8080/",
          "height": 642,
          "referenced_widgets": [
            "d967402877e54a5fa32fa28dd544458e",
            "2dd66bc770cf46c7a99045ad7f178619",
            "d9d05e1d30664251917fe6152e5fce79",
            "74ba492f03d8433fb742190416d03980",
            "12796baf8d0d4abe9bc7c12cc331e43f",
            "fe016bff0434477e8ba7e0ea27cf6567",
            "2b0ae9fedf894fc382a28c7942407ab6",
            "d121bbe7975845a1bfbf58f41d18dcc8",
            "eead6adf753e47e0bbc0f5c83e6494a5",
            "d71cfc6f39d8485cb28cd6ac0c136f26",
            "7edda26c93eb4b3b88a2ca9519030489",
            "8d396a8153ef490ab6462d89fb88dd69",
            "1a98bd2d4aa94b9f9dea285eb01dee81",
            "652c173b972448f99fce05bb5ff98a5a",
            "7d349084976c42a1a04371bfcf6ebb2a",
            "8791e1db563c410b856781f811d167c6",
            "60a3d5bc2a7b46018b9f2af17b55f8a7",
            "f2459ac3448a4a248f8d65615861deb4",
            "0db6db0a96e643a6aa1bea42eebf27a6",
            "41f2991fa94e41b3ba8bae4182fb5d95",
            "1703146e3ba14c5db28ff3bc092a3f90",
            "0185cab83fdd4e97bd96a39172379947"
          ]
        }
      },
      "source": [
        "@interact(p=(0,0.1,0.01))\n",
        "def simulate_call_center(n_employees=100, wage=200, num_of_calls=50,p=0.04,revenue=100, sims=1000):\n",
        "  # Call Center Simulation\n",
        "  # Binomial random variables of call center employees\n",
        "  conversions = np.random.binomial(num_of_calls, p, size=n_employees)\n",
        "  sim_conversions = [np.sum(np.random.binomial(num_of_calls, p, size=n_employees)) for i in range(sims)]\n",
        "  sim_profits = np.array(sim_conversions)*revenue - n_employees*wage\n",
        "  # Plot and save the results as a histogram\n",
        "  fig, ax = plt.subplots(figsize=(14,7))\n",
        "  #ax = sns.distplot(sim_profits, bins=20, label='original call center simulation results')\n",
        "  ax = sns.distplot(sim_profits, bins=20, label='call center simulation results', color='red')\n",
        "  ax.set_xlabel(\"Profits\",fontsize=16)\n",
        "  ax.set_ylabel(\"Frequency\",fontsize=16)\n",
        "  plt.legend()"
      ],
      "execution_count": 10,
      "outputs": [
        {
          "output_type": "display_data",
          "data": {
            "application/vnd.jupyter.widget-view+json": {
              "model_id": "d967402877e54a5fa32fa28dd544458e",
              "version_minor": 0,
              "version_major": 2
            },
            "text/plain": [
              "interactive(children=(IntSlider(value=100, description='n_employees', max=300, min=-100), IntSlider(value=200,…"
            ]
          },
          "metadata": {
            "tags": []
          }
        }
      ]
    },
    {
      "cell_type": "markdown",
      "metadata": {
        "id": "sMuzH93ewlld",
        "colab_type": "text"
      },
      "source": [
        "For example one of solution for improving profit is to increase number of calls per employee per day"
      ]
    },
    {
      "cell_type": "markdown",
      "metadata": {
        "id": "n7rXmOAfz7t9",
        "colab_type": "text"
      },
      "source": [
        "---\n",
        "## Conclusion\n",
        "What we have learned:\n",
        "1. How does different value of parameter p influence on bernoulli distribution\n",
        "2. How does p, number of experiments and k influence on binomial distribution\n",
        "3. How to analyze and solve conversion tasks with using binomial distribution and importance of different paramters for this task"
      ]
    },
    {
      "cell_type": "markdown",
      "metadata": {
        "id": "jBzcWz4M0Fm0",
        "colab_type": "text"
      },
      "source": [
        "---\n",
        "## References / Acknowledgements"
      ]
    },
    {
      "cell_type": "markdown",
      "metadata": {
        "id": "K1nm8ZcO0JUH",
        "colab_type": "text"
      },
      "source": [
        "Interacrive version of this notebook you can find here:\n",
        "\n",
        "https://colab.research.google.com/drive/1zsb5Au5uJapblvG5kM7AzCqcf0WMNmII\n",
        "\n",
        "Other useful links:\n",
        "\n",
        "https://en.wikipedia.org/wiki/Bernoulli_distribution\n",
        "\n",
        "https://en.wikipedia.org/wiki/Binomial_distribution\n",
        "\n",
        "https://towardsdatascience.com/fun-with-the-binomial-distribution-96a5ecabf65b\n"
      ]
    }
  ]
}