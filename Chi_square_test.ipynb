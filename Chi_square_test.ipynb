{
  "nbformat": 4,
  "nbformat_minor": 0,
  "metadata": {
    "colab": {
      "name": "Chi-square test .ipynb",
      "provenance": [],
      "collapsed_sections": [],
      "include_colab_link": true
    },
    "kernelspec": {
      "name": "python3",
      "display_name": "Python 3"
    },
    "widgets": {
      "application/vnd.jupyter.widget-state+json": {
        "92eb24a48dd34e7793aaaa93f84d2950": {
          "model_module": "@jupyter-widgets/controls",
          "model_name": "VBoxModel",
          "state": {
            "_view_name": "VBoxView",
            "_dom_classes": [
              "widget-interact"
            ],
            "_model_name": "VBoxModel",
            "_view_module": "@jupyter-widgets/controls",
            "_model_module_version": "1.5.0",
            "_view_count": null,
            "_view_module_version": "1.5.0",
            "box_style": "",
            "layout": "IPY_MODEL_7320583794e248ebadfd0c45b08ea65f",
            "_model_module": "@jupyter-widgets/controls",
            "children": [
              "IPY_MODEL_86b34a2cdcda48de843f943505a7e29c",
              "IPY_MODEL_92e0a5cc7c4748adac49cfb60c6061fc"
            ]
          }
        },
        "7320583794e248ebadfd0c45b08ea65f": {
          "model_module": "@jupyter-widgets/base",
          "model_name": "LayoutModel",
          "state": {
            "_view_name": "LayoutView",
            "grid_template_rows": null,
            "right": null,
            "justify_content": null,
            "_view_module": "@jupyter-widgets/base",
            "overflow": null,
            "_model_module_version": "1.2.0",
            "_view_count": null,
            "flex_flow": null,
            "width": null,
            "min_width": null,
            "border": null,
            "align_items": null,
            "bottom": null,
            "_model_module": "@jupyter-widgets/base",
            "top": null,
            "grid_column": null,
            "overflow_y": null,
            "overflow_x": null,
            "grid_auto_flow": null,
            "grid_area": null,
            "grid_template_columns": null,
            "flex": null,
            "_model_name": "LayoutModel",
            "justify_items": null,
            "grid_row": null,
            "max_height": null,
            "align_content": null,
            "visibility": null,
            "align_self": null,
            "height": null,
            "min_height": null,
            "padding": null,
            "grid_auto_rows": null,
            "grid_gap": null,
            "max_width": null,
            "order": null,
            "_view_module_version": "1.2.0",
            "grid_template_areas": null,
            "object_position": null,
            "object_fit": null,
            "grid_auto_columns": null,
            "margin": null,
            "display": null,
            "left": null
          }
        },
        "86b34a2cdcda48de843f943505a7e29c": {
          "model_module": "@jupyter-widgets/controls",
          "model_name": "FloatSliderModel",
          "state": {
            "_view_name": "FloatSliderView",
            "style": "IPY_MODEL_9653857a260346fe8989622ef89b24ad",
            "_dom_classes": [],
            "description": "alpha",
            "step": 0.01,
            "_model_name": "FloatSliderModel",
            "orientation": "horizontal",
            "max": 0.25,
            "_view_module": "@jupyter-widgets/controls",
            "_model_module_version": "1.5.0",
            "value": 0.25,
            "_view_count": null,
            "disabled": false,
            "_view_module_version": "1.5.0",
            "min": 0,
            "continuous_update": true,
            "readout_format": ".2f",
            "description_tooltip": null,
            "readout": true,
            "_model_module": "@jupyter-widgets/controls",
            "layout": "IPY_MODEL_2f4116932d4946a0b98a253f44a57a9d"
          }
        },
        "92e0a5cc7c4748adac49cfb60c6061fc": {
          "model_module": "@jupyter-widgets/output",
          "model_name": "OutputModel",
          "state": {
            "_view_name": "OutputView",
            "msg_id": "",
            "_dom_classes": [],
            "_model_name": "OutputModel",
            "outputs": [
              {
                "output_type": "stream",
                "metadata": {
                  "tags": []
                },
                "text": "Null hypothesis is true\n",
                "stream": "stdout"
              },
              {
                "output_type": "display_data",
                "metadata": {
                  "tags": [],
                  "needs_background": "light"
                },
                "image/png": "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\n",
                "text/plain": "<Figure size 432x288 with 1 Axes>"
              }
            ],
            "_view_module": "@jupyter-widgets/output",
            "_model_module_version": "1.0.0",
            "_view_count": null,
            "_view_module_version": "1.0.0",
            "layout": "IPY_MODEL_64f087728d954094bb7927fdfd333f1e",
            "_model_module": "@jupyter-widgets/output"
          }
        },
        "9653857a260346fe8989622ef89b24ad": {
          "model_module": "@jupyter-widgets/controls",
          "model_name": "SliderStyleModel",
          "state": {
            "_view_name": "StyleView",
            "handle_color": null,
            "_model_name": "SliderStyleModel",
            "description_width": "",
            "_view_module": "@jupyter-widgets/base",
            "_model_module_version": "1.5.0",
            "_view_count": null,
            "_view_module_version": "1.2.0",
            "_model_module": "@jupyter-widgets/controls"
          }
        },
        "2f4116932d4946a0b98a253f44a57a9d": {
          "model_module": "@jupyter-widgets/base",
          "model_name": "LayoutModel",
          "state": {
            "_view_name": "LayoutView",
            "grid_template_rows": null,
            "right": null,
            "justify_content": null,
            "_view_module": "@jupyter-widgets/base",
            "overflow": null,
            "_model_module_version": "1.2.0",
            "_view_count": null,
            "flex_flow": null,
            "width": null,
            "min_width": null,
            "border": null,
            "align_items": null,
            "bottom": null,
            "_model_module": "@jupyter-widgets/base",
            "top": null,
            "grid_column": null,
            "overflow_y": null,
            "overflow_x": null,
            "grid_auto_flow": null,
            "grid_area": null,
            "grid_template_columns": null,
            "flex": null,
            "_model_name": "LayoutModel",
            "justify_items": null,
            "grid_row": null,
            "max_height": null,
            "align_content": null,
            "visibility": null,
            "align_self": null,
            "height": null,
            "min_height": null,
            "padding": null,
            "grid_auto_rows": null,
            "grid_gap": null,
            "max_width": null,
            "order": null,
            "_view_module_version": "1.2.0",
            "grid_template_areas": null,
            "object_position": null,
            "object_fit": null,
            "grid_auto_columns": null,
            "margin": null,
            "display": null,
            "left": null
          }
        },
        "64f087728d954094bb7927fdfd333f1e": {
          "model_module": "@jupyter-widgets/base",
          "model_name": "LayoutModel",
          "state": {
            "_view_name": "LayoutView",
            "grid_template_rows": null,
            "right": null,
            "justify_content": null,
            "_view_module": "@jupyter-widgets/base",
            "overflow": null,
            "_model_module_version": "1.2.0",
            "_view_count": null,
            "flex_flow": null,
            "width": null,
            "min_width": null,
            "border": null,
            "align_items": null,
            "bottom": null,
            "_model_module": "@jupyter-widgets/base",
            "top": null,
            "grid_column": null,
            "overflow_y": null,
            "overflow_x": null,
            "grid_auto_flow": null,
            "grid_area": null,
            "grid_template_columns": null,
            "flex": null,
            "_model_name": "LayoutModel",
            "justify_items": null,
            "grid_row": null,
            "max_height": null,
            "align_content": null,
            "visibility": null,
            "align_self": null,
            "height": null,
            "min_height": null,
            "padding": null,
            "grid_auto_rows": null,
            "grid_gap": null,
            "max_width": null,
            "order": null,
            "_view_module_version": "1.2.0",
            "grid_template_areas": null,
            "object_position": null,
            "object_fit": null,
            "grid_auto_columns": null,
            "margin": null,
            "display": null,
            "left": null
          }
        },
        "321aec5027e84f29ab2fa7924c2a07c6": {
          "model_module": "@jupyter-widgets/controls",
          "model_name": "VBoxModel",
          "state": {
            "_view_name": "VBoxView",
            "_dom_classes": [
              "widget-interact"
            ],
            "_model_name": "VBoxModel",
            "_view_module": "@jupyter-widgets/controls",
            "_model_module_version": "1.5.0",
            "_view_count": null,
            "_view_module_version": "1.5.0",
            "box_style": "",
            "layout": "IPY_MODEL_3caffc400c944813864e80c0c90b8e50",
            "_model_module": "@jupyter-widgets/controls",
            "children": [
              "IPY_MODEL_ea670114bb354fdf8e795962da9f82c7",
              "IPY_MODEL_1c6ed069c21a4fdcb51415cb0f08ce43",
              "IPY_MODEL_f851c24d45a54deca64b4422c61116e4",
              "IPY_MODEL_dfd9523bc0e34e63842d95e6cbec237d"
            ]
          }
        },
        "3caffc400c944813864e80c0c90b8e50": {
          "model_module": "@jupyter-widgets/base",
          "model_name": "LayoutModel",
          "state": {
            "_view_name": "LayoutView",
            "grid_template_rows": null,
            "right": null,
            "justify_content": null,
            "_view_module": "@jupyter-widgets/base",
            "overflow": null,
            "_model_module_version": "1.2.0",
            "_view_count": null,
            "flex_flow": null,
            "width": null,
            "min_width": null,
            "border": null,
            "align_items": null,
            "bottom": null,
            "_model_module": "@jupyter-widgets/base",
            "top": null,
            "grid_column": null,
            "overflow_y": null,
            "overflow_x": null,
            "grid_auto_flow": null,
            "grid_area": null,
            "grid_template_columns": null,
            "flex": null,
            "_model_name": "LayoutModel",
            "justify_items": null,
            "grid_row": null,
            "max_height": null,
            "align_content": null,
            "visibility": null,
            "align_self": null,
            "height": null,
            "min_height": null,
            "padding": null,
            "grid_auto_rows": null,
            "grid_gap": null,
            "max_width": null,
            "order": null,
            "_view_module_version": "1.2.0",
            "grid_template_areas": null,
            "object_position": null,
            "object_fit": null,
            "grid_auto_columns": null,
            "margin": null,
            "display": null,
            "left": null
          }
        },
        "ea670114bb354fdf8e795962da9f82c7": {
          "model_module": "@jupyter-widgets/controls",
          "model_name": "DropdownModel",
          "state": {
            "_options_labels": [
              "1",
              "2",
              "3",
              "4",
              "5",
              "6",
              "7",
              "8",
              "9",
              "10",
              "11",
              "12",
              "13",
              "14",
              "15"
            ],
            "_view_name": "DropdownView",
            "style": "IPY_MODEL_4229957adf2747c68191663efb54eddc",
            "_dom_classes": [],
            "description": "variant",
            "_model_name": "DropdownModel",
            "index": 0,
            "_view_module": "@jupyter-widgets/controls",
            "_model_module_version": "1.5.0",
            "_view_count": null,
            "disabled": false,
            "_view_module_version": "1.5.0",
            "description_tooltip": null,
            "_model_module": "@jupyter-widgets/controls",
            "layout": "IPY_MODEL_438878a8577b43f880566ac000cb34aa"
          }
        },
        "1c6ed069c21a4fdcb51415cb0f08ce43": {
          "model_module": "@jupyter-widgets/controls",
          "model_name": "DropdownModel",
          "state": {
            "_options_labels": [
              "lognorm",
              "uniform",
              "exp"
            ],
            "_view_name": "DropdownView",
            "style": "IPY_MODEL_d9261fdb8d74406c9fb794fe47f0dabb",
            "_dom_classes": [],
            "description": "low",
            "_model_name": "DropdownModel",
            "index": 0,
            "_view_module": "@jupyter-widgets/controls",
            "_model_module_version": "1.5.0",
            "_view_count": null,
            "disabled": false,
            "_view_module_version": "1.5.0",
            "description_tooltip": null,
            "_model_module": "@jupyter-widgets/controls",
            "layout": "IPY_MODEL_6c025a0a63b74169af54f282f0452885"
          }
        },
        "f851c24d45a54deca64b4422c61116e4": {
          "model_module": "@jupyter-widgets/controls",
          "model_name": "FloatSliderModel",
          "state": {
            "_view_name": "FloatSliderView",
            "style": "IPY_MODEL_3c01cf2e045e41b7a9f734723608d027",
            "_dom_classes": [],
            "description": "alpha",
            "step": 0.01,
            "_model_name": "FloatSliderModel",
            "orientation": "horizontal",
            "max": 0.25,
            "_view_module": "@jupyter-widgets/controls",
            "_model_module_version": "1.5.0",
            "value": 0.1,
            "_view_count": null,
            "disabled": false,
            "_view_module_version": "1.5.0",
            "min": 0,
            "continuous_update": true,
            "readout_format": ".2f",
            "description_tooltip": null,
            "readout": true,
            "_model_module": "@jupyter-widgets/controls",
            "layout": "IPY_MODEL_0d759ee2ba2746cdb6c583900043cc53"
          }
        },
        "dfd9523bc0e34e63842d95e6cbec237d": {
          "model_module": "@jupyter-widgets/output",
          "model_name": "OutputModel",
          "state": {
            "_view_name": "OutputView",
            "msg_id": "",
            "_dom_classes": [],
            "_model_name": "OutputModel",
            "outputs": [
              {
                "output_type": "stream",
                "metadata": {
                  "tags": []
                },
                "text": "The original set:\np= [38 61 73 34 18 17  6  0  3]\ndelta= [ 40.01        62.08666667  84.16333333 106.24       128.31666667\n 150.39333333 172.47       194.54666667 216.62333333 238.7       ]\nm= 9\nNarrowed set:\np= [38 61 73 34 18 17  9  3]\ndelta= [ 40.01        62.08666667  84.16333333 106.24       128.31666667\n 150.39333333 172.47       194.54666667 216.62333333]\nm1= 8\n4.515582965764561 0.354590460400682\n",
                "stream": "stdout"
              },
              {
                "output_type": "display_data",
                "metadata": {
                  "tags": [],
                  "needs_background": "light"
                },
                "image/png": "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\n",
                "text/plain": "<Figure size 600x400 with 1 Axes>"
              },
              {
                "output_type": "stream",
                "metadata": {
                  "tags": []
                },
                "text": "Data is not goes from lognorm distribution\n",
                "stream": "stdout"
              }
            ],
            "_view_module": "@jupyter-widgets/output",
            "_model_module_version": "1.0.0",
            "_view_count": null,
            "_view_module_version": "1.0.0",
            "layout": "IPY_MODEL_a6fe81c2ab9f4cddba683602d469f723",
            "_model_module": "@jupyter-widgets/output"
          }
        },
        "4229957adf2747c68191663efb54eddc": {
          "model_module": "@jupyter-widgets/controls",
          "model_name": "DescriptionStyleModel",
          "state": {
            "_view_name": "StyleView",
            "_model_name": "DescriptionStyleModel",
            "description_width": "",
            "_view_module": "@jupyter-widgets/base",
            "_model_module_version": "1.5.0",
            "_view_count": null,
            "_view_module_version": "1.2.0",
            "_model_module": "@jupyter-widgets/controls"
          }
        },
        "438878a8577b43f880566ac000cb34aa": {
          "model_module": "@jupyter-widgets/base",
          "model_name": "LayoutModel",
          "state": {
            "_view_name": "LayoutView",
            "grid_template_rows": null,
            "right": null,
            "justify_content": null,
            "_view_module": "@jupyter-widgets/base",
            "overflow": null,
            "_model_module_version": "1.2.0",
            "_view_count": null,
            "flex_flow": null,
            "width": null,
            "min_width": null,
            "border": null,
            "align_items": null,
            "bottom": null,
            "_model_module": "@jupyter-widgets/base",
            "top": null,
            "grid_column": null,
            "overflow_y": null,
            "overflow_x": null,
            "grid_auto_flow": null,
            "grid_area": null,
            "grid_template_columns": null,
            "flex": null,
            "_model_name": "LayoutModel",
            "justify_items": null,
            "grid_row": null,
            "max_height": null,
            "align_content": null,
            "visibility": null,
            "align_self": null,
            "height": null,
            "min_height": null,
            "padding": null,
            "grid_auto_rows": null,
            "grid_gap": null,
            "max_width": null,
            "order": null,
            "_view_module_version": "1.2.0",
            "grid_template_areas": null,
            "object_position": null,
            "object_fit": null,
            "grid_auto_columns": null,
            "margin": null,
            "display": null,
            "left": null
          }
        },
        "d9261fdb8d74406c9fb794fe47f0dabb": {
          "model_module": "@jupyter-widgets/controls",
          "model_name": "DescriptionStyleModel",
          "state": {
            "_view_name": "StyleView",
            "_model_name": "DescriptionStyleModel",
            "description_width": "",
            "_view_module": "@jupyter-widgets/base",
            "_model_module_version": "1.5.0",
            "_view_count": null,
            "_view_module_version": "1.2.0",
            "_model_module": "@jupyter-widgets/controls"
          }
        },
        "6c025a0a63b74169af54f282f0452885": {
          "model_module": "@jupyter-widgets/base",
          "model_name": "LayoutModel",
          "state": {
            "_view_name": "LayoutView",
            "grid_template_rows": null,
            "right": null,
            "justify_content": null,
            "_view_module": "@jupyter-widgets/base",
            "overflow": null,
            "_model_module_version": "1.2.0",
            "_view_count": null,
            "flex_flow": null,
            "width": null,
            "min_width": null,
            "border": null,
            "align_items": null,
            "bottom": null,
            "_model_module": "@jupyter-widgets/base",
            "top": null,
            "grid_column": null,
            "overflow_y": null,
            "overflow_x": null,
            "grid_auto_flow": null,
            "grid_area": null,
            "grid_template_columns": null,
            "flex": null,
            "_model_name": "LayoutModel",
            "justify_items": null,
            "grid_row": null,
            "max_height": null,
            "align_content": null,
            "visibility": null,
            "align_self": null,
            "height": null,
            "min_height": null,
            "padding": null,
            "grid_auto_rows": null,
            "grid_gap": null,
            "max_width": null,
            "order": null,
            "_view_module_version": "1.2.0",
            "grid_template_areas": null,
            "object_position": null,
            "object_fit": null,
            "grid_auto_columns": null,
            "margin": null,
            "display": null,
            "left": null
          }
        },
        "3c01cf2e045e41b7a9f734723608d027": {
          "model_module": "@jupyter-widgets/controls",
          "model_name": "SliderStyleModel",
          "state": {
            "_view_name": "StyleView",
            "handle_color": null,
            "_model_name": "SliderStyleModel",
            "description_width": "",
            "_view_module": "@jupyter-widgets/base",
            "_model_module_version": "1.5.0",
            "_view_count": null,
            "_view_module_version": "1.2.0",
            "_model_module": "@jupyter-widgets/controls"
          }
        },
        "0d759ee2ba2746cdb6c583900043cc53": {
          "model_module": "@jupyter-widgets/base",
          "model_name": "LayoutModel",
          "state": {
            "_view_name": "LayoutView",
            "grid_template_rows": null,
            "right": null,
            "justify_content": null,
            "_view_module": "@jupyter-widgets/base",
            "overflow": null,
            "_model_module_version": "1.2.0",
            "_view_count": null,
            "flex_flow": null,
            "width": null,
            "min_width": null,
            "border": null,
            "align_items": null,
            "bottom": null,
            "_model_module": "@jupyter-widgets/base",
            "top": null,
            "grid_column": null,
            "overflow_y": null,
            "overflow_x": null,
            "grid_auto_flow": null,
            "grid_area": null,
            "grid_template_columns": null,
            "flex": null,
            "_model_name": "LayoutModel",
            "justify_items": null,
            "grid_row": null,
            "max_height": null,
            "align_content": null,
            "visibility": null,
            "align_self": null,
            "height": null,
            "min_height": null,
            "padding": null,
            "grid_auto_rows": null,
            "grid_gap": null,
            "max_width": null,
            "order": null,
            "_view_module_version": "1.2.0",
            "grid_template_areas": null,
            "object_position": null,
            "object_fit": null,
            "grid_auto_columns": null,
            "margin": null,
            "display": null,
            "left": null
          }
        },
        "a6fe81c2ab9f4cddba683602d469f723": {
          "model_module": "@jupyter-widgets/base",
          "model_name": "LayoutModel",
          "state": {
            "_view_name": "LayoutView",
            "grid_template_rows": null,
            "right": null,
            "justify_content": null,
            "_view_module": "@jupyter-widgets/base",
            "overflow": null,
            "_model_module_version": "1.2.0",
            "_view_count": null,
            "flex_flow": null,
            "width": null,
            "min_width": null,
            "border": null,
            "align_items": null,
            "bottom": null,
            "_model_module": "@jupyter-widgets/base",
            "top": null,
            "grid_column": null,
            "overflow_y": null,
            "overflow_x": null,
            "grid_auto_flow": null,
            "grid_area": null,
            "grid_template_columns": null,
            "flex": null,
            "_model_name": "LayoutModel",
            "justify_items": null,
            "grid_row": null,
            "max_height": null,
            "align_content": null,
            "visibility": null,
            "align_self": null,
            "height": null,
            "min_height": null,
            "padding": null,
            "grid_auto_rows": null,
            "grid_gap": null,
            "max_width": null,
            "order": null,
            "_view_module_version": "1.2.0",
            "grid_template_areas": null,
            "object_position": null,
            "object_fit": null,
            "grid_auto_columns": null,
            "margin": null,
            "display": null,
            "left": null
          }
        }
      }
    }
  },
  "cells": [
    {
      "cell_type": "markdown",
      "metadata": {
        "id": "view-in-github",
        "colab_type": "text"
      },
      "source": [
        "<a href=\"https://colab.research.google.com/github/sergey-jr/Interactive-Statistics-Notebooks/blob/master/Chi_square_test.ipynb\" target=\"_parent\"><img src=\"https://colab.research.google.com/assets/colab-badge.svg\" alt=\"Open In Colab\"/></a>"
      ]
    },
    {
      "cell_type": "markdown",
      "metadata": {
        "id": "ITC684n6xm2f",
        "colab_type": "text"
      },
      "source": [
        "# Chi-square test\n",
        "\n",
        "### Table of contents\n",
        "1.   Intro\n",
        "2. Main formulas\n",
        "3. Connection to other distribution\n",
        "4. Examples"
      ]
    },
    {
      "cell_type": "markdown",
      "metadata": {
        "id": "CdLByacoxqBU",
        "colab_type": "text"
      },
      "source": [
        "## Intro\n",
        "\n"
      ]
    },
    {
      "cell_type": "markdown",
      "metadata": {
        "id": "6akCu43SFPQ6",
        "colab_type": "text"
      },
      "source": [
        "The term \"chi-squared test,\" also written as χ<sup>2</sup> test, refers to certain types of statistical hypothesis tests that are valid to perform when the test statistic is chi-squared distributed under the null hypothesis. Often, however, the term is used to refer to Pearson's chi-squared test and variants thereof. Pearson's chi-squared test is used to determine whether there is a statistically significant difference (i.e., a magnitude of difference that is unlikely to be due to chance alone) between the expected frequencies and the observed frequencies in one or more categories of a so-called contingency table.\n",
        "\n",
        "There are two types of chi-square tests. Both use the chi-square statistic and distribution for different purposes:\n",
        "\n",
        "- A chi-square goodness of fit test determines if a sample data matches a population (in terms of distribution). Another name for it - Pearson's chi-squared test.\n",
        "- A chi-square test for independence compares two variables in a contingency table to see if they are related. In a more general sense, it tests to see whether distributions of categorical variables differ from each another.\n",
        " - A very small chi square test statistic means that your observed data fits your expected data extremely well. In other words, there is a relationship.\n",
        " - A very large chi square test statistic means that the data does not fit very well. In other words, there isn’t a relationship.\n",
        "\n"
      ]
    },
    {
      "cell_type": "markdown",
      "metadata": {
        "id": "z7ZJW23HINV2",
        "colab_type": "text"
      },
      "source": [
        "## Main formulas\n",
        "\n",
        "### Degree of Freedom\n",
        "\n",
        "$DF = (rows - 1)*(columns - 1)$\n",
        "\n",
        "### chi-squred calculation\n",
        "\n",
        "$χ^{2}_{cal} = \\sum_{i=1}^{n} \\frac{(O_i-E_i)^2}{E_i}$\n",
        "\n",
        "- O = each Observed (actual) value\n",
        "- E = each Expected value"
      ]
    },
    {
      "cell_type": "markdown",
      "metadata": {
        "id": "B3P4kXxsFK0u",
        "colab_type": "text"
      },
      "source": [
        "## Connection with other tests:\n",
        "\n",
        "For an exact test used in place of the 2 x 2 chi-squared test for independence, see [Fisher's exact test](https://en.wikipedia.org/wiki/Fisher%27s_exact_test).\n",
        "\n",
        "For an exact test used in place of the 2 x 1 chi-squared test for goodness of fit, see [Binomial test](https://en.wikipedia.org/wiki/Binomial_test)."
      ]
    },
    {
      "cell_type": "markdown",
      "metadata": {
        "id": "EovComAJxr-0",
        "colab_type": "text"
      },
      "source": [
        "## Setup\n"
      ]
    },
    {
      "cell_type": "code",
      "metadata": {
        "id": "6sMu20VHEkXo",
        "colab_type": "code",
        "colab": {}
      },
      "source": [
        "! pip install ipywidgets\n",
        "! jupyter nbextension enable --py widgetsnbextension"
      ],
      "execution_count": 0,
      "outputs": []
    },
    {
      "cell_type": "code",
      "metadata": {
        "id": "Qiozktuj16i8",
        "colab_type": "code",
        "colab": {}
      },
      "source": [
        "import ipywidgets as widgets\n",
        "from ipywidgets import interact, interact_manual\n",
        "import numpy as np\n",
        "import scipy.stats as stats\n",
        "import pandas as pd\n",
        "import json\n",
        "import matplotlib.pyplot as plt\n"
      ],
      "execution_count": 0,
      "outputs": []
    },
    {
      "cell_type": "markdown",
      "metadata": {
        "id": "wlRdlNUhQ28-",
        "colab_type": "text"
      },
      "source": [
        "## Examples"
      ]
    },
    {
      "cell_type": "markdown",
      "metadata": {
        "id": "R1f1fPRKF8zm",
        "colab_type": "text"
      },
      "source": [
        "### Example 1.\n",
        "\n",
        "256 visual artists were surveyed to find out their zodiac sign. The results were: Aries (29), Taurus (24), Gemini (22), Cancer (19), Leo (21), Virgo (18), Libra (19), Scorpio (20), Sagittarius (23), Capricorn (18), Aquarius (20), Pisces (23). \n",
        "\n",
        "Test the hypothesis that zodiac signs are evenly distributed across visual artists."
      ]
    },
    {
      "cell_type": "code",
      "metadata": {
        "id": "nO_vqcKkGT6O",
        "colab_type": "code",
        "colab": {}
      },
      "source": [
        "expect = 256/12\n",
        "data = [[\"Aries\", 29, expect], [\"Taurus\", 24, expect], [\"Gemini\", 22, expect], [\"Cancer\", 19, expect], [\"Leo\", 21, expect], \n",
        "        [\"Virgo\", 18, expect], [\"Libra\", 19, expect],[\"Scorpio\", 20, expect], [\"Sagittarius\", 23, expect], [\"Sagittarius\", 23, expect], \n",
        "        [\"Capricorn\", 18, expect], [\"Aquarius\", 20, expect], [\"Pisces\", 23, expect]] \n",
        "data = np.array([np.array(item) for item in data])"
      ],
      "execution_count": 0,
      "outputs": []
    },
    {
      "cell_type": "code",
      "metadata": {
        "id": "5djlAHrK2ETI",
        "colab_type": "code",
        "colab": {}
      },
      "source": [
        "df = pd.DataFrame(data, columns=[\"zodiac sign\", \"Observed\", \"Excpected\"])\n",
        "df.Observed = df.Observed.astype(np.float32)\n",
        "df.Excpected = df.Excpected.astype(np.float32)"
      ],
      "execution_count": 0,
      "outputs": []
    },
    {
      "cell_type": "code",
      "metadata": {
        "id": "AJXi_XvlaFB6",
        "colab_type": "code",
        "colab": {
          "base_uri": "https://localhost:8080/",
          "height": 452
        },
        "outputId": "1737edf1-587c-4ff6-ac91-7895b92fd39c"
      },
      "source": [
        "df"
      ],
      "execution_count": 5,
      "outputs": [
        {
          "output_type": "execute_result",
          "data": {
            "text/html": [
              "<div>\n",
              "<style scoped>\n",
              "    .dataframe tbody tr th:only-of-type {\n",
              "        vertical-align: middle;\n",
              "    }\n",
              "\n",
              "    .dataframe tbody tr th {\n",
              "        vertical-align: top;\n",
              "    }\n",
              "\n",
              "    .dataframe thead th {\n",
              "        text-align: right;\n",
              "    }\n",
              "</style>\n",
              "<table border=\"1\" class=\"dataframe\">\n",
              "  <thead>\n",
              "    <tr style=\"text-align: right;\">\n",
              "      <th></th>\n",
              "      <th>zodiac sign</th>\n",
              "      <th>Observed</th>\n",
              "      <th>Excpected</th>\n",
              "    </tr>\n",
              "  </thead>\n",
              "  <tbody>\n",
              "    <tr>\n",
              "      <th>0</th>\n",
              "      <td>Aries</td>\n",
              "      <td>29.0</td>\n",
              "      <td>21.333334</td>\n",
              "    </tr>\n",
              "    <tr>\n",
              "      <th>1</th>\n",
              "      <td>Taurus</td>\n",
              "      <td>24.0</td>\n",
              "      <td>21.333334</td>\n",
              "    </tr>\n",
              "    <tr>\n",
              "      <th>2</th>\n",
              "      <td>Gemini</td>\n",
              "      <td>22.0</td>\n",
              "      <td>21.333334</td>\n",
              "    </tr>\n",
              "    <tr>\n",
              "      <th>3</th>\n",
              "      <td>Cancer</td>\n",
              "      <td>19.0</td>\n",
              "      <td>21.333334</td>\n",
              "    </tr>\n",
              "    <tr>\n",
              "      <th>4</th>\n",
              "      <td>Leo</td>\n",
              "      <td>21.0</td>\n",
              "      <td>21.333334</td>\n",
              "    </tr>\n",
              "    <tr>\n",
              "      <th>5</th>\n",
              "      <td>Virgo</td>\n",
              "      <td>18.0</td>\n",
              "      <td>21.333334</td>\n",
              "    </tr>\n",
              "    <tr>\n",
              "      <th>6</th>\n",
              "      <td>Libra</td>\n",
              "      <td>19.0</td>\n",
              "      <td>21.333334</td>\n",
              "    </tr>\n",
              "    <tr>\n",
              "      <th>7</th>\n",
              "      <td>Scorpio</td>\n",
              "      <td>20.0</td>\n",
              "      <td>21.333334</td>\n",
              "    </tr>\n",
              "    <tr>\n",
              "      <th>8</th>\n",
              "      <td>Sagittarius</td>\n",
              "      <td>23.0</td>\n",
              "      <td>21.333334</td>\n",
              "    </tr>\n",
              "    <tr>\n",
              "      <th>9</th>\n",
              "      <td>Sagittarius</td>\n",
              "      <td>23.0</td>\n",
              "      <td>21.333334</td>\n",
              "    </tr>\n",
              "    <tr>\n",
              "      <th>10</th>\n",
              "      <td>Capricorn</td>\n",
              "      <td>18.0</td>\n",
              "      <td>21.333334</td>\n",
              "    </tr>\n",
              "    <tr>\n",
              "      <th>11</th>\n",
              "      <td>Aquarius</td>\n",
              "      <td>20.0</td>\n",
              "      <td>21.333334</td>\n",
              "    </tr>\n",
              "    <tr>\n",
              "      <th>12</th>\n",
              "      <td>Pisces</td>\n",
              "      <td>23.0</td>\n",
              "      <td>21.333334</td>\n",
              "    </tr>\n",
              "  </tbody>\n",
              "</table>\n",
              "</div>"
            ],
            "text/plain": [
              "    zodiac sign  Observed  Excpected\n",
              "0         Aries      29.0  21.333334\n",
              "1        Taurus      24.0  21.333334\n",
              "2        Gemini      22.0  21.333334\n",
              "3        Cancer      19.0  21.333334\n",
              "4           Leo      21.0  21.333334\n",
              "5         Virgo      18.0  21.333334\n",
              "6         Libra      19.0  21.333334\n",
              "7       Scorpio      20.0  21.333334\n",
              "8   Sagittarius      23.0  21.333334\n",
              "9   Sagittarius      23.0  21.333334\n",
              "10    Capricorn      18.0  21.333334\n",
              "11     Aquarius      20.0  21.333334\n",
              "12       Pisces      23.0  21.333334"
            ]
          },
          "metadata": {
            "tags": []
          },
          "execution_count": 5
        }
      ]
    },
    {
      "cell_type": "code",
      "metadata": {
        "id": "KgTO1Out2ZEU",
        "colab_type": "code",
        "outputId": "14a9b2b8-be1c-40ae-885f-0fe390ed7839",
        "colab": {
          "base_uri": "https://localhost:8080/",
          "height": 314,
          "referenced_widgets": [
            "92eb24a48dd34e7793aaaa93f84d2950",
            "7320583794e248ebadfd0c45b08ea65f",
            "86b34a2cdcda48de843f943505a7e29c",
            "92e0a5cc7c4748adac49cfb60c6061fc",
            "9653857a260346fe8989622ef89b24ad",
            "2f4116932d4946a0b98a253f44a57a9d",
            "64f087728d954094bb7927fdfd333f1e"
          ]
        }
      },
      "source": [
        "@interact(alpha=(0, 0.25, 0.01))\n",
        "def check_chisquare(alpha=0.1):\n",
        "  degree_freedom = (df.shape[0]-1)*(df.shape[1]-2)\n",
        "  chi_calc = (((df[\"Observed\"].values - df[\"Excpected\"].values)**2)/df[\"Excpected\"].values).sum()\n",
        "  krit = stats.chi2.ppf(1 - alpha, degree_freedom)\n",
        "\n",
        "  if chi_calc < krit:\n",
        "    print(\"Null hypothesis is true\")\n",
        "  if chi_calc > krit:\n",
        "    print(\"Null hypothesis can be rejected\")\n",
        "  \n",
        "  x = np.linspace(stats.chi2.ppf(0.01, degree_freedom), stats.chi2.ppf(0.99, degree_freedom), 100)\n",
        "\n",
        "  plt.plot(x, stats.chi2.pdf(x, degree_freedom), alpha=0.6, label=f' X ~ χ^2({degree_freedom})')\n",
        "\n",
        "  plt.vlines(krit, 0.0, 1.0, colors='r', linestyles=\"dashdot\", label=f\"Crit. Value: {krit:.2f}\")\n",
        "  plt.vlines(chi_calc, 0.0, 1.0, linestyles=\"dashdot\", label=f\"Calc. Value: {chi_calc:.2f}\")\n",
        "  plt.legend()"
      ],
      "execution_count": 6,
      "outputs": [
        {
          "output_type": "display_data",
          "data": {
            "application/vnd.jupyter.widget-view+json": {
              "model_id": "92eb24a48dd34e7793aaaa93f84d2950",
              "version_minor": 0,
              "version_major": 2
            },
            "text/plain": [
              "interactive(children=(FloatSlider(value=0.1, description='alpha', max=0.25, step=0.01), Output()), _dom_classe…"
            ]
          },
          "metadata": {
            "tags": []
          }
        }
      ]
    },
    {
      "cell_type": "markdown",
      "metadata": {
        "id": "t3CJF7GLQ6bK",
        "colab_type": "text"
      },
      "source": [
        "### Example 2. \n",
        "\n",
        "We have some sets of data, each of them consisits from ~250 elements. We want to check their dictribution. The distributions we will chick on them: normal, uniform and longnorm."
      ]
    },
    {
      "cell_type": "code",
      "metadata": {
        "id": "JBnGoCbDTMQJ",
        "colab_type": "code",
        "outputId": "3803d300-bd1f-4b9f-b98f-ac9ee38df174",
        "colab": {
          "base_uri": "https://localhost:8080/",
          "height": 615
        }
      },
      "source": [
        "!wget --no-check-certificate 'https://docs.google.com/uc?export=download&id=1DDUaP-_eHH5a1P2AcCpjqO61oFT_kHzn' -O datasets.zip\n",
        "!unzip datasets.zip -d ./datasets"
      ],
      "execution_count": 7,
      "outputs": [
        {
          "output_type": "stream",
          "text": [
            "--2020-04-11 18:29:49--  https://docs.google.com/uc?export=download&id=1DDUaP-_eHH5a1P2AcCpjqO61oFT_kHzn\n",
            "Resolving docs.google.com (docs.google.com)... 74.125.195.138, 74.125.195.101, 74.125.195.102, ...\n",
            "Connecting to docs.google.com (docs.google.com)|74.125.195.138|:443... connected.\n",
            "HTTP request sent, awaiting response... 302 Moved Temporarily\n",
            "Location: https://doc-10-a8-docs.googleusercontent.com/docs/securesc/ha0ro937gcuc7l7deffksulhg5h7mbp1/v7o8337rje80jjn9tgaui7jg3s36rnpg/1586629725000/02153115373879107722/*/1DDUaP-_eHH5a1P2AcCpjqO61oFT_kHzn?e=download [following]\n",
            "Warning: wildcards not supported in HTTP.\n",
            "--2020-04-11 18:29:49--  https://doc-10-a8-docs.googleusercontent.com/docs/securesc/ha0ro937gcuc7l7deffksulhg5h7mbp1/v7o8337rje80jjn9tgaui7jg3s36rnpg/1586629725000/02153115373879107722/*/1DDUaP-_eHH5a1P2AcCpjqO61oFT_kHzn?e=download\n",
            "Resolving doc-10-a8-docs.googleusercontent.com (doc-10-a8-docs.googleusercontent.com)... 74.125.195.132, 2607:f8b0:400e:c09::84\n",
            "Connecting to doc-10-a8-docs.googleusercontent.com (doc-10-a8-docs.googleusercontent.com)|74.125.195.132|:443... connected.\n",
            "HTTP request sent, awaiting response... 200 OK\n",
            "Length: 13648 (13K) [application/x-zip-compressed]\n",
            "Saving to: ‘datasets.zip’\n",
            "\n",
            "\rdatasets.zip          0%[                    ]       0  --.-KB/s               \rdatasets.zip        100%[===================>]  13.33K  --.-KB/s    in 0s      \n",
            "\n",
            "2020-04-11 18:29:50 (92.4 MB/s) - ‘datasets.zip’ saved [13648/13648]\n",
            "\n",
            "Archive:  datasets.zip\n",
            "replace ./datasets/var1.json? [y]es, [n]o, [A]ll, [N]one, [r]ename: A\n",
            "  inflating: ./datasets/var1.json    \n",
            "  inflating: ./datasets/var10.json   \n",
            "  inflating: ./datasets/var11.json   \n",
            "  inflating: ./datasets/var12.json   \n",
            "  inflating: ./datasets/var13.json   \n",
            "  inflating: ./datasets/var14.json   \n",
            "  inflating: ./datasets/var15.json   \n",
            "  inflating: ./datasets/var2.json    \n",
            "  inflating: ./datasets/var3.json    \n",
            "  inflating: ./datasets/var4.json    \n",
            "  inflating: ./datasets/var5.json    \n",
            "  inflating: ./datasets/var6.json    \n",
            "  inflating: ./datasets/var7.json    \n",
            "  inflating: ./datasets/var8.json    \n",
            "  inflating: ./datasets/var9.json    \n"
          ],
          "name": "stdout"
        }
      ]
    },
    {
      "cell_type": "code",
      "metadata": {
        "id": "GOHyfZKsU5zS",
        "colab_type": "code",
        "colab": {}
      },
      "source": [
        "def set_narrow(arr, arr1):\n",
        "    arr = list(arr)\n",
        "    arr1 = list(arr1)\n",
        "    arr2 = list(arr)\n",
        "    i = 0\n",
        "    while any([item < 5 for item in arr2]):\n",
        "        if i < len(arr2):\n",
        "            if arr2[i] < 5:\n",
        "                if i == 0:\n",
        "                    arr[i + 1] += arr[i]\n",
        "                    arr2[i + 1] += arr[i]\n",
        "                elif i == len(arr2) - 2:\n",
        "                    arr[i] += arr[i + 1]\n",
        "                    arr2[i] += arr[i + 1]\n",
        "                    arr2.pop()\n",
        "                    arr1.pop()\n",
        "                    i -= 1\n",
        "                else:\n",
        "                    arr[i - 1] += arr[i]\n",
        "                    arr2[i - 1] += arr[i]\n",
        "                if i not in [len(arr2) - 2, len(arr2) - 1]:\n",
        "                    arr2.pop(i)\n",
        "                    arr1.pop(i)\n",
        "                    i -= 1\n",
        "            i += 1\n",
        "        else:\n",
        "            break\n",
        "    return np.array(arr2), np.array(arr1)"
      ],
      "execution_count": 0,
      "outputs": []
    },
    {
      "cell_type": "code",
      "metadata": {
        "id": "mDkn4sAmW2QF",
        "colab_type": "code",
        "outputId": "2684ec59-93b1-4b58-cda4-5e57c5da8f0c",
        "colab": {
          "base_uri": "https://localhost:8080/",
          "height": 662,
          "referenced_widgets": [
            "321aec5027e84f29ab2fa7924c2a07c6",
            "3caffc400c944813864e80c0c90b8e50",
            "ea670114bb354fdf8e795962da9f82c7",
            "1c6ed069c21a4fdcb51415cb0f08ce43",
            "f851c24d45a54deca64b4422c61116e4",
            "dfd9523bc0e34e63842d95e6cbec237d",
            "4229957adf2747c68191663efb54eddc",
            "438878a8577b43f880566ac000cb34aa",
            "d9261fdb8d74406c9fb794fe47f0dabb",
            "6c025a0a63b74169af54f282f0452885",
            "3c01cf2e045e41b7a9f734723608d027",
            "0d759ee2ba2746cdb6c583900043cc53",
            "a6fe81c2ab9f4cddba683602d469f723"
          ]
        }
      },
      "source": [
        "@interact(alpha=(0, 0.25, 0.01))\n",
        "def check_distribution(variant=range(1, 16), low=[\"lognorm\", \"uniform\", \"exp\"], alpha=0.1):\n",
        "  data = json.load(open(f'./datasets/var{variant}.json'))\n",
        "  x = np.array(data['x'], dtype=float)\n",
        "  n = len(x)  # count of points\n",
        "  m = int(round(3.32 * np.log10(n) + 1)) # parts to divide \n",
        "  p, intervals = np.histogram(x, m)  # p - array of count of points that fall into the intervals\n",
        "  a, b = x.min(), x.max()\n",
        "  print(\"The original set:\")\n",
        "  print(\"p=\", p)\n",
        "  print(\"delta=\", intervals)\n",
        "  print(\"m=\", m)\n",
        "  p, delta = set_narrow(p, intervals)  # narrowing of the set\n",
        "  m1 = len(p)\n",
        "  print(\"Narrowed set:\")\n",
        "  print(\"p=\", p)\n",
        "  print(\"delta=\", delta)\n",
        "  print(\"m1=\", m1)\n",
        "\n",
        "  # plotting bar chart\n",
        "  X = np.array([(delta[j] + delta[j + 1]) / 2 for j in range(m1)])\n",
        "  Y = np.array([p[j] / (delta[j + 1] - delta[j]) for j in range(m1)])\n",
        "  fig = plt.figure(dpi=100)\n",
        "  plt.bar(X, Y, 1)\n",
        "\n",
        "  # set interval min=-inf; max=inf\n",
        "  delta[0] = -np.inf\n",
        "  delta[-1] = np.inf\n",
        "  # setting distribution type\n",
        "  if low == 'lognorm':\n",
        "      mu, sigma = np.log(x).mean(), np.sqrt(np.log(x).var())\n",
        "      dist = stats.lognorm(sigma, scale=np.exp(mu))\n",
        "      print(mu, sigma)\n",
        "  elif low == 'exp':\n",
        "      la = 1 / x.mean()\n",
        "      dist = stats.expon(scale=1 / la)\n",
        "      print(la)\n",
        "  else:\n",
        "      dist = stats.uniform(a, b)\n",
        "      print(a, b)\n",
        "  # setting real percentage of fall into intervals multiply by N\n",
        "  nt = np.array([dist.cdf(delta[j + 1]) - dist.cdf(delta[j]) for j in range(m1 - 1)]) * n\n",
        "\n",
        "  # calculating chi\n",
        "  chi = np.array([(p[j] - nt[j]) ** 2 / nt[j] for j in range(m1 - 1)]).sum()\n",
        "  # finding table value\n",
        "  krit = stats.chi2.ppf(1 - alpha, m - 3)\n",
        "  # plotting\n",
        "  h = 10 ** -3\n",
        "  r = np.arange(a - h * 2, b + h * 2, h)\n",
        "  y1 = dist.pdf(r) * n\n",
        "  plt.plot(r, y1, linewidth=2, color='y')\n",
        "  plt.show()\n",
        "  \n",
        "  if chi < krit:\n",
        "    print(\"Data is goes from {} distribution\".format(low))\n",
        "  if chi > krit:\n",
        "    print(\"Data is not goes from {} distribution\".format(low))"
      ],
      "execution_count": 9,
      "outputs": [
        {
          "output_type": "display_data",
          "data": {
            "application/vnd.jupyter.widget-view+json": {
              "model_id": "321aec5027e84f29ab2fa7924c2a07c6",
              "version_minor": 0,
              "version_major": 2
            },
            "text/plain": [
              "interactive(children=(Dropdown(description='variant', options=(1, 2, 3, 4, 5, 6, 7, 8, 9, 10, 11, 12, 13, 14, …"
            ]
          },
          "metadata": {
            "tags": []
          }
        }
      ]
    },
    {
      "cell_type": "markdown",
      "metadata": {
        "id": "edIKzwJraMMG",
        "colab_type": "text"
      },
      "source": [
        "### Example 3.\n",
        "\n",
        "An engineer is investing the amount of standard deviation in the time it takes a 3D printer to make a particular part. The engineer believes that the standard deviation in the time it takes to make the part is more than 4. Test this at  level of significance, using 11 sample times taken while the printer was making these parts. The sample standard deviation is 4.3."
      ]
    },
    {
      "cell_type": "markdown",
      "metadata": {
        "id": "Oeurlk8sbG6s",
        "colab_type": "text"
      },
      "source": [
        "$n=11$ $s=4.3$\n",
        "\n",
        "The hypothesis testing problem is $H_0: σ=4$ against  $H_A: σ>4$(right-tailed)\n",
        "\n",
        "The test statistic for testing above hypothesis testing problem is\n",
        "$χ^2=\\frac{(n-1)s^2}{σ^2}$\n",
        "\n",
        "The test statistic follows chi-square distribution with $n-1$ degrees of freedom\n",
        "\n",
        "The significance level is $α=0.01$."
      ]
    },
    {
      "cell_type": "code",
      "metadata": {
        "id": "HW5OcI0naLss",
        "colab_type": "code",
        "colab": {
          "base_uri": "https://localhost:8080/",
          "height": 282
        },
        "outputId": "f4eca2d1-1d83-45f0-a722-0e492dd98af4"
      },
      "source": [
        "n = 11\n",
        "s = 4.3\n",
        "sigma = 4\n",
        "alpha = 0.01\n",
        "chi_calc = ((n-1)*(s**2))/(sigma**2)\n",
        "chi_krit = stats.chi2.ppf(1-alpha, n-1)\n",
        "x = np.linspace(stats.chi2.ppf(0.01, n-1), 50, 100)\n",
        "\n",
        "plt.plot(x, stats.chi2.pdf(x, n-1), alpha=0.6, label=f' X ~ χ^2({n-1})')\n",
        "\n",
        "plt.vlines(chi_krit, 0.0, 1.0, colors='r', linestyles=\"dashdot\", label=f\"Crit. Value: {chi_krit:.2f}\")\n",
        "plt.vlines(chi_calc, 0.0, 1.0, linestyles=\"dashdot\", label=f\"Calc. Value: {chi_calc:.2f}\")\n",
        "plt.legend()"
      ],
      "execution_count": 10,
      "outputs": [
        {
          "output_type": "execute_result",
          "data": {
            "text/plain": [
              "<matplotlib.legend.Legend at 0x7f393c722320>"
            ]
          },
          "metadata": {
            "tags": []
          },
          "execution_count": 10
        },
        {
          "output_type": "display_data",
          "data": {
            "image/png": "[encoded data removed]",
            "text/plain": [
              "<Figure size 432x288 with 1 Axes>"
            ]
          },
          "metadata": {
            "tags": [],
            "needs_background": "light"
          }
        }
      ]
    },
    {
      "cell_type": "markdown",
      "metadata": {
        "id": "n7rXmOAfz7t9",
        "colab_type": "text"
      },
      "source": [
        "## Applications\n",
        "\n",
        "In cryptanalysis, the chi-squared test is used to compare the distribution of plaintext and (possibly) decrypted ciphertext. The lowest value of the test means that the decryption was successful with high probability.This method can be generalized for solving modern cryptographic problems.\n",
        "\n",
        "In bioinformatics, chi-squared test is used to compare the distribution of certain properties of genes (e.g, genomic content, mutation rate, interaction network clustering, etc.) belonging to different categories (e.g., disease genes, essential genes, genes on a certain chromosome etc.).\n",
        "\n",
        "## Conclusion\n",
        "\n",
        "Two potential disadvantages of chi square are:\n",
        "\n",
        "- The chi square test can only be used for data put into classes (bins). If you have non-binned data you’ll need to make a frequency table or histogram before performing the test.\n",
        "- Another disadvantage of the chi-square test is that it requires a sufficient sample size in order for the chi-square approximation to be valid."
      ]
    },
    {
      "cell_type": "markdown",
      "metadata": {
        "id": "jBzcWz4M0Fm0",
        "colab_type": "text"
      },
      "source": [
        "## References / Acknowledgements"
      ]
    },
    {
      "cell_type": "markdown",
      "metadata": {
        "id": "K1nm8ZcO0JUH",
        "colab_type": "text"
      },
      "source": [
        "1. https://en.wikipedia.org/wiki/Chi-squared_test\n",
        "2. https://www.statisticshowto.datasciencecentral.com/probability-and-statistics/chi-square/\n",
        "3. https://www.statisticshowto.datasciencecentral.com/goodness-of-fit-test/"
      ]
    }
  ]
}