{
  "nbformat": 4,
  "nbformat_minor": 0,
  "metadata": {
    "colab": {
      "name": "Chi-square test .ipynb",
      "provenance": [],
      "collapsed_sections": [],
      "include_colab_link": true
    },
    "kernelspec": {
      "name": "python3",
      "display_name": "Python 3"
    },
    "widgets": {
      "application/vnd.jupyter.widget-state+json": {
        "ced61a64b55740019db6e7213ee8a2fc": {
          "model_module": "@jupyter-widgets/controls",
          "model_name": "VBoxModel",
          "state": {
            "_view_name": "VBoxView",
            "_dom_classes": [
              "widget-interact"
            ],
            "_model_name": "VBoxModel",
            "_view_module": "@jupyter-widgets/controls",
            "_model_module_version": "1.5.0",
            "_view_count": null,
            "_view_module_version": "1.5.0",
            "box_style": "",
            "layout": "IPY_MODEL_09e96a61ea93442188d5b40b3385b8dc",
            "_model_module": "@jupyter-widgets/controls",
            "children": [
              "IPY_MODEL_9df3dc7cf1ef4cb482991d6805fc0b4d",
              "IPY_MODEL_fb0889c436d64831b5502d1503ef012b"
            ]
          }
        },
        "09e96a61ea93442188d5b40b3385b8dc": {
          "model_module": "@jupyter-widgets/base",
          "model_name": "LayoutModel",
          "state": {
            "_view_name": "LayoutView",
            "grid_template_rows": null,
            "right": null,
            "justify_content": null,
            "_view_module": "@jupyter-widgets/base",
            "overflow": null,
            "_model_module_version": "1.2.0",
            "_view_count": null,
            "flex_flow": null,
            "width": null,
            "min_width": null,
            "border": null,
            "align_items": null,
            "bottom": null,
            "_model_module": "@jupyter-widgets/base",
            "top": null,
            "grid_column": null,
            "overflow_y": null,
            "overflow_x": null,
            "grid_auto_flow": null,
            "grid_area": null,
            "grid_template_columns": null,
            "flex": null,
            "_model_name": "LayoutModel",
            "justify_items": null,
            "grid_row": null,
            "max_height": null,
            "align_content": null,
            "visibility": null,
            "align_self": null,
            "height": null,
            "min_height": null,
            "padding": null,
            "grid_auto_rows": null,
            "grid_gap": null,
            "max_width": null,
            "order": null,
            "_view_module_version": "1.2.0",
            "grid_template_areas": null,
            "object_position": null,
            "object_fit": null,
            "grid_auto_columns": null,
            "margin": null,
            "display": null,
            "left": null
          }
        },
        "9df3dc7cf1ef4cb482991d6805fc0b4d": {
          "model_module": "@jupyter-widgets/controls",
          "model_name": "FloatSliderModel",
          "state": {
            "_view_name": "FloatSliderView",
            "style": "IPY_MODEL_ab2efd2dae174315a6e96a055127bb89",
            "_dom_classes": [],
            "description": "alpha",
            "step": 0.01,
            "_model_name": "FloatSliderModel",
            "orientation": "horizontal",
            "max": 0.25,
            "_view_module": "@jupyter-widgets/controls",
            "_model_module_version": "1.5.0",
            "value": 0.1,
            "_view_count": null,
            "disabled": false,
            "_view_module_version": "1.5.0",
            "min": 0,
            "continuous_update": true,
            "readout_format": ".2f",
            "description_tooltip": null,
            "readout": true,
            "_model_module": "@jupyter-widgets/controls",
            "layout": "IPY_MODEL_c8270de9c006493e82502d93e155b301"
          }
        },
        "fb0889c436d64831b5502d1503ef012b": {
          "model_module": "@jupyter-widgets/output",
          "model_name": "OutputModel",
          "state": {
            "_view_name": "OutputView",
            "msg_id": "",
            "_dom_classes": [],
            "_model_name": "OutputModel",
            "outputs": [
              {
                "output_type": "stream",
                "metadata": {
                  "tags": []
                },
                "text": "Null hypothesis is true\n",
                "stream": "stdout"
              },
              {
                "output_type": "display_data",
                "metadata": {
                  "tags": [],
                  "needs_background": "light"
                },
                "image/png": "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\n",
                "text/plain": "<Figure size 432x288 with 1 Axes>"
              }
            ],
            "_view_module": "@jupyter-widgets/output",
            "_model_module_version": "1.0.0",
            "_view_count": null,
            "_view_module_version": "1.0.0",
            "layout": "IPY_MODEL_9417f93594b847b186d628e3e6eee53f",
            "_model_module": "@jupyter-widgets/output"
          }
        },
        "ab2efd2dae174315a6e96a055127bb89": {
          "model_module": "@jupyter-widgets/controls",
          "model_name": "SliderStyleModel",
          "state": {
            "_view_name": "StyleView",
            "handle_color": null,
            "_model_name": "SliderStyleModel",
            "description_width": "",
            "_view_module": "@jupyter-widgets/base",
            "_model_module_version": "1.5.0",
            "_view_count": null,
            "_view_module_version": "1.2.0",
            "_model_module": "@jupyter-widgets/controls"
          }
        },
        "c8270de9c006493e82502d93e155b301": {
          "model_module": "@jupyter-widgets/base",
          "model_name": "LayoutModel",
          "state": {
            "_view_name": "LayoutView",
            "grid_template_rows": null,
            "right": null,
            "justify_content": null,
            "_view_module": "@jupyter-widgets/base",
            "overflow": null,
            "_model_module_version": "1.2.0",
            "_view_count": null,
            "flex_flow": null,
            "width": null,
            "min_width": null,
            "border": null,
            "align_items": null,
            "bottom": null,
            "_model_module": "@jupyter-widgets/base",
            "top": null,
            "grid_column": null,
            "overflow_y": null,
            "overflow_x": null,
            "grid_auto_flow": null,
            "grid_area": null,
            "grid_template_columns": null,
            "flex": null,
            "_model_name": "LayoutModel",
            "justify_items": null,
            "grid_row": null,
            "max_height": null,
            "align_content": null,
            "visibility": null,
            "align_self": null,
            "height": null,
            "min_height": null,
            "padding": null,
            "grid_auto_rows": null,
            "grid_gap": null,
            "max_width": null,
            "order": null,
            "_view_module_version": "1.2.0",
            "grid_template_areas": null,
            "object_position": null,
            "object_fit": null,
            "grid_auto_columns": null,
            "margin": null,
            "display": null,
            "left": null
          }
        },
        "9417f93594b847b186d628e3e6eee53f": {
          "model_module": "@jupyter-widgets/base",
          "model_name": "LayoutModel",
          "state": {
            "_view_name": "LayoutView",
            "grid_template_rows": null,
            "right": null,
            "justify_content": null,
            "_view_module": "@jupyter-widgets/base",
            "overflow": null,
            "_model_module_version": "1.2.0",
            "_view_count": null,
            "flex_flow": null,
            "width": null,
            "min_width": null,
            "border": null,
            "align_items": null,
            "bottom": null,
            "_model_module": "@jupyter-widgets/base",
            "top": null,
            "grid_column": null,
            "overflow_y": null,
            "overflow_x": null,
            "grid_auto_flow": null,
            "grid_area": null,
            "grid_template_columns": null,
            "flex": null,
            "_model_name": "LayoutModel",
            "justify_items": null,
            "grid_row": null,
            "max_height": null,
            "align_content": null,
            "visibility": null,
            "align_self": null,
            "height": null,
            "min_height": null,
            "padding": null,
            "grid_auto_rows": null,
            "grid_gap": null,
            "max_width": null,
            "order": null,
            "_view_module_version": "1.2.0",
            "grid_template_areas": null,
            "object_position": null,
            "object_fit": null,
            "grid_auto_columns": null,
            "margin": null,
            "display": null,
            "left": null
          }
        },
        "8d26434140694452abd79da0cdb9f8f8": {
          "model_module": "@jupyter-widgets/controls",
          "model_name": "VBoxModel",
          "state": {
            "_view_name": "VBoxView",
            "_dom_classes": [
              "widget-interact"
            ],
            "_model_name": "VBoxModel",
            "_view_module": "@jupyter-widgets/controls",
            "_model_module_version": "1.5.0",
            "_view_count": null,
            "_view_module_version": "1.5.0",
            "box_style": "",
            "layout": "IPY_MODEL_1dc6a81c5d904574896ef6153a44f228",
            "_model_module": "@jupyter-widgets/controls",
            "children": [
              "IPY_MODEL_31f1f5438992413899c0f3fda342da8c",
              "IPY_MODEL_6a91d005c61645d08ef30609406780ae",
              "IPY_MODEL_b33dc396bac242c2bf0174bba7a98e44",
              "IPY_MODEL_4aab196e87e44702895854c680e16e2a"
            ]
          }
        },
        "1dc6a81c5d904574896ef6153a44f228": {
          "model_module": "@jupyter-widgets/base",
          "model_name": "LayoutModel",
          "state": {
            "_view_name": "LayoutView",
            "grid_template_rows": null,
            "right": null,
            "justify_content": null,
            "_view_module": "@jupyter-widgets/base",
            "overflow": null,
            "_model_module_version": "1.2.0",
            "_view_count": null,
            "flex_flow": null,
            "width": null,
            "min_width": null,
            "border": null,
            "align_items": null,
            "bottom": null,
            "_model_module": "@jupyter-widgets/base",
            "top": null,
            "grid_column": null,
            "overflow_y": null,
            "overflow_x": null,
            "grid_auto_flow": null,
            "grid_area": null,
            "grid_template_columns": null,
            "flex": null,
            "_model_name": "LayoutModel",
            "justify_items": null,
            "grid_row": null,
            "max_height": null,
            "align_content": null,
            "visibility": null,
            "align_self": null,
            "height": null,
            "min_height": null,
            "padding": null,
            "grid_auto_rows": null,
            "grid_gap": null,
            "max_width": null,
            "order": null,
            "_view_module_version": "1.2.0",
            "grid_template_areas": null,
            "object_position": null,
            "object_fit": null,
            "grid_auto_columns": null,
            "margin": null,
            "display": null,
            "left": null
          }
        },
        "31f1f5438992413899c0f3fda342da8c": {
          "model_module": "@jupyter-widgets/controls",
          "model_name": "DropdownModel",
          "state": {
            "_options_labels": [
              "1",
              "2",
              "3",
              "4",
              "5",
              "6",
              "7",
              "8",
              "9",
              "10",
              "11",
              "12",
              "13",
              "14",
              "15"
            ],
            "_view_name": "DropdownView",
            "style": "IPY_MODEL_59c11df960cb49a5bb0fb1752c6b40e2",
            "_dom_classes": [],
            "description": "variant",
            "_model_name": "DropdownModel",
            "index": 0,
            "_view_module": "@jupyter-widgets/controls",
            "_model_module_version": "1.5.0",
            "_view_count": null,
            "disabled": false,
            "_view_module_version": "1.5.0",
            "description_tooltip": null,
            "_model_module": "@jupyter-widgets/controls",
            "layout": "IPY_MODEL_dae75c851603429a913c74dd1e81499f"
          }
        },
        "6a91d005c61645d08ef30609406780ae": {
          "model_module": "@jupyter-widgets/controls",
          "model_name": "DropdownModel",
          "state": {
            "_options_labels": [
              "lognorm",
              "uniform",
              "exp"
            ],
            "_view_name": "DropdownView",
            "style": "IPY_MODEL_6c4475f0f7d44a4884bd13d32cd0d849",
            "_dom_classes": [],
            "description": "low",
            "_model_name": "DropdownModel",
            "index": 0,
            "_view_module": "@jupyter-widgets/controls",
            "_model_module_version": "1.5.0",
            "_view_count": null,
            "disabled": false,
            "_view_module_version": "1.5.0",
            "description_tooltip": null,
            "_model_module": "@jupyter-widgets/controls",
            "layout": "IPY_MODEL_dec7e6e37f31409eb7e362d4178c037d"
          }
        },
        "b33dc396bac242c2bf0174bba7a98e44": {
          "model_module": "@jupyter-widgets/controls",
          "model_name": "FloatSliderModel",
          "state": {
            "_view_name": "FloatSliderView",
            "style": "IPY_MODEL_08225c7a00db4b0eac9557b26d5e5729",
            "_dom_classes": [],
            "description": "alpha",
            "step": 0.01,
            "_model_name": "FloatSliderModel",
            "orientation": "horizontal",
            "max": 0.25,
            "_view_module": "@jupyter-widgets/controls",
            "_model_module_version": "1.5.0",
            "value": 0.1,
            "_view_count": null,
            "disabled": false,
            "_view_module_version": "1.5.0",
            "min": 0,
            "continuous_update": true,
            "readout_format": ".2f",
            "description_tooltip": null,
            "readout": true,
            "_model_module": "@jupyter-widgets/controls",
            "layout": "IPY_MODEL_f8a59c3f4dd545d8ac3fb4eaad639a42"
          }
        },
        "4aab196e87e44702895854c680e16e2a": {
          "model_module": "@jupyter-widgets/output",
          "model_name": "OutputModel",
          "state": {
            "_view_name": "OutputView",
            "msg_id": "",
            "_dom_classes": [],
            "_model_name": "OutputModel",
            "outputs": [
              {
                "output_type": "stream",
                "metadata": {
                  "tags": []
                },
                "text": "The original set:\np= [38 61 73 34 18 17  6  0  3]\ndelta= [ 40.01        62.08666667  84.16333333 106.24       128.31666667\n 150.39333333 172.47       194.54666667 216.62333333 238.7       ]\nm= 9\nNarrowed set:\np= [38 61 73 34 18 17  9  3]\ndelta= [ 40.01        62.08666667  84.16333333 106.24       128.31666667\n 150.39333333 172.47       194.54666667 216.62333333]\nm1= 8\n4.515582965764561 0.354590460400682\n",
                "stream": "stdout"
              },
              {
                "output_type": "display_data",
                "metadata": {
                  "tags": [],
                  "needs_background": "light"
                },
                "image/png": "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\n",
                "text/plain": "<Figure size 600x400 with 1 Axes>"
              },
              {
                "output_type": "stream",
                "metadata": {
                  "tags": []
                },
                "text": "Data is not goes from lognorm distribution\n",
                "stream": "stdout"
              }
            ],
            "_view_module": "@jupyter-widgets/output",
            "_model_module_version": "1.0.0",
            "_view_count": null,
            "_view_module_version": "1.0.0",
            "layout": "IPY_MODEL_0f577745a48640a69f31a300015b9964",
            "_model_module": "@jupyter-widgets/output"
          }
        },
        "59c11df960cb49a5bb0fb1752c6b40e2": {
          "model_module": "@jupyter-widgets/controls",
          "model_name": "DescriptionStyleModel",
          "state": {
            "_view_name": "StyleView",
            "_model_name": "DescriptionStyleModel",
            "description_width": "",
            "_view_module": "@jupyter-widgets/base",
            "_model_module_version": "1.5.0",
            "_view_count": null,
            "_view_module_version": "1.2.0",
            "_model_module": "@jupyter-widgets/controls"
          }
        },
        "dae75c851603429a913c74dd1e81499f": {
          "model_module": "@jupyter-widgets/base",
          "model_name": "LayoutModel",
          "state": {
            "_view_name": "LayoutView",
            "grid_template_rows": null,
            "right": null,
            "justify_content": null,
            "_view_module": "@jupyter-widgets/base",
            "overflow": null,
            "_model_module_version": "1.2.0",
            "_view_count": null,
            "flex_flow": null,
            "width": null,
            "min_width": null,
            "border": null,
            "align_items": null,
            "bottom": null,
            "_model_module": "@jupyter-widgets/base",
            "top": null,
            "grid_column": null,
            "overflow_y": null,
            "overflow_x": null,
            "grid_auto_flow": null,
            "grid_area": null,
            "grid_template_columns": null,
            "flex": null,
            "_model_name": "LayoutModel",
            "justify_items": null,
            "grid_row": null,
            "max_height": null,
            "align_content": null,
            "visibility": null,
            "align_self": null,
            "height": null,
            "min_height": null,
            "padding": null,
            "grid_auto_rows": null,
            "grid_gap": null,
            "max_width": null,
            "order": null,
            "_view_module_version": "1.2.0",
            "grid_template_areas": null,
            "object_position": null,
            "object_fit": null,
            "grid_auto_columns": null,
            "margin": null,
            "display": null,
            "left": null
          }
        },
        "6c4475f0f7d44a4884bd13d32cd0d849": {
          "model_module": "@jupyter-widgets/controls",
          "model_name": "DescriptionStyleModel",
          "state": {
            "_view_name": "StyleView",
            "_model_name": "DescriptionStyleModel",
            "description_width": "",
            "_view_module": "@jupyter-widgets/base",
            "_model_module_version": "1.5.0",
            "_view_count": null,
            "_view_module_version": "1.2.0",
            "_model_module": "@jupyter-widgets/controls"
          }
        },
        "dec7e6e37f31409eb7e362d4178c037d": {
          "model_module": "@jupyter-widgets/base",
          "model_name": "LayoutModel",
          "state": {
            "_view_name": "LayoutView",
            "grid_template_rows": null,
            "right": null,
            "justify_content": null,
            "_view_module": "@jupyter-widgets/base",
            "overflow": null,
            "_model_module_version": "1.2.0",
            "_view_count": null,
            "flex_flow": null,
            "width": null,
            "min_width": null,
            "border": null,
            "align_items": null,
            "bottom": null,
            "_model_module": "@jupyter-widgets/base",
            "top": null,
            "grid_column": null,
            "overflow_y": null,
            "overflow_x": null,
            "grid_auto_flow": null,
            "grid_area": null,
            "grid_template_columns": null,
            "flex": null,
            "_model_name": "LayoutModel",
            "justify_items": null,
            "grid_row": null,
            "max_height": null,
            "align_content": null,
            "visibility": null,
            "align_self": null,
            "height": null,
            "min_height": null,
            "padding": null,
            "grid_auto_rows": null,
            "grid_gap": null,
            "max_width": null,
            "order": null,
            "_view_module_version": "1.2.0",
            "grid_template_areas": null,
            "object_position": null,
            "object_fit": null,
            "grid_auto_columns": null,
            "margin": null,
            "display": null,
            "left": null
          }
        },
        "08225c7a00db4b0eac9557b26d5e5729": {
          "model_module": "@jupyter-widgets/controls",
          "model_name": "SliderStyleModel",
          "state": {
            "_view_name": "StyleView",
            "handle_color": null,
            "_model_name": "SliderStyleModel",
            "description_width": "",
            "_view_module": "@jupyter-widgets/base",
            "_model_module_version": "1.5.0",
            "_view_count": null,
            "_view_module_version": "1.2.0",
            "_model_module": "@jupyter-widgets/controls"
          }
        },
        "f8a59c3f4dd545d8ac3fb4eaad639a42": {
          "model_module": "@jupyter-widgets/base",
          "model_name": "LayoutModel",
          "state": {
            "_view_name": "LayoutView",
            "grid_template_rows": null,
            "right": null,
            "justify_content": null,
            "_view_module": "@jupyter-widgets/base",
            "overflow": null,
            "_model_module_version": "1.2.0",
            "_view_count": null,
            "flex_flow": null,
            "width": null,
            "min_width": null,
            "border": null,
            "align_items": null,
            "bottom": null,
            "_model_module": "@jupyter-widgets/base",
            "top": null,
            "grid_column": null,
            "overflow_y": null,
            "overflow_x": null,
            "grid_auto_flow": null,
            "grid_area": null,
            "grid_template_columns": null,
            "flex": null,
            "_model_name": "LayoutModel",
            "justify_items": null,
            "grid_row": null,
            "max_height": null,
            "align_content": null,
            "visibility": null,
            "align_self": null,
            "height": null,
            "min_height": null,
            "padding": null,
            "grid_auto_rows": null,
            "grid_gap": null,
            "max_width": null,
            "order": null,
            "_view_module_version": "1.2.0",
            "grid_template_areas": null,
            "object_position": null,
            "object_fit": null,
            "grid_auto_columns": null,
            "margin": null,
            "display": null,
            "left": null
          }
        },
        "0f577745a48640a69f31a300015b9964": {
          "model_module": "@jupyter-widgets/base",
          "model_name": "LayoutModel",
          "state": {
            "_view_name": "LayoutView",
            "grid_template_rows": null,
            "right": null,
            "justify_content": null,
            "_view_module": "@jupyter-widgets/base",
            "overflow": null,
            "_model_module_version": "1.2.0",
            "_view_count": null,
            "flex_flow": null,
            "width": null,
            "min_width": null,
            "border": null,
            "align_items": null,
            "bottom": null,
            "_model_module": "@jupyter-widgets/base",
            "top": null,
            "grid_column": null,
            "overflow_y": null,
            "overflow_x": null,
            "grid_auto_flow": null,
            "grid_area": null,
            "grid_template_columns": null,
            "flex": null,
            "_model_name": "LayoutModel",
            "justify_items": null,
            "grid_row": null,
            "max_height": null,
            "align_content": null,
            "visibility": null,
            "align_self": null,
            "height": null,
            "min_height": null,
            "padding": null,
            "grid_auto_rows": null,
            "grid_gap": null,
            "max_width": null,
            "order": null,
            "_view_module_version": "1.2.0",
            "grid_template_areas": null,
            "object_position": null,
            "object_fit": null,
            "grid_auto_columns": null,
            "margin": null,
            "display": null,
            "left": null
          }
        }
      }
    }
  },
  "cells": [
    {
      "cell_type": "markdown",
      "metadata": {
        "id": "view-in-github",
        "colab_type": "text"
      },
      "source": [
        "<a href=\"https://colab.research.google.com/github/sergey-jr/Interactive-Statistics-Notebooks/blob/master/Chi_square_test.ipynb\" target=\"_parent\"><img src=\"https://colab.research.google.com/assets/colab-badge.svg\" alt=\"Open In Colab\"/></a>"
      ]
    },
    {
      "cell_type": "markdown",
      "metadata": {
        "id": "ITC684n6xm2f",
        "colab_type": "text"
      },
      "source": [
        "# Chi-square test\n",
        "\n",
        "### Table of contents\n",
        "1.   Intro\n",
        "2. Main formulas\n",
        "3. Connection to other distribution\n",
        "4. Examples"
      ]
    },
    {
      "cell_type": "markdown",
      "metadata": {
        "id": "CdLByacoxqBU",
        "colab_type": "text"
      },
      "source": [
        "## Intro\n",
        "\n"
      ]
    },
    {
      "cell_type": "markdown",
      "metadata": {
        "id": "6akCu43SFPQ6",
        "colab_type": "text"
      },
      "source": [
        "The term \"chi-squared test,\" also written as χ<sup>2</sup> test, refers to certain types of statistical hypothesis tests that are valid to perform when the test statistic is chi-squared distributed under the null hypothesis. Often, however, the term is used to refer to Pearson's chi-squared test and variants thereof. Pearson's chi-squared test is used to determine whether there is a statistically significant difference (i.e., a magnitude of difference that is unlikely to be due to chance alone) between the expected frequencies and the observed frequencies in one or more categories of a so-called contingency table.\n",
        "\n",
        "There are two types of chi-square tests. Both use the chi-square statistic and distribution for different purposes:\n",
        "\n",
        "- A chi-square goodness of fit test determines if a sample data matches a population (in terms of distribution). Another name for it - Pearson's chi-squared test.\n",
        "- A chi-square test for independence compares two variables in a contingency table to see if they are related. In a more general sense, it tests to see whether distributions of categorical variables differ from each another.\n",
        " - A very small chi square test statistic means that your observed data fits your expected data extremely well. In other words, there is a relationship.\n",
        " - A very large chi square test statistic means that the data does not fit very well. In other words, there isn’t a relationship.\n",
        "\n"
      ]
    },
    {
      "cell_type": "markdown",
      "metadata": {
        "id": "z7ZJW23HINV2",
        "colab_type": "text"
      },
      "source": [
        "## Main formulas\n",
        "\n",
        "### Degree of Freedom\n",
        "\n",
        "$DF = (rows - 1)*(columns - 1)$\n",
        "\n",
        "### chi-squred calculation\n",
        "\n",
        "$χ^{2}_{cal} = \\sum_{i=1}^{n} \\frac{(O_i-E_i)^2}{E_i}$\n",
        "\n",
        "- O = each Observed (actual) value\n",
        "- E = each Expected value"
      ]
    },
    {
      "cell_type": "markdown",
      "metadata": {
        "id": "B3P4kXxsFK0u",
        "colab_type": "text"
      },
      "source": [
        "## Connection with other tests:\n",
        "\n",
        "For an exact test used in place of the 2 x 2 chi-squared test for independence, see [Fisher's exact test](https://en.wikipedia.org/wiki/Fisher%27s_exact_test).\n",
        "\n",
        "For an exact test used in place of the 2 x 1 chi-squared test for goodness of fit, see [Binomial test](https://en.wikipedia.org/wiki/Binomial_test)."
      ]
    },
    {
      "cell_type": "markdown",
      "metadata": {
        "id": "EovComAJxr-0",
        "colab_type": "text"
      },
      "source": [
        "## Setup\n"
      ]
    },
    {
      "cell_type": "code",
      "metadata": {
        "id": "6sMu20VHEkXo",
        "colab_type": "code",
        "colab": {
          "base_uri": "https://localhost:8080/",
          "height": 666
        },
        "outputId": "f0e60e65-9589-4062-c3f2-a798bc78b53d"
      },
      "source": [
        "! pip install ipywidgets\n",
        "! jupyter nbextension enable --py widgetsnbextension"
      ],
      "execution_count": 1,
      "outputs": [
        {
          "output_type": "stream",
          "text": [
            "Requirement already satisfied: ipywidgets in /usr/local/lib/python3.6/dist-packages (7.5.1)\n",
            "Requirement already satisfied: ipython>=4.0.0; python_version >= \"3.3\" in /usr/local/lib/python3.6/dist-packages (from ipywidgets) (5.5.0)\n",
            "Requirement already satisfied: widgetsnbextension~=3.5.0 in /usr/local/lib/python3.6/dist-packages (from ipywidgets) (3.5.1)\n",
            "Requirement already satisfied: traitlets>=4.3.1 in /usr/local/lib/python3.6/dist-packages (from ipywidgets) (4.3.3)\n",
            "Requirement already satisfied: nbformat>=4.2.0 in /usr/local/lib/python3.6/dist-packages (from ipywidgets) (5.0.5)\n",
            "Requirement already satisfied: ipykernel>=4.5.1 in /usr/local/lib/python3.6/dist-packages (from ipywidgets) (4.10.1)\n",
            "Requirement already satisfied: decorator in /usr/local/lib/python3.6/dist-packages (from ipython>=4.0.0; python_version >= \"3.3\"->ipywidgets) (4.4.2)\n",
            "Requirement already satisfied: simplegeneric>0.8 in /usr/local/lib/python3.6/dist-packages (from ipython>=4.0.0; python_version >= \"3.3\"->ipywidgets) (0.8.1)\n",
            "Requirement already satisfied: prompt-toolkit<2.0.0,>=1.0.4 in /usr/local/lib/python3.6/dist-packages (from ipython>=4.0.0; python_version >= \"3.3\"->ipywidgets) (1.0.18)\n",
            "Requirement already satisfied: setuptools>=18.5 in /usr/local/lib/python3.6/dist-packages (from ipython>=4.0.0; python_version >= \"3.3\"->ipywidgets) (46.1.3)\n",
            "Requirement already satisfied: pygments in /usr/local/lib/python3.6/dist-packages (from ipython>=4.0.0; python_version >= \"3.3\"->ipywidgets) (2.1.3)\n",
            "Requirement already satisfied: pickleshare in /usr/local/lib/python3.6/dist-packages (from ipython>=4.0.0; python_version >= \"3.3\"->ipywidgets) (0.7.5)\n",
            "Requirement already satisfied: pexpect; sys_platform != \"win32\" in /usr/local/lib/python3.6/dist-packages (from ipython>=4.0.0; python_version >= \"3.3\"->ipywidgets) (4.8.0)\n",
            "Requirement already satisfied: notebook>=4.4.1 in /usr/local/lib/python3.6/dist-packages (from widgetsnbextension~=3.5.0->ipywidgets) (5.2.2)\n",
            "Requirement already satisfied: six in /usr/local/lib/python3.6/dist-packages (from traitlets>=4.3.1->ipywidgets) (1.12.0)\n",
            "Requirement already satisfied: ipython-genutils in /usr/local/lib/python3.6/dist-packages (from traitlets>=4.3.1->ipywidgets) (0.2.0)\n",
            "Requirement already satisfied: jupyter-core in /usr/local/lib/python3.6/dist-packages (from nbformat>=4.2.0->ipywidgets) (4.6.3)\n",
            "Requirement already satisfied: jsonschema!=2.5.0,>=2.4 in /usr/local/lib/python3.6/dist-packages (from nbformat>=4.2.0->ipywidgets) (2.6.0)\n",
            "Requirement already satisfied: jupyter-client in /usr/local/lib/python3.6/dist-packages (from ipykernel>=4.5.1->ipywidgets) (5.3.4)\n",
            "Requirement already satisfied: tornado>=4.0 in /usr/local/lib/python3.6/dist-packages (from ipykernel>=4.5.1->ipywidgets) (4.5.3)\n",
            "Requirement already satisfied: wcwidth in /usr/local/lib/python3.6/dist-packages (from prompt-toolkit<2.0.0,>=1.0.4->ipython>=4.0.0; python_version >= \"3.3\"->ipywidgets) (0.1.9)\n",
            "Requirement already satisfied: ptyprocess>=0.5 in /usr/local/lib/python3.6/dist-packages (from pexpect; sys_platform != \"win32\"->ipython>=4.0.0; python_version >= \"3.3\"->ipywidgets) (0.6.0)\n",
            "Requirement already satisfied: jinja2 in /usr/local/lib/python3.6/dist-packages (from notebook>=4.4.1->widgetsnbextension~=3.5.0->ipywidgets) (2.11.1)\n",
            "Requirement already satisfied: nbconvert in /usr/local/lib/python3.6/dist-packages (from notebook>=4.4.1->widgetsnbextension~=3.5.0->ipywidgets) (5.6.1)\n",
            "Requirement already satisfied: terminado>=0.3.3; sys_platform != \"win32\" in /usr/local/lib/python3.6/dist-packages (from notebook>=4.4.1->widgetsnbextension~=3.5.0->ipywidgets) (0.8.3)\n",
            "Requirement already satisfied: pyzmq>=13 in /usr/local/lib/python3.6/dist-packages (from jupyter-client->ipykernel>=4.5.1->ipywidgets) (19.0.0)\n",
            "Requirement already satisfied: python-dateutil>=2.1 in /usr/local/lib/python3.6/dist-packages (from jupyter-client->ipykernel>=4.5.1->ipywidgets) (2.8.1)\n",
            "Requirement already satisfied: MarkupSafe>=0.23 in /usr/local/lib/python3.6/dist-packages (from jinja2->notebook>=4.4.1->widgetsnbextension~=3.5.0->ipywidgets) (1.1.1)\n",
            "Requirement already satisfied: pandocfilters>=1.4.1 in /usr/local/lib/python3.6/dist-packages (from nbconvert->notebook>=4.4.1->widgetsnbextension~=3.5.0->ipywidgets) (1.4.2)\n",
            "Requirement already satisfied: defusedxml in /usr/local/lib/python3.6/dist-packages (from nbconvert->notebook>=4.4.1->widgetsnbextension~=3.5.0->ipywidgets) (0.6.0)\n",
            "Requirement already satisfied: entrypoints>=0.2.2 in /usr/local/lib/python3.6/dist-packages (from nbconvert->notebook>=4.4.1->widgetsnbextension~=3.5.0->ipywidgets) (0.3)\n",
            "Requirement already satisfied: bleach in /usr/local/lib/python3.6/dist-packages (from nbconvert->notebook>=4.4.1->widgetsnbextension~=3.5.0->ipywidgets) (3.1.4)\n",
            "Requirement already satisfied: mistune<2,>=0.8.1 in /usr/local/lib/python3.6/dist-packages (from nbconvert->notebook>=4.4.1->widgetsnbextension~=3.5.0->ipywidgets) (0.8.4)\n",
            "Requirement already satisfied: testpath in /usr/local/lib/python3.6/dist-packages (from nbconvert->notebook>=4.4.1->widgetsnbextension~=3.5.0->ipywidgets) (0.4.4)\n",
            "Requirement already satisfied: webencodings in /usr/local/lib/python3.6/dist-packages (from bleach->nbconvert->notebook>=4.4.1->widgetsnbextension~=3.5.0->ipywidgets) (0.5.1)\n",
            "Enabling notebook extension jupyter-js-widgets/extension...\n",
            "      - Validating: \u001b[32mOK\u001b[0m\n"
          ],
          "name": "stdout"
        }
      ]
    },
    {
      "cell_type": "code",
      "metadata": {
        "id": "Qiozktuj16i8",
        "colab_type": "code",
        "colab": {}
      },
      "source": [
        "import ipywidgets as widgets\n",
        "from ipywidgets import interact, interact_manual\n",
        "import numpy as np\n",
        "import scipy.stats as stats\n",
        "import pandas as pd\n",
        "import json\n",
        "import matplotlib.pyplot as plt\n"
      ],
      "execution_count": 0,
      "outputs": []
    },
    {
      "cell_type": "markdown",
      "metadata": {
        "id": "wlRdlNUhQ28-",
        "colab_type": "text"
      },
      "source": [
        "## Examples"
      ]
    },
    {
      "cell_type": "markdown",
      "metadata": {
        "id": "R1f1fPRKF8zm",
        "colab_type": "text"
      },
      "source": [
        "### Example 1.\n",
        "\n",
        "256 visual artists were surveyed to find out their zodiac sign. The results were: Aries (29), Taurus (24), Gemini (22), Cancer (19), Leo (21), Virgo (18), Libra (19), Scorpio (20), Sagittarius (23), Capricorn (18), Aquarius (20), Pisces (23). \n",
        "\n",
        "Test the hypothesis that zodiac signs are evenly distributed across visual artists."
      ]
    },
    {
      "cell_type": "code",
      "metadata": {
        "id": "nO_vqcKkGT6O",
        "colab_type": "code",
        "colab": {}
      },
      "source": [
        "expect = 256/12\n",
        "data = [[\"Aries\", 29, expect], [\"Taurus\", 24, expect], [\"Gemini\", 22, expect], [\"Cancer\", 19, expect], [\"Leo\", 21, expect], \n",
        "        [\"Virgo\", 18, expect], [\"Libra\", 19, expect],[\"Scorpio\", 20, expect], [\"Sagittarius\", 23, expect], [\"Sagittarius\", 23, expect], \n",
        "        [\"Capricorn\", 18, expect], [\"Aquarius\", 20, expect], [\"Pisces\", 23, expect]] \n",
        "data = np.array([np.array(item) for item in data])"
      ],
      "execution_count": 0,
      "outputs": []
    },
    {
      "cell_type": "code",
      "metadata": {
        "id": "5djlAHrK2ETI",
        "colab_type": "code",
        "colab": {}
      },
      "source": [
        "df = pd.DataFrame(data, columns=[\"zodiac sign\", \"Observed\", \"Excpected\"])\n",
        "df.Observed = df.Observed.astype(np.float32)\n",
        "df.Excpected = df.Excpected.astype(np.float32)"
      ],
      "execution_count": 0,
      "outputs": []
    },
    {
      "cell_type": "code",
      "metadata": {
        "id": "KgTO1Out2ZEU",
        "colab_type": "code",
        "outputId": "717a174f-55cf-4ab2-d0c8-8084ad801f21",
        "colab": {
          "base_uri": "https://localhost:8080/",
          "height": 314,
          "referenced_widgets": [
            "ced61a64b55740019db6e7213ee8a2fc",
            "09e96a61ea93442188d5b40b3385b8dc",
            "9df3dc7cf1ef4cb482991d6805fc0b4d",
            "fb0889c436d64831b5502d1503ef012b",
            "ab2efd2dae174315a6e96a055127bb89",
            "c8270de9c006493e82502d93e155b301",
            "9417f93594b847b186d628e3e6eee53f"
          ]
        }
      },
      "source": [
        "@interact(alpha=(0, 0.25, 0.01))\n",
        "def check_chisquare(alpha=0.1):\n",
        "  degree_freedom = (df.shape[0]-1)*(df.shape[1]-2)\n",
        "  chi_calc = (((df[\"Observed\"].values - df[\"Excpected\"].values)**2)/df[\"Excpected\"].values).sum()\n",
        "  krit = stats.chi2.ppf(1 - alpha, degree_freedom)\n",
        "\n",
        "  if chi_calc < krit:\n",
        "    print(\"Null hypothesis is true\")\n",
        "  if chi_calc > krit:\n",
        "    print(\"Null hypothesis can be rejected\")\n",
        "  \n",
        "  x = np.linspace(stats.chi2.ppf(0.01, degree_freedom), stats.chi2.ppf(0.99, degree_freedom), 100)\n",
        "\n",
        "  plt.plot(x, stats.chi2.pdf(x, degree_freedom), alpha=0.6, label=f' X ~ χ^2({degree_freedom})')\n",
        "\n",
        "  plt.vlines(krit, 0.0, 1.0, colors='r', linestyles=\"dashdot\", label=f\"Crit. Value: {krit:.2f}\")\n",
        "  plt.vlines(chi_calc, 0.0, 1.0, linestyles=\"dashdot\", label=f\"Calc. Value: {chi_calc:.2f}\")\n",
        "  plt.legend()"
      ],
      "execution_count": 5,
      "outputs": [
        {
          "output_type": "display_data",
          "data": {
            "application/vnd.jupyter.widget-view+json": {
              "model_id": "ced61a64b55740019db6e7213ee8a2fc",
              "version_minor": 0,
              "version_major": 2
            },
            "text/plain": [
              "interactive(children=(FloatSlider(value=0.1, description='alpha', max=0.25, step=0.01), Output()), _dom_classe…"
            ]
          },
          "metadata": {
            "tags": []
          }
        }
      ]
    },
    {
      "cell_type": "markdown",
      "metadata": {
        "id": "t3CJF7GLQ6bK",
        "colab_type": "text"
      },
      "source": [
        "### Example 2. \n",
        "\n",
        "We have some sets of data, each of them consisits from ~250 elements. We want to check their dictribution. The distributions we will chick on them: normal, uniform and longnorm."
      ]
    },
    {
      "cell_type": "code",
      "metadata": {
        "id": "JBnGoCbDTMQJ",
        "colab_type": "code",
        "colab": {}
      },
      "source": [
        "!wget --no-check-certificate 'https://docs.google.com/uc?export=download&id=1DDUaP-_eHH5a1P2AcCpjqO61oFT_kHzn' -O datasets.zip\n",
        "!unzip datasets.zip -d ./datasets"
      ],
      "execution_count": 0,
      "outputs": []
    },
    {
      "cell_type": "code",
      "metadata": {
        "id": "GOHyfZKsU5zS",
        "colab_type": "code",
        "colab": {}
      },
      "source": [
        "def set_narrow(arr, arr1):\n",
        "    arr = list(arr)\n",
        "    arr1 = list(arr1)\n",
        "    arr2 = list(arr)\n",
        "    i = 0\n",
        "    while any([item < 5 for item in arr2]):\n",
        "        if i < len(arr2):\n",
        "            if arr2[i] < 5:\n",
        "                if i == 0:\n",
        "                    arr[i + 1] += arr[i]\n",
        "                    arr2[i + 1] += arr[i]\n",
        "                elif i == len(arr2) - 2:\n",
        "                    arr[i] += arr[i + 1]\n",
        "                    arr2[i] += arr[i + 1]\n",
        "                    arr2.pop()\n",
        "                    arr1.pop()\n",
        "                    i -= 1\n",
        "                else:\n",
        "                    arr[i - 1] += arr[i]\n",
        "                    arr2[i - 1] += arr[i]\n",
        "                if i not in [len(arr2) - 2, len(arr2) - 1]:\n",
        "                    arr2.pop(i)\n",
        "                    arr1.pop(i)\n",
        "                    i -= 1\n",
        "            i += 1\n",
        "        else:\n",
        "            break\n",
        "    return np.array(arr2), np.array(arr1)"
      ],
      "execution_count": 0,
      "outputs": []
    },
    {
      "cell_type": "code",
      "metadata": {
        "id": "mDkn4sAmW2QF",
        "colab_type": "code",
        "outputId": "ed66665d-7945-45dd-9a64-019fa282c392",
        "colab": {
          "base_uri": "https://localhost:8080/",
          "height": 662,
          "referenced_widgets": [
            "8d26434140694452abd79da0cdb9f8f8",
            "1dc6a81c5d904574896ef6153a44f228",
            "31f1f5438992413899c0f3fda342da8c",
            "6a91d005c61645d08ef30609406780ae",
            "b33dc396bac242c2bf0174bba7a98e44",
            "4aab196e87e44702895854c680e16e2a",
            "59c11df960cb49a5bb0fb1752c6b40e2",
            "dae75c851603429a913c74dd1e81499f",
            "6c4475f0f7d44a4884bd13d32cd0d849",
            "dec7e6e37f31409eb7e362d4178c037d",
            "08225c7a00db4b0eac9557b26d5e5729",
            "f8a59c3f4dd545d8ac3fb4eaad639a42",
            "0f577745a48640a69f31a300015b9964"
          ]
        }
      },
      "source": [
        "@interact(alpha=(0, 0.25, 0.01))\n",
        "def check_distribution(variant=range(1, 16), low=[\"lognorm\", \"uniform\", \"exp\"], alpha=0.1):\n",
        "  data = json.load(open(f'./datasets/var{variant}.json'))\n",
        "  x = np.array(data['x'], dtype=float)\n",
        "  n = len(x)  # count of points\n",
        "  m = int(round(3.32 * np.log10(n) + 1)) # parts to divide \n",
        "  p, intervals = np.histogram(x, m)  # p - array of count of points that fall into the intervals\n",
        "  a, b = x.min(), x.max()\n",
        "  print(\"The original set:\")\n",
        "  print(\"p=\", p)\n",
        "  print(\"delta=\", intervals)\n",
        "  print(\"m=\", m)\n",
        "  p, delta = set_narrow(p, intervals)  # narrowing of the set\n",
        "  m1 = len(p)\n",
        "  print(\"Narrowed set:\")\n",
        "  print(\"p=\", p)\n",
        "  print(\"delta=\", delta)\n",
        "  print(\"m1=\", m1)\n",
        "\n",
        "  # plotting bar chart\n",
        "  X = np.array([(delta[j] + delta[j + 1]) / 2 for j in range(m1)])\n",
        "  Y = np.array([p[j] / (delta[j + 1] - delta[j]) for j in range(m1)])\n",
        "  fig = plt.figure(dpi=100)\n",
        "  plt.bar(X, Y, 1)\n",
        "\n",
        "  # set interval min=-inf; max=inf\n",
        "  delta[0] = -np.inf\n",
        "  delta[-1] = np.inf\n",
        "  # setting distribution type\n",
        "  if low == 'lognorm':\n",
        "      mu, sigma = np.log(x).mean(), np.sqrt(np.log(x).var())\n",
        "      dist = stats.lognorm(sigma, scale=np.exp(mu))\n",
        "      print(mu, sigma)\n",
        "  elif low == 'exp':\n",
        "      la = 1 / x.mean()\n",
        "      dist = stats.expon(scale=1 / la)\n",
        "      print(la)\n",
        "  else:\n",
        "      dist = stats.uniform(a, b)\n",
        "      print(a, b)\n",
        "  # setting real percentage of fall into intervals multiply by N\n",
        "  nt = np.array([dist.cdf(delta[j + 1]) - dist.cdf(delta[j]) for j in range(m1 - 1)]) * n\n",
        "\n",
        "  # calculating chi\n",
        "  chi = np.array([(p[j] - nt[j]) ** 2 / nt[j] for j in range(m1 - 1)]).sum()\n",
        "  # finding table value\n",
        "  krit = stats.chi2.ppf(1 - alpha, m - 3)\n",
        "  # plotting\n",
        "  h = 10 ** -3\n",
        "  r = np.arange(a - h * 2, b + h * 2, h)\n",
        "  y1 = dist.pdf(r) * n\n",
        "  plt.plot(r, y1, linewidth=2, color='y')\n",
        "  plt.show()\n",
        "  \n",
        "  if chi < krit:\n",
        "    print(\"Data is goes from {} distribution\".format(low))\n",
        "  if chi > krit:\n",
        "    print(\"Data is not goes from {} distribution\".format(low))"
      ],
      "execution_count": 10,
      "outputs": [
        {
          "output_type": "display_data",
          "data": {
            "application/vnd.jupyter.widget-view+json": {
              "model_id": "8d26434140694452abd79da0cdb9f8f8",
              "version_minor": 0,
              "version_major": 2
            },
            "text/plain": [
              "interactive(children=(Dropdown(description='variant', options=(1, 2, 3, 4, 5, 6, 7, 8, 9, 10, 11, 12, 13, 14, …"
            ]
          },
          "metadata": {
            "tags": []
          }
        }
      ]
    },
    {
      "cell_type": "markdown",
      "metadata": {
        "id": "n7rXmOAfz7t9",
        "colab_type": "text"
      },
      "source": [
        "## Applications\n",
        "\n",
        "In cryptanalysis, the chi-squared test is used to compare the distribution of plaintext and (possibly) decrypted ciphertext. The lowest value of the test means that the decryption was successful with high probability.This method can be generalized for solving modern cryptographic problems.\n",
        "\n",
        "In bioinformatics, chi-squared test is used to compare the distribution of certain properties of genes (e.g, genomic content, mutation rate, interaction network clustering, etc.) belonging to different categories (e.g., disease genes, essential genes, genes on a certain chromosome etc.).\n",
        "\n",
        "## Conclusion\n",
        "\n",
        "Two potential disadvantages of chi square are:\n",
        "\n",
        "- The chi square test can only be used for data put into classes (bins). If you have non-binned data you’ll need to make a frequency table or histogram before performing the test.\n",
        "- Another disadvantage of the chi-square test is that it requires a sufficient sample size in order for the chi-square approximation to be valid."
      ]
    },
    {
      "cell_type": "markdown",
      "metadata": {
        "id": "jBzcWz4M0Fm0",
        "colab_type": "text"
      },
      "source": [
        "## References / Acknowledgements"
      ]
    },
    {
      "cell_type": "markdown",
      "metadata": {
        "id": "K1nm8ZcO0JUH",
        "colab_type": "text"
      },
      "source": [
        "1. https://en.wikipedia.org/wiki/Chi-squared_test\n",
        "2. https://www.statisticshowto.datasciencecentral.com/probability-and-statistics/chi-square/\n",
        "3. https://www.statisticshowto.datasciencecentral.com/goodness-of-fit-test/"
      ]
    }
  ]
}