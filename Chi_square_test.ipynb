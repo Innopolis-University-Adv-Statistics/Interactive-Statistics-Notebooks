{
  "nbformat": 4,
  "nbformat_minor": 0,
  "metadata": {
    "colab": {
      "name": "Chi-square test .ipynb",
      "provenance": [],
      "collapsed_sections": [],
      "include_colab_link": true
    },
    "kernelspec": {
      "name": "python3",
      "display_name": "Python 3"
    },
    "widgets": {
      "application/vnd.jupyter.widget-state+json": {
        "13bf2136454c42f2a63f925148ede53b": {
          "model_module": "@jupyter-widgets/controls",
          "model_name": "VBoxModel",
          "state": {
            "_view_name": "VBoxView",
            "_dom_classes": [
              "widget-interact"
            ],
            "_model_name": "VBoxModel",
            "_view_module": "@jupyter-widgets/controls",
            "_model_module_version": "1.5.0",
            "_view_count": null,
            "_view_module_version": "1.5.0",
            "box_style": "",
            "layout": "IPY_MODEL_8963b1f0591a467b89f05e15ccfa784c",
            "_model_module": "@jupyter-widgets/controls",
            "children": [
              "IPY_MODEL_5ee8337d8ab94e9da8c4e3e691a24883",
              "IPY_MODEL_e696c3e91e9e455cbace87d8c940dd63"
            ]
          }
        },
        "8963b1f0591a467b89f05e15ccfa784c": {
          "model_module": "@jupyter-widgets/base",
          "model_name": "LayoutModel",
          "state": {
            "_view_name": "LayoutView",
            "grid_template_rows": null,
            "right": null,
            "justify_content": null,
            "_view_module": "@jupyter-widgets/base",
            "overflow": null,
            "_model_module_version": "1.2.0",
            "_view_count": null,
            "flex_flow": null,
            "width": null,
            "min_width": null,
            "border": null,
            "align_items": null,
            "bottom": null,
            "_model_module": "@jupyter-widgets/base",
            "top": null,
            "grid_column": null,
            "overflow_y": null,
            "overflow_x": null,
            "grid_auto_flow": null,
            "grid_area": null,
            "grid_template_columns": null,
            "flex": null,
            "_model_name": "LayoutModel",
            "justify_items": null,
            "grid_row": null,
            "max_height": null,
            "align_content": null,
            "visibility": null,
            "align_self": null,
            "height": null,
            "min_height": null,
            "padding": null,
            "grid_auto_rows": null,
            "grid_gap": null,
            "max_width": null,
            "order": null,
            "_view_module_version": "1.2.0",
            "grid_template_areas": null,
            "object_position": null,
            "object_fit": null,
            "grid_auto_columns": null,
            "margin": null,
            "display": null,
            "left": null
          }
        },
        "5ee8337d8ab94e9da8c4e3e691a24883": {
          "model_module": "@jupyter-widgets/controls",
          "model_name": "DropdownModel",
          "state": {
            "_options_labels": [
              "0.0",
              "0.001",
              "0.002",
              "0.003",
              "0.004",
              "0.005",
              "0.006",
              "0.007",
              "0.008",
              "0.009000000000000001",
              "0.01",
              "0.011",
              "0.012",
              "0.013000000000000001",
              "0.014",
              "0.015",
              "0.016",
              "0.017",
              "0.018000000000000002",
              "0.019",
              "0.02",
              "0.021",
              "0.022",
              "0.023",
              "0.024",
              "0.025",
              "0.026000000000000002",
              "0.027",
              "0.028",
              "0.029",
              "0.03",
              "0.031",
              "0.032",
              "0.033",
              "0.034",
              "0.035",
              "0.036000000000000004",
              "0.037",
              "0.038",
              "0.039",
              "0.04",
              "0.041",
              "0.042",
              "0.043000000000000003",
              "0.044",
              "0.045",
              "0.046",
              "0.047",
              "0.048",
              "0.049",
              "0.05",
              "0.051000000000000004",
              "0.052000000000000005",
              "0.053",
              "0.054",
              "0.055",
              "0.056",
              "0.057",
              "0.058",
              "0.059000000000000004",
              "0.06",
              "0.061",
              "0.062",
              "0.063",
              "0.064",
              "0.065",
              "0.066",
              "0.067",
              "0.068",
              "0.069",
              "0.07",
              "0.07100000000000001",
              "0.07200000000000001",
              "0.073",
              "0.074",
              "0.075",
              "0.076",
              "0.077",
              "0.078",
              "0.079",
              "0.08",
              "0.081",
              "0.082",
              "0.083",
              "0.084",
              "0.085",
              "0.08600000000000001",
              "0.08700000000000001",
              "0.088",
              "0.089",
              "0.09",
              "0.091",
              "0.092",
              "0.093",
              "0.094",
              "0.095",
              "0.096",
              "0.097",
              "0.098",
              "0.099",
              "0.1"
            ],
            "_view_name": "DropdownView",
            "style": "IPY_MODEL_2074ea92e5134151aab1b1ae02d7b3b8",
            "_dom_classes": [],
            "description": "alpha",
            "_model_name": "DropdownModel",
            "index": 100,
            "_view_module": "@jupyter-widgets/controls",
            "_model_module_version": "1.5.0",
            "_view_count": null,
            "disabled": false,
            "_view_module_version": "1.5.0",
            "description_tooltip": null,
            "_model_module": "@jupyter-widgets/controls",
            "layout": "IPY_MODEL_497fc1e3d7a84c9fbb773b7b7f2a03b6"
          }
        },
        "e696c3e91e9e455cbace87d8c940dd63": {
          "model_module": "@jupyter-widgets/output",
          "model_name": "OutputModel",
          "state": {
            "_view_name": "OutputView",
            "msg_id": "",
            "_dom_classes": [],
            "_model_name": "OutputModel",
            "outputs": [
              {
                "output_type": "display_data",
                "metadata": {
                  "tags": []
                },
                "text/plain": "'Null hypothesis is true'"
              }
            ],
            "_view_module": "@jupyter-widgets/output",
            "_model_module_version": "1.0.0",
            "_view_count": null,
            "_view_module_version": "1.0.0",
            "layout": "IPY_MODEL_b6fc25da1edc4ed1ab805a62e2270172",
            "_model_module": "@jupyter-widgets/output"
          }
        },
        "2074ea92e5134151aab1b1ae02d7b3b8": {
          "model_module": "@jupyter-widgets/controls",
          "model_name": "DescriptionStyleModel",
          "state": {
            "_view_name": "StyleView",
            "_model_name": "DescriptionStyleModel",
            "description_width": "",
            "_view_module": "@jupyter-widgets/base",
            "_model_module_version": "1.5.0",
            "_view_count": null,
            "_view_module_version": "1.2.0",
            "_model_module": "@jupyter-widgets/controls"
          }
        },
        "497fc1e3d7a84c9fbb773b7b7f2a03b6": {
          "model_module": "@jupyter-widgets/base",
          "model_name": "LayoutModel",
          "state": {
            "_view_name": "LayoutView",
            "grid_template_rows": null,
            "right": null,
            "justify_content": null,
            "_view_module": "@jupyter-widgets/base",
            "overflow": null,
            "_model_module_version": "1.2.0",
            "_view_count": null,
            "flex_flow": null,
            "width": null,
            "min_width": null,
            "border": null,
            "align_items": null,
            "bottom": null,
            "_model_module": "@jupyter-widgets/base",
            "top": null,
            "grid_column": null,
            "overflow_y": null,
            "overflow_x": null,
            "grid_auto_flow": null,
            "grid_area": null,
            "grid_template_columns": null,
            "flex": null,
            "_model_name": "LayoutModel",
            "justify_items": null,
            "grid_row": null,
            "max_height": null,
            "align_content": null,
            "visibility": null,
            "align_self": null,
            "height": null,
            "min_height": null,
            "padding": null,
            "grid_auto_rows": null,
            "grid_gap": null,
            "max_width": null,
            "order": null,
            "_view_module_version": "1.2.0",
            "grid_template_areas": null,
            "object_position": null,
            "object_fit": null,
            "grid_auto_columns": null,
            "margin": null,
            "display": null,
            "left": null
          }
        },
        "890fc738620844c7b46adde3d0976333": {
          "model_module": "@jupyter-widgets/controls",
          "model_name": "VBoxModel",
          "state": {
            "_view_name": "VBoxView",
            "_dom_classes": [
              "widget-interact"
            ],
            "_model_name": "VBoxModel",
            "_view_module": "@jupyter-widgets/controls",
            "_model_module_version": "1.5.0",
            "_view_count": null,
            "_view_module_version": "1.5.0",
            "box_style": "",
            "layout": "IPY_MODEL_1fca3f0cb2b94a9c8e3a87d062702337",
            "_model_module": "@jupyter-widgets/controls",
            "children": [
              "IPY_MODEL_2f82ce49259144e0a98109c9f5f8a6fe",
              "IPY_MODEL_8a653474c2b842818e43f647290c20f4",
              "IPY_MODEL_e29dfc99d7fa4384b2fc4b0303ab4a49"
            ]
          }
        },
        "1fca3f0cb2b94a9c8e3a87d062702337": {
          "model_module": "@jupyter-widgets/base",
          "model_name": "LayoutModel",
          "state": {
            "_view_name": "LayoutView",
            "grid_template_rows": null,
            "right": null,
            "justify_content": null,
            "_view_module": "@jupyter-widgets/base",
            "overflow": null,
            "_model_module_version": "1.2.0",
            "_view_count": null,
            "flex_flow": null,
            "width": null,
            "min_width": null,
            "border": null,
            "align_items": null,
            "bottom": null,
            "_model_module": "@jupyter-widgets/base",
            "top": null,
            "grid_column": null,
            "overflow_y": null,
            "overflow_x": null,
            "grid_auto_flow": null,
            "grid_area": null,
            "grid_template_columns": null,
            "flex": null,
            "_model_name": "LayoutModel",
            "justify_items": null,
            "grid_row": null,
            "max_height": null,
            "align_content": null,
            "visibility": null,
            "align_self": null,
            "height": null,
            "min_height": null,
            "padding": null,
            "grid_auto_rows": null,
            "grid_gap": null,
            "max_width": null,
            "order": null,
            "_view_module_version": "1.2.0",
            "grid_template_areas": null,
            "object_position": null,
            "object_fit": null,
            "grid_auto_columns": null,
            "margin": null,
            "display": null,
            "left": null
          }
        },
        "2f82ce49259144e0a98109c9f5f8a6fe": {
          "model_module": "@jupyter-widgets/controls",
          "model_name": "DropdownModel",
          "state": {
            "_options_labels": [
              "1",
              "2",
              "3",
              "4",
              "5",
              "6",
              "7",
              "8",
              "9",
              "10",
              "11",
              "12",
              "13",
              "14",
              "15"
            ],
            "_view_name": "DropdownView",
            "style": "IPY_MODEL_5729a901a1c046b8a428125265b8109d",
            "_dom_classes": [],
            "description": "variant",
            "_model_name": "DropdownModel",
            "index": 0,
            "_view_module": "@jupyter-widgets/controls",
            "_model_module_version": "1.5.0",
            "_view_count": null,
            "disabled": false,
            "_view_module_version": "1.5.0",
            "description_tooltip": null,
            "_model_module": "@jupyter-widgets/controls",
            "layout": "IPY_MODEL_755210363e354b6a949a57fb1fcd0f21"
          }
        },
        "8a653474c2b842818e43f647290c20f4": {
          "model_module": "@jupyter-widgets/controls",
          "model_name": "DropdownModel",
          "state": {
            "_options_labels": [
              "0.001",
              "0.002",
              "0.003",
              "0.004",
              "0.005",
              "0.006",
              "0.007",
              "0.008",
              "0.009000000000000001",
              "0.010000000000000002",
              "0.011",
              "0.012",
              "0.013000000000000001",
              "0.014000000000000002",
              "0.015",
              "0.016",
              "0.017",
              "0.018000000000000002",
              "0.019000000000000003",
              "0.02",
              "0.021",
              "0.022000000000000002",
              "0.023",
              "0.024",
              "0.025",
              "0.026000000000000002",
              "0.027000000000000003",
              "0.028",
              "0.029",
              "0.030000000000000002",
              "0.031",
              "0.032",
              "0.033",
              "0.034",
              "0.035",
              "0.036000000000000004",
              "0.037000000000000005",
              "0.038",
              "0.039",
              "0.04",
              "0.041",
              "0.042",
              "0.043000000000000003",
              "0.044000000000000004",
              "0.045",
              "0.046",
              "0.047",
              "0.048",
              "0.049",
              "0.05",
              "0.051000000000000004",
              "0.052000000000000005",
              "0.053000000000000005",
              "0.054",
              "0.055",
              "0.056",
              "0.057",
              "0.058",
              "0.059000000000000004",
              "0.060000000000000005",
              "0.061",
              "0.062",
              "0.063",
              "0.064",
              "0.065",
              "0.066",
              "0.067",
              "0.068",
              "0.069",
              "0.07",
              "0.07100000000000001",
              "0.07200000000000001",
              "0.07300000000000001",
              "0.074",
              "0.075",
              "0.076",
              "0.077",
              "0.078",
              "0.079",
              "0.08",
              "0.081",
              "0.082",
              "0.083",
              "0.084",
              "0.085",
              "0.08600000000000001",
              "0.08700000000000001",
              "0.08800000000000001",
              "0.089",
              "0.09",
              "0.091",
              "0.092",
              "0.093",
              "0.094",
              "0.095",
              "0.096",
              "0.097",
              "0.098",
              "0.099",
              "0.1"
            ],
            "_view_name": "DropdownView",
            "style": "IPY_MODEL_8e9580a0f30a4f8f852ae3ca5c373c35",
            "_dom_classes": [],
            "description": "alpha",
            "_model_name": "DropdownModel",
            "index": 49,
            "_view_module": "@jupyter-widgets/controls",
            "_model_module_version": "1.5.0",
            "_view_count": null,
            "disabled": false,
            "_view_module_version": "1.5.0",
            "description_tooltip": null,
            "_model_module": "@jupyter-widgets/controls",
            "layout": "IPY_MODEL_a4b5e36656604af3b999510b7cf1c45a"
          }
        },
        "e29dfc99d7fa4384b2fc4b0303ab4a49": {
          "model_module": "@jupyter-widgets/output",
          "model_name": "OutputModel",
          "state": {
            "_view_name": "OutputView",
            "msg_id": "",
            "_dom_classes": [],
            "_model_name": "OutputModel",
            "outputs": [
              {
                "output_type": "stream",
                "metadata": {
                  "tags": []
                },
                "text": "The original set:\np= [38 61 73 34 18 17  6  0  3]\ndelta= [ 40.01        62.08666667  84.16333333 106.24       128.31666667\n 150.39333333 172.47       194.54666667 216.62333333 238.7       ]\nm= 9\nNarrowed set:\np= [38 61 73 34 18 17  9  3]\ndelta= [ 40.01        62.08666667  84.16333333 106.24       128.31666667\n 150.39333333 172.47       194.54666667 216.62333333]\nm1= 8\n4.515582965764561 0.354590460400682\n",
                "stream": "stdout"
              },
              {
                "output_type": "display_data",
                "metadata": {
                  "tags": []
                },
                "image/png": "iVBORw0KGgoAAAANSUhEUgAAAgQAAAFZCAYAAADn+jciAAAABHNCSVQICAgIfAhkiAAAAAlwSFlz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\n",
                "text/plain": "<Figure size 600x400 with 1 Axes>"
              },
              {
                "output_type": "stream",
                "metadata": {
                  "tags": []
                },
                "text": "Data is goes from lognorm distribution\n",
                "stream": "stdout"
              }
            ],
            "_view_module": "@jupyter-widgets/output",
            "_model_module_version": "1.0.0",
            "_view_count": null,
            "_view_module_version": "1.0.0",
            "layout": "IPY_MODEL_1864ca442d984d9eb6fc0a0ac5da0c3a",
            "_model_module": "@jupyter-widgets/output"
          }
        },
        "5729a901a1c046b8a428125265b8109d": {
          "model_module": "@jupyter-widgets/controls",
          "model_name": "DescriptionStyleModel",
          "state": {
            "_view_name": "StyleView",
            "_model_name": "DescriptionStyleModel",
            "description_width": "",
            "_view_module": "@jupyter-widgets/base",
            "_model_module_version": "1.5.0",
            "_view_count": null,
            "_view_module_version": "1.2.0",
            "_model_module": "@jupyter-widgets/controls"
          }
        },
        "755210363e354b6a949a57fb1fcd0f21": {
          "model_module": "@jupyter-widgets/base",
          "model_name": "LayoutModel",
          "state": {
            "_view_name": "LayoutView",
            "grid_template_rows": null,
            "right": null,
            "justify_content": null,
            "_view_module": "@jupyter-widgets/base",
            "overflow": null,
            "_model_module_version": "1.2.0",
            "_view_count": null,
            "flex_flow": null,
            "width": null,
            "min_width": null,
            "border": null,
            "align_items": null,
            "bottom": null,
            "_model_module": "@jupyter-widgets/base",
            "top": null,
            "grid_column": null,
            "overflow_y": null,
            "overflow_x": null,
            "grid_auto_flow": null,
            "grid_area": null,
            "grid_template_columns": null,
            "flex": null,
            "_model_name": "LayoutModel",
            "justify_items": null,
            "grid_row": null,
            "max_height": null,
            "align_content": null,
            "visibility": null,
            "align_self": null,
            "height": null,
            "min_height": null,
            "padding": null,
            "grid_auto_rows": null,
            "grid_gap": null,
            "max_width": null,
            "order": null,
            "_view_module_version": "1.2.0",
            "grid_template_areas": null,
            "object_position": null,
            "object_fit": null,
            "grid_auto_columns": null,
            "margin": null,
            "display": null,
            "left": null
          }
        },
        "8e9580a0f30a4f8f852ae3ca5c373c35": {
          "model_module": "@jupyter-widgets/controls",
          "model_name": "DescriptionStyleModel",
          "state": {
            "_view_name": "StyleView",
            "_model_name": "DescriptionStyleModel",
            "description_width": "",
            "_view_module": "@jupyter-widgets/base",
            "_model_module_version": "1.5.0",
            "_view_count": null,
            "_view_module_version": "1.2.0",
            "_model_module": "@jupyter-widgets/controls"
          }
        },
        "a4b5e36656604af3b999510b7cf1c45a": {
          "model_module": "@jupyter-widgets/base",
          "model_name": "LayoutModel",
          "state": {
            "_view_name": "LayoutView",
            "grid_template_rows": null,
            "right": null,
            "justify_content": null,
            "_view_module": "@jupyter-widgets/base",
            "overflow": null,
            "_model_module_version": "1.2.0",
            "_view_count": null,
            "flex_flow": null,
            "width": null,
            "min_width": null,
            "border": null,
            "align_items": null,
            "bottom": null,
            "_model_module": "@jupyter-widgets/base",
            "top": null,
            "grid_column": null,
            "overflow_y": null,
            "overflow_x": null,
            "grid_auto_flow": null,
            "grid_area": null,
            "grid_template_columns": null,
            "flex": null,
            "_model_name": "LayoutModel",
            "justify_items": null,
            "grid_row": null,
            "max_height": null,
            "align_content": null,
            "visibility": null,
            "align_self": null,
            "height": null,
            "min_height": null,
            "padding": null,
            "grid_auto_rows": null,
            "grid_gap": null,
            "max_width": null,
            "order": null,
            "_view_module_version": "1.2.0",
            "grid_template_areas": null,
            "object_position": null,
            "object_fit": null,
            "grid_auto_columns": null,
            "margin": null,
            "display": null,
            "left": null
          }
        }
      }
    }
  },
  "cells": [
    {
      "cell_type": "markdown",
      "metadata": {
        "id": "view-in-github",
        "colab_type": "text"
      },
      "source": [
        "<a href=\"https://colab.research.google.com/github/sergey-jr/Interactive-Statistics-Notebooks/blob/master/Chi_square_test.ipynb\" target=\"_parent\"><img src=\"https://colab.research.google.com/assets/colab-badge.svg\" alt=\"Open In Colab\"/></a>"
      ]
    },
    {
      "cell_type": "markdown",
      "metadata": {
        "id": "q5XnPEsm0phq",
        "colab_type": "text"
      },
      "source": [
        "# METADATA\n",
        "\n",
        "- [Fastpages](https://fastpages.fast.ai/fastpages/jupyter/2020/02/21/introducing-fastpages.html) - the serving solution, they can beautifully present/server notebooks as blog posts, with code highlighting, visualiztion enabled, etc (e.g. [1](https://drscotthawley.github.io/devblog3/2019/02/08/My-1st-NN-Part-3-Multi-Layer-and-Backprop.html)) - maybe too complex for our needs so far\n",
        "\n",
        "- [This blog post](https://towardsdatascience.com/interactive-controls-for-jupyter-notebooks-f5c94829aee6) - that explains how to use \n",
        "IPyWidgets and stuff\n",
        "\n",
        "- Awesome visuzliation library [Altair](https://altair-viz.github.io/gallery/index.html)"
      ]
    },
    {
      "cell_type": "code",
      "metadata": {
        "id": "KD93l23M1ggr",
        "colab_type": "code",
        "colab": {}
      },
      "source": [
        "! pip install ipywidgets\n",
        "! jupyter nbextension enable --py widgetsnbextension\n",
        "\n",
        "import ipywidgets as widgets\n",
        "from ipywidgets import interact, interact_manual"
      ],
      "execution_count": 0,
      "outputs": []
    },
    {
      "cell_type": "markdown",
      "metadata": {
        "id": "ITC684n6xm2f",
        "colab_type": "text"
      },
      "source": [
        "# Chi-square test\n",
        "\n",
        "### Table of contents\n",
        "1.   Intro\n",
        "2.   Examples"
      ]
    },
    {
      "cell_type": "markdown",
      "metadata": {
        "id": "CdLByacoxqBU",
        "colab_type": "text"
      },
      "source": [
        "## Intro\n",
        "\n",
        "The term \"chi-squared test,\" also written as χ<sup>2</sup> test, refers to certain types of statistical hypothesis tests that are valid to perform when the test statistic is chi-squared distributed under the null hypothesis. Often, however, the term is used to refer to Pearson's chi-squared test and variants thereof. Pearson's chi-squared test is used to determine whether there is a statistically significant difference (i.e., a magnitude of difference that is unlikely to be due to chance alone) between the expected frequencies and the observed frequencies in one or more categories of a so-called contingency table.\n",
        "\n",
        "There are two types of chi-square tests. Both use the chi-square statistic and distribution for different purposes:\n",
        "\n",
        "- A chi-square goodness of fit test determines if a sample data matches a population.\n",
        "- A chi-square test for independence compares two variables in a contingency table to see if they are related. In a more general sense, it tests to see whether distributions of categorical variables differ from each another.\n",
        " - A very small chi square test statistic means that your observed data fits your expected data extremely well. In other words, there is a relationship.\n",
        " - A very large chi square test statistic means that the data does not fit very well. In other words, there isn’t a relationship."
      ]
    },
    {
      "cell_type": "markdown",
      "metadata": {
        "id": "EovComAJxr-0",
        "colab_type": "text"
      },
      "source": [
        "## Setup\n"
      ]
    },
    {
      "cell_type": "code",
      "metadata": {
        "id": "6sMu20VHEkXo",
        "colab_type": "code",
        "colab": {}
      },
      "source": [
        ""
      ],
      "execution_count": 0,
      "outputs": []
    },
    {
      "cell_type": "code",
      "metadata": {
        "id": "Qiozktuj16i8",
        "colab_type": "code",
        "colab": {}
      },
      "source": [
        "import numpy as np\n",
        "import scipy.stats as stats\n",
        "import pandas as pd\n",
        "import json\n",
        "import matplotlib.pyplot as plt\n"
      ],
      "execution_count": 0,
      "outputs": []
    },
    {
      "cell_type": "markdown",
      "metadata": {
        "id": "wlRdlNUhQ28-",
        "colab_type": "text"
      },
      "source": [
        "## Examples"
      ]
    },
    {
      "cell_type": "markdown",
      "metadata": {
        "id": "R1f1fPRKF8zm",
        "colab_type": "text"
      },
      "source": [
        "Example 1.\n",
        "\n",
        "256 visual artists were surveyed to find out their zodiac sign. The results were: Aries (29), Taurus (24), Gemini (22), Cancer (19), Leo (21), Virgo (18), Libra (19), Scorpio (20), Sagittarius (23), Capricorn (18), Aquarius (20), Pisces (23). Test the hypothesis that zodiac signs are evenly distributed across visual artists."
      ]
    },
    {
      "cell_type": "code",
      "metadata": {
        "id": "nO_vqcKkGT6O",
        "colab_type": "code",
        "colab": {}
      },
      "source": [
        "expect = 256/12\n",
        "data = [[\"Aries\", 29, expect], [\"Taurus\", 24, expect], [\"Gemini\", 22, expect], [\"Cancer\", 19, expect], [\"Leo\", 21, expect], \n",
        "        [\"Virgo\", 18, expect], [\"Libra\", 19, expect],[\"Scorpio\", 20, expect], [\"Sagittarius\", 23, expect], [\"Sagittarius\", 23, expect], \n",
        "        [\"Capricorn\", 18, expect], [\"Aquarius\", 20, expect], [\"Pisces\", 23, expect]] \n",
        "data = np.array([np.array(item) for item in data])"
      ],
      "execution_count": 0,
      "outputs": []
    },
    {
      "cell_type": "code",
      "metadata": {
        "id": "5djlAHrK2ETI",
        "colab_type": "code",
        "colab": {}
      },
      "source": [
        "df = pd.DataFrame(data, columns=[\"zodiac sign\", \"Observed\", \"Excpected\"])\n",
        "df.Observed = df.Observed.astype(np.float32)\n",
        "df.Excpected = df.Excpected.astype(np.float32)"
      ],
      "execution_count": 0,
      "outputs": []
    },
    {
      "cell_type": "code",
      "metadata": {
        "id": "KgTO1Out2ZEU",
        "colab_type": "code",
        "outputId": "03d5f962-8912-4359-c090-5e3e798392fb",
        "colab": {
          "base_uri": "https://localhost:8080/",
          "height": 66,
          "referenced_widgets": [
            "13bf2136454c42f2a63f925148ede53b",
            "8963b1f0591a467b89f05e15ccfa784c",
            "5ee8337d8ab94e9da8c4e3e691a24883",
            "e696c3e91e9e455cbace87d8c940dd63",
            "2074ea92e5134151aab1b1ae02d7b3b8",
            "497fc1e3d7a84c9fbb773b7b7f2a03b6"
          ]
        }
      },
      "source": [
        "@interact\n",
        "def check_chisquare(alpha=np.arange(0, 0.101, 0.001)):\n",
        "  digree_freedom = df.shape[0] - 1\n",
        "  chi_calc = (((df[\"Observed\"].values - df[\"Excpected\"].values)**2)/df[\"Excpected\"].values).sum()\n",
        "  krit = stats.chi2.ppf(1 - alpha, digree_freedom - 3)\n",
        "  if chi_calc < krit:\n",
        "    return \"Null hypothesis is true\"\n",
        "  if chi_calc > krit:\n",
        "    return \"Null hypothesis can be rejected\""
      ],
      "execution_count": 17,
      "outputs": [
        {
          "output_type": "display_data",
          "data": {
            "application/vnd.jupyter.widget-view+json": {
              "model_id": "13bf2136454c42f2a63f925148ede53b",
              "version_minor": 0,
              "version_major": 2
            },
            "text/plain": [
              "interactive(children=(Dropdown(description='alpha', options=(0.0, 0.001, 0.002, 0.003, 0.004, 0.005, 0.006, 0.…"
            ]
          },
          "metadata": {
            "tags": []
          }
        }
      ]
    },
    {
      "cell_type": "markdown",
      "metadata": {
        "id": "t3CJF7GLQ6bK",
        "colab_type": "text"
      },
      "source": [
        "Example 2. \n",
        "\n",
        "We have some sets of data, each of them consisits from ~250 elements. We want to check theitr dictribution. The distributions we wil chick on ot normal, uniform and longnorm."
      ]
    },
    {
      "cell_type": "code",
      "metadata": {
        "id": "JBnGoCbDTMQJ",
        "colab_type": "code",
        "outputId": "d5494db8-3203-4440-a106-6d12f8fc6e21",
        "colab": {
          "base_uri": "https://localhost:8080/",
          "height": 615
        }
      },
      "source": [
        "!wget --no-check-certificate 'https://docs.google.com/uc?export=download&id=1DDUaP-_eHH5a1P2AcCpjqO61oFT_kHzn' -O datasets.zip\n",
        "!unzip datasets.zip -d ./datasets"
      ],
      "execution_count": 18,
      "outputs": [
        {
          "output_type": "stream",
          "text": [
            "--2020-03-31 16:48:19--  https://docs.google.com/uc?export=download&id=1DDUaP-_eHH5a1P2AcCpjqO61oFT_kHzn\n",
            "Resolving docs.google.com (docs.google.com)... 74.125.203.100, 74.125.203.138, 74.125.203.102, ...\n",
            "Connecting to docs.google.com (docs.google.com)|74.125.203.100|:443... connected.\n",
            "HTTP request sent, awaiting response... 302 Moved Temporarily\n",
            "Location: https://doc-10-a8-docs.googleusercontent.com/docs/securesc/ha0ro937gcuc7l7deffksulhg5h7mbp1/mc9ud51egioq44c5845pd6ov1dop4qnc/1585673250000/02153115373879107722/*/1DDUaP-_eHH5a1P2AcCpjqO61oFT_kHzn?e=download [following]\n",
            "Warning: wildcards not supported in HTTP.\n",
            "--2020-03-31 16:48:20--  https://doc-10-a8-docs.googleusercontent.com/docs/securesc/ha0ro937gcuc7l7deffksulhg5h7mbp1/mc9ud51egioq44c5845pd6ov1dop4qnc/1585673250000/02153115373879107722/*/1DDUaP-_eHH5a1P2AcCpjqO61oFT_kHzn?e=download\n",
            "Resolving doc-10-a8-docs.googleusercontent.com (doc-10-a8-docs.googleusercontent.com)... 108.177.125.132, 2404:6800:4008:c01::84\n",
            "Connecting to doc-10-a8-docs.googleusercontent.com (doc-10-a8-docs.googleusercontent.com)|108.177.125.132|:443... connected.\n",
            "HTTP request sent, awaiting response... 200 OK\n",
            "Length: 13648 (13K) [application/x-zip-compressed]\n",
            "Saving to: ‘datasets.zip’\n",
            "\n",
            "\rdatasets.zip          0%[                    ]       0  --.-KB/s               \rdatasets.zip        100%[===================>]  13.33K  --.-KB/s    in 0s      \n",
            "\n",
            "2020-03-31 16:48:20 (99.1 MB/s) - ‘datasets.zip’ saved [13648/13648]\n",
            "\n",
            "Archive:  datasets.zip\n",
            "replace ./datasets/var1.json? [y]es, [n]o, [A]ll, [N]one, [r]ename: A\n",
            "  inflating: ./datasets/var1.json    \n",
            "  inflating: ./datasets/var10.json   \n",
            "  inflating: ./datasets/var11.json   \n",
            "  inflating: ./datasets/var12.json   \n",
            "  inflating: ./datasets/var13.json   \n",
            "  inflating: ./datasets/var14.json   \n",
            "  inflating: ./datasets/var15.json   \n",
            "  inflating: ./datasets/var2.json    \n",
            "  inflating: ./datasets/var3.json    \n",
            "  inflating: ./datasets/var4.json    \n",
            "  inflating: ./datasets/var5.json    \n",
            "  inflating: ./datasets/var6.json    \n",
            "  inflating: ./datasets/var7.json    \n",
            "  inflating: ./datasets/var8.json    \n",
            "  inflating: ./datasets/var9.json    \n"
          ],
          "name": "stdout"
        }
      ]
    },
    {
      "cell_type": "code",
      "metadata": {
        "id": "GOHyfZKsU5zS",
        "colab_type": "code",
        "colab": {}
      },
      "source": [
        "def set_narrow(arr, arr1):\n",
        "    arr = list(arr)\n",
        "    arr1 = list(arr1)\n",
        "    arr2 = list(arr)\n",
        "    i = 0\n",
        "    while any([item < 5 for item in arr2]):\n",
        "        if i < len(arr2):\n",
        "            if arr2[i] < 5:\n",
        "                if i == 0:\n",
        "                    arr[i + 1] += arr[i]\n",
        "                    arr2[i + 1] += arr[i]\n",
        "                elif i == len(arr2) - 2:\n",
        "                    arr[i] += arr[i + 1]\n",
        "                    arr2[i] += arr[i + 1]\n",
        "                    arr2.pop()\n",
        "                    arr1.pop()\n",
        "                    i -= 1\n",
        "                else:\n",
        "                    arr[i - 1] += arr[i]\n",
        "                    arr2[i - 1] += arr[i]\n",
        "                if i not in [len(arr2) - 2, len(arr2) - 1]:\n",
        "                    arr2.pop(i)\n",
        "                    arr1.pop(i)\n",
        "                    i -= 1\n",
        "            i += 1\n",
        "        else:\n",
        "            break\n",
        "    return np.array(arr2), np.array(arr1)"
      ],
      "execution_count": 0,
      "outputs": []
    },
    {
      "cell_type": "code",
      "metadata": {
        "id": "mDkn4sAmW2QF",
        "colab_type": "code",
        "outputId": "44bdee6f-28bd-48fe-e328-76e890e4f77b",
        "colab": {
          "base_uri": "https://localhost:8080/",
          "height": 630,
          "referenced_widgets": [
            "890fc738620844c7b46adde3d0976333",
            "1fca3f0cb2b94a9c8e3a87d062702337",
            "2f82ce49259144e0a98109c9f5f8a6fe",
            "8a653474c2b842818e43f647290c20f4",
            "e29dfc99d7fa4384b2fc4b0303ab4a49",
            "5729a901a1c046b8a428125265b8109d",
            "755210363e354b6a949a57fb1fcd0f21",
            "8e9580a0f30a4f8f852ae3ca5c373c35",
            "a4b5e36656604af3b999510b7cf1c45a"
          ]
        }
      },
      "source": [
        "@interact\n",
        "def check_distribution(variant=range(1, 16), alpha=np.arange(0.001, 0.101, 0.001)):\n",
        "  data = json.load(open(f'./datasets/var{variant}.json'))\n",
        "  x = np.array(data['x'], dtype=float)\n",
        "  n = len(x)  # count of points\n",
        "  m = int(round(3.32 * np.log10(n) + 1)) # parts to divide \n",
        "  p, intervals = np.histogram(x, m)  # p - array of count of points that fall into the intervals\n",
        "  a, b = x.min(), x.max()\n",
        "  print(\"The original set:\")\n",
        "  print(\"p=\", p)\n",
        "  print(\"delta=\", intervals)\n",
        "  print(\"m=\", m)\n",
        "  p, delta = set_narrow(p, intervals)  # narrowing of the set\n",
        "  m1 = len(p)\n",
        "  print(\"Narrowed set:\")\n",
        "  print(\"p=\", p)\n",
        "  print(\"delta=\", delta)\n",
        "  print(\"m1=\", m1)\n",
        "\n",
        "  # plotting bar chart\n",
        "  X = np.array([(delta[j] + delta[j + 1]) / 2 for j in range(m1)])\n",
        "  Y = np.array([p[j] / (delta[j + 1] - delta[j]) for j in range(m1)])\n",
        "  fig = plt.figure(dpi=100)\n",
        "  plt.bar(X, Y, 1)\n",
        "\n",
        "  # set interval min=-inf; max=inf\n",
        "  delta[0] = -np.inf\n",
        "  delta[-1] = np.inf\n",
        "  # setting distribution type\n",
        "  if data['low'] == 'lognorm':\n",
        "      mu, sigma = np.log(x).mean(), np.sqrt(np.log(x).var())\n",
        "      dist = stats.lognorm(sigma, scale=np.exp(mu))\n",
        "      print(mu, sigma)\n",
        "  elif data['low'] == 'exp':\n",
        "      la = 1 / x.mean()\n",
        "      dist = stats.expon(scale=1 / la)\n",
        "      print(la)\n",
        "  else:\n",
        "      dist = stats.uniform(a, b)\n",
        "      print(a, b)\n",
        "  # setting real percentage of fall into intervals multiply by N\n",
        "  nt = np.array([dist.cdf(delta[j + 1]) - dist.cdf(delta[j]) for j in range(m1 - 1)]) * n\n",
        "\n",
        "  # calculating chi\n",
        "  chi = np.array([(p[j] - nt[j]) ** 2 / nt[j] for j in range(m1 - 1)]).sum()\n",
        "  # finding table value\n",
        "  krit = stats.chi2.ppf(1 - alpha, m - 3)\n",
        "  # plotting\n",
        "  h = 10 ** -3\n",
        "  r = np.arange(a - h * 2, b + h * 2, h)\n",
        "  y1 = dist.pdf(r) * n\n",
        "  plt.plot(r, y1, linewidth=2, color='y')\n",
        "  plt.show()\n",
        "  \n",
        "  if chi < krit:\n",
        "    print(\"Data is goes from {} distribution\".format(data['low']))\n",
        "  if chi > krit:\n",
        "    print(\"Data is not goes from {} distribution\".format(data['low']))"
      ],
      "execution_count": 20,
      "outputs": [
        {
          "output_type": "display_data",
          "data": {
            "application/vnd.jupyter.widget-view+json": {
              "model_id": "890fc738620844c7b46adde3d0976333",
              "version_minor": 0,
              "version_major": 2
            },
            "text/plain": [
              "interactive(children=(Dropdown(description='variant', options=(1, 2, 3, 4, 5, 6, 7, 8, 9, 10, 11, 12, 13, 14, …"
            ]
          },
          "metadata": {
            "tags": []
          }
        }
      ]
    },
    {
      "cell_type": "markdown",
      "metadata": {
        "id": "n7rXmOAfz7t9",
        "colab_type": "text"
      },
      "source": [
        "## Applications\n",
        "\n",
        "In cryptanalysis, the chi-squared test is used to compare the distribution of plaintext and (possibly) decrypted ciphertext. The lowest value of the test means that the decryption was successful with high probability.This method can be generalized for solving modern cryptographic problems.\n",
        "\n",
        "In bioinformatics, chi-squared test is used to compare the distribution of certain properties of genes (e.g, genomic content, mutation rate, interaction network clustering, etc.) belonging to different categories (e.g., disease genes, essential genes, genes on a certain chromosome etc.).\n",
        "\n",
        "## Conclusion\n",
        "\n",
        "Two potential disadvantages of chi square are:\n",
        "\n",
        "- The chi square test can only be used for data put into classes (bins). If you have non-binned data you’ll need to make a frequency table or histogram before performing the test.\n",
        "- Another disadvantage of the chi-square test is that it requires a sufficient sample size in order for the chi-square approximation to be valid."
      ]
    },
    {
      "cell_type": "markdown",
      "metadata": {
        "id": "jBzcWz4M0Fm0",
        "colab_type": "text"
      },
      "source": [
        "## References / Acknowledgements"
      ]
    },
    {
      "cell_type": "markdown",
      "metadata": {
        "id": "K1nm8ZcO0JUH",
        "colab_type": "text"
      },
      "source": [
        "1. https://en.wikipedia.org/wiki/Chi-squared_test\n",
        "2. https://www.statisticshowto.datasciencecentral.com/probability-and-statistics/chi-square/\n",
        "3. https://www.statisticshowto.datasciencecentral.com/goodness-of-fit-test/"
      ]
    }
  ]
}