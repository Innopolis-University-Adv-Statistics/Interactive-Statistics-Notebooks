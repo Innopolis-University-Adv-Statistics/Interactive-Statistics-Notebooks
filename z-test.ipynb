{
 "cells": [
  {
   "cell_type": "markdown",
   "metadata": {
    "colab_type": "text",
    "id": "q5XnPEsm0phq"
   },
   "source": [
    "# Z-Test\n",
    "\n",
    "- Introduction\n",
    "- When to use Z-test\n",
    "- How to use Z-test\n",
    "- Setup / Import\n",
    "- Sample task\n",
    "- Data load\n",
    "- Conclusion\n",
    "- References / Acknowledgements"
   ]
  },
  {
   "cell_type": "markdown",
   "metadata": {
    "colab_type": "text",
    "id": "CdLByacoxqBU"
   },
   "source": [
    "## Introduction\n",
    "\n",
    "A Z-test is one of the type of hypothesis test. Hypothesis testing is just a way for you to figure out if results from a test are valid or repeatable. For example, if someone said they had found a new drug that cures cancer, you would want to be sure it was probably true. A hypothesis test will tell you if it’s probably true, or probably not true. A Z test, is used when your data is approximately normally distributed. A Z-test is any statistical test for which the distribution of the test statistic under the null hypothesis can be approximated by a normal distribution. Z-test tests the mean of a distribution in which we already know the population variance σ2 . Because of the central limit theorem, many test statistics are approximately normally distributed for large samples. For each significance level in the confidence interval, the Z-test has a single critical value (for example, 1.96 for 5% two tailed) which makes it more convenient than the Student's t-test which has separate and different critical values for each sample size (for different sample size, it would have different degree of freedom, which may determine the value of the critical values). Therefore, many statistical tests can be conveniently performed as approximate Z-tests if the sample size is large or the population variance is known. \n",
    "\n"
   ]
  },
  {
   "cell_type": "markdown",
   "metadata": {},
   "source": [
    "## When to use Z-test\n",
    "\n",
    "Z-test is used if the following are fulfilled.\n",
    "- Sample size is greater than 30. Otherwise, use a t test.\n",
    "- Data points should be independent from each other. In other words, one data point isn’t related or doesn’t affect another data point.\n",
    "- Data should be normally distributed. However, for large sample sizes (over 30) this doesn’t always matter.\n",
    "- Data should be randomly selected from a population, where each item has an equal chance of being selected.\n",
    "- Sample sizes should be equal if at all possible."
   ]
  },
  {
   "cell_type": "markdown",
   "metadata": {},
   "source": [
    "## How to use Z-test\n",
    "\n",
    "Following steps are required for running a Z-test\n",
    "- State the null hypothesis and alternate hypothesis.\n",
    "- Choose an alpha level.\n",
    "- Find the critical value of z in a z table.\n",
    "- Calculate the z test statistic.\n",
    "- Compare the test statistic to the critical z value and decide if you should support or reject the null hypothesis."
   ]
  },
  {
   "cell_type": "markdown",
   "metadata": {
    "colab_type": "text",
    "id": "EovComAJxr-0"
   },
   "source": [
    "## Setup / Import\n"
   ]
  },
  {
   "cell_type": "code",
   "execution_count": 20,
   "metadata": {
    "scrolled": true
   },
   "outputs": [],
   "source": [
    "import numpy as np\n",
    "import pandas as pd"
   ]
  },
  {
   "cell_type": "markdown",
   "metadata": {
    "colab_type": "text",
    "id": "9hI1xXAGzaNk"
   },
   "source": [
    "## Data load\n",
    "\n",
    "The data was scraped from WineEnthusiast during the week of June 15th, 2017. It includes the wine reviews."
   ]
  },
  {
   "cell_type": "code",
   "execution_count": 11,
   "metadata": {
    "colab": {},
    "colab_type": "code",
    "id": "Qiozktuj16i8"
   },
   "outputs": [],
   "source": [
    "path = 'winedata.csv'\n",
    "wine_data = pd.read_csv(path)"
   ]
  },
  {
   "cell_type": "code",
   "execution_count": 12,
   "metadata": {},
   "outputs": [
    {
     "data": {
      "text/html": [
       "<div>\n",
       "<style scoped>\n",
       "    .dataframe tbody tr th:only-of-type {\n",
       "        vertical-align: middle;\n",
       "    }\n",
       "\n",
       "    .dataframe tbody tr th {\n",
       "        vertical-align: top;\n",
       "    }\n",
       "\n",
       "    .dataframe thead th {\n",
       "        text-align: right;\n",
       "    }\n",
       "</style>\n",
       "<table border=\"1\" class=\"dataframe\">\n",
       "  <thead>\n",
       "    <tr style=\"text-align: right;\">\n",
       "      <th></th>\n",
       "      <th>country</th>\n",
       "      <th>description</th>\n",
       "      <th>designation</th>\n",
       "      <th>points</th>\n",
       "      <th>price</th>\n",
       "      <th>province</th>\n",
       "      <th>region_1</th>\n",
       "      <th>region_2</th>\n",
       "      <th>taster_name</th>\n",
       "      <th>taster_twitter_handle</th>\n",
       "      <th>title</th>\n",
       "      <th>variety</th>\n",
       "      <th>winery</th>\n",
       "    </tr>\n",
       "  </thead>\n",
       "  <tbody>\n",
       "    <tr>\n",
       "      <th>0</th>\n",
       "      <td>Italy</td>\n",
       "      <td>Aromas include tropical fruit, broom, brimston...</td>\n",
       "      <td>Vulkà Bianco</td>\n",
       "      <td>87</td>\n",
       "      <td>NaN</td>\n",
       "      <td>Sicily &amp; Sardinia</td>\n",
       "      <td>Etna</td>\n",
       "      <td>NaN</td>\n",
       "      <td>Kerin O’Keefe</td>\n",
       "      <td>#NAME?</td>\n",
       "      <td>Nicosia 2013 Vulkà Bianco  (Etna)</td>\n",
       "      <td>White Blend</td>\n",
       "      <td>Nicosia</td>\n",
       "    </tr>\n",
       "    <tr>\n",
       "      <th>1</th>\n",
       "      <td>Portugal</td>\n",
       "      <td>This is ripe and fruity, a wine that is smooth...</td>\n",
       "      <td>Avidagos</td>\n",
       "      <td>87</td>\n",
       "      <td>15.0</td>\n",
       "      <td>Douro</td>\n",
       "      <td>NaN</td>\n",
       "      <td>NaN</td>\n",
       "      <td>Roger Voss</td>\n",
       "      <td>#NAME?</td>\n",
       "      <td>Quinta dos Avidagos 2011 Avidagos Red (Douro)</td>\n",
       "      <td>Portuguese Red</td>\n",
       "      <td>Quinta dos Avidagos</td>\n",
       "    </tr>\n",
       "    <tr>\n",
       "      <th>2</th>\n",
       "      <td>US</td>\n",
       "      <td>Tart and snappy, the flavors of lime flesh and...</td>\n",
       "      <td>NaN</td>\n",
       "      <td>87</td>\n",
       "      <td>14.0</td>\n",
       "      <td>Oregon</td>\n",
       "      <td>Willamette Valley</td>\n",
       "      <td>Willamette Valley</td>\n",
       "      <td>Paul Gregutt</td>\n",
       "      <td>@paulgwine</td>\n",
       "      <td>Rainstorm 2013 Pinot Gris (Willamette Valley)</td>\n",
       "      <td>Pinot Gris</td>\n",
       "      <td>Rainstorm</td>\n",
       "    </tr>\n",
       "    <tr>\n",
       "      <th>3</th>\n",
       "      <td>US</td>\n",
       "      <td>Pineapple rind, lemon pith and orange blossom ...</td>\n",
       "      <td>Reserve Late Harvest</td>\n",
       "      <td>87</td>\n",
       "      <td>13.0</td>\n",
       "      <td>Michigan</td>\n",
       "      <td>Lake Michigan Shore</td>\n",
       "      <td>NaN</td>\n",
       "      <td>Alexander Peartree</td>\n",
       "      <td>NaN</td>\n",
       "      <td>St. Julian 2013 Reserve Late Harvest Riesling ...</td>\n",
       "      <td>Riesling</td>\n",
       "      <td>St. Julian</td>\n",
       "    </tr>\n",
       "    <tr>\n",
       "      <th>4</th>\n",
       "      <td>US</td>\n",
       "      <td>Much like the regular bottling from 2012, this...</td>\n",
       "      <td>Vintner's Reserve Wild Child Block</td>\n",
       "      <td>87</td>\n",
       "      <td>65.0</td>\n",
       "      <td>Oregon</td>\n",
       "      <td>Willamette Valley</td>\n",
       "      <td>Willamette Valley</td>\n",
       "      <td>Paul Gregutt</td>\n",
       "      <td>@paulgwine</td>\n",
       "      <td>Sweet Cheeks 2012 Vintner's Reserve Wild Child...</td>\n",
       "      <td>Pinot Noir</td>\n",
       "      <td>Sweet Cheeks</td>\n",
       "    </tr>\n",
       "  </tbody>\n",
       "</table>\n",
       "</div>"
      ],
      "text/plain": [
       "    country                                        description  \\\n",
       "0     Italy  Aromas include tropical fruit, broom, brimston...   \n",
       "1  Portugal  This is ripe and fruity, a wine that is smooth...   \n",
       "2        US  Tart and snappy, the flavors of lime flesh and...   \n",
       "3        US  Pineapple rind, lemon pith and orange blossom ...   \n",
       "4        US  Much like the regular bottling from 2012, this...   \n",
       "\n",
       "                          designation  points  price           province  \\\n",
       "0                        Vulkà Bianco      87    NaN  Sicily & Sardinia   \n",
       "1                            Avidagos      87   15.0              Douro   \n",
       "2                                 NaN      87   14.0             Oregon   \n",
       "3                Reserve Late Harvest      87   13.0           Michigan   \n",
       "4  Vintner's Reserve Wild Child Block      87   65.0             Oregon   \n",
       "\n",
       "              region_1           region_2         taster_name  \\\n",
       "0                 Etna                NaN       Kerin O’Keefe   \n",
       "1                  NaN                NaN          Roger Voss   \n",
       "2    Willamette Valley  Willamette Valley        Paul Gregutt   \n",
       "3  Lake Michigan Shore                NaN  Alexander Peartree   \n",
       "4    Willamette Valley  Willamette Valley        Paul Gregutt   \n",
       "\n",
       "  taster_twitter_handle                                              title  \\\n",
       "0                #NAME?                  Nicosia 2013 Vulkà Bianco  (Etna)   \n",
       "1                #NAME?      Quinta dos Avidagos 2011 Avidagos Red (Douro)   \n",
       "2           @paulgwine       Rainstorm 2013 Pinot Gris (Willamette Valley)   \n",
       "3                   NaN  St. Julian 2013 Reserve Late Harvest Riesling ...   \n",
       "4           @paulgwine   Sweet Cheeks 2012 Vintner's Reserve Wild Child...   \n",
       "\n",
       "          variety               winery  \n",
       "0     White Blend              Nicosia  \n",
       "1  Portuguese Red  Quinta dos Avidagos  \n",
       "2      Pinot Gris            Rainstorm  \n",
       "3        Riesling           St. Julian  \n",
       "4      Pinot Noir         Sweet Cheeks  "
      ]
     },
     "execution_count": 12,
     "metadata": {},
     "output_type": "execute_result"
    }
   ],
   "source": [
    "wine_data.head()"
   ]
  },
  {
   "cell_type": "markdown",
   "metadata": {
    "colab_type": "text",
    "id": "rh-gP7nSzp23"
   },
   "source": [
    "## Sample task\n",
    " \n",
    "A sample of N=10 wine point scores yields a sample mean of x_bar = 90.2. Is this sample from the WineEnthusiast population? \n",
    "\n"
   ]
  },
  {
   "cell_type": "markdown",
   "metadata": {
    "colab_type": "text",
    "id": "rh-gP7nSzp23"
   },
   "source": [
    "## Solution steps\n",
    "\n",
    "To test this question we will use one-sample z-test. We will follow the following steps\n",
    "\n",
    "- First we state the null hypothesis and alternative hypothesis like this;\n",
    "    - H0: The sample is from the WineEnthusiast population, x_bar = μ.\n",
    "    - HA: The sample is not from the WineEnthusiast population, x_bar != (not equal) μ.\n",
    "\n",
    "- Chose a significance (alpha) level\n",
    "    Usually, statistical significance is associated with an alpha level of α = 0.05 or smaller. \n",
    "    \n",
    "- Find the critical value of z in a z table.\n",
    "    We will use a z table to look up the critical z value that cooresponds to this α level. Here we are doing a two-tailed test because we don't care if the sample mean is greater than or less than the population mean. We just are testing to see if the two are equal or notl (see the alternative hypothesis above).\n",
    "\n",
    "- Calculate the z test statistic.\n",
    "    We will calculate the z-statitic for the sample mean compared to the population mean dividing by the standard deviation of the sample mean, which is the standard error σ/sqrt(N). \n",
    " \n",
    "- Compare the test statistic to the critical z value and decide if you should support or reject the null hypothesis. \n",
    "    If this z-statistic is less than z-critical then we accept the null hypothesis, otherwise we reject the null and accept the alternative hypothesis.\n",
    " \n",
    "\n"
   ]
  },
  {
   "cell_type": "code",
   "execution_count": 17,
   "metadata": {},
   "outputs": [
    {
     "name": "stdout",
     "output_type": "stream",
     "text": [
      "mean of data:  88.44713820775404 , sigma of data: 3.0397185090150947\n"
     ]
    }
   ],
   "source": [
    "points = wine_data['points']\n",
    "data_mean = points.mean()\n",
    "data_sigma = points.std(ddof=0)\n",
    "print(\"mean of data: \", data_mean, \", sigma of data:\", data_sigma)"
   ]
  },
  {
   "cell_type": "code",
   "execution_count": 18,
   "metadata": {},
   "outputs": [
    {
     "name": "stdout",
     "output_type": "stream",
     "text": [
      "1.8235358539097541\n"
     ]
    }
   ],
   "source": [
    "z_critical = 1.96 # alpha level of 0.05 and two-tailed test\n",
    "x_bar = 90.2\n",
    "N = 10\n",
    "SE = data_sigma/np.sqrt(N)\n",
    "z_stat = (x_bar - data_mean)/SE\n",
    "print(z_stat)"
   ]
  },
  {
   "cell_type": "code",
   "execution_count": 19,
   "metadata": {},
   "outputs": [
    {
     "name": "stdout",
     "output_type": "stream",
     "text": [
      "Null hypothesis accepted:\n",
      "The sample is from the WineEnthusiast population, x_bar = μ\n"
     ]
    }
   ],
   "source": [
    "if z_stat < z_critical:\n",
    "    print(\"Null hypothesis accepted:\")\n",
    "    print(\"The sample is from the WineEnthusiast population, x_bar = μ\")\n",
    "else:\n",
    "    print(\"Null hypothesis rejected:\")\n",
    "    print(\"The sample is not from the WineEnthusiast population, x_bar != (not equal) μ\")"
   ]
  },
  {
   "cell_type": "markdown",
   "metadata": {
    "colab_type": "text",
    "id": "n7rXmOAfz7t9"
   },
   "source": [
    "## Conclusion\n",
    "\n",
    "- Z-test is one of the type of hypothesis test used for normally distributed data\n",
    "- Z-test is used for sample size greater than 30.\n",
    "- Z-test is not used when data is not normally distributed."
   ]
  },
  {
   "cell_type": "markdown",
   "metadata": {
    "colab_type": "text",
    "id": "jBzcWz4M0Fm0"
   },
   "source": [
    "## References / Acknowledgements"
   ]
  },
  {
   "cell_type": "markdown",
   "metadata": {
    "colab_type": "text",
    "id": "K1nm8ZcO0JUH"
   },
   "source": [
    "- https://en.wikipedia.org/wiki/Z-test\n",
    "- https://www.kaggle.com/jgroff/unit-3-hypothesis-testing"
   ]
  }
 ],
 "metadata": {
  "colab": {
   "collapsed_sections": [],
   "name": "[Template] Interactive Notebook.ipynb",
   "provenance": []
  },
  "kernelspec": {
   "display_name": "Python 3",
   "language": "python",
   "name": "python3"
  },
  "language_info": {
   "codemirror_mode": {
    "name": "ipython",
    "version": 3
   },
   "file_extension": ".py",
   "mimetype": "text/x-python",
   "name": "python",
   "nbconvert_exporter": "python",
   "pygments_lexer": "ipython3",
   "version": "3.7.3"
  },
  "widgets": {
   "application/vnd.jupyter.widget-state+json": {
    "054513f7880d4c6199dce00e4b3f6bf2": {
     "model_module": "@jupyter-widgets/controls",
     "model_name": "IntSliderModel",
     "state": {
      "_dom_classes": [],
      "_model_module": "@jupyter-widgets/controls",
      "_model_module_version": "1.5.0",
      "_model_name": "IntSliderModel",
      "_view_count": null,
      "_view_module": "@jupyter-widgets/controls",
      "_view_module_version": "1.5.0",
      "_view_name": "IntSliderView",
      "continuous_update": true,
      "description": "x",
      "description_tooltip": null,
      "disabled": false,
      "layout": "IPY_MODEL_7270459363f04d9883967d51840f86bf",
      "max": 60,
      "min": -20,
      "orientation": "horizontal",
      "readout": true,
      "readout_format": "d",
      "step": 1,
      "style": "IPY_MODEL_fdad9b76cc6043e68b8fc5763ce488c4",
      "value": 36
     }
    },
    "4340b92901c24ca0a63e21255de472c0": {
     "model_module": "@jupyter-widgets/output",
     "model_name": "OutputModel",
     "state": {
      "_dom_classes": [],
      "_model_module": "@jupyter-widgets/output",
      "_model_module_version": "1.0.0",
      "_model_name": "OutputModel",
      "_view_count": null,
      "_view_module": "@jupyter-widgets/output",
      "_view_module_version": "1.0.0",
      "_view_name": "OutputView",
      "layout": "IPY_MODEL_551e128d2afb4c46aa1cbe71ebb1086a",
      "msg_id": "",
      "outputs": [
       {
        "image/png": "iVBORw0KGgoAAAANSUhEUgAAAXAAAAD4CAYAAAD1jb0+AAAABHNCSVQICAgIfAhkiAAAAAlwSFlz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\n1nWzzWUAAAAASUVORK5CYII=\n",
        "metadata": {
         "tags": []
        },
        "output_type": "display_data",
        "text/plain": "<Figure size 432x288 with 1 Axes>"
       },
       {
        "metadata": {
         "tags": []
        },
        "output_type": "display_data",
        "text/plain": "<matplotlib.axes._subplots.AxesSubplot at 0x7f78a10e0668>"
       }
      ]
     }
    },
    "5e0136f6e5974ea8bfa8ebb43e3e9965": {
     "model_module": "@jupyter-widgets/controls",
     "model_name": "DropdownModel",
     "state": {
      "_dom_classes": [],
      "_model_module": "@jupyter-widgets/controls",
      "_model_module_version": "1.5.0",
      "_model_name": "DropdownModel",
      "_options_labels": [
       "CRIM",
       "ZN",
       "INDUS",
       "CHAS",
       "NOX",
       "RM",
       "AGE",
       "DIS",
       "RAD",
       "TAX",
       "PTRATIO",
       "B",
       "LSTAT"
      ],
      "_view_count": null,
      "_view_module": "@jupyter-widgets/controls",
      "_view_module_version": "1.5.0",
      "_view_name": "DropdownView",
      "description": "column",
      "description_tooltip": null,
      "disabled": false,
      "index": 10,
      "layout": "IPY_MODEL_e87d4345292e4b9faa6ef1104261e520",
      "style": "IPY_MODEL_dfe79fe34a3e4a27a0c3cd08cfba4b43"
     }
    },
    "61d5e9831cb34c2692a2ba22ece4c283": {
     "model_module": "@jupyter-widgets/base",
     "model_name": "LayoutModel",
     "state": {
      "_model_module": "@jupyter-widgets/base",
      "_model_module_version": "1.2.0",
      "_model_name": "LayoutModel",
      "_view_count": null,
      "_view_module": "@jupyter-widgets/base",
      "_view_module_version": "1.2.0",
      "_view_name": "LayoutView",
      "align_content": null,
      "align_items": null,
      "align_self": null,
      "border": null,
      "bottom": null,
      "display": null,
      "flex": null,
      "flex_flow": null,
      "grid_area": null,
      "grid_auto_columns": null,
      "grid_auto_flow": null,
      "grid_auto_rows": null,
      "grid_column": null,
      "grid_gap": null,
      "grid_row": null,
      "grid_template_areas": null,
      "grid_template_columns": null,
      "grid_template_rows": null,
      "height": null,
      "justify_content": null,
      "justify_items": null,
      "left": null,
      "margin": null,
      "max_height": null,
      "max_width": null,
      "min_height": null,
      "min_width": null,
      "object_fit": null,
      "object_position": null,
      "order": null,
      "overflow": null,
      "overflow_x": null,
      "overflow_y": null,
      "padding": null,
      "right": null,
      "top": null,
      "visibility": null,
      "width": null
     }
    },
    "7270459363f04d9883967d51840f86bf": {
     "model_module": "@jupyter-widgets/base",
     "model_name": "LayoutModel",
     "state": {
      "_model_module": "@jupyter-widgets/base",
      "_model_module_version": "1.2.0",
      "_model_name": "LayoutModel",
      "_view_count": null,
      "_view_module": "@jupyter-widgets/base",
      "_view_module_version": "1.2.0",
      "_view_name": "LayoutView",
      "align_content": null,
      "align_items": null,
      "align_self": null,
      "border": null,
      "bottom": null,
      "display": null,
      "flex": null,
      "flex_flow": null,
      "grid_area": null,
      "grid_auto_columns": null,
      "grid_auto_flow": null,
      "grid_auto_rows": null,
      "grid_column": null,
      "grid_gap": null,
      "grid_row": null,
      "grid_template_areas": null,
      "grid_template_columns": null,
      "grid_template_rows": null,
      "height": null,
      "justify_content": null,
      "justify_items": null,
      "left": null,
      "margin": null,
      "max_height": null,
      "max_width": null,
      "min_height": null,
      "min_width": null,
      "object_fit": null,
      "object_position": null,
      "order": null,
      "overflow": null,
      "overflow_x": null,
      "overflow_y": null,
      "padding": null,
      "right": null,
      "top": null,
      "visibility": null,
      "width": null
     }
    },
    "78deccceb53245af90eda97143852178": {
     "model_module": "@jupyter-widgets/controls",
     "model_name": "VBoxModel",
     "state": {
      "_dom_classes": [
       "widget-interact"
      ],
      "_model_module": "@jupyter-widgets/controls",
      "_model_module_version": "1.5.0",
      "_model_name": "VBoxModel",
      "_view_count": null,
      "_view_module": "@jupyter-widgets/controls",
      "_view_module_version": "1.5.0",
      "_view_name": "VBoxView",
      "box_style": "",
      "children": [
       "IPY_MODEL_5e0136f6e5974ea8bfa8ebb43e3e9965",
       "IPY_MODEL_054513f7880d4c6199dce00e4b3f6bf2",
       "IPY_MODEL_4340b92901c24ca0a63e21255de472c0"
      ],
      "layout": "IPY_MODEL_61d5e9831cb34c2692a2ba22ece4c283"
     }
    },
    "dfe79fe34a3e4a27a0c3cd08cfba4b43": {
     "model_module": "@jupyter-widgets/controls",
     "model_name": "DescriptionStyleModel",
     "state": {
      "_model_module": "@jupyter-widgets/controls",
      "_model_module_version": "1.5.0",
      "_model_name": "DescriptionStyleModel",
      "_view_count": null,
      "_view_module": "@jupyter-widgets/base",
      "_view_module_version": "1.2.0",
      "_view_name": "StyleView",
      "description_width": ""
     }
    },
    "e87d4345292e4b9faa6ef1104261e520": {
     "model_module": "@jupyter-widgets/base",
     "model_name": "LayoutModel",
     "state": {
      "_model_module": "@jupyter-widgets/base",
      "_model_module_version": "1.2.0",
      "_model_name": "LayoutModel",
      "_view_count": null,
      "_view_module": "@jupyter-widgets/base",
      "_view_module_version": "1.2.0",
      "_view_name": "LayoutView",
      "align_content": null,
      "align_items": null,
      "align_self": null,
      "border": null,
      "bottom": null,
      "display": null,
      "flex": null,
      "flex_flow": null,
      "grid_area": null,
      "grid_auto_columns": null,
      "grid_auto_flow": null,
      "grid_auto_rows": null,
      "grid_column": null,
      "grid_gap": null,
      "grid_row": null,
      "grid_template_areas": null,
      "grid_template_columns": null,
      "grid_template_rows": null,
      "height": null,
      "justify_content": null,
      "justify_items": null,
      "left": null,
      "margin": null,
      "max_height": null,
      "max_width": null,
      "min_height": null,
      "min_width": null,
      "object_fit": null,
      "object_position": null,
      "order": null,
      "overflow": null,
      "overflow_x": null,
      "overflow_y": null,
      "padding": null,
      "right": null,
      "top": null,
      "visibility": null,
      "width": null
     }
    },
    "fdad9b76cc6043e68b8fc5763ce488c4": {
     "model_module": "@jupyter-widgets/controls",
     "model_name": "SliderStyleModel",
     "state": {
      "_model_module": "@jupyter-widgets/controls",
      "_model_module_version": "1.5.0",
      "_model_name": "SliderStyleModel",
      "_view_count": null,
      "_view_module": "@jupyter-widgets/base",
      "_view_module_version": "1.2.0",
      "_view_name": "StyleView",
      "description_width": "",
      "handle_color": null
     }
    }
   }
  }
 },
 "nbformat": 4,
 "nbformat_minor": 1
}
