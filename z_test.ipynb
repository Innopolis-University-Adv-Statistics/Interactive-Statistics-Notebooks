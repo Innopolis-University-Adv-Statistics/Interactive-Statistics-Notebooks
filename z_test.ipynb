{
  "nbformat": 4,
  "nbformat_minor": 0,
  "metadata": {
    "colab": {
      "name": "z-test.ipynb",
      "provenance": [],
      "collapsed_sections": [],
      "toc_visible": true
    },
    "kernelspec": {
      "display_name": "Python 3",
      "language": "python",
      "name": "python3"
    },
    "language_info": {
      "codemirror_mode": {
        "name": "ipython",
        "version": 3
      },
      "file_extension": ".py",
      "mimetype": "text/x-python",
      "name": "python",
      "nbconvert_exporter": "python",
      "pygments_lexer": "ipython3",
      "version": "3.7.3"
    }
  },
  "cells": [
    {
      "cell_type": "markdown",
      "metadata": {
        "colab_type": "text",
        "id": "q5XnPEsm0phq"
      },
      "source": [
        "# Z-Test\n",
        "\n",
        "- Introduction\n",
        "- When to use Z-test\n",
        "- How to use Z-test\n",
        "- Setup / Import\n",
        "- Sample task\n",
        "- Data load\n",
        "- Conclusion\n",
        "- References / Acknowledgements"
      ]
    },
    {
      "cell_type": "markdown",
      "metadata": {
        "colab_type": "text",
        "id": "CdLByacoxqBU"
      },
      "source": [
        "## Introduction\n",
        "\n",
        "A Z-test is one of the type of hypothesis test. Hypothesis testing tells that the tests are valid or not. For example, if someone said they had found a new drug that cures cancer, you would want to be sure it was probably true. A hypothesis test will tell you if it’s probably true, or probably not true. A Z test, is used when your data is approximately normally distributed. A Z-test is any statistical test for which the distribution of the test statistic under the null hypothesis can be approximated by a normal distribution. Z-test tests the mean of a distribution in which we already know the population variance σ2 . Because of the central limit theorem, many test statistics are approximately normally distributed for large samples. For each significance level in the confidence interval, the Z-test has a single critical value (for example, 1.96 for 5% two tailed) which makes it more convenient than the Student's t-test which has separate and different critical values for each sample size (for different sample size, it would have different degree of freedom, which may determine the value of the critical values). Therefore, many statistical tests can be conveniently performed as approximate Z-tests if the sample size is large or the population variance is known. \n",
        "\n"
      ]
    },
    {
      "cell_type": "code",
      "metadata": {
        "id": "vRkazDR2K2J2",
        "colab_type": "code",
        "colab": {}
      },
      "source": [
        ""
      ],
      "execution_count": 0,
      "outputs": []
    },
    {
      "cell_type": "markdown",
      "metadata": {
        "id": "REjKbPup3-R9",
        "colab_type": "text"
      },
      "source": [
        "## When to use Z-test\n",
        "\n",
        "Z-test is used if the following are fulfilled.\n",
        "- Sample size is greater than 30. Otherwise, use a t test.\n",
        "- Data points should be independent from each other. In other words, one data point isn’t related or doesn’t affect another data point.\n",
        "- Data should be normally distributed. However, for large sample sizes (over 30) this doesn’t always matter.\n",
        "- Data should be randomly selected from a population, where each item has an equal chance of being selected.\n",
        "- Sample sizes should be equal if at all possible."
      ]
    },
    {
      "cell_type": "markdown",
      "metadata": {
        "id": "ap6Y8tSm3-R-",
        "colab_type": "text"
      },
      "source": [
        "## How to use Z-test\n",
        "\n",
        "Following steps are required for running a Z-test\n",
        "- State the null hypothesis and alternate hypothesis.\n",
        "- Choose an alpha level.\n",
        "- Find the critical value of z in a z table.\n",
        "- Calculate the z test statistic.\n",
        "- Compare the test statistic to the critical z value and decide if you should support or reject the null hypothesis."
      ]
    },
    {
      "cell_type": "markdown",
      "metadata": {
        "colab_type": "text",
        "id": "EovComAJxr-0"
      },
      "source": [
        "## Setup / Import\n"
      ]
    },
    {
      "cell_type": "code",
      "metadata": {
        "scrolled": true,
        "id": "yq29PrmL3-R-",
        "colab_type": "code",
        "colab": {}
      },
      "source": [
        "import numpy as np\n",
        "import pandas as pd"
      ],
      "execution_count": 0,
      "outputs": []
    },
    {
      "cell_type": "markdown",
      "metadata": {
        "colab_type": "text",
        "id": "9hI1xXAGzaNk"
      },
      "source": [
        "## Data load\n",
        "\n",
        "The data was scraped from WineEnthusiast during the week of June 15th, 2017. It includes the wine reviews."
      ]
    },
    {
      "cell_type": "code",
      "metadata": {
        "colab_type": "code",
        "id": "Qiozktuj16i8",
        "colab": {}
      },
      "source": [
        "path = '/content/sample_data/winedata.csv'\n",
        "wine_data = pd.read_csv(path)"
      ],
      "execution_count": 0,
      "outputs": []
    },
    {
      "cell_type": "code",
      "metadata": {
        "id": "0c_0-PaR3-SD",
        "colab_type": "code",
        "outputId": "2fe8f2cb-c21a-4076-997e-c65b0c8f4bc0",
        "colab": {}
      },
      "source": [
        "wine_data.head()"
      ],
      "execution_count": 0,
      "outputs": [
        {
          "output_type": "execute_result",
          "data": {
            "text/html": [
              "<div>\n",
              "<style scoped>\n",
              "    .dataframe tbody tr th:only-of-type {\n",
              "        vertical-align: middle;\n",
              "    }\n",
              "\n",
              "    .dataframe tbody tr th {\n",
              "        vertical-align: top;\n",
              "    }\n",
              "\n",
              "    .dataframe thead th {\n",
              "        text-align: right;\n",
              "    }\n",
              "</style>\n",
              "<table border=\"1\" class=\"dataframe\">\n",
              "  <thead>\n",
              "    <tr style=\"text-align: right;\">\n",
              "      <th></th>\n",
              "      <th>country</th>\n",
              "      <th>description</th>\n",
              "      <th>designation</th>\n",
              "      <th>points</th>\n",
              "      <th>price</th>\n",
              "      <th>province</th>\n",
              "      <th>region_1</th>\n",
              "      <th>region_2</th>\n",
              "      <th>taster_name</th>\n",
              "      <th>taster_twitter_handle</th>\n",
              "      <th>title</th>\n",
              "      <th>variety</th>\n",
              "      <th>winery</th>\n",
              "    </tr>\n",
              "  </thead>\n",
              "  <tbody>\n",
              "    <tr>\n",
              "      <th>0</th>\n",
              "      <td>Italy</td>\n",
              "      <td>Aromas include tropical fruit, broom, brimston...</td>\n",
              "      <td>Vulkà Bianco</td>\n",
              "      <td>87</td>\n",
              "      <td>NaN</td>\n",
              "      <td>Sicily &amp; Sardinia</td>\n",
              "      <td>Etna</td>\n",
              "      <td>NaN</td>\n",
              "      <td>Kerin O’Keefe</td>\n",
              "      <td>#NAME?</td>\n",
              "      <td>Nicosia 2013 Vulkà Bianco  (Etna)</td>\n",
              "      <td>White Blend</td>\n",
              "      <td>Nicosia</td>\n",
              "    </tr>\n",
              "    <tr>\n",
              "      <th>1</th>\n",
              "      <td>Portugal</td>\n",
              "      <td>This is ripe and fruity, a wine that is smooth...</td>\n",
              "      <td>Avidagos</td>\n",
              "      <td>87</td>\n",
              "      <td>15.0</td>\n",
              "      <td>Douro</td>\n",
              "      <td>NaN</td>\n",
              "      <td>NaN</td>\n",
              "      <td>Roger Voss</td>\n",
              "      <td>#NAME?</td>\n",
              "      <td>Quinta dos Avidagos 2011 Avidagos Red (Douro)</td>\n",
              "      <td>Portuguese Red</td>\n",
              "      <td>Quinta dos Avidagos</td>\n",
              "    </tr>\n",
              "    <tr>\n",
              "      <th>2</th>\n",
              "      <td>US</td>\n",
              "      <td>Tart and snappy, the flavors of lime flesh and...</td>\n",
              "      <td>NaN</td>\n",
              "      <td>87</td>\n",
              "      <td>14.0</td>\n",
              "      <td>Oregon</td>\n",
              "      <td>Willamette Valley</td>\n",
              "      <td>Willamette Valley</td>\n",
              "      <td>Paul Gregutt</td>\n",
              "      <td>@paulgwine</td>\n",
              "      <td>Rainstorm 2013 Pinot Gris (Willamette Valley)</td>\n",
              "      <td>Pinot Gris</td>\n",
              "      <td>Rainstorm</td>\n",
              "    </tr>\n",
              "    <tr>\n",
              "      <th>3</th>\n",
              "      <td>US</td>\n",
              "      <td>Pineapple rind, lemon pith and orange blossom ...</td>\n",
              "      <td>Reserve Late Harvest</td>\n",
              "      <td>87</td>\n",
              "      <td>13.0</td>\n",
              "      <td>Michigan</td>\n",
              "      <td>Lake Michigan Shore</td>\n",
              "      <td>NaN</td>\n",
              "      <td>Alexander Peartree</td>\n",
              "      <td>NaN</td>\n",
              "      <td>St. Julian 2013 Reserve Late Harvest Riesling ...</td>\n",
              "      <td>Riesling</td>\n",
              "      <td>St. Julian</td>\n",
              "    </tr>\n",
              "    <tr>\n",
              "      <th>4</th>\n",
              "      <td>US</td>\n",
              "      <td>Much like the regular bottling from 2012, this...</td>\n",
              "      <td>Vintner's Reserve Wild Child Block</td>\n",
              "      <td>87</td>\n",
              "      <td>65.0</td>\n",
              "      <td>Oregon</td>\n",
              "      <td>Willamette Valley</td>\n",
              "      <td>Willamette Valley</td>\n",
              "      <td>Paul Gregutt</td>\n",
              "      <td>@paulgwine</td>\n",
              "      <td>Sweet Cheeks 2012 Vintner's Reserve Wild Child...</td>\n",
              "      <td>Pinot Noir</td>\n",
              "      <td>Sweet Cheeks</td>\n",
              "    </tr>\n",
              "  </tbody>\n",
              "</table>\n",
              "</div>"
            ],
            "text/plain": [
              "    country                                        description  \\\n",
              "0     Italy  Aromas include tropical fruit, broom, brimston...   \n",
              "1  Portugal  This is ripe and fruity, a wine that is smooth...   \n",
              "2        US  Tart and snappy, the flavors of lime flesh and...   \n",
              "3        US  Pineapple rind, lemon pith and orange blossom ...   \n",
              "4        US  Much like the regular bottling from 2012, this...   \n",
              "\n",
              "                          designation  points  price           province  \\\n",
              "0                        Vulkà Bianco      87    NaN  Sicily & Sardinia   \n",
              "1                            Avidagos      87   15.0              Douro   \n",
              "2                                 NaN      87   14.0             Oregon   \n",
              "3                Reserve Late Harvest      87   13.0           Michigan   \n",
              "4  Vintner's Reserve Wild Child Block      87   65.0             Oregon   \n",
              "\n",
              "              region_1           region_2         taster_name  \\\n",
              "0                 Etna                NaN       Kerin O’Keefe   \n",
              "1                  NaN                NaN          Roger Voss   \n",
              "2    Willamette Valley  Willamette Valley        Paul Gregutt   \n",
              "3  Lake Michigan Shore                NaN  Alexander Peartree   \n",
              "4    Willamette Valley  Willamette Valley        Paul Gregutt   \n",
              "\n",
              "  taster_twitter_handle                                              title  \\\n",
              "0                #NAME?                  Nicosia 2013 Vulkà Bianco  (Etna)   \n",
              "1                #NAME?      Quinta dos Avidagos 2011 Avidagos Red (Douro)   \n",
              "2           @paulgwine       Rainstorm 2013 Pinot Gris (Willamette Valley)   \n",
              "3                   NaN  St. Julian 2013 Reserve Late Harvest Riesling ...   \n",
              "4           @paulgwine   Sweet Cheeks 2012 Vintner's Reserve Wild Child...   \n",
              "\n",
              "          variety               winery  \n",
              "0     White Blend              Nicosia  \n",
              "1  Portuguese Red  Quinta dos Avidagos  \n",
              "2      Pinot Gris            Rainstorm  \n",
              "3        Riesling           St. Julian  \n",
              "4      Pinot Noir         Sweet Cheeks  "
            ]
          },
          "metadata": {
            "tags": []
          },
          "execution_count": 12
        }
      ]
    },
    {
      "cell_type": "markdown",
      "metadata": {
        "colab_type": "text",
        "id": "rh-gP7nSzp23"
      },
      "source": [
        "## Sample task\n",
        " \n",
        "A sample of N=10 wine point scores yields a sample mean of x_bar = 90.2. Is this sample from the WineEnthusiast population? \n",
        "\n"
      ]
    },
    {
      "cell_type": "markdown",
      "metadata": {
        "colab_type": "text",
        "id": "YnWoAXFv3-SG"
      },
      "source": [
        "## Solution steps\n",
        "\n",
        "To test this question we will use one-sample z-test. We will follow the following steps\n",
        "\n",
        "- First we state the null hypothesis and alternative hypothesis like this;\n",
        "    - H0: The sample is from the WineEnthusiast population, x_bar = μ.\n",
        "    - HA: The sample is not from the WineEnthusiast population, x_bar != (not equal) μ.\n",
        "\n"
      ]
    },
    {
      "cell_type": "code",
      "metadata": {
        "id": "b3DCaRZ5LKYp",
        "colab_type": "code",
        "colab": {}
      },
      "source": [
        ""
      ],
      "execution_count": 0,
      "outputs": []
    },
    {
      "cell_type": "code",
      "metadata": {
        "id": "BtwYILs6LFwA",
        "colab_type": "code",
        "colab": {}
      },
      "source": [
        "- Chose a significance (alpha) level\n",
        "    Usually, statistical significance is associated with an alpha level of α = 0.05 or smaller. \n",
        "    \n",
        "- Find the critical value of z in a z table.\n",
        "    We will use a z table to look up the critical z value that cooresponds to this α level. Here we are doing a two-tailed test because we don't care if the sample mean is greater than or less than the population mean. We just are testing to see if the two are equal or notl (see the alternative hypothesis above).\n",
        "\n",
        "- Calculate the z test statistic.\n",
        "    We will calculate the z-statitic for the sample mean compared to the population mean dividing by the standard deviation of the sample mean, which is the standard error σ/sqrt(N). \n",
        " \n",
        "- Compare the test statistic to the critical z value and decide if you should support or reject the null hypothesis. \n",
        "    If this z-statistic is less than z-critical then we accept the null hypothesis, otherwise we reject the null and accept the alternative hypothesis.\n",
        " \n",
        "\n"
      ],
      "execution_count": 0,
      "outputs": []
    },
    {
      "cell_type": "code",
      "metadata": {
        "id": "jTK3fkVBLMiC",
        "colab_type": "code",
        "colab": {}
      },
      "source": [
        ""
      ],
      "execution_count": 0,
      "outputs": []
    },
    {
      "cell_type": "code",
      "metadata": {
        "id": "CNXBbqgi3-SH",
        "colab_type": "code",
        "outputId": "fba4e234-85a5-4416-ffb3-fa1c93a91c30",
        "colab": {}
      },
      "source": [
        "points = wine_data['points']\n",
        "data_mean = points.mean()\n",
        "data_sigma = points.std(ddof=0)\n",
        "print(\"mean of data: \", data_mean, \", sigma of data:\", data_sigma)"
      ],
      "execution_count": 0,
      "outputs": [
        {
          "output_type": "stream",
          "text": [
            "mean of data:  88.44713820775404 , sigma of data: 3.0397185090150947\n"
          ],
          "name": "stdout"
        }
      ]
    },
    {
      "cell_type": "code",
      "metadata": {
        "id": "bjh9iWpK3-SJ",
        "colab_type": "code",
        "outputId": "d6cbec3b-6a8b-4c21-9dd6-14cb53982e27",
        "colab": {}
      },
      "source": [
        "z_critical = 1.96 # alpha level of 0.05 and two-tailed test\n",
        "x_bar = 90.2\n",
        "N = 10\n",
        "SE = data_sigma/np.sqrt(N)\n",
        "z_stat = (x_bar - data_mean)/SE\n",
        "print(z_stat)"
      ],
      "execution_count": 0,
      "outputs": [
        {
          "output_type": "stream",
          "text": [
            "1.8235358539097541\n"
          ],
          "name": "stdout"
        }
      ]
    },
    {
      "cell_type": "code",
      "metadata": {
        "id": "pwwsDnzB3-SL",
        "colab_type": "code",
        "outputId": "a840b059-53ff-4fd4-90b2-9fd9cc3577e0",
        "colab": {}
      },
      "source": [
        "if z_stat < z_critical:\n",
        "    print(\"Null hypothesis accepted:\")\n",
        "    print(\"The sample is from the WineEnthusiast population, x_bar = μ\")\n",
        "else:\n",
        "    print(\"Null hypothesis rejected:\")\n",
        "    print(\"The sample is not from the WineEnthusiast population, x_bar != (not equal) μ\")"
      ],
      "execution_count": 0,
      "outputs": [
        {
          "output_type": "stream",
          "text": [
            "Null hypothesis accepted:\n",
            "The sample is from the WineEnthusiast population, x_bar = μ\n"
          ],
          "name": "stdout"
        }
      ]
    },
    {
      "cell_type": "markdown",
      "metadata": {
        "colab_type": "text",
        "id": "n7rXmOAfz7t9"
      },
      "source": [
        "## Conclusion\n",
        "\n",
        "- Z-test is one of the type of hypothesis test used for normally distributed data\n",
        "- Z-test is used for sample size greater than 30.\n",
        "- Z-test is not used when data is not normally distributed."
      ]
    },
    {
      "cell_type": "markdown",
      "metadata": {
        "colab_type": "text",
        "id": "jBzcWz4M0Fm0"
      },
      "source": [
        "## References / Acknowledgements"
      ]
    },
    {
      "cell_type": "markdown",
      "metadata": {
        "colab_type": "text",
        "id": "K1nm8ZcO0JUH"
      },
      "source": [
        "- https://en.wikipedia.org/wiki/Z-test\n",
        "- https://www.kaggle.com/jgroff/unit-3-hypothesis-testing"
      ]
    }
  ]
}