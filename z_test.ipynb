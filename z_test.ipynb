{
  "nbformat": 4,
  "nbformat_minor": 0,
  "metadata": {
    "colab": {
      "name": "z-test.ipynb",
      "provenance": [],
      "collapsed_sections": []
    },
    "kernelspec": {
      "display_name": "Python 3",
      "language": "python",
      "name": "python3"
    },
    "language_info": {
      "codemirror_mode": {
        "name": "ipython",
        "version": 3
      },
      "file_extension": ".py",
      "mimetype": "text/x-python",
      "name": "python",
      "nbconvert_exporter": "python",
      "pygments_lexer": "ipython3",
      "version": "3.7.3"
    }
  },
  "cells": [
    {
      "cell_type": "markdown",
      "metadata": {
        "colab_type": "text",
        "id": "q5XnPEsm0phq"
      },
      "source": [
        "# Z-Test\n",
        "\n",
        "- Introduction\n",
        "- When to use Z-test\n",
        "- How to use Z-test\n",
        "- Setup / Import\n",
        "- Sample task\n",
        "- Data load\n",
        "- Conclusion\n",
        "- References / Acknowledgements"
      ]
    },
    {
      "cell_type": "markdown",
      "metadata": {
        "colab_type": "text",
        "id": "CdLByacoxqBU"
      },
      "source": [
        "## Introduction\n",
        "\n",
        "Z-test basically tells that how far data point is from mean. A Z-test is one of the type of hypothesis test. Hypothesis testing tells that wether the results are valid or not. For example, if someone said they had found a new drug that cures cancer, you would want to be sure it was probably true. A hypothesis test will tell you if it’s probably true, or probably not true. A Z test, is used when your data is approximately normally distributed. A Z-test is any statistical test for which the distribution of the test statistic under the null hypothesis can be approximated by a normal distribution. \n",
        "\n",
        "Z-test tests the mean of a distribution in which we already know the population variance σ2 . Because of the central limit theorem, many test statistics are approximately normally distributed for large samples. For each significance level in the confidence interval, the Z-test has a single critical value (for example, 1.96 for 5% two tailed) which makes it more convenient than the Student's t-test which has separate and different critical values for each sample size (for different sample size, it would have different degree of freedom, which may determine the value of the critical values). Therefore, many statistical tests can be conveniently performed as approximate Z-tests if the sample size is large or the population variance is known. \n",
        "\n",
        "Z-score for one sample is calculated using the following formula\n",
        "\n",
        "> # **z = (x – μ) / σ**\n",
        "\n",
        "\n",
        "\n",
        "\n"
      ]
    },
    {
      "cell_type": "markdown",
      "metadata": {
        "id": "REjKbPup3-R9",
        "colab_type": "text"
      },
      "source": [
        "## When to use Z-test\n",
        "\n",
        "Z-test is used if the following are fulfilled.\n",
        "- Sample size is greater than 30. Otherwise, use a t test.\n",
        "- Data points should be independent from each other. In other words, one data point isn’t related or doesn’t affect another data point.\n",
        "- Data should be normally distributed. However, for large sample sizes (over 30) this doesn’t always matter.\n",
        "- Data should be randomly selected from a population, where each item has an equal chance of being selected.\n",
        "- Sample sizes should be equal if at all possible."
      ]
    },
    {
      "cell_type": "markdown",
      "metadata": {
        "id": "ap6Y8tSm3-R-",
        "colab_type": "text"
      },
      "source": [
        "## How to use Z-test\n",
        "\n",
        "Following steps are required for running a Z-test\n",
        "- State the null hypothesis and alternate hypothesis.\n",
        "- Choose an alpha level.\n",
        "- Find the critical value of z in a z table.\n",
        "- Calculate the z test statistic.\n",
        "- Compare the test statistic to the critical z value and decide if you should support or reject the null hypothesis."
      ]
    },
    {
      "cell_type": "markdown",
      "metadata": {
        "colab_type": "text",
        "id": "EovComAJxr-0"
      },
      "source": [
        "## Setup / Import\n"
      ]
    },
    {
      "cell_type": "code",
      "metadata": {
        "scrolled": true,
        "id": "yq29PrmL3-R-",
        "colab_type": "code",
        "outputId": "9d38128e-2420-4af8-c18c-d5cb9fb636c2",
        "colab": {
          "base_uri": "https://localhost:8080/",
          "height": 70
        }
      },
      "source": [
        "import numpy as np\n",
        "import pandas as pd\n",
        "import scipy.stats as stats\n",
        "import pylab as pl\n",
        "from statsmodels.stats import weightstats as stests"
      ],
      "execution_count": 0,
      "outputs": [
        {
          "output_type": "stream",
          "text": [
            "/usr/local/lib/python3.6/dist-packages/statsmodels/tools/_testing.py:19: FutureWarning: pandas.util.testing is deprecated. Use the functions in the public API at pandas.testing instead.\n",
            "  import pandas.util.testing as tm\n"
          ],
          "name": "stderr"
        }
      ]
    },
    {
      "cell_type": "markdown",
      "metadata": {
        "colab_type": "text",
        "id": "9hI1xXAGzaNk"
      },
      "source": [
        "## Data load\n",
        "\n",
        "The data was scraped from WineEnthusiast during the week of June 15th, 2017. It includes the wine reviews."
      ]
    },
    {
      "cell_type": "code",
      "metadata": {
        "colab_type": "code",
        "id": "Qiozktuj16i8",
        "colab": {}
      },
      "source": [
        "path = '/content/sample_data/winedata.csv'\n",
        "wine_data = pd.read_csv(path)"
      ],
      "execution_count": 0,
      "outputs": []
    },
    {
      "cell_type": "code",
      "metadata": {
        "id": "0c_0-PaR3-SD",
        "colab_type": "code",
        "outputId": "2cc7d68b-e9b6-42c5-e7a3-e18b26739bd7",
        "colab": {
          "base_uri": "https://localhost:8080/",
          "height": 618
        }
      },
      "source": [
        "wine_data.head()"
      ],
      "execution_count": 0,
      "outputs": [
        {
          "output_type": "execute_result",
          "data": {
            "text/html": [
              "<div>\n",
              "<style scoped>\n",
              "    .dataframe tbody tr th:only-of-type {\n",
              "        vertical-align: middle;\n",
              "    }\n",
              "\n",
              "    .dataframe tbody tr th {\n",
              "        vertical-align: top;\n",
              "    }\n",
              "\n",
              "    .dataframe thead th {\n",
              "        text-align: right;\n",
              "    }\n",
              "</style>\n",
              "<table border=\"1\" class=\"dataframe\">\n",
              "  <thead>\n",
              "    <tr style=\"text-align: right;\">\n",
              "      <th></th>\n",
              "      <th>country</th>\n",
              "      <th>description</th>\n",
              "      <th>designation</th>\n",
              "      <th>points</th>\n",
              "      <th>price</th>\n",
              "      <th>province</th>\n",
              "      <th>region_1</th>\n",
              "      <th>region_2</th>\n",
              "      <th>taster_name</th>\n",
              "      <th>taster_twitter_handle</th>\n",
              "      <th>title</th>\n",
              "      <th>variety</th>\n",
              "      <th>winery</th>\n",
              "    </tr>\n",
              "  </thead>\n",
              "  <tbody>\n",
              "    <tr>\n",
              "      <th>0</th>\n",
              "      <td>Italy</td>\n",
              "      <td>Aromas include tropical fruit, broom, brimston...</td>\n",
              "      <td>Vulkà Bianco</td>\n",
              "      <td>87</td>\n",
              "      <td>NaN</td>\n",
              "      <td>Sicily &amp; Sardinia</td>\n",
              "      <td>Etna</td>\n",
              "      <td>NaN</td>\n",
              "      <td>Kerin O’Keefe</td>\n",
              "      <td>#NAME?</td>\n",
              "      <td>Nicosia 2013 Vulkà Bianco  (Etna)</td>\n",
              "      <td>White Blend</td>\n",
              "      <td>Nicosia</td>\n",
              "    </tr>\n",
              "    <tr>\n",
              "      <th>1</th>\n",
              "      <td>Portugal</td>\n",
              "      <td>This is ripe and fruity, a wine that is smooth...</td>\n",
              "      <td>Avidagos</td>\n",
              "      <td>87</td>\n",
              "      <td>15.0</td>\n",
              "      <td>Douro</td>\n",
              "      <td>NaN</td>\n",
              "      <td>NaN</td>\n",
              "      <td>Roger Voss</td>\n",
              "      <td>#NAME?</td>\n",
              "      <td>Quinta dos Avidagos 2011 Avidagos Red (Douro)</td>\n",
              "      <td>Portuguese Red</td>\n",
              "      <td>Quinta dos Avidagos</td>\n",
              "    </tr>\n",
              "    <tr>\n",
              "      <th>2</th>\n",
              "      <td>US</td>\n",
              "      <td>Tart and snappy, the flavors of lime flesh and...</td>\n",
              "      <td>NaN</td>\n",
              "      <td>87</td>\n",
              "      <td>14.0</td>\n",
              "      <td>Oregon</td>\n",
              "      <td>Willamette Valley</td>\n",
              "      <td>Willamette Valley</td>\n",
              "      <td>Paul Gregutt</td>\n",
              "      <td>@paulgwine</td>\n",
              "      <td>Rainstorm 2013 Pinot Gris (Willamette Valley)</td>\n",
              "      <td>Pinot Gris</td>\n",
              "      <td>Rainstorm</td>\n",
              "    </tr>\n",
              "    <tr>\n",
              "      <th>3</th>\n",
              "      <td>US</td>\n",
              "      <td>Pineapple rind, lemon pith and orange blossom ...</td>\n",
              "      <td>Reserve Late Harvest</td>\n",
              "      <td>87</td>\n",
              "      <td>13.0</td>\n",
              "      <td>Michigan</td>\n",
              "      <td>Lake Michigan Shore</td>\n",
              "      <td>NaN</td>\n",
              "      <td>Alexander Peartree</td>\n",
              "      <td>NaN</td>\n",
              "      <td>St. Julian 2013 Reserve Late Harvest Riesling ...</td>\n",
              "      <td>Riesling</td>\n",
              "      <td>St. Julian</td>\n",
              "    </tr>\n",
              "    <tr>\n",
              "      <th>4</th>\n",
              "      <td>US</td>\n",
              "      <td>Much like the regular bottling from 2012, this...</td>\n",
              "      <td>Vintner's Reserve Wild Child Block</td>\n",
              "      <td>87</td>\n",
              "      <td>65.0</td>\n",
              "      <td>Oregon</td>\n",
              "      <td>Willamette Valley</td>\n",
              "      <td>Willamette Valley</td>\n",
              "      <td>Paul Gregutt</td>\n",
              "      <td>@paulgwine</td>\n",
              "      <td>Sweet Cheeks 2012 Vintner's Reserve Wild Child...</td>\n",
              "      <td>Pinot Noir</td>\n",
              "      <td>Sweet Cheeks</td>\n",
              "    </tr>\n",
              "  </tbody>\n",
              "</table>\n",
              "</div>"
            ],
            "text/plain": [
              "    country  ...               winery\n",
              "0     Italy  ...              Nicosia\n",
              "1  Portugal  ...  Quinta dos Avidagos\n",
              "2        US  ...            Rainstorm\n",
              "3        US  ...           St. Julian\n",
              "4        US  ...         Sweet Cheeks\n",
              "\n",
              "[5 rows x 13 columns]"
            ]
          },
          "metadata": {
            "tags": []
          },
          "execution_count": 4
        }
      ]
    },
    {
      "cell_type": "markdown",
      "metadata": {
        "colab_type": "text",
        "id": "yd1JZyVkUkvY"
      },
      "source": [
        "## Checking if data is normally distributed\n"
      ]
    },
    {
      "cell_type": "code",
      "metadata": {
        "id": "KjJ3FKJhUuSg",
        "colab_type": "code",
        "outputId": "8af50c03-c5ee-4f13-dc79-bee8a2f65732",
        "colab": {
          "base_uri": "https://localhost:8080/",
          "height": 265
        }
      },
      "source": [
        "data_points = sorted(wine_data['points'])\n",
        "fit = stats.norm.pdf(data_points, np.mean(data_points), np.std(data_points))  #this is a fitting indeed\n",
        "\n",
        "pl.plot(data_points,fit,'-o')\n",
        "\n",
        "pl.hist(data_points)      #use this to draw histogram of your data\n",
        "\n",
        "pl.show() "
      ],
      "execution_count": 0,
      "outputs": [
        {
          "output_type": "display_data",
          "data": {
            "image/png": "[encoded data removed]",
            "text/plain": [
              "<Figure size 432x288 with 1 Axes>"
            ]
          },
          "metadata": {
            "tags": [],
            "needs_background": "light"
          }
        }
      ]
    },
    {
      "cell_type": "markdown",
      "metadata": {
        "id": "maHYo8ZYU97P",
        "colab_type": "text"
      },
      "source": [
        "The graph shows that the data is normally distributed as the curve forms the bell shape."
      ]
    },
    {
      "cell_type": "markdown",
      "metadata": {
        "colab_type": "text",
        "id": "rh-gP7nSzp23"
      },
      "source": [
        "## Sample task\n",
        " \n",
        "A sample of N=30 wine point scores yields a sample mean of $\\bar{X}$ = 89.2. Is this sample from the WineEnthusiast population? \n",
        "\n"
      ]
    },
    {
      "cell_type": "markdown",
      "metadata": {
        "colab_type": "text",
        "id": "YnWoAXFv3-SG"
      },
      "source": [
        "## Solution steps\n",
        "\n",
        "To test this question we will use one-sample z-test. We will follow the following steps\n",
        "\n",
        "- STEP 1 --- First we state the null hypothesis and alternative hypothesis like this;\n",
        "\n",
        "> - H0: The sample is from the WineEnthusiast population, $\\bar{X}$ = μ.\n",
        "- HA: The sample is not from the WineEnthusiast population, $\\bar{X}$ $\\neq$ μ.\n",
        "\n",
        "\n",
        "\n"
      ]
    },
    {
      "cell_type": "code",
      "metadata": {
        "id": "zisk3Y2DSZql",
        "colab_type": "code",
        "colab": {}
      },
      "source": [
        "H0 = \"The sample is from the WineEnthusiast population, x̅ = μ\"\n",
        "H1 = \"The sample is not from the WineEnthusiast population, x̅ ≠ μ\""
      ],
      "execution_count": 0,
      "outputs": []
    },
    {
      "cell_type": "markdown",
      "metadata": {
        "id": "XtWm7mkxTiEi",
        "colab_type": "text"
      },
      "source": [
        "- STEP 2 --  Chose a significance (alpha) level\n",
        "    Usually, statistical significance is associated with an alpha level of α = 0.05 or smaller. \n",
        "    \n",
        "\n",
        "\n"
      ]
    },
    {
      "cell_type": "code",
      "metadata": {
        "id": "jTK3fkVBLMiC",
        "colab_type": "code",
        "colab": {}
      },
      "source": [
        "z_critical = 1.96 # alpha level of 0.05 and two-tailed test"
      ],
      "execution_count": 0,
      "outputs": []
    },
    {
      "cell_type": "markdown",
      "metadata": {
        "id": "80UvdytDTw5c",
        "colab_type": "text"
      },
      "source": [
        "- STEP 3 --- Find the critical value of z in a z table.\n",
        "    We will use a z table to look up the critical z value that cooresponds to this α level. Here we are doing a two-tailed test because we don't care if the sample mean is greater than or less than the population mean. We just are testing to see if the two are equal or notl (see the alternative hypothesis above).\n",
        "\n",
        "    **Following steps are used to find the critical value in z table**\n",
        "\n",
        "\n",
        "> - Go to the row that represents the ones digit and the first digit after the decimal point (the tenths digit) of your z-value.\n",
        "- Go to the column that represents the second digit after the decimal point (the hundredths digit) of your z-value.\n",
        "- Intersect the row and column from Steps 1 and 2.\n",
        " "
      ]
    },
    {
      "cell_type": "markdown",
      "metadata": {
        "id": "WZGWJvSNb0fI",
        "colab_type": "text"
      },
      "source": [
        "- STEP 4 --- Calculate the z test statistic.\n",
        "    We will calculate the z-statitic for the sample mean compared to the population mean dividing by the standard deviation of the sample mean, which is the standard error σ/sqrt(N). \n",
        " \n",
        " "
      ]
    },
    {
      "cell_type": "code",
      "metadata": {
        "id": "PFFbzj4zT4Ik",
        "colab_type": "code",
        "outputId": "45454168-176d-4cfe-ac3a-374c3c84313d",
        "colab": {
          "base_uri": "https://localhost:8080/",
          "height": 33
        }
      },
      "source": [
        "data_mean = data_points.mean()\n",
        "data_sigma = data_points.std(ddof=0)\n",
        "print(\"mean of data: \", data_mean, \", sigma of data:\", data_sigma)"
      ],
      "execution_count": 0,
      "outputs": [
        {
          "output_type": "stream",
          "text": [
            "mean of data:  88.38651053470998 , sigma of data: 3.011099144749065\n"
          ],
          "name": "stdout"
        }
      ]
    },
    {
      "cell_type": "code",
      "metadata": {
        "id": "bjh9iWpK3-SJ",
        "colab_type": "code",
        "outputId": "64f4923c-e3e5-4fde-c0e1-27481f4e336c",
        "colab": {
          "base_uri": "https://localhost:8080/",
          "height": 33
        }
      },
      "source": [
        "x_bar = 89.2\n",
        "N = 30\n",
        "SE = data_sigma/np.sqrt(N)\n",
        "z_stat = (x_bar - data_mean)/SE\n",
        "print(z_stat)"
      ],
      "execution_count": 0,
      "outputs": [
        {
          "output_type": "stream",
          "text": [
            "1.4797471255942025\n"
          ],
          "name": "stdout"
        }
      ]
    },
    {
      "cell_type": "markdown",
      "metadata": {
        "id": "xCihqd53UNyZ",
        "colab_type": "text"
      },
      "source": [
        "\n",
        "- STEP 5 -- Compare the test statistic to the critical z value and decide if you should support or reject the null hypothesis. \n",
        "    If this z-statistic is less than z-critical then we accept the null hypothesis, otherwise we reject the null and accept the alternative hypothesis."
      ]
    },
    {
      "cell_type": "code",
      "metadata": {
        "id": "pwwsDnzB3-SL",
        "colab_type": "code",
        "outputId": "24bc02cd-abc4-4282-e5d4-82b78c0e994b",
        "colab": {
          "base_uri": "https://localhost:8080/",
          "height": 50
        }
      },
      "source": [
        "if z_stat < z_critical:\n",
        "    print(\"Null hypothesis accepted:\")\n",
        "    print(H0)\n",
        "else:\n",
        "    print(\"Null hypothesis rejected:\")\n",
        "    print(H1)"
      ],
      "execution_count": 0,
      "outputs": [
        {
          "output_type": "stream",
          "text": [
            "Null hypothesis accepted:\n",
            "The sample is from the WineEnthusiast population, x̅ = μ\n"
          ],
          "name": "stdout"
        }
      ]
    },
    {
      "cell_type": "markdown",
      "metadata": {
        "id": "D6v-ag6lV7hU",
        "colab_type": "text"
      },
      "source": [
        "## Calculating Z-test using Statsmodel"
      ]
    },
    {
      "cell_type": "code",
      "metadata": {
        "id": "zljZO2GVV_b3",
        "colab_type": "code",
        "outputId": "99e45716-0b02-4e9e-cf3a-572d9aea65a5",
        "colab": {
          "base_uri": "https://localhost:8080/",
          "height": 50
        }
      },
      "source": [
        "ztest ,pval = stests.ztest(data_points, x2=None, value=156)\n",
        "\n",
        "if pval<0.05:\n",
        "    print(\"Null hypothesis accepted:\")\n",
        "    print(H0)\n",
        "else:\n",
        "    print(\"Null hypothesis rejected:\")\n",
        "    print(H1)"
      ],
      "execution_count": 0,
      "outputs": [
        {
          "output_type": "stream",
          "text": [
            "Null hypothesis accepted:\n",
            "The sample is from the WineEnthusiast population, x̅ = μ\n"
          ],
          "name": "stdout"
        }
      ]
    },
    {
      "cell_type": "markdown",
      "metadata": {
        "colab_type": "text",
        "id": "n7rXmOAfz7t9"
      },
      "source": [
        "## Conclusion\n",
        "\n",
        "- Z-test is one of the type of hypothesis test used for normally distributed data\n",
        "- Z-test is used for sample size greater than 30.\n",
        "- Z-test is not used when data is not normally distributed."
      ]
    },
    {
      "cell_type": "markdown",
      "metadata": {
        "colab_type": "text",
        "id": "jBzcWz4M0Fm0"
      },
      "source": [
        "## References / Acknowledgements"
      ]
    },
    {
      "cell_type": "markdown",
      "metadata": {
        "colab_type": "text",
        "id": "K1nm8ZcO0JUH"
      },
      "source": [
        "- https://en.wikipedia.org/wiki/Z-test\n",
        "- https://www.kaggle.com/jgroff/unit-3-hypothesis-testing\n",
        "- https://towardsdatascience.com/hypothesis-testing-in-machine-learning-using-python-a0dc89e169ce\n"
      ]
    }
  ]
}